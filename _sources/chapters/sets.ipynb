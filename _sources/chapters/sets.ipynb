{
 "cells": [
  {
   "cell_type": "markdown",
   "metadata": {
    "slideshow": {
     "slide_type": "slide"
    }
   },
   "source": [
    "# Sets [^intro]\n",
    "\n",
    "[^intro]: This Jupyter Notebook is based on Chapter 10 of {cite}`Severance2016` and on Chapters 12, 13 and 19 of {cite}`thinkPython`."
   ]
  },
  {
   "cell_type": "code",
   "execution_count": null,
   "metadata": {},
   "outputs": [],
   "source": [
    "from typing import Dict, List, Tuple\n",
    "import random"
   ]
  },
  {
   "cell_type": "markdown",
   "metadata": {},
   "source": [
    "This notebook presents three more built-in types, **tuples**, **sets**, and **relations**, and then shows how these data types and previous ones work together. \n",
    "\n",
    "Additionally, the gather and scatter operators, a useful feature for variable-length argument lists, are presented."
   ]
  },
  {
   "cell_type": "markdown",
   "metadata": {
    "slideshow": {
     "slide_type": "slide"
    }
   },
   "source": [
    "## Sequences of Sequences\n",
    "\n",
    "In many contexts, the different kinds of sequences (strings, lists and tuples) can be used interchangeably. \n",
    "\n",
    "So how should you choose one over the others?"
   ]
  },
  {
   "cell_type": "markdown",
   "metadata": {
    "slideshow": {
     "slide_type": "fragment"
    }
   },
   "source": [
    "**Option 1: Strings**\n",
    "\n",
    "To start with the obvious, strings are more limited than other sequences because the elements have to be characters. \n",
    "\n",
    "They are also immutable. \n",
    "\n",
    "If you need the ability to change the\n",
    "characters in a string (as opposed to creating a new string), you might want to use a list of characters instead."
   ]
  },
  {
   "cell_type": "markdown",
   "metadata": {
    "slideshow": {
     "slide_type": "fragment"
    }
   },
   "source": [
    "**Option 2: Lists**\n",
    "\n",
    "Lists are more common than tuples, mostly because they are mutable."
   ]
  },
  {
   "cell_type": "markdown",
   "metadata": {},
   "source": [
    "**Option 3: Tuples**\n",
    "\n",
    "There are a few cases where you might prefer tuples over lists:\n",
    "1. In some contexts, like a return statement, it is syntactically simpler to create a tuple than a list.\n",
    "2. If you want to use a sequence as a dictionary key, you have to use an immutable type like a tuple or string.\n",
    "3. If you are passing a sequence as an argument to a function, using tuples reduces the potential for unexpected behavior due to aliasing."
   ]
  },
  {
   "cell_type": "markdown",
   "metadata": {
    "slideshow": {
     "slide_type": "fragment"
    }
   },
   "source": [
    "Because tuples are immutable, they do not provide methods like `sort` and `reverse`, which modify existing lists. \n",
    "\n",
    "But Python provides the built-in function `sorted`, which takes any\n",
    "sequence and returns a new list with the same elements in sorted order, and `reversed`,\n",
    "which takes a sequence and returns an iterator that traverses the list in reverse order."
   ]
  },
  {
   "cell_type": "markdown",
   "metadata": {},
   "source": [
    "## Sets\n",
    "\n",
    "Python provides another **mutable** built-in type known as **set**.\n",
    "\n",
    "A set is an **unordered** collection of elements that has **no duplicated** items.\n",
    "\n",
    "We can create a set by listing its elements within curly braces (i.e. `{}`)."
   ]
  },
  {
   "cell_type": "code",
   "execution_count": null,
   "metadata": {},
   "outputs": [],
   "source": [
    "fruits : set = {'apple', 'pear', 'papaya', 'mango', 'banana', 'apple'}\n",
    "fruits"
   ]
  },
  {
   "cell_type": "markdown",
   "metadata": {},
   "source": [
    "Notice that we added `'apple'` twice but the set only considers one occurrence."
   ]
  },
  {
   "cell_type": "markdown",
   "metadata": {},
   "source": [
    "To create a set we can use the `set()` function."
   ]
  },
  {
   "cell_type": "code",
   "execution_count": null,
   "metadata": {},
   "outputs": [],
   "source": [
    "candies : set = set()\n",
    "type(candies)"
   ]
  },
  {
   "cell_type": "markdown",
   "metadata": {},
   "source": [
    "To add a new element to the set, we use the `add()` method."
   ]
  },
  {
   "cell_type": "code",
   "execution_count": null,
   "metadata": {},
   "outputs": [],
   "source": [
    "candies.add('chocolate')\n",
    "candies.add('chocolate')\n",
    "candies.add('marshmallow')\n",
    "candies"
   ]
  },
  {
   "cell_type": "markdown",
   "metadata": {
    "jupyter": {
     "source_hidden": true
    },
    "tags": []
   },
   "source": [
    "```{admonition} Do It Yourself!\n",
    ":class: seealso, dropdown\n",
    "Create a set of `proteins` and add some items to it.\n",
    "```"
   ]
  },
  {
   "cell_type": "code",
   "execution_count": null,
   "metadata": {
    "jupyter": {
     "source_hidden": true
    },
    "tags": []
   },
   "outputs": [],
   "source": [
    "# Remove this line and add your code here"
   ]
  },
  {
   "cell_type": "markdown",
   "metadata": {},
   "source": [
    "Sets provide methods and operators to compute common set operations (e.g. difference, union, intersection).\n",
    "\n",
    "To compute the **union** between sets, we use the `union()` method or the `|` operator."
   ]
  },
  {
   "cell_type": "code",
   "execution_count": null,
   "metadata": {},
   "outputs": [],
   "source": [
    "food_fun : set = fruits.union(candies)\n",
    "food_op : set = fruits | candies\n",
    "\n",
    "print(food_fun)\n",
    "print(food_op)"
   ]
  },
  {
   "cell_type": "markdown",
   "metadata": {},
   "source": [
    "To compute the **intersection** between sets, we can use the `intersection()` method or the `&` operator."
   ]
  },
  {
   "cell_type": "code",
   "execution_count": null,
   "metadata": {},
   "outputs": [],
   "source": [
    "fruits2 : set = {'apple', 'mango', 'pineapple', 'lemon'}\n",
    "fruits_inter_fun : set = fruits.intersection(fruits2)\n",
    "fruits_inter_op : set = fruits & fruits2\n",
    "\n",
    "print(fruits_inter_fun)\n",
    "print(fruits_inter_op)"
   ]
  },
  {
   "cell_type": "markdown",
   "metadata": {},
   "source": [
    "And to compute the **difference** between sets, we can use the `difference()` method or the `–` operator."
   ]
  },
  {
   "cell_type": "code",
   "execution_count": null,
   "metadata": {
    "scrolled": true
   },
   "outputs": [],
   "source": [
    "fruits_diff_fun : set = fruits.difference(fruits2)\n",
    "fruits_diff_op : set = fruits - fruits2\n",
    "\n",
    "print(fruits_diff_fun)\n",
    "print(fruits_diff_op)"
   ]
  },
  {
   "cell_type": "markdown",
   "metadata": {},
   "source": [
    "Some of exercises can be done concisely and efficiently with sets.\n",
    "\n",
    "For example, let us consider a program that uses two dictionaries to find the words that appear in one dictionary but not in the other dictionary."
   ]
  },
  {
   "cell_type": "code",
   "execution_count": null,
   "metadata": {},
   "outputs": [],
   "source": [
    "words1 : dict = {'because': 3, 'you': 5, 'are': 2, 'mine': 2, 'not': 3,\n",
    "    'I': 2, 'look': 1, 'die': 1, 'love': 1}\n",
    "\n",
    "words2 : dict = {'you': 5, 'look': 1, 'die': 1, 'looking': 2}\n",
    "\n",
    "\n",
    "res : dict = dict()\n",
    "    \n",
    "for word in words1:\n",
    "    if word not in words2:\n",
    "        res[word] = None\n",
    "        \n",
    "print(res)"
   ]
  },
  {
   "cell_type": "markdown",
   "metadata": {},
   "source": [
    "In all of these dictionaries, the values are `None` because we never use them. As a result, we waste some storage space.\n",
    "\n",
    "There is a better way to solve this problem with sets."
   ]
  },
  {
   "cell_type": "code",
   "execution_count": null,
   "metadata": {},
   "outputs": [],
   "source": [
    "words1 : dict = {'because': 3, 'you': 5, 'are': 2, 'mine': 2, 'not': 3,\n",
    "    'I': 2, 'look': 1, 'die': 1, 'love': 1}\n",
    "\n",
    "words2 : dict = {'you': 5, 'look': 1, 'die': 1, 'looking': 2}\n",
    "\n",
    "set(words1) - set(words2)"
   ]
  },
  {
   "cell_type": "markdown",
   "metadata": {},
   "source": [
    "The result is a set instead of a dictionary, but the behavior is the same."
   ]
  },
  {
   "cell_type": "markdown",
   "metadata": {},
   "source": [
    "Let us see another example. Suppose we want to check if a list has duplicates. One way of doing it is using a `for` loop where we have an additional list to check wether the item is inlcuded there or not."
   ]
  },
  {
   "cell_type": "code",
   "execution_count": null,
   "metadata": {},
   "outputs": [],
   "source": [
    "def has_duplicates(lst: List[any]) -> bool:\n",
    "    \"\"\" Check for duplicate elements in the list\n",
    "    \"\"\"\n",
    "    \n",
    "    lst_alt : List[any] = list()\n",
    "    \n",
    "    for elem in lst:\n",
    "        if elem in lst_alt:\n",
    "            return True\n",
    "        else:\n",
    "            lst_alt.append(elem)\n",
    "\n",
    "    return False\n",
    "\n",
    "lst1 = [1, 2, 3, 4, 5, 6, 2, 3]\n",
    "lst2 = [1, 2, 3, 4, 5, 6, 7, 8]\n",
    "\n",
    "print(has_duplicates(lst1))\n",
    "print(has_duplicates(lst2))"
   ]
  },
  {
   "cell_type": "markdown",
   "metadata": {},
   "source": [
    "This function can be way simpler by using sets: we just need to check if the length of the list converted in a set is the same as the original list. Let's try."
   ]
  },
  {
   "cell_type": "code",
   "execution_count": null,
   "metadata": {},
   "outputs": [],
   "source": [
    "def has_duplicates(lst: List[any]) -> bool:\n",
    "    \"\"\" Check for duplicate elements in the list\n",
    "    \"\"\"\n",
    "    \n",
    "    return len(set(lst)) < len(lst)\n",
    "\n",
    "lst1 = [1, 2, 3, 4, 5, 6, 2, 3]\n",
    "lst2 = [1, 2, 3, 4, 5, 6, 7, 8]\n",
    "\n",
    "print(has_duplicates(lst1))\n",
    "print(has_duplicates(lst2))"
   ]
  },
  {
   "cell_type": "markdown",
   "metadata": {
    "jupyter": {
     "source_hidden": true
    },
    "tags": []
   },
   "source": [
    "```{admonition} Do It Yourself!\n",
    ":class: seealso, dropdown\n",
    "Create a function that receives two dictionaries as input and prints the name of the keys shared by both of them. Use sets to solve this problem.\n",
    "```"
   ]
  },
  {
   "cell_type": "code",
   "execution_count": null,
   "metadata": {
    "jupyter": {
     "source_hidden": true
    },
    "tags": []
   },
   "outputs": [],
   "source": [
    "dict1 = {'a' : 1, 'b': 2, 'c': 3}\n",
    "dict2 = {'b': 1, 'z': 2, 'y': 3, 'c': 4}\n",
    "# Remove this line and add your code here"
   ]
  },
  {
   "cell_type": "markdown",
   "metadata": {
    "slideshow": {
     "slide_type": "slide"
    }
   },
   "source": [
    "## Data Structure Selection\n",
    "\n",
    "You have seen the core data structures of Python.\n",
    "\n",
    "We will now demonstrate which data structures are most suited to solve a specific problem.\n",
    "\n",
    "Aspects that play a role when choosing a data structure are:\n",
    "* Ease of implementation\n",
    "* Runtime performance\n",
    "* Memory usage"
   ]
  },
  {
   "cell_type": "markdown",
   "metadata": {
    "slideshow": {
     "slide_type": "slide"
    }
   },
   "source": [
    "### Word Frequency Analysis\n",
    "\n",
    "The `string` module provides a predefined string `whitespace` that contains `space`, `tab`, `newline`, etc."
   ]
  },
  {
   "cell_type": "code",
   "execution_count": null,
   "metadata": {
    "slideshow": {
     "slide_type": "fragment"
    }
   },
   "outputs": [],
   "source": [
    "import string\n",
    "string.whitespace"
   ]
  },
  {
   "cell_type": "markdown",
   "metadata": {
    "slideshow": {
     "slide_type": "fragment"
    }
   },
   "source": [
    "Furthermore, it contains a string `punctuation`, that contains punctuation characters."
   ]
  },
  {
   "cell_type": "code",
   "execution_count": null,
   "metadata": {
    "slideshow": {
     "slide_type": "fragment"
    }
   },
   "outputs": [],
   "source": [
    "import string\n",
    "string.punctuation"
   ]
  },
  {
   "cell_type": "markdown",
   "metadata": {
    "slideshow": {
     "slide_type": "fragment"
    }
   },
   "source": [
    "Write a program that gets a file and breaks each line into words, strips whitespace and\n",
    "punctuation from the words, and converts them to lowercase."
   ]
  },
  {
   "cell_type": "code",
   "execution_count": null,
   "metadata": {
    "slideshow": {
     "slide_type": "fragment"
    }
   },
   "outputs": [],
   "source": [
    "text = open('text.txt')"
   ]
  },
  {
   "cell_type": "code",
   "execution_count": null,
   "metadata": {
    "slideshow": {
     "slide_type": "fragment"
    }
   },
   "outputs": [],
   "source": [
    "from typing import List, Dict\n",
    "\n",
    "def split_text(text_arg : str) -> List[str]:\n",
    "    \"\"\"Splits a text into words which is returned as a list.\n",
    "    The words are decapitalized (lower) and punctuation is stripped.\"\"\"\n",
    "    \n",
    "    body : str = text_arg.read()\n",
    "    \n",
    "    stripped_words : list = []\n",
    "    words : List[str] = body.split()\n",
    "    for w in words:\n",
    "        lower_w : str = w.lower()\n",
    "        stripped_w : str = lower_w.strip(string.punctuation)\n",
    "        stripped_words.append(stripped_w)\n",
    "        \n",
    "    return stripped_words\n",
    "\n",
    "def histogram(words : List[str]) -> Dict:\n",
    "    \"\"\"transforms the list of words into dictionary\n",
    "    \"\"\"\n",
    "    \n",
    "    word_hist : dict = dict()\n",
    "    for word in words:\n",
    "        if word not in word_hist:\n",
    "            word_hist[word] = 1\n",
    "        else:\n",
    "            word_hist[word] += 1\n",
    "    return word_hist\n",
    " \n",
    "text = open('text.txt') \n",
    "\n",
    "words = split_text(text)\n",
    "print(len(words))\n",
    "\n",
    "word_histo = histogram(words)\n",
    "print(word_histo)"
   ]
  },
  {
   "cell_type": "code",
   "execution_count": null,
   "metadata": {
    "slideshow": {
     "slide_type": "fragment"
    }
   },
   "outputs": [],
   "source": [
    "# import the relevant libraries, see \n",
    "import matplotlib.pyplot as plt\n",
    "import pandas as pd\n",
    "\n",
    "%matplotlib inline\n",
    "\n",
    "import pandas as pd\n",
    "\n",
    "df = pd.DataFrame.from_dict(word_histo, orient=\"index\")\n",
    "\n",
    "df.plot.bar(color=\"r\")"
   ]
  },
  {
   "cell_type": "markdown",
   "metadata": {
    "slideshow": {
     "slide_type": "slide"
    }
   },
   "source": [
    "### Word Histogram\n",
    "\n",
    "The next cell contains a collection of functions to read a file and build a histogram."
   ]
  },
  {
   "cell_type": "code",
   "execution_count": null,
   "metadata": {
    "slideshow": {
     "slide_type": "fragment"
    }
   },
   "outputs": [],
   "source": [
    "def process_file(filename : str) -> Dict:\n",
    "    \"\"\"transforms the content of the given file into a dictionary of words \n",
    "    where the frequencies is counted\n",
    "    \"\"\"\n",
    "    \n",
    "    word_histo : dict = dict()\n",
    "    fp  : TextIO = open(filename)\n",
    "    \n",
    "    for line in fp:\n",
    "        process_line(line, word_histo)\n",
    "        \n",
    "    return word_histo\n",
    "\n",
    "def process_line(line : str, histo : Dict) -> Dict:\n",
    "    \"\"\"add the words of a single line, after preprocessing, to the dictionary\n",
    "    \"\"\"\n",
    "    \n",
    "    line = line.replace('-', ' ')\n",
    "    \n",
    "    for word in line.split():\n",
    "        word = word.strip(string.punctuation + string.whitespace)\n",
    "        word = word.lower()\n",
    "        histo[word] = histo.get(word, 0) + 1\n",
    "\n",
    "hist = process_file('emma.txt')\n",
    "print(hist)"
   ]
  },
  {
   "cell_type": "markdown",
   "metadata": {
    "slideshow": {
     "slide_type": "fragment"
    }
   },
   "source": [
    "The function `process_file` process one-by-one the lines of the file, and passes them to `process_line`. \n",
    "\n",
    "The histogram `hist` is used as an accumulator.\n",
    "\n",
    "The function `process_line` replaces hyphens with spaces, by the `replace` function before splitting, via `split`, the line into a list of strings.\n",
    "\n",
    "It traverses the list of words and uses `strip` and `lower` to remove punctuation and convert to lower case. \n",
    "\n",
    "Finally, `process_line` updates the histogram by creating a new item (word) or incrementing an existing one.\n",
    "\n",
    "To count the total number of words in the file, we can add up the frequencies in the histogram."
   ]
  },
  {
   "cell_type": "code",
   "execution_count": null,
   "metadata": {
    "slideshow": {
     "slide_type": "fragment"
    }
   },
   "outputs": [],
   "source": [
    "def total_words(hist : Dict) -> int:\n",
    "    \"\"\"counts the total number of words in the dictionary and thus original file\n",
    "    \"\"\"\n",
    "    \n",
    "    return sum(hist.values())\n",
    "\n",
    "print(total_words(hist))"
   ]
  },
  {
   "cell_type": "markdown",
   "metadata": {
    "slideshow": {
     "slide_type": "fragment"
    }
   },
   "source": [
    "The number of different words is just the number of items in the dictionary."
   ]
  },
  {
   "cell_type": "code",
   "execution_count": null,
   "metadata": {
    "slideshow": {
     "slide_type": "fragment"
    }
   },
   "outputs": [],
   "source": [
    "def different_words(hist : Dict) -> int:\n",
    "    \"\"\"counts the number of distinct words in the dictionary and thus original file\n",
    "    \"\"\"\n",
    "    \n",
    "    return len(hist)\n",
    "\n",
    "print(different_words(hist))"
   ]
  },
  {
   "cell_type": "markdown",
   "metadata": {
    "slideshow": {
     "slide_type": "slide"
    }
   },
   "source": [
    "### Most Common Words\n",
    "\n",
    "To find the most common words, we can make a list of tuples, where each tuple contains a word and its frequency, and sort it."
   ]
  },
  {
   "cell_type": "code",
   "execution_count": null,
   "metadata": {
    "slideshow": {
     "slide_type": "fragment"
    }
   },
   "outputs": [],
   "source": [
    "from typing import Tuple\n",
    "\n",
    "def most_common(hist : Dict) -> List[Tuple]:\n",
    "    \"\"\"transforms the dictionary in a list and sorts the list on most values\n",
    "    \"\"\"\n",
    "    frequencies = []\n",
    "    \n",
    "    for key, value in hist.items():\n",
    "        frequencies.append((value, key))\n",
    "        \n",
    "    frequencies.sort(reverse=True)\n",
    "    #frequencies.sort()\n",
    "    \n",
    "    return frequencies"
   ]
  },
  {
   "cell_type": "markdown",
   "metadata": {
    "slideshow": {
     "slide_type": "fragment"
    }
   },
   "source": [
    "In each tuple, the frequency appears first, so the resulting list is sorted by frequency. "
   ]
  },
  {
   "cell_type": "code",
   "execution_count": null,
   "metadata": {
    "slideshow": {
     "slide_type": "fragment"
    }
   },
   "outputs": [],
   "source": [
    "frequencies = most_common(hist)\n",
    "print('The most common words are:')\n",
    "\n",
    "for freq, word in frequencies[:10]:\n",
    "    print(word, freq, sep='\\t')"
   ]
  },
  {
   "cell_type": "markdown",
   "metadata": {
    "slideshow": {
     "slide_type": "fragment"
    }
   },
   "source": [
    "This code can be simplified using the key parameter of the sort function.\n",
    "\n",
    "If you are curious,\n",
    "you can read about it at https://wiki.python.org/moin/HowTo/Sorting."
   ]
  },
  {
   "cell_type": "markdown",
   "metadata": {
    "slideshow": {
     "slide_type": "slide"
    }
   },
   "source": [
    "### Optional Parameters\n",
    "\n",
    "We have seen built-in functions and methods that take optional arguments.\n",
    "\n",
    "It is possible to write programmer-defined functions with optional arguments, too. \n",
    "\n",
    "The next cell contains a function that prints the most common words in a histogram."
   ]
  },
  {
   "cell_type": "code",
   "execution_count": null,
   "metadata": {
    "slideshow": {
     "slide_type": "fragment"
    }
   },
   "outputs": [],
   "source": [
    "def print_most_common(hist : Dict, num : int = 10) -> None:\n",
    "    \"\"\"prints the top of the most common words, default number is 10\n",
    "    \"\"\"\n",
    "    t = most_common(hist)\n",
    "    print('The most common words are:')\n",
    "    \n",
    "    for freq, word in t[:num]:\n",
    "        print(word, freq, sep='\\t')"
   ]
  },
  {
   "cell_type": "markdown",
   "metadata": {
    "slideshow": {
     "slide_type": "fragment"
    }
   },
   "source": [
    "The first parameter is required; the second is optional. \n",
    "\n",
    "The default value of `num` is `10`."
   ]
  },
  {
   "cell_type": "code",
   "execution_count": null,
   "metadata": {
    "slideshow": {
     "slide_type": "fragment"
    }
   },
   "outputs": [],
   "source": [
    "print_most_common(hist, 5)"
   ]
  },
  {
   "cell_type": "markdown",
   "metadata": {
    "slideshow": {
     "slide_type": "fragment"
    }
   },
   "source": [
    "`num` gets the default value, unless you provide a second argument."
   ]
  },
  {
   "cell_type": "code",
   "execution_count": null,
   "metadata": {
    "slideshow": {
     "slide_type": "fragment"
    }
   },
   "outputs": [],
   "source": [
    "print_most_common(hist, 20)"
   ]
  },
  {
   "cell_type": "markdown",
   "metadata": {
    "slideshow": {
     "slide_type": "fragment"
    }
   },
   "source": [
    "`num` gets the value of the second argument instead. \n",
    "\n",
    "In other words, the optional argument overrides the default value.\n",
    "\n",
    "If a function has both required and optional parameters, all the required parameters have to come first, followed by the optional ones."
   ]
  },
  {
   "cell_type": "markdown",
   "metadata": {
    "slideshow": {
     "slide_type": "slide"
    }
   },
   "source": [
    "### Random Words\n",
    "\n",
    "To choose a random word from the histogram, the simplest algorithm is to build a list with multiple copies of each word, according to the observed frequency, and then choose from the list."
   ]
  },
  {
   "cell_type": "code",
   "execution_count": null,
   "metadata": {
    "slideshow": {
     "slide_type": "fragment"
    }
   },
   "outputs": [],
   "source": [
    "import random \n",
    "\n",
    "def random_word(hist : Dict) -> str:\n",
    "    \"\"\"chooses a random word from a dictionary\n",
    "    \"\"\"\n",
    "    word_lst : List[str] = []\n",
    "    \n",
    "    for word, freq in hist.items():\n",
    "        word_lst.extend([word] * freq) # the word is added to the list as often as the frequency\n",
    "    \n",
    "    print(len(word_lst))\n",
    "    return random.choice(word_lst)\n",
    "\n",
    "print(random_word(hist))"
   ]
  }
 ],
 "metadata": {
  "kernelspec": {
   "display_name": "Python 3 (ipykernel)",
   "language": "python",
   "name": "python3"
  },
  "language_info": {
   "codemirror_mode": {
    "name": "ipython",
    "version": 3
   },
   "file_extension": ".py",
   "mimetype": "text/x-python",
   "name": "python",
   "nbconvert_exporter": "python",
   "pygments_lexer": "ipython3",
   "version": "3.9.5"
  }
 },
 "nbformat": 4,
 "nbformat_minor": 4
}
