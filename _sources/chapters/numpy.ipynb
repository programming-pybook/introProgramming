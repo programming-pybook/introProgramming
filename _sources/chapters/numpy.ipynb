{
 "cells": [
  {
   "cell_type": "markdown",
   "metadata": {},
   "source": [
    "# NumPy Arrays\n",
    "\n",
    "This Jupyter Notebook is based on Chapter 2 of the book \"Python Data Science Handbook\" by Jake VanderPlas."
   ]
  },
  {
   "cell_type": "markdown",
   "metadata": {},
   "source": [
    "_(c) 2021, Lina Ochoa Venegas, Eindhoven University of Technology_"
   ]
  },
  {
   "cell_type": "markdown",
   "metadata": {},
   "source": [
    "## Table of Contents\n",
    "\n",
    "* [1. Introduction](#introduction) \n",
    "* [2. Create NumPy Arrays](#arrays)  \n",
    "* [3. Multidimensional Arrays](#multidimensional)  \n",
    "* [4. Array Attributes](#attributes)\n",
    "* [5. Indexing](#indexing)\n",
    "* [6. Slicing](#slicing)\n",
    "* [7. Masking](#masking)"
   ]
  },
  {
   "cell_type": "markdown",
   "metadata": {},
   "source": [
    "## 1. Introduction <a class=\"anchor\" id=\"introduction\"></a>\n",
    "\n",
    "NumPy stands for *Numerical Python*. It is a Python library that supports large multi-dimensional arrays. NumPy also offers mathematical functions designed to operate over this type of array. But why not use normal Python data types–such as lists or tuples? The main reason is that NumPy arrays are way more efficient when storing and manipulating large amounts of data. Why are they more efficient? Mainly, because NumPy arrays are fixed-type arrays, meaning that they can contain items of a specific type–contrary, to `list` structures that handle diverse types at the same type. This fixed-type array condition makes NumPy arrays less flexible but more efficient, placing them at the basis of the data science ecosystem in Python."
   ]
  },
  {
   "cell_type": "markdown",
   "metadata": {},
   "source": [
    "To start using NumPy you need to add the following code."
   ]
  },
  {
   "cell_type": "code",
   "execution_count": null,
   "metadata": {},
   "outputs": [],
   "source": [
    "import numpy as np"
   ]
  },
  {
   "cell_type": "markdown",
   "metadata": {},
   "source": [
    "By convention, the `numpy` module is renamed to `np`, so your code is less verbose."
   ]
  },
  {
   "cell_type": "markdown",
   "metadata": {},
   "source": [
    "## 2. Create NumPy Arrays <a class=\"anchor\" id=\"arrays\"></a>\n",
    "\n",
    "You can create NumPy arrays out from Python lists or from scratch.\n",
    "\n",
    "### NumPy Array from `list`\n",
    "When creating NumPy arrays out from Python lists you first need to create a Python list. For example, in the following cell, we create a Python list that contains prime numbers greater than 0 and less than 30."
   ]
  },
  {
   "cell_type": "code",
   "execution_count": null,
   "metadata": {},
   "outputs": [],
   "source": [
    "# Create Python list\n",
    "primes: list = [2, 3, 5, 7, 11, 13, 17, 19, 23, 29]\n",
    "\n",
    "print(type(primes))\n",
    "primes"
   ]
  },
  {
   "cell_type": "markdown",
   "metadata": {},
   "source": [
    "We notice that all elements within the `primes` list are integers. Therefore, we can create a NumPy array with integer values out from this list."
   ]
  },
  {
   "cell_type": "code",
   "execution_count": null,
   "metadata": {},
   "outputs": [],
   "source": [
    "# Creat NummPy array out from Pyton list\n",
    "np_primes: np.ndarray = np.array(primes)\n",
    "\n",
    "print(type(np_primes))\n",
    "np_primes"
   ]
  },
  {
   "cell_type": "markdown",
   "metadata": {},
   "source": [
    "If it happens that your list contains different types, NumPy will attempt to upcast them. For instance, the following list has both integers and float point numbers. Integers can then be upcasted to floats."
   ]
  },
  {
   "cell_type": "code",
   "execution_count": null,
   "metadata": {},
   "outputs": [],
   "source": [
    "scores: list = [10, 9.6, 4.3, 8, 7.1, 6.1, 8]\n",
    "np_scores: np.ndarray = np.array(scores)\n",
    "np_scores"
   ]
  },
  {
   "cell_type": "markdown",
   "metadata": {},
   "source": [
    "You can go further and specify the data type of the items in the array by using the `dtype` keyword parameters. NumPy has a set of predefined types such as `bool_` (for Booleans), `int_` (for integers), `float_` (for floating-point numbers), and `str_` (for strings). When creating arrays, NumPy's default type is `float_`. The whole list of types can be found [here](https://numpy.org/doc/stable/reference/arrays.scalars.html#built-in-scalar-types).\n",
    "\n",
    "In the following cell, we take the list of integers `scale`, and we convert it into a NumPy array with floating-point numbers."
   ]
  },
  {
   "cell_type": "code",
   "execution_count": null,
   "metadata": {},
   "outputs": [],
   "source": [
    "scale: list = [1, 2, 3, 4, 5]\n",
    "np_scale: np.ndarray = np.array(scale, dtype='float_')\n",
    "np_scale"
   ]
  },
  {
   "cell_type": "markdown",
   "metadata": {},
   "source": [
    "### NumPy Array from Scratch\n",
    "\n",
    "When dealing with large arrays it is better to create them from scratch instead of using Python lists. To do so, you can use diverse built-in functions provided by NumPy.\n",
    "\n",
    "For instance, you can use the `zeros()` function, which creates an array with `n` number of zeros. In the following cell, we create an array with `8` zeros. Notice that by default the numbers are created as floats. If you want to change the type you can also use the `dtype` keyword."
   ]
  },
  {
   "cell_type": "code",
   "execution_count": null,
   "metadata": {},
   "outputs": [],
   "source": [
    "# Create an array with 8 zeros\n",
    "zeros: np.ndarray = np.zeros(8)\n",
    "zeros"
   ]
  },
  {
   "cell_type": "markdown",
   "metadata": {},
   "source": [
    "The `ones()` function works similar to the `zeros()` one, the only difference is that it creates `1`s instead of `0`s."
   ]
  },
  {
   "cell_type": "code",
   "execution_count": null,
   "metadata": {},
   "outputs": [],
   "source": [
    "ones: np.ndarray = np.ones(8, dtype='int')\n",
    "ones"
   ]
  },
  {
   "cell_type": "markdown",
   "metadata": {},
   "source": [
    "You can also pick a specific number to fill in your array using the `full()` function. Look into the following cell. The first parameter of the function receives the number of items of the array; while the second parameter gets the value that should be copied in each location of the array."
   ]
  },
  {
   "cell_type": "code",
   "execution_count": null,
   "metadata": {},
   "outputs": [],
   "source": [
    "pi_numbers: np.ndarray = np.full(8, 3.1418)\n",
    "pi_numbers"
   ]
  },
  {
   "cell_type": "markdown",
   "metadata": {},
   "source": [
    "## 3. Multi-dimensional Arrays <a class=\"anchor\" id=\"multidimensional\"></a>\n",
    "\n",
    "NumPy also supports the creation of multi-dimensional arrays (or matrices). The previous example can be altered, so we can define the number of rows and columns that our array will have. If both the numbers of rows and columns are greater than 1, we will end up with a multi-dimensional array.\n",
    "\n",
    "For instance, in the following cell, we use again the `full()` function to create the `pi_matrix`, which consists of 4 rows and 8 columns. Therefore, instead of passing an integer as the first argument, we pass a tuple whose first item is the number of **rows** (i.e. `4`) and the number of **columns** (i.e. `8`)."
   ]
  },
  {
   "cell_type": "code",
   "execution_count": null,
   "metadata": {},
   "outputs": [],
   "source": [
    "pi_matrix: np.ndarray = np.full((4, 8), 3.1418)\n",
    "pi_matrix"
   ]
  },
  {
   "cell_type": "markdown",
   "metadata": {},
   "source": [
    "You can also create an array out of regular Python nested lists: inner lists become rows in the matrix."
   ]
  },
  {
   "cell_type": "code",
   "execution_count": null,
   "metadata": {},
   "outputs": [],
   "source": [
    "nested_lists: list = [list(range(i, i + 3)) for i in [1, 4, 7]]\n",
    "print(nested_lists)\n",
    "\n",
    "np.array(nested_lists)"
   ]
  },
  {
   "cell_type": "markdown",
   "metadata": {},
   "source": [
    "Some other interesting functions for creating multi-dimensional arrays include:\n",
    "- `arange()`: creates a linear sequences. It is similar to the `range()` function."
   ]
  },
  {
   "cell_type": "code",
   "execution_count": null,
   "metadata": {},
   "outputs": [],
   "source": [
    "# Creates a linear sequence between 0 and 10. It steps by 2.\n",
    "np.arange(0, 10, 2)"
   ]
  },
  {
   "cell_type": "markdown",
   "metadata": {},
   "source": [
    "- `linspace()`: creates an array of evenly spaced numbers."
   ]
  },
  {
   "cell_type": "code",
   "execution_count": null,
   "metadata": {},
   "outputs": [],
   "source": [
    "# Creates an array of 5 items, evenly spaced between 0 and 1.\n",
    "np.linspace(0, 1, 5)"
   ]
  },
  {
   "cell_type": "markdown",
   "metadata": {},
   "source": [
    "- `random.random()`: creates an array with random numbers between 0 and 1."
   ]
  },
  {
   "cell_type": "code",
   "execution_count": null,
   "metadata": {},
   "outputs": [],
   "source": [
    "# Creates a matrix (3 rows and 4 columns) with random numbers between 0 and 1.\n",
    "np.random.random((3, 4))"
   ]
  },
  {
   "cell_type": "markdown",
   "metadata": {},
   "source": [
    "- `random.randint()`: creates an array with random integers in a given interval."
   ]
  },
  {
   "cell_type": "code",
   "execution_count": null,
   "metadata": {},
   "outputs": [],
   "source": [
    "# Creates a 4x4 matrix with random integers between 0 and 100\n",
    "np.random.randint(0, 100, (4, 4))"
   ]
  },
  {
   "cell_type": "markdown",
   "metadata": {},
   "source": [
    "- `random.normal()`: creates a normally distributed array with random numbers. You must set the mean and the standard deviation values."
   ]
  },
  {
   "cell_type": "code",
   "execution_count": null,
   "metadata": {},
   "outputs": [],
   "source": [
    "# Creates a normally distributed 4x4 matrix with random numbers. \n",
    "# The mean is set to 0 and the standard deviation to 1.\n",
    "np.random.normal(0, 1, (4, 4))"
   ]
  },
  {
   "cell_type": "markdown",
   "metadata": {},
   "source": [
    "## 4. Array Attributes <a class=\"anchor\" id=\"attributes\"></a>\n",
    "\n",
    "Every NumPy array has the following set of attributes:\n",
    "\n",
    "| Attribute | Description |\n",
    "|-----------|-------------|\n",
    "| `ndim` | Number of dimensions |\n",
    "| `shape` | Size of each dimension |\n",
    "| `size` | Number of elements in the array |\n",
    "| `dtype` | Data type of the array |\n",
    "| `itemsize` | Size in bytes of each array element |\n",
    "| `nbytes` | Size in bytes of the array |\n",
    "\n",
    "Hereafter, we will create three different arrays (one-dimensional, two-dimensional, and three-dimensional arrays) to see the output of these attributes."
   ]
  },
  {
   "cell_type": "code",
   "execution_count": null,
   "metadata": {},
   "outputs": [],
   "source": [
    "# One-dimensional array\n",
    "one_dim: np.ndarray = np.random.randint(10, size=6)\n",
    "one_dim"
   ]
  },
  {
   "cell_type": "code",
   "execution_count": null,
   "metadata": {},
   "outputs": [],
   "source": [
    "# Two-dimensional array\n",
    "two_dim: np.ndarray = np.random.randint(10, size=(2, 6))\n",
    "two_dim"
   ]
  },
  {
   "cell_type": "code",
   "execution_count": null,
   "metadata": {},
   "outputs": [],
   "source": [
    "# Three-dimensional array\n",
    "three_dim: np.ndarray = np.random.randint(10, size=(2, 3, 6))\n",
    "three_dim"
   ]
  },
  {
   "cell_type": "markdown",
   "metadata": {},
   "source": [
    "Let us explore now the `ndim`, `shape`, and `size` attributes."
   ]
  },
  {
   "cell_type": "code",
   "execution_count": null,
   "metadata": {},
   "outputs": [],
   "source": [
    "print(f'One-dimensional array: ndim={one_dim.ndim}, shape={one_dim.shape}, size={one_dim.size}')\n",
    "print(f'Two-dimensional array: ndim={two_dim.ndim}, shape={two_dim.shape}, size={two_dim.size}')\n",
    "print(f'Three-dimensional array: ndim={three_dim.ndim}, shape={three_dim.shape}, size={three_dim.size}')"
   ]
  },
  {
   "cell_type": "markdown",
   "metadata": {},
   "source": [
    "What about the `dtype`?"
   ]
  },
  {
   "cell_type": "code",
   "execution_count": null,
   "metadata": {},
   "outputs": [],
   "source": [
    "print(f'One-dimensional array: dtype={one_dim.dtype}')\n",
    "print(f'Two-dimensional array: dtype={two_dim.dtype}')\n",
    "print(f'Three-dimensional array: dtype={three_dim.dtype}')"
   ]
  },
  {
   "cell_type": "markdown",
   "metadata": {},
   "source": [
    "The `int64` data type refers to a signed integer (can be both positive or negative) that uses 64 bits for its representation.\n",
    "\n",
    "Finally, let us look into the `itemsize` and `nbytes` attributes. Notice that `nbytes` is equal to $itemsize \\times size$."
   ]
  },
  {
   "cell_type": "code",
   "execution_count": null,
   "metadata": {},
   "outputs": [],
   "source": [
    "print(f'One-dimensional array: itemsize={one_dim.itemsize} bytes, nbytes={one_dim.nbytes} bytes')\n",
    "print(f'Two-dimensional array: itemsize={two_dim.itemsize} bytes, nbytes={two_dim.nbytes} bytes')\n",
    "print(f'Three-dimensional array: itemsize={three_dim.itemsize} bytes, nbytes={three_dim.nbytes} bytes')"
   ]
  },
  {
   "cell_type": "markdown",
   "metadata": {},
   "source": [
    "## 5. Indexing <a class=\"anchor\" id=\"indexing\"></a>\n",
    "\n",
    "Indexing in NumPy arrays is pretty similar to Python list indexing. Actually, when dealing with one-dimensional arrays there is no difference at all. To see this, let us redefine and use the `primes` array–now as a NumPy array."
   ]
  },
  {
   "cell_type": "code",
   "execution_count": null,
   "metadata": {},
   "outputs": [],
   "source": [
    "primes: list = np.array([2, 3, 5, 7, 11, 13, 17, 19, 23, 29])\n",
    "primes"
   ]
  },
  {
   "cell_type": "markdown",
   "metadata": {},
   "source": [
    "If we want to access the first element in the array, we can use the `0` value between the squared brackets."
   ]
  },
  {
   "cell_type": "code",
   "execution_count": null,
   "metadata": {},
   "outputs": [],
   "source": [
    "primes[0]"
   ]
  },
  {
   "cell_type": "markdown",
   "metadata": {},
   "source": [
    "To access, the last item in the array, we refer to the length of the array minus one position. Otherwise, we will get an out-of-bounds index error."
   ]
  },
  {
   "cell_type": "code",
   "execution_count": null,
   "metadata": {},
   "outputs": [],
   "source": [
    "primes[len(primes) - 1]"
   ]
  },
  {
   "cell_type": "markdown",
   "metadata": {},
   "source": [
    "We can also opt for accessing items backwards by using negative indices. For instance, if we want to access the last item in the array, we can employ the `-1` index."
   ]
  },
  {
   "cell_type": "code",
   "execution_count": null,
   "metadata": {},
   "outputs": [],
   "source": [
    "primes[-1]"
   ]
  },
  {
   "cell_type": "markdown",
   "metadata": {},
   "source": [
    "When dealing with **multi-dimensional arrays**, you need to specify a comma-separated sequence of indices. To see how it works, let us create the `integers` two-dimensional array."
   ]
  },
  {
   "cell_type": "code",
   "execution_count": null,
   "metadata": {},
   "outputs": [],
   "source": [
    "integers: np.ndarray = np.array([list(range(i, i + 3)) for i in [1, 4, 7]])\n",
    "integers"
   ]
  },
  {
   "cell_type": "markdown",
   "metadata": {},
   "source": [
    "If we want to access the item located in the first row of the matrix, second column (i.e. `2`), we use the `[0, 1]` index (remember that we start counting from 0)."
   ]
  },
  {
   "cell_type": "code",
   "execution_count": null,
   "metadata": {},
   "outputs": [],
   "source": [
    "integers[0, 1]"
   ]
  },
  {
   "cell_type": "markdown",
   "metadata": {},
   "source": [
    "To access the element placed at the middle of the `integers` matrix (i.e. `5`), we can find the middle point of each dimension as follows. (Notice that the following code will only work for a matrix whose dimension sizes are both odd!)"
   ]
  },
  {
   "cell_type": "code",
   "execution_count": null,
   "metadata": {},
   "outputs": [],
   "source": [
    "rows, columns = integers.shape\n",
    "middle_rows: int = rows // 2\n",
    "middle_columns: int = columns // 2\n",
    "    \n",
    "print(f'Middle index rows: {middle_rows}, Middle index columns: {middle_columns}')\n",
    "\n",
    "integers[middle_rows, middle_columns]"
   ]
  },
  {
   "cell_type": "markdown",
   "metadata": {},
   "source": [
    "Finally, to access the last item in the two-dimensional array–that is, the element in the bottom-right corner (i.e. `9`), we can consider the size of each element and subtract `1` unit to each one of them. Then we use these new values as part of the sequence of indices."
   ]
  },
  {
   "cell_type": "code",
   "execution_count": null,
   "metadata": {},
   "outputs": [],
   "source": [
    "rows, columns = integers.shape\n",
    "last_rows: int = rows - 1\n",
    "last_columns: int = columns - 1\n",
    "    \n",
    "print(f'Last index rows: {last_rows}, Last index columns: {last_columns}')\n",
    "\n",
    "integers[last_rows, last_columns]"
   ]
  },
  {
   "cell_type": "markdown",
   "metadata": {},
   "source": [
    "NumPy arrays are mutable, meaning that you can directly modify their values. In the following cell, we modify the first element of the matrix `integers`."
   ]
  },
  {
   "cell_type": "code",
   "execution_count": null,
   "metadata": {},
   "outputs": [],
   "source": [
    "integers[0, 0] = 100\n",
    "integers"
   ]
  },
  {
   "cell_type": "markdown",
   "metadata": {},
   "source": [
    "## 6. Slicing <a class=\"anchor\" id=\"slicing\"></a>\n",
    "\n",
    "Array slicing also works like the regular slicing of Python lists. That is, we use the squared brackets (`[]`) and the colon symbol (`:`) to play around and choose the items we are interested in. The regular slicing notation looks as follows:\n",
    "\n",
    "`x[start:stop]`\n",
    "\n",
    "However, there is one extra attribute you can define when slicing (this also applies to other Python sequences such as lists and strings): the `step`, which only considers every $n^{th}$ item in the sequence–being $n$ the value you assign to it. Notice that the last colon and attribute are always optional in Python.\n",
    "\n",
    "`x[start:stop:step]`\n",
    "\n",
    "If you do not specify a value for any of these three attributes, they will get their default value. All default values are shown in the following table.\n",
    "\n",
    "| Attribute | Default value |\n",
    "|:---------:|:-------------:|\n",
    "| `start`   | `0` |\n",
    "| `stop`    | Size of dimension |\n",
    "| `step`    | `1` |"
   ]
  },
  {
   "cell_type": "markdown",
   "metadata": {},
   "source": [
    "### One-dimensional Array\n",
    "\n",
    "Now, let us go back to our `primes` array and let us slice it in different ways."
   ]
  },
  {
   "cell_type": "code",
   "execution_count": null,
   "metadata": {},
   "outputs": [],
   "source": [
    "primes: np.ndarray = np.array([2, 3, 5, 7, 11, 13, 17, 19, 23, 29])\n",
    "primes"
   ]
  },
  {
   "cell_type": "markdown",
   "metadata": {},
   "source": [
    "In the following cell, we only consider the first five items of the `primes` array. Notice that the element placed at the 5$^{th}$ position won't be included."
   ]
  },
  {
   "cell_type": "code",
   "execution_count": null,
   "metadata": {},
   "outputs": [],
   "source": [
    "first_five: np.ndarray = primes[:5]\n",
    "first_five"
   ]
  },
  {
   "cell_type": "markdown",
   "metadata": {},
   "source": [
    "Computing the middle point manually might be error-prone. We can, therefore, compute the index in an integer variable (a.k.a. `middle`), and use it to define where half of the array starts. In the following cell, we consider all items placed in the second half of the array."
   ]
  },
  {
   "cell_type": "code",
   "execution_count": null,
   "metadata": {},
   "outputs": [],
   "source": [
    "middle: int = len(primes) // 2 \n",
    "last_half: np.ndarray = primes[middle:]\n",
    "last_half"
   ]
  },
  {
   "cell_type": "markdown",
   "metadata": {},
   "source": [
    "In the following cell, we specify both the `start` and `stop` attributes to take the two middle values of the array."
   ]
  },
  {
   "cell_type": "code",
   "execution_count": null,
   "metadata": {},
   "outputs": [],
   "source": [
    "two_middle: np.ndarray = primes[4:6]\n",
    "two_middle"
   ]
  },
  {
   "cell_type": "markdown",
   "metadata": {},
   "source": [
    "Finally, we can start using the `step` attribute. If we set it to `2` without specifying any other value for the `start` and `stop` attributes, we will get every two elements from the array."
   ]
  },
  {
   "cell_type": "code",
   "execution_count": null,
   "metadata": {},
   "outputs": [],
   "source": [
    "every_two: np.ndarray = primes[::2]\n",
    "every_two"
   ]
  },
  {
   "cell_type": "markdown",
   "metadata": {},
   "source": [
    "We can go further and decide to consider every two elements only in the last half of the array."
   ]
  },
  {
   "cell_type": "code",
   "execution_count": null,
   "metadata": {},
   "outputs": [],
   "source": [
    "middle: int = len(primes) // 2 \n",
    "every_two_half: np.ndarray = primes[middle::2]\n",
    "every_two_half"
   ]
  },
  {
   "cell_type": "markdown",
   "metadata": {},
   "source": [
    "### Multi-dimensional Arrays\n",
    "\n",
    "Slicing works similarly when dealing with multi-dimensional arrays. You only need to separate every slicing criterion for each dimension with a `comma`.\n",
    "\n",
    "`x[start_dim1:stop_dim1:step_dim1, start_dim2:stop_dim2:step_dim2, ...]`\n",
    "\n",
    "Let us have a look at the `integers` matrix."
   ]
  },
  {
   "cell_type": "code",
   "execution_count": null,
   "metadata": {},
   "outputs": [],
   "source": [
    "integers: np.ndarray = np.array([list(range(i, i + 3)) for i in [1, 4, 7]])\n",
    "integers"
   ]
  },
  {
   "cell_type": "code",
   "execution_count": null,
   "metadata": {},
   "outputs": [],
   "source": [
    "# Pick first two rows and first two columns\n",
    "integers[:2, :2]"
   ]
  },
  {
   "cell_type": "code",
   "execution_count": null,
   "metadata": {},
   "outputs": [],
   "source": [
    "# Pick last two rows and last two columns\n",
    "integers[1:, 1:]"
   ]
  },
  {
   "cell_type": "code",
   "execution_count": null,
   "metadata": {},
   "outputs": [],
   "source": [
    "# Pick all rows and column in position 2 (last column)\n",
    "integers[:, 2]"
   ]
  },
  {
   "cell_type": "code",
   "execution_count": null,
   "metadata": {},
   "outputs": [],
   "source": [
    "# Pick first row and all columns\n",
    "integers[0, :]"
   ]
  },
  {
   "cell_type": "code",
   "execution_count": null,
   "metadata": {},
   "outputs": [],
   "source": [
    "# Pick first row and all columns (another way)\n",
    "integers[0]"
   ]
  },
  {
   "cell_type": "code",
   "execution_count": null,
   "metadata": {},
   "outputs": [],
   "source": [
    "# Pick all rows and every two steps pick a column\n",
    "integers[:, ::2]"
   ]
  },
  {
   "cell_type": "markdown",
   "metadata": {},
   "source": [
    "### Copies of Arrays\n",
    "\n",
    "A difference of foremost importance between NumPy arrays and Python lists is that array slices return **views** instead of **copies** of the data. This means that if you modify the array slices you are actually modifying the underlying data. This property is very useful especially when dealing with large datasets: we can focus on the data we need to modify and there is no need to handle extra copies. "
   ]
  },
  {
   "cell_type": "code",
   "execution_count": null,
   "metadata": {},
   "outputs": [],
   "source": [
    "sub_integers: np.ndarray = integers[:2, :2]\n",
    "sub_integers"
   ]
  },
  {
   "cell_type": "code",
   "execution_count": null,
   "metadata": {},
   "outputs": [],
   "source": [
    "# Change the first value of the view\n",
    "sub_integers[0, 0] = 100\n",
    "sub_integers"
   ]
  },
  {
   "cell_type": "code",
   "execution_count": null,
   "metadata": {},
   "outputs": [],
   "source": [
    "# the integers matrix has been also updated\n",
    "integers"
   ]
  },
  {
   "cell_type": "markdown",
   "metadata": {},
   "source": [
    "However, the *views* property comes at a cost: if you just wanted to experiment with your data without really aiming at modifying it, you can end up with a polluted dataset. If you prefer to work with a copy, you need to be explicit about it. Luckily, NumPy provides the method `copy()`, which will help you in this regard."
   ]
  },
  {
   "cell_type": "code",
   "execution_count": null,
   "metadata": {},
   "outputs": [],
   "source": [
    "integers: np.ndarray = np.array([list(range(i, i + 3)) for i in [1, 4, 7]])\n",
    "integers"
   ]
  },
  {
   "cell_type": "code",
   "execution_count": null,
   "metadata": {},
   "outputs": [],
   "source": [
    "# Create a copy instead\n",
    "sub_integers: np.ndarray = integers[:2, :2].copy()\n",
    "sub_integers"
   ]
  },
  {
   "cell_type": "code",
   "execution_count": null,
   "metadata": {},
   "outputs": [],
   "source": [
    "# Update first item of the copy\n",
    "sub_integers[0, 0] = 100\n",
    "sub_integers"
   ]
  },
  {
   "cell_type": "code",
   "execution_count": null,
   "metadata": {},
   "outputs": [],
   "source": [
    "# The integers matrix is intact\n",
    "integers"
   ]
  },
  {
   "cell_type": "markdown",
   "metadata": {},
   "source": [
    "## 7. Masking\n",
    "\n",
    "We can use Boolean arrays to mask (or filter) values in the array. Suppose that we would like to get all values from the `integers` array that are greater than or equal to 5. Let us first create the Boolean array and see how it looks like."
   ]
  },
  {
   "cell_type": "code",
   "execution_count": null,
   "metadata": {},
   "outputs": [],
   "source": [
    "integers >= 5"
   ]
  },
  {
   "cell_type": "markdown",
   "metadata": {},
   "source": [
    "You can see that NumPy checks the Boolean expression against all values in the array, then it creates a new NumPy array with Boolean values stating if the condition is satisfied by the item in a given position.\n",
    "\n",
    "Now, if we want to mask the `integers` array and consider the subset of data points that are greater than or equal to 5, we need to use the Boolean array to index on the boolean condition."
   ]
  },
  {
   "cell_type": "code",
   "execution_count": null,
   "metadata": {},
   "outputs": [],
   "source": [
    "integers[integers >= 5]"
   ]
  },
  {
   "cell_type": "markdown",
   "metadata": {},
   "source": [
    "Notice that NumPy returns a one-dimensional array with all the values that meet the condition."
   ]
  }
 ],
 "metadata": {
  "kernelspec": {
   "display_name": "Python 3 (ipykernel)",
   "language": "python",
   "name": "python3"
  },
  "language_info": {
   "codemirror_mode": {
    "name": "ipython",
    "version": 3
   },
   "file_extension": ".py",
   "mimetype": "text/x-python",
   "name": "python",
   "nbconvert_exporter": "python",
   "pygments_lexer": "ipython3",
   "version": "3.9.5"
  }
 },
 "nbformat": 4,
 "nbformat_minor": 4
}
