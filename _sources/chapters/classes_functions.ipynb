{
 "cells": [
  {
   "cell_type": "markdown",
   "metadata": {
    "slideshow": {
     "slide_type": "slide"
    }
   },
   "source": [
    "# Classes and Functions\n",
    "\n",
    "This Jupyter Notebook is based on Chapter 16 of {cite}`thinkPython`."
   ]
  },
  {
   "cell_type": "markdown",
   "metadata": {
    "slideshow": {
     "slide_type": "fragment"
    }
   },
   "source": [
    "_(c) 2020, Mark van den Brand, Eindhoven University of Technology_"
   ]
  },
  {
   "cell_type": "markdown",
   "metadata": {
    "slideshow": {
     "slide_type": "slide"
    }
   },
   "source": [
    "The next step is to develop functions that manipulate the programmer-defined types. We will see how these types can be passed as arguments to functions and be returned as results.\n",
    "\n",
    "In this chapter a functional programming style will be used."
   ]
  },
  {
   "cell_type": "markdown",
   "metadata": {
    "slideshow": {
     "slide_type": "slide"
    }
   },
   "source": [
    "## Time\n",
    "\n",
    "We will start with introducing another programmer-defined type: the class `Time`."
   ]
  },
  {
   "cell_type": "code",
   "execution_count": null,
   "metadata": {
    "slideshow": {
     "slide_type": "fragment"
    }
   },
   "outputs": [],
   "source": [
    "class Time:\n",
    "    \"\"\"Represents the time of day.\n",
    "    \n",
    "    attributes: hour, minute, second\n",
    "    \"\"\""
   ]
  },
  {
   "cell_type": "markdown",
   "metadata": {
    "slideshow": {
     "slide_type": "fragment"
    }
   },
   "source": [
    "We can now create `Time` objects and assign values to the attributes: `hours`, `minutes`, and `seconds`."
   ]
  },
  {
   "cell_type": "code",
   "execution_count": null,
   "metadata": {
    "slideshow": {
     "slide_type": "fragment"
    }
   },
   "outputs": [],
   "source": [
    "time : Time = Time()\n",
    "time.hour : int = 11\n",
    "time.minute : int = 59\n",
    "time.second : int = 33"
   ]
  },
  {
   "cell_type": "markdown",
   "metadata": {
    "slideshow": {
     "slide_type": "slide"
    }
   },
   "source": [
    "In the next cell, a new way of formatting strings is shown. See https://pyformat.info for more information."
   ]
  },
  {
   "cell_type": "code",
   "execution_count": null,
   "metadata": {
    "slideshow": {
     "slide_type": "fragment"
    }
   },
   "outputs": [],
   "source": [
    "def print_time(time : Time) -> None:\n",
    "    \"\"\" prints a Time object\n",
    "    \"\"\"\n",
    "    print('({:02d}:{:02d}:{:02d})'.format(time.hour,time.minute,time.second))\n",
    "\n",
    "print_time(time)"
   ]
  },
  {
   "cell_type": "code",
   "execution_count": null,
   "metadata": {
    "slideshow": {
     "slide_type": "fragment"
    }
   },
   "outputs": [],
   "source": [
    "def is_after(time1 : Time, time2 : Time) -> bool:\n",
    "    \"\"\" gets 2 Time objects as argument and \n",
    "        returns a boolean to indicate whether time1 is greater than time2\n",
    "    \"\"\"\n",
    "    return time1.hour > time2.hour or time1.minute > time2.minute or time1.second > time2.second\n",
    "\n",
    "new_time : Time = Time()\n",
    "new_time.hour : int = 11\n",
    "new_time.minute : int = 59\n",
    "new_time.second : int = 31\n",
    "\n",
    "is_after(time,new_time)"
   ]
  },
  {
   "cell_type": "markdown",
   "metadata": {
    "jupyter": {
     "source_hidden": true
    },
    "tags": []
   },
   "source": [
    "```{admonition} Do It Yourself!\n",
    ":class: seealso, dropdown\n",
    "Create the function `print_time_meridiem(time : Time)`, which takes an instance of type Time and prints the time following the 12-hour convention (e.g. 12:05 pm, 11:46 am).\n",
    "```"
   ]
  },
  {
   "cell_type": "code",
   "execution_count": null,
   "metadata": {
    "jupyter": {
     "source_hidden": true
    },
    "tags": []
   },
   "outputs": [],
   "source": [
    "# Remove this line and add your code here"
   ]
  },
  {
   "cell_type": "markdown",
   "metadata": {
    "slideshow": {
     "slide_type": "slide"
    }
   },
   "source": [
    "## Pure Functions\n",
    "\n",
    "We will develop functions that allows us to manipulate `Time` objects: **pure functions** and **modifiers**.\n",
    "\n",
    "The strategy for developing these functions is based on **prototype and patch**;\n",
    "a way of tackling a complex problem by\n",
    "starting with a simple prototype and incrementally dealing with the complications.\n",
    "\n",
    "The next cell shows a simple prototype of the `add_time` function."
   ]
  },
  {
   "cell_type": "code",
   "execution_count": null,
   "metadata": {
    "slideshow": {
     "slide_type": "fragment"
    }
   },
   "outputs": [],
   "source": [
    "def add_time(t1 : Time, t2 : Time) -> Time:\n",
    "    \"\"\" returns a new Time object containing the sum of the 2 argument Time objects\n",
    "    \"\"\"\n",
    "    sum : Time = Time()\n",
    "    sum.hour : int = t1.hour + t2.hour\n",
    "    sum.minute : int = t1.minute + t2.minute\n",
    "    sum.second : int = t1.second + t2.second\n",
    "    return sum"
   ]
  },
  {
   "cell_type": "markdown",
   "metadata": {
    "slideshow": {
     "slide_type": "fragment"
    }
   },
   "source": [
    "This function creates a new `Time` object (`sum`), its attributes are initialized by adding\n",
    "the values of the attributes of the arguments, and eventually returns the created object.\n",
    "\n",
    "This is called a **pure function** because it does not have any side effects:\n",
    "* it does not modify any of the objects passed to it as arguments and \n",
    "* it has no effect, like displaying a value or getting user input, other than returning a value.\n",
    "\n",
    "The function of the previous cell can be tested by creating and adding 2 `Time` objects."
   ]
  },
  {
   "cell_type": "code",
   "execution_count": null,
   "metadata": {
    "slideshow": {
     "slide_type": "fragment"
    }
   },
   "outputs": [],
   "source": [
    "start : Time = Time()\n",
    "start.hour : int = 21\n",
    "start.minute : int = 45\n",
    "start.second : int = 0\n",
    "\n",
    "duration : Time = Time()\n",
    "duration.hour : int = 1\n",
    "duration.minute : int = 35\n",
    "duration.second : int = 0\n",
    "\n",
    "finished = add_time(start, duration)\n",
    "print_time(finished)"
   ]
  },
  {
   "cell_type": "markdown",
   "metadata": {
    "slideshow": {
     "slide_type": "fragment"
    }
   },
   "source": [
    "This is of course an illegal time.\n",
    "\n",
    "The problem is caused by the fact that we did not keep track of the fact that there are only `60` seconds in a minute, `60` minutes in an hour, and `24` hours in a day, *or do we allow more hours in a `Time` object?*\n",
    "\n",
    "What were the exact **requirements**?\n",
    "\n",
    "Let us assume that there are only `24` hours in a day.\n",
    "\n",
    "So, we are representing the *time of the day*, not a time frame.\n",
    "\n",
    "We need to *carry* over seconds to minutes and minutes to hours."
   ]
  },
  {
   "cell_type": "code",
   "execution_count": null,
   "metadata": {
    "slideshow": {
     "slide_type": "fragment"
    }
   },
   "outputs": [],
   "source": [
    "def add_time(t1 : Time, t2 : Time) -> Time:\n",
    "    \"\"\" returns a new Time object containing the sum of the 2 argument Time objects\n",
    "    \"\"\"\n",
    "    sum : Time = Time()\n",
    "    sum.hour : int = t1.hour + t2.hour\n",
    "    sum.minute : int = t1.minute + t2.minute\n",
    "    sum.second : int = t1.second + t2.second\n",
    "\n",
    "# fix the seconds if greater than 60\n",
    "    if sum.second >= 60:\n",
    "        sum.second -= 60\n",
    "        sum.minute += 1\n",
    "\n",
    "# fix the minutes if greater than 60\n",
    "    if sum.minute >= 60:\n",
    "        sum.minute -= 60\n",
    "        sum.hour += 1\n",
    "        \n",
    "# fix with hours if greater than 24\n",
    "    if sum.hour >= 24:\n",
    "        sum.hour -= 24\n",
    "        \n",
    "    return sum"
   ]
  },
  {
   "cell_type": "markdown",
   "metadata": {
    "slideshow": {
     "slide_type": "fragment"
    }
   },
   "source": [
    "This function does the job, this solution is slightly more elaborated.\n",
    "\n",
    "The function is quite long and a more concise solution will be presented."
   ]
  },
  {
   "cell_type": "markdown",
   "metadata": {
    "jupyter": {
     "source_hidden": true
    },
    "tags": []
   },
   "source": [
    "```{admonition} Do It Yourself!\n",
    ":class: seealso, dropdown\n",
    "Create the pure function <i>convert_utc(time : Time, utc_units : int) -> Time</i>, which takes an instance of type Time (representing the Coordinated Universal Time -UTC) and the number of UTC units. This function adds the integer to the <i>hours</i> attribute. Remember that an hour must be equal or greater to zero, and less than 24.\n",
    "```"
   ]
  },
  {
   "cell_type": "code",
   "execution_count": null,
   "metadata": {
    "jupyter": {
     "source_hidden": true
    },
    "tags": []
   },
   "outputs": [],
   "source": [
    "# Remove this line and add your code here"
   ]
  },
  {
   "cell_type": "markdown",
   "metadata": {
    "slideshow": {
     "slide_type": "slide"
    }
   },
   "source": [
    "## Modifiers\n",
    "\n",
    "It may be useful for a function to modify the objects it gets as parameters. \n",
    "\n",
    "In that case, the changes are visible to the caller. \n",
    "\n",
    "Functions that work this way are called **modifiers**.\n",
    "\n",
    "In the next cell, a first version of the function `increment` is presented."
   ]
  },
  {
   "cell_type": "code",
   "execution_count": null,
   "metadata": {
    "slideshow": {
     "slide_type": "fragment"
    }
   },
   "outputs": [],
   "source": [
    "def increment2(time : Time, seconds : int) -> None:\n",
    "    \"\"\" adds the seconds (2nd argument) to the Time object\n",
    "    \"\"\"\n",
    "    time.second += seconds\n",
    "    \n",
    "# fix the seconds if greater than 60\n",
    "    while time.second >= 60:\n",
    "        time.second -= 60\n",
    "        time.minute += 1\n",
    "        \n",
    "# fix the minutes if greater than 60\n",
    "    while time.minute >= 60:\n",
    "        time.minute -= 60\n",
    "        time.hour += 1\n",
    "\n",
    "# fix with hours if greater than 24\n",
    "    while time.hour >= 24:\n",
    "        time.hour -= 24 "
   ]
  },
  {
   "cell_type": "markdown",
   "metadata": {
    "slideshow": {
     "slide_type": "fragment"
    }
   },
   "source": [
    "The function starts with adding the `seconds` to `time.second`; the remainder deals with the special cases we\n",
    "saw before.\n",
    "\n",
    "This function is not correct, when the amount of seconds to be added is larger than `60`.\n",
    "\n",
    "It is then necessary to add more minutes to `time.minutes` than just `1`.\n",
    "\n",
    "A straightforward solution is to use a `while` loop, but this may not be very efficient.\n",
    "\n",
    "Anything that can be done with modifiers can also be done with pure functions. \n",
    "\n",
    "In fact, some programming languages, also known as **functional programming languages**, \n",
    "only allow pure functions. \n",
    "\n",
    "There is some evidence that programs that use pure functions are faster to develop and less error-prone than programs\n",
    "that use modifiers. \n",
    "\n",
    "But modifiers are convenient at times, and functional programs tend to be less efficient.\n",
    "\n",
    "It is, therefore, good practice to develop **pure functions** instead of **modifiers**."
   ]
  },
  {
   "cell_type": "code",
   "execution_count": null,
   "metadata": {
    "slideshow": {
     "slide_type": "fragment"
    }
   },
   "outputs": [],
   "source": [
    "def increment(time : Time, seconds : int) -> None:\n",
    "    \"\"\" adds the seconds (2nd argument) to the Time object\n",
    "    \"\"\"\n",
    "    (hours, seconds) = divmod(seconds, 3600)\n",
    "    time.hour += hours\n",
    "    \n",
    "    (minutes, seconds) = divmod(seconds, 60)\n",
    "    time.minute += minutes\n",
    "    \n",
    "    time.second += seconds\n",
    "    \n",
    "# fix the seconds if greater than 60\n",
    "    if time.second >= 60:\n",
    "        time.second -= 60\n",
    "        time.minute = 1\n",
    "\n",
    "# fix the minutes if greater than 60\n",
    "    while time.minute >= 60:\n",
    "        time.minute -= 60\n",
    "        time.hour += 1\n",
    "\n",
    "# fix with hours if greater than 24\n",
    "    while time.hour >= 24:\n",
    "        time.hour -= 24 \n",
    "        \n",
    "print_time(start)\n",
    "increment(start, 3660)\n",
    "print_time(start)"
   ]
  },
  {
   "cell_type": "markdown",
   "metadata": {
    "jupyter": {
     "source_hidden": true
    },
    "tags": []
   },
   "source": [
    "```{admonition} Do It Yourself!\n",
    ":class: seealso, dropdown\n",
    "Let's introduce some changes to the previous exercise. Create the modifier <i>convert_utc_modifier(time : Time, utc_units : int) -> Time</i>, which takes an instance of type Time (representing the Coordinated Universal Time -UTC) and adds the number of UTC units to it. This function adds the integer to the <i>hours</i> attribute. Remember that an hour must be equal or greater to zero, and less than 24.\n",
    "```"
   ]
  },
  {
   "cell_type": "code",
   "execution_count": null,
   "metadata": {
    "jupyter": {
     "source_hidden": true
    },
    "tags": []
   },
   "outputs": [],
   "source": [
    "# Remove this line and add your code here"
   ]
  },
  {
   "cell_type": "markdown",
   "metadata": {
    "slideshow": {
     "slide_type": "fragment"
    }
   },
   "source": [
    "## Prototyping vs. Planning\n",
    "\n",
    "The development strategy used so far in this chapter has been *prototype and patch*.\n",
    "\n",
    "The problem with this approach is that the code becomes bulky, it may contain code to deal with a lot of corner cases.\n",
    "\n",
    "This approach can be effective, especially if you do not have yet a deep understanding\n",
    "of the problem, but it may involve a lot of testing.\n",
    "\n",
    "An alternative is *designed development*, in which high-level insight into the problem can\n",
    "make the programming much easier. \n",
    "\n",
    "For instance, to realize that the conversion from time to seconds and back allows us just to manipulate time\n",
    "in terms of the amount of seconds; `1` minute is `60` seconds and `1` hour is `3600` seconds.\n",
    "\n",
    "So, if we convert the `Time` object to an integer value representing seconds and back, we are done."
   ]
  },
  {
   "cell_type": "code",
   "execution_count": null,
   "metadata": {
    "slideshow": {
     "slide_type": "fragment"
    }
   },
   "outputs": [],
   "source": [
    "def time_to_int(time : Time) -> int:\n",
    "    \"\"\" converts a Time object into an integer value representing seconds\n",
    "    \"\"\"\n",
    "    minutes : int = 60 * time.hour + time.minute\n",
    "    seconds : int = 60 * minutes + time.second\n",
    "    return seconds\n",
    "\n",
    "print_time(start)\n",
    "print(time_to_int(start))"
   ]
  },
  {
   "cell_type": "markdown",
   "metadata": {
    "slideshow": {
     "slide_type": "fragment"
    }
   },
   "source": [
    "We need now to develop the inverse function: `int_to_time`.\n",
    "\n",
    "This function takes an integer value as argument and returns a `Time` object.\n",
    "\n",
    "We will use a special data type: tuples. We will dive deeper into this type in coming topics, for now let us just see how to use them."
   ]
  },
  {
   "cell_type": "code",
   "execution_count": null,
   "metadata": {
    "slideshow": {
     "slide_type": "fragment"
    }
   },
   "outputs": [],
   "source": [
    "def int_to_time(seconds : int) -> Time:\n",
    "    \"\"\" converts an integer value representing seconds into a Time object\n",
    "    \"\"\"\n",
    "    time : Time = Time()\n",
    "    minutes, time.second = divmod(seconds, 60)\n",
    "    time.hour, time.minute = divmod(minutes, 60)\n",
    "    \n",
    "# fix with hours if greater than 24\n",
    "    if time.hour >= 24:\n",
    "        time.hour -= 24\n",
    "        \n",
    "    return time"
   ]
  },
  {
   "cell_type": "markdown",
   "metadata": {},
   "source": [
    "One way to check that both functions are correct is by means of using a *consistency check*. \n",
    "\n",
    "In this case, we will verify with the expression `time_to_int(int_to_time(x)) == x`."
   ]
  },
  {
   "cell_type": "code",
   "execution_count": null,
   "metadata": {},
   "outputs": [],
   "source": [
    "x = 86300\n",
    "time_to_int(int_to_time(x)) == x"
   ]
  },
  {
   "cell_type": "markdown",
   "metadata": {
    "slideshow": {
     "slide_type": "fragment"
    }
   },
   "source": [
    "However, the solutions presented in the book \"Think Python\" do not deal with the fact that there are only `24` hours in a day.\n",
    "\n",
    "Thus, the proposed test, `time_to_int(int_to_time(x)) == x`\n",
    "does not work for values equal or greater than `86400`.\n",
    "\n",
    "This is a typical case of getting the right **requirements**."
   ]
  },
  {
   "cell_type": "code",
   "execution_count": null,
   "metadata": {},
   "outputs": [],
   "source": [
    "print_time(int_to_time(86399+1))"
   ]
  },
  {
   "cell_type": "code",
   "execution_count": null,
   "metadata": {
    "slideshow": {
     "slide_type": "fragment"
    }
   },
   "outputs": [],
   "source": [
    "time_to_int(int_to_time(86399+1)) == 86400"
   ]
  },
  {
   "cell_type": "markdown",
   "metadata": {
    "slideshow": {
     "slide_type": "fragment"
    }
   },
   "source": [
    "Once we are convinced that both functions are correct (according to our specifications), we can reimplement\n",
    "the `add_time` and `increment` functions."
   ]
  },
  {
   "cell_type": "code",
   "execution_count": null,
   "metadata": {
    "slideshow": {
     "slide_type": "fragment"
    }
   },
   "outputs": [],
   "source": [
    "def add_time(t1 : Time, t2 : Time) -> Time:\n",
    "    \"\"\" returns a new Time object containing the sum of the 2 argument Time objects\n",
    "    \"\"\"\n",
    "    seconds : int = time_to_int(t1) + time_to_int(t2)\n",
    "    return int_to_time(seconds)"
   ]
  },
  {
   "cell_type": "code",
   "execution_count": null,
   "metadata": {
    "slideshow": {
     "slide_type": "fragment"
    }
   },
   "outputs": [],
   "source": [
    "def increment(t1 : Time, s : int) -> Time:\n",
    "    \"\"\" returns a new Time object containing the sum of the 2 argument Time objects\n",
    "    \"\"\"\n",
    "    seconds : int = time_to_int(t1) + s\n",
    "    return int_to_time(seconds)"
   ]
  },
  {
   "cell_type": "markdown",
   "metadata": {
    "jupyter": {
     "source_hidden": true
    },
    "tags": []
   },
   "source": [
    "```{admonition} Do It Yourself!\n",
    ":class: seealso, dropdown\n",
    "These time conversion functions allow us to develop also a <i>sub_time(t1 : Time, t2 : Time) -> Time</i> function, that subtracts two time intervals. Again, make sure you that your are not 'travelling back to the future', or end up with a negative time.\n",
    "```"
   ]
  },
  {
   "cell_type": "code",
   "execution_count": null,
   "metadata": {
    "jupyter": {
     "source_hidden": true
    },
    "slideshow": {
     "slide_type": "fragment"
    },
    "tags": []
   },
   "outputs": [],
   "source": [
    "# Remove this line and add your code here"
   ]
  },
  {
   "cell_type": "markdown",
   "metadata": {
    "slideshow": {
     "slide_type": "slide"
    }
   },
   "source": [
    "## Testing\n",
    "\n",
    "Whenever you have defined a variable or a function, **verify** it, _before_ using it. \n",
    "Do not rely on them blindly.\n",
    "\n",
    "* Inspect the value of the variable\n",
    "* Apply the function to some arguments, and inspect the results\n",
    "    \n",
    "**Advice**: Keep such test code in your notebook, so that you can rerun it and use it as a kind of documentation."
   ]
  },
  {
   "cell_type": "markdown",
   "metadata": {
    "slideshow": {
     "slide_type": "fragment"
    }
   },
   "source": [
    "### Testing of functions\n",
    "\n",
    "Testing is a way of convincing yourself that the implementation of the function is correct. Testing is not equivalent to giving a formal proof. \n",
    "\n",
    "In order to be able to test, you should first execute the function yourself in your head or on paper. Suppose you have written a function to sort elements of a list, then you could start with a non-empty list of unsorted elements, and do the sorting of the list of elements yourself resulting in a sorted list of elements. This already shows that you should start with manageable input. You should not start with a list with more than 100 elements.\n",
    "\n",
    "* Choose appropriate arguments\n",
    "* Apply function and gather results\n",
    "* Decide on pass or fail"
   ]
  },
  {
   "cell_type": "markdown",
   "metadata": {
    "slideshow": {
     "slide_type": "fragment"
    }
   },
   "source": [
    "### Manual testing\n",
    "\n",
    "A simple but rather labor-intensive way of testing is manual testing. You write in one cell the function body and in a few following cells, the various tests for the function. \n",
    "\n",
    "When testing you have to think of corner cases, for instance, empty lists, the elements at the first or last index of a list.\n",
    "\n",
    "* Call the function for various arguments in a code cell, such that it shows some result (either via `print` or as last expression in code cell).\n",
    "\n",
    "```\n",
    "sorted_list = sort([4, 3, 9, 1])\n",
    "print(sorted_list) # This should give [1, 3, 4, 9]\n",
    "```\n",
    "* Visually, check those results."
   ]
  },
  {
   "cell_type": "code",
   "execution_count": null,
   "metadata": {
    "slideshow": {
     "slide_type": "fragment"
    }
   },
   "outputs": [],
   "source": [
    "from typing import List\n",
    "import random\n",
    "\n",
    "def roll_dice(n: int) -> List[int]:\n",
    "    \"\"\"Roll n dice.\n",
    "    Assumption: n >= 0.\n",
    "    \"\"\"\n",
    "    \n",
    "    rolls : List[int] = list()\n",
    "    \n",
    "    for _ in range(n):\n",
    "        rolls.append(random.randint(1, 6))\n",
    "    \n",
    "    return rolls"
   ]
  },
  {
   "cell_type": "code",
   "execution_count": null,
   "metadata": {},
   "outputs": [],
   "source": [
    "#Test 1: boundary case\n",
    "roll_dice(100)"
   ]
  },
  {
   "cell_type": "code",
   "execution_count": null,
   "metadata": {},
   "outputs": [],
   "source": [
    "#Test 2: test the length of the resulting list\n",
    "len(roll_dice(3))"
   ]
  },
  {
   "cell_type": "code",
   "execution_count": null,
   "metadata": {},
   "outputs": [],
   "source": [
    "#Test 3: test whether all rolls are valid\n",
    "rolls_bool : List[bool] = list()\n",
    "\n",
    "for roll in roll_dice(10):\n",
    "    rolls_bool.append(roll in range(1, 6 + 1)) # list of Booleans\n",
    "\n",
    "print(rolls_bool)\n",
    "all(rolls_bool) # check if all Booleans in the list are True"
   ]
  },
  {
   "cell_type": "markdown",
   "metadata": {},
   "source": [
    "### More on function testing \n",
    "\n",
    "The challenge with function testing is to convince yourself that you have dealt with all possible cases that the function needs to handle.\n",
    "\n",
    "* Testing a function in just one call is hardly ever enough.\n",
    "* Pick a _few_ _important_ arguments, for which you can check the corresponding result.\n",
    "* Boundary cases, and small typical case\n",
    "    * Strive for **code coverage**\n",
    "    * Code that is not executed during the call, is not tested\n",
    "    * Cover all branches of `if-elif-else`\n",
    "* You do not need to check the result directly; could test it indirectly. For instance, by checking the number of elements in a list instead of inspecting the list.\n",
    "\n",
    "Suppose you need to write a function that merges 2 lists. A sufficient test can be to check whether the length of the resulting list is the same as the length of both argument lists."
   ]
  },
  {
   "cell_type": "markdown",
   "metadata": {
    "slideshow": {
     "slide_type": "slide"
    }
   },
   "source": [
    "### Automated testing via docstring\n",
    "\n",
    "A good programming practice is to add **usage examples** to the docstring:\n",
    "* You can do it in such a format\n",
    "    that these examples are **automatically executable and checkable**\n",
    "\n",
    "Format of examples/test cases in docstring:\n",
    "\n",
    "```\n",
    ">>> expression with function call\n",
    "expected result\n",
    "...\n",
    "...\n",
    ">>> expression with function call\n",
    "expected result\n",
    "```"
   ]
  },
  {
   "cell_type": "code",
   "execution_count": null,
   "metadata": {
    "slideshow": {
     "slide_type": "fragment"
    }
   },
   "outputs": [],
   "source": [
    "from typing import List\n",
    "import random\n",
    "\n",
    "def roll_dice(n: int) -> List[int]:\n",
    "    \"\"\"Roll n dice.\n",
    "    \n",
    "    Assumption: n >= 0.\n",
    "    \n",
    "    Examples and test cases:\n",
    "    >>> roll_dice(0)  # boundary case\n",
    "    []\n",
    "    >>> len(roll_dice(3))  # test length\n",
    "    3\n",
    "    >>> all(roll in range(1, 6 + 1) for roll in roll_dice(10))  # test values\n",
    "    True\n",
    "    \"\"\"\n",
    "    \n",
    "    rolls : List[int] = list()\n",
    "    \n",
    "    for _ in range(n):\n",
    "        rolls.append(random.randint(1, 6))\n",
    "    \n",
    "    return rolls"
   ]
  },
  {
   "cell_type": "markdown",
   "metadata": {
    "slideshow": {
     "slide_type": "fragment"
    }
   },
   "source": [
    "How to run test cases for function with docstring tests:\n",
    "\n",
    "* `import doctest`\n",
    "* `doctest.run_docstring_examples(func, globals(), verbose=True, name='...')`  \n",
    "    runs all test cases of `func`, reporting details\n",
    "* `doctest.run_docstring_examples(func, globals(), verbose=False)`  \n",
    "    runs all test cases, only reporting failures"
   ]
  },
  {
   "cell_type": "code",
   "execution_count": null,
   "metadata": {
    "slideshow": {
     "slide_type": "fragment"
    }
   },
   "outputs": [],
   "source": [
    "import doctest"
   ]
  },
  {
   "cell_type": "code",
   "execution_count": null,
   "metadata": {
    "slideshow": {
     "slide_type": "fragment"
    }
   },
   "outputs": [],
   "source": [
    "doctest.run_docstring_examples(roll_dice, globals(), verbose=True, name='roll_dice')"
   ]
  },
  {
   "cell_type": "code",
   "execution_count": null,
   "metadata": {
    "slideshow": {
     "slide_type": "fragment"
    }
   },
   "outputs": [],
   "source": [
    "doctest.run_docstring_examples(roll_dice, globals(), verbose=False, name='roll_dice')"
   ]
  },
  {
   "cell_type": "markdown",
   "metadata": {
    "slideshow": {
     "slide_type": "subslide"
    }
   },
   "source": [
    "One more example of tests in docstring:"
   ]
  },
  {
   "cell_type": "code",
   "execution_count": null,
   "metadata": {
    "slideshow": {
     "slide_type": "fragment"
    }
   },
   "outputs": [],
   "source": [
    "from typing import Dict\n",
    "from collections import defaultdict\n",
    "\n",
    "def count_text(text: str) -> Dict[str, int]:\n",
    "    \"\"\"Return dictionary with count for each letter in text.\n",
    "    \n",
    "    >>> count_text(\"\")  # boundary case\n",
    "    {}\n",
    "    >>> count_text(\"dad\")\n",
    "    {'d': 2, 'a': 1}\n",
    "    \"\"\"\n",
    "    counts : dict = defaultdict(int)  # use 0 when key is not present\n",
    "    \n",
    "    for letter in text:\n",
    "        counts[letter] += 1\n",
    "\n",
    "    return dict(counts)"
   ]
  },
  {
   "cell_type": "code",
   "execution_count": null,
   "metadata": {},
   "outputs": [],
   "source": [
    "count_text(\"dad\")"
   ]
  },
  {
   "cell_type": "code",
   "execution_count": null,
   "metadata": {},
   "outputs": [],
   "source": [
    "doctest.run_docstring_examples(count_text, globals(), verbose=True, name='count_text')"
   ]
  },
  {
   "cell_type": "markdown",
   "metadata": {
    "slideshow": {
     "slide_type": "fragment"
    }
   },
   "source": [
    "How to run test cases for all functions with docstring tests:\n",
    "\n",
    "* `doctest.testmod(verbose=True)` runs all test cases, reporting details\n",
    "* `doctest.testmod(verbose=False)` runs all test cases, showing a summary"
   ]
  },
  {
   "cell_type": "code",
   "execution_count": null,
   "metadata": {
    "slideshow": {
     "slide_type": "fragment"
    }
   },
   "outputs": [],
   "source": [
    "doctest.testmod(verbose=True)  # with details"
   ]
  },
  {
   "cell_type": "code",
   "execution_count": null,
   "metadata": {
    "slideshow": {
     "slide_type": "fragment"
    }
   },
   "outputs": [],
   "source": [
    "doctest.testmod(verbose=False)  # without details"
   ]
  },
  {
   "cell_type": "markdown",
   "metadata": {
    "slideshow": {
     "slide_type": "slide"
    }
   },
   "source": [
    "### Invariants\n",
    "\n",
    "A `Time` object is well-formed if the values of minute and second are between 0 and 60\n",
    "(including 0 but not 60) and if hour is between 0 and 24.\n",
    "\n",
    "Requirements like these are called **invariants** because they should always be true. \n",
    "\n",
    "To put it a different way, if they are not true, something has gone wrong.\n",
    "\n",
    "Writing code to check invariants can help detect errors and find their causes. \n",
    "\n",
    "The next cell contains the function `valid_time(time : Time)` that takes a `Time` object and returns `False` if it\n",
    "violates an **invariant**."
   ]
  },
  {
   "cell_type": "code",
   "execution_count": null,
   "metadata": {
    "slideshow": {
     "slide_type": "fragment"
    }
   },
   "outputs": [],
   "source": [
    "def valid_time(time : Time) -> bool:\n",
    "    \"\"\" checks whether we are dealing with a correct Time object\n",
    "    \"\"\"\n",
    "    if time.hour < 0 or time.minute < 0 or time.second < 0:\n",
    "        return False\n",
    "    if time.hour >= 24 or time.minute >= 60 or time.second >= 60:\n",
    "        return False\n",
    "    return True"
   ]
  },
  {
   "cell_type": "markdown",
   "metadata": {
    "slideshow": {
     "slide_type": "fragment"
    }
   },
   "source": [
    "At the beginning of each function you could check the arguments to make sure they are\n",
    "valid."
   ]
  },
  {
   "cell_type": "code",
   "execution_count": null,
   "metadata": {
    "slideshow": {
     "slide_type": "fragment"
    }
   },
   "outputs": [],
   "source": [
    "def add_time(t1 : Time, t2 : Time) -> Time:\n",
    "    \"\"\" returns a new Time object containing the sum of the 2 argument Time objects\n",
    "    \"\"\"\n",
    "    \n",
    "    if not valid_time(t1) or not valid_time(t2):\n",
    "        raise ValueError('invalid Time object in add_time')\n",
    "    seconds : int = time_to_int(t1) + time_to_int(t2)\n",
    "    \n",
    "    return int_to_time(seconds)"
   ]
  },
  {
   "cell_type": "markdown",
   "metadata": {
    "slideshow": {
     "slide_type": "fragment"
    }
   },
   "source": [
    "Or you could use an **assert statement**, which checks a given invariant and raises an exception\n",
    "if it fails."
   ]
  },
  {
   "cell_type": "code",
   "execution_count": null,
   "metadata": {
    "slideshow": {
     "slide_type": "fragment"
    }
   },
   "outputs": [],
   "source": [
    "def add_time(t1 : Time, t2 : Time) -> Time:\n",
    "    \"\"\" returns a new Time object containing the sum of the 2 argument Time objects\n",
    "    \"\"\"\n",
    "    \n",
    "    assert valid_time(t1) and valid_time(t2)\n",
    "    seconds : int = time_to_int(t1) + time_to_int(t2)\n",
    "    \n",
    "    return int_to_time(seconds)"
   ]
  },
  {
   "cell_type": "markdown",
   "metadata": {
    "slideshow": {
     "slide_type": "fragment"
    }
   },
   "source": [
    "**Assert statements** are useful because they distinguish code that deals with normal conditions\n",
    "from code that checks for errors."
   ]
  }
 ],
 "metadata": {
  "kernelspec": {
   "display_name": "Python 3",
   "language": "python",
   "name": "python3"
  },
  "language_info": {
   "codemirror_mode": {
    "name": "ipython",
    "version": 3
   },
   "file_extension": ".py",
   "mimetype": "text/x-python",
   "name": "python",
   "nbconvert_exporter": "python",
   "pygments_lexer": "ipython3",
   "version": "3.8.8"
  }
 },
 "nbformat": 4,
 "nbformat_minor": 4
}
