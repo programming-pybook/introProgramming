{
 "cells": [
  {
   "cell_type": "markdown",
   "metadata": {
    "slideshow": {
     "slide_type": "slide"
    }
   },
   "source": [
    "# Iteration [^intro]\n",
    "\n",
    "[^intro]: This Jupyter Notebook is based on Chapter 3 and 5 of {cite}`Severance2016`; and Chapter 5 and 7 of {cite}`thinkPython`."
   ]
  },
  {
   "cell_type": "markdown",
   "metadata": {},
   "source": [
    "## Introduction <a class=\"anchor\" id=\"introduction\"></a>\n",
    "\n",
    "This chapter introduces the notion of a loop.\n",
    "In particular, we introduce the `while` statement together with the `break` and `continue` statements.\n",
    "Some remarks on the termination of the loops and additional examples are also presented."
   ]
  },
  {
   "cell_type": "markdown",
   "metadata": {
    "slideshow": {
     "slide_type": "slide"
    }
   },
   "source": [
    "## The `while` Statement\n",
    "\n",
    "Computers are good in repeating boring tasks, they do this faster and more accurate than people. \n",
    "A block of code that is executed several times is called a **loop**.\n",
    "Each repetition of instructions within a loop is called an **iteration**. \n",
    "One fo the loop statements we can use in Python is called the `while` loop.\n",
    "A `while` loop is defined as follows.\n",
    "\n",
    "```python\n",
    "while termination_condition:\n",
    "    # body\n",
    "```\n",
    "\n",
    "You start with the **`while` keyword**, followed by a **termination condition**, followed by a **colon**.\n",
    "The next lines contain the body of the loop.\n",
    "The **body** of a loop is a sequence of Python statements (**one or more statements**) that are executed during every iteration of the loop.\n",
    "\n",
    "The flow of execution for a `while` statement is as follows:\n",
    "\n",
    "1. Determine whether the **termination condition** is `True` or `False`.\n",
    "2. If `False`, **exit** the `while` statement and continue with the next statement outside of the loop.\n",
    "3. If the condition is `True`, **run the body** and go back to step 1.\n",
    "\n",
    "This type of flow is called a *loop* because the third step loops back to the top.\n",
    "Let us see an example."
   ]
  },
  {
   "cell_type": "code",
   "execution_count": null,
   "metadata": {
    "slideshow": {
     "slide_type": "fragment"
    }
   },
   "outputs": [],
   "source": [
    "# While statement\n",
    "n: int = 0\n",
    "\n",
    "while n < 5:\n",
    "    n = n + 1  # Same as n += 1\n",
    "    \n",
    "print(n)"
   ]
  },
  {
   "cell_type": "markdown",
   "metadata": {},
   "source": [
    "In the previous cell, we declare the variable `n` and we initialize it to zero.\n",
    "This happens *outside* of the loop.\n",
    "Then, we define a **`while` loop**.\n",
    "We use first the **`while` keyword** followed by the termination condition, followed by a colon.\n",
    "The **termination condition** of this loop (`n < 5`) states that the `while` loop will be executed *while* the value of `n` is strictly less than `5`.\n",
    "The **body** of the loop (`n = n + 1`) is an assignment statement where we increment `n` by `1`.\n",
    "\n",
    "Let us add some `print` statements to see how the previous `while` loop is being executed."
   ]
  },
  {
   "cell_type": "code",
   "execution_count": null,
   "metadata": {},
   "outputs": [],
   "source": [
    "# While statement\n",
    "n: int = 0\n",
    "iteration: int = 1\n",
    "print('Initial value n =', n)\n",
    "\n",
    "while n < 5:\n",
    "    print('Iteration', iteration, ': n =', n)\n",
    "    n += 1          # Same as n = n + 1\n",
    "    iteration += 1  # Same as iteration = iteration + 1\n",
    "    \n",
    "print('Final value n =', n)"
   ]
  },
  {
   "cell_type": "markdown",
   "metadata": {},
   "source": [
    "## Loop Termination <a class=\"anchor\" id=\"termination\"></a>\n",
    "Suppose you want to countdown and print a value, we need to *loop*."
   ]
  },
  {
   "cell_type": "code",
   "execution_count": null,
   "metadata": {},
   "outputs": [],
   "source": [
    "# Countdown program\n",
    "n: int = 10\n",
    "iteration: int = 1\n",
    "print('Initial value n =', n)\n",
    "\n",
    "while n > 0:\n",
    "    print('Iteration', iteration, ': n =', n)\n",
    "    n -= 1          # Same as n = n - 1\n",
    "    iteration += 1  # Same as iteration = iteration + 1\n",
    "\n",
    "print('Final value n =', n)"
   ]
  },
  {
   "cell_type": "markdown",
   "metadata": {
    "slideshow": {
     "slide_type": "fragment"
    }
   },
   "source": [
    "The body of the loop should change the value of some variables that are used in the condition in order to *ensure termination of the loop*."
   ]
  },
  {
   "cell_type": "markdown",
   "metadata": {},
   "source": [
    "`while True:\n",
    "    print('Hello')`"
   ]
  },
  {
   "cell_type": "markdown",
   "metadata": {
    "slideshow": {
     "slide_type": "fragment"
    }
   },
   "source": [
    "The `while` loop above will never terminate, this is a so-called **infinite** loop.\n",
    "\n",
    "When writing programs it is important to convince yourself that the program terminates.\n",
    "\n",
    "In the case of the *countdown program*, we can prove that the loop terminates: if `n` is zero (`0`) or negative, the loop exits. \n",
    "Otherwise, `n` gets smaller in each iteration of the loop, so eventually we have to get to zero (`0`).\n",
    "\n",
    "Reasoning that loops terminate is not always trivial, consider for instance."
   ]
  },
  {
   "cell_type": "code",
   "execution_count": null,
   "metadata": {},
   "outputs": [],
   "source": [
    "n: int = 5\n",
    "iteration: int = 1\n",
    "print('Initial value n =', n)\n",
    "\n",
    "while n != 1:\n",
    "    print('Iteration', iteration,': n =', n)\n",
    "    \n",
    "    if n % 2 == 0:  # n is even\n",
    "        n = n / 2\n",
    "    else:           # n is odd\n",
    "        n = n * 3 + 1\n",
    "        \n",
    "    iteration += 1\n",
    "        \n",
    "print('Final value n =', n)"
   ]
  },
  {
   "cell_type": "markdown",
   "metadata": {},
   "source": [
    "The condition for this loop is `n != 1`, so the loop will continue until `n` is `1`, which makes the condition `False`.\n",
    "Since `n` sometimes increases and sometimes decreases, there is no obvious proof that `n` will ever reach `1`, or that the program terminates. \n",
    "\n",
    "For some particular values of `n`, we can prove termination. \n",
    "For example, if the starting value is a power of two, `n` will be even every\n",
    "time through the loop until it reaches `1`. "
   ]
  },
  {
   "cell_type": "markdown",
   "metadata": {
    "slideshow": {
     "slide_type": "slide"
    }
   },
   "source": [
    "## The `break` Statement <a class=\"anchor\" id=\"break\"></a>\n",
    "\n",
    "It is possible to enforce the termination of a loop via the `break` statement.\n",
    "Once your program flow reaches the `break` statement, all the code following the statement within the loop body *won't be executed!*\n",
    "\n",
    "The following shows the flowchart of the `break` statement. \n",
    "\n",
    "<img src=\"assets/break-flowchart.png\" alt=\"Break Flowchart\" width=\"300\"/>\n",
    "\n",
    "<div style=\"text-align:center\">\n",
    "    <p style=\"font-size:0.9em\"><b>Flowchart of the <code>break</code> statement.</b></p>\n",
    "</div>"
   ]
  },
  {
   "cell_type": "markdown",
   "metadata": {},
   "source": [
    "Let us see an example."
   ]
  },
  {
   "cell_type": "code",
   "execution_count": null,
   "metadata": {},
   "outputs": [],
   "source": [
    "while True:\n",
    "    print('Print once!')\n",
    "    break\n",
    "    print(\"The rest won't be printed\")"
   ]
  },
  {
   "cell_type": "markdown",
   "metadata": {},
   "source": [
    "The previous loop is executed just once due to the `break` statement.\n",
    "Once the `break` statement is executed, the program exits and the rest of the statements within the loop's body are not executed."
   ]
  },
  {
   "cell_type": "markdown",
   "metadata": {},
   "source": [
    "Now, suppose you are processing the user's input.\n",
    "The user eters any string and as soon as you get the string value `done` you need to terminate the program."
   ]
  },
  {
   "cell_type": "code",
   "execution_count": null,
   "metadata": {},
   "outputs": [],
   "source": [
    "count_words: int = 0\n",
    "\n",
    "while True:\n",
    "    line: str = input('> ')\n",
    "    if line == 'done':\n",
    "        break\n",
    "        \n",
    "    count_words += 1  # Same as count_words += count_words + 1\n",
    "    \n",
    "print('The number of words is', count_words)"
   ]
  },
  {
   "cell_type": "markdown",
   "metadata": {},
   "source": [
    "````{margin}\n",
    "```{admonition} EXTRA\n",
    "When using a <code>break</code> statement within a <b>nested loop</b> (a loop inside a loop), it will only break the <b>innermost loop</b>.\n",
    "```\n",
    "````"
   ]
  },
  {
   "cell_type": "markdown",
   "metadata": {
    "jupyter": {
     "source_hidden": true
    },
    "tags": []
   },
   "source": [
    "```{admonition} Do It Yourself!\n",
    ":class: seealso, dropdown\n",
    "Try to rewrite the <i>while</i> loop without the <i>break</i> statement.\n",
    "```"
   ]
  },
  {
   "cell_type": "code",
   "execution_count": null,
   "metadata": {
    "jupyter": {
     "source_hidden": true
    },
    "tags": []
   },
   "outputs": [],
   "source": [
    "# Remove this line and add your code here"
   ]
  },
  {
   "cell_type": "markdown",
   "metadata": {},
   "source": [
    "## The `continue` Statement <a class=\"anchor\" id=\"continue\"></a>\n",
    "\n",
    "Sometimes you want to finish the execution of the loop body for **specific iterations**.\n",
    "In that case, you want to stop the current iteration and continue with the next one.\n",
    "To do so, you can use the `continue` statement.\n",
    "\n",
    "The following shows the flowchart of the `continue` statement. \n",
    "\n",
    "<img src=\"assets/continue-flowchart.png\" alt=\"Continue Flowchart\" width=\"300\"/>\n",
    "\n",
    "<div style=\"text-align:center\">\n",
    "    <p style=\"font-size:0.9em\"><b>Flowchart of the <code>continue</code> statement.</b></p>\n",
    "</div>\n",
    "\n",
    "Let us see how to use the `continue` statement with the following example. "
   ]
  },
  {
   "cell_type": "code",
   "execution_count": 1,
   "metadata": {},
   "outputs": [
    {
     "name": "stdout",
     "output_type": "stream",
     "text": [
      "Iteration 1\n",
      "Iteration 3\n",
      "Iteration 4\n",
      "Iteration 5\n",
      "Iteration 6\n"
     ]
    }
   ],
   "source": [
    "iteration: int = 0\n",
    "\n",
    "while iteration <= 5:\n",
    "    iteration += 1\n",
    "    \n",
    "    # Do not print anything in iteration 2\n",
    "    if iteration == 2:\n",
    "        continue\n",
    "        print('Skip this text!')\n",
    "        \n",
    "    print(f'Iteration {iteration}')    "
   ]
  },
  {
   "cell_type": "markdown",
   "metadata": {},
   "source": [
    "In the previous example, we create the `iteration` variable and we set it to zero.\n",
    "Then, we introduce a `while` loop that loops while `iteration` is equal to or less than `5` (`iteration <= 5`).\n",
    "The first statement within the loop body increments the `iteration` value by `1`. \n",
    "(So we guarantee that the program terminates at some point!)\n",
    "Then, if the value of the `iteration` variable is equal to `2`, the iteration will be interrupted and the rest of the loop body won't be executed.\n",
    "That is, neither the \"Skip this text!\" nor the \"Iteration `iteration`\" will be executed.\n",
    "Otherwise, the \"Iteration `iteration`\" message will be printed."
   ]
  },
  {
   "cell_type": "markdown",
   "metadata": {},
   "source": [
    "Let us check another example that combines both the `break` and `continue` statements."
   ]
  },
  {
   "cell_type": "code",
   "execution_count": null,
   "metadata": {},
   "outputs": [],
   "source": [
    "while True:\n",
    "    instruction = input('What to do next? ')\n",
    "    \n",
    "    if instruction == 'quit':\n",
    "        break\n",
    "    \n",
    "    if instruction == 'skip':\n",
    "        continue\n",
    "        print('Skip this line')\n",
    "        \n",
    "    print('Your instruction is ' + instruction)"
   ]
  },
  {
   "cell_type": "markdown",
   "metadata": {},
   "source": [
    "In this program we ask for input to the user and we print a message saying \"Your instruction is `instruction`\". However, if the input is equal to \"quit\", the program will end. Otherwise, if the input is equal to \"skip\", the current iteration will stop just before printing the message and will continue with the next iteration."
   ]
  },
  {
   "cell_type": "markdown",
   "metadata": {
    "jupyter": {
     "source_hidden": true
    },
    "tags": []
   },
   "source": [
    "```{admonition} Do It Yourself!\n",
    ":class: seealso, dropdown\n",
    "Try to rewrite the <code>while</code> loop without the <code>break</code> and <code>continue</code> statements.\n",
    "```"
   ]
  },
  {
   "cell_type": "code",
   "execution_count": null,
   "metadata": {
    "jupyter": {
     "source_hidden": true
    },
    "tags": []
   },
   "outputs": [],
   "source": [
    "# Remove this line and add your code here"
   ]
  },
  {
   "cell_type": "markdown",
   "metadata": {
    "slideshow": {
     "slide_type": "slide"
    }
   },
   "source": [
    "## `while` Loops in Detail <a class=\"anchor\" id=\"detail\"></a>\n",
    "\n",
    "Let us consider the following cell to understand the flow of control of a `while` loop.\n",
    "\n",
    "* A `while` loop should always have a Boolean expression (termination condition). In the cell  `x < 10` (see line #2).\n",
    "* A `while` loop should have at least one statement in the body (see lines #3 and #4). Beware only the indented statements are part of the body, line #5 is not part of the body.\n",
    "* As long as the evaluation of the condition yields the Boolean value `True` (see line #2), the statements in the body are executed (see lines #3 and #4). After the execution of the body, the condition is re-evaluated. \n",
    "* If the evaluation of the condition yields the value `False`, the statement after the body is executed (see line #5).\n",
    "* Removing the indentation on line #4 leads to a non-terminating loop. **Why?**"
   ]
  },
  {
   "cell_type": "code",
   "execution_count": null,
   "metadata": {},
   "outputs": [],
   "source": [
    "x: int = 0          #1\n",
    "while x < 10:       #2\n",
    "    print(x)        #3\n",
    "    x = x + 1       #4\n",
    "print('Done!')      #5"
   ]
  },
  {
   "cell_type": "markdown",
   "metadata": {},
   "source": [
    "The program above can be visualised as follows.\n",
    "\n",
    "```{image} assets/flowchart.png\n",
    ":alt: Flowchart of first while loop program\n",
    ":width: 250px\n",
    ":align: center\n",
    "```\n",
    "\n",
    "<img src=\"assets/while-flowchart1.png\" alt=\"Flowchart of first while loop program\" width=\"200\"/>\n",
    "\n",
    "<div style=\"text-align:center\">\n",
    "    <span style=\"font-size:0.9em; font-weight: bold;\"><b>Flowchart of the first while-loop program.</b></span>\n",
    "</div>\n",
    "<br>\n",
    "\n",
    "Let us see another example."
   ]
  },
  {
   "cell_type": "markdown",
   "metadata": {},
   "source": [
    "```{image} assets/while-animation.gif\n",
    ":alt: Animated while loop program\n",
    ":align: center\n",
    "```\n",
    "\n",
    "<div style=\"text-align:center\">\n",
    "    <span style=\"font-size:0.9em; font-weight: bold;\">Animmated while-loop program.</span>\n",
    "</div>\n",
    "<br>\n",
    "<br>"
   ]
  },
  {
   "cell_type": "code",
   "execution_count": null,
   "metadata": {},
   "outputs": [],
   "source": [
    "x: int = 0          #1\n",
    "while x < 10:       #2\n",
    "    print(x)        #3\n",
    "x = x + 1           #4\n",
    "print('Done!')      #5"
   ]
  },
  {
   "cell_type": "markdown",
   "metadata": {},
   "source": [
    "The program above can be described as follows.\n",
    "* In line #1, we initialize variable `x` to `0`.\n",
    "* In line #2, we write down the termination condition of the `while` loop (`x < 10`).\n",
    "* Line #3 contains the body of the loop; there is only one statement in charge of printing the content of `x`.\n",
    "* As you can notice the value of `x` is **not modified** within the `while` body, meaning that `x` won't ever reach 10, and the loop will **never terminate**.\n",
    "* In line #4, we increment the value of `x` by `1`, and in line #5 we print the text \"Done!\".\n",
    "* Given that the loop never terminates, line #4 and #5 won't ever be reached.\n",
    "\n",
    "```{image} assets/flowchart.png\n",
    ":alt: Flowchart of second while loop program\n",
    ":width: 250px\n",
    ":align: center\n",
    "```\n",
    "\n",
    "<img src=\"assets/while-flowchart2.png\" alt=\"Flowchart of second while loop program\" width=\"200\"/>\n",
    "\n",
    "<div style=\"text-align:center\">\n",
    "    <span style=\"font-size:0.9em\"><b>Flowchart of the second while-loop program.</b></span>\n",
    "</div>"
   ]
  },
  {
   "cell_type": "markdown",
   "metadata": {
    "slideshow": {
     "slide_type": "fragment"
    }
   },
   "source": [
    "* The execution of the loop can *always* be terminated via a `break` statement. See line `#6` in the cell below.\n",
    "* Often the `break` statement is used in combination with a conditional. See lines `#5` and `#6`.\n",
    "* This conditional should be part of the loop body, so intended."
   ]
  },
  {
   "cell_type": "markdown",
   "metadata": {
    "slideshow": {
     "slide_type": "fragment"
    }
   },
   "source": [
    "Let us see yet another example!"
   ]
  },
  {
   "cell_type": "code",
   "execution_count": null,
   "metadata": {
    "slideshow": {
     "slide_type": "fragment"
    }
   },
   "outputs": [],
   "source": [
    "x: int = 0          #1\n",
    "while True:         #2\n",
    "    print(x)        #3\n",
    "    x = x + 1       #4\n",
    "    if x >= 10:     #5\n",
    "        break       #6\n",
    "print('Done!')      #5"
   ]
  },
  {
   "cell_type": "markdown",
   "metadata": {
    "slideshow": {
     "slide_type": "fragment"
    }
   },
   "source": [
    "The program above can be described as follows.\n",
    "\n",
    "* In line #1, we initialize variable `x` to `0`.\n",
    "* In line #2, we write `True` as the termination condition of the `while` loop. This means that if at some point you want to terminate the loop, you must have a `break` statement.\n",
    "* Line #3 starts with the body of the loop. In this line we print the content of `x` (`print(x)`).\n",
    "* Line #4 is still part of the loop body\n",
    "* As you can notice the value of `x` is **not modified** within the `while` body, meaning that `x` won't ever reach 10, and the loop will **never terminate**.\n",
    "* In line #4, we increment the value of `x` by `1`.\n",
    "* In line #5, we introduce a conditional statement (`x >= 10`) that if `True`, will break the loop (see line #6). We know that we will reach a termination state because `x` is being incremented by `1` in every iteration, and we can expect it to reach `10` at some point.\n",
    "* Once the execution of the loop is done, we print the text \"Done!\" in line #7.\n",
    "\n",
    "```{image} assets/flowchart.png\n",
    ":alt: Flowchart of third while loop program\n",
    ":width: 250px\n",
    ":align: center\n",
    "```\n",
    "\n",
    "<img src=\"assets/while-flowchart3.png\" alt=\"Flowchart of third while loop program\" width=\"150\"/>\n",
    "\n",
    "<div style=\"text-align:center\">\n",
    "    <span style=\"font-size:0.9em\"><b>Flowchart of the third while-loop program.</b></span>\n",
    "</div>"
   ]
  },
  {
   "cell_type": "markdown",
   "metadata": {
    "slideshow": {
     "slide_type": "slide"
    }
   },
   "source": [
    "## Loop Examples <a class=\"anchor\" id=\"examples\"></a>\n",
    "\n",
    "### Square Roots\n",
    "Loops are often used in programs that compute numerical results by starting with an approximate\n",
    "answer and iteratively improving it.\n",
    "\n",
    "For example, one way of computing square roots of a number is **Newton’s method**.\n",
    "Suppose that you want to know the square root of a number $a$. \n",
    "If you start with almost any estimate, $x$, you can compute\n",
    "a better estimate with the following formula:\n",
    "\n",
    "$y = \\frac{x + \\frac{a}{x}}{2}$\n",
    "\n",
    "For example, if $a$ is 4 and $x$ is 3, we get:"
   ]
  },
  {
   "cell_type": "code",
   "execution_count": null,
   "metadata": {
    "slideshow": {
     "slide_type": "fragment"
    }
   },
   "outputs": [],
   "source": [
    "a: int = 4\n",
    "x: int = 3\n",
    "y: int = (x + a / x) / 2\n",
    "y"
   ]
  },
  {
   "cell_type": "markdown",
   "metadata": {
    "slideshow": {
     "slide_type": "fragment"
    }
   },
   "source": [
    "The result is closer to the correct answer ($\\sqrt{4} = 2$). \n",
    "If we repeat the process with the new estimate, it gets even closer."
   ]
  },
  {
   "cell_type": "code",
   "execution_count": null,
   "metadata": {
    "slideshow": {
     "slide_type": "fragment"
    }
   },
   "outputs": [],
   "source": [
    "x = y\n",
    "y = (x + a / x) / 2\n",
    "y"
   ]
  },
  {
   "cell_type": "markdown",
   "metadata": {
    "slideshow": {
     "slide_type": "fragment"
    }
   },
   "source": [
    "After a few more iterations the result gets more precise."
   ]
  },
  {
   "cell_type": "code",
   "execution_count": null,
   "metadata": {
    "slideshow": {
     "slide_type": "fragment"
    }
   },
   "outputs": [],
   "source": [
    "x = y\n",
    "y = (x + a / x) / 2\n",
    "y"
   ]
  },
  {
   "cell_type": "code",
   "execution_count": null,
   "metadata": {
    "slideshow": {
     "slide_type": "fragment"
    }
   },
   "outputs": [],
   "source": [
    "x = y\n",
    "y = (x + a / x) / 2\n",
    "y"
   ]
  },
  {
   "cell_type": "markdown",
   "metadata": {
    "slideshow": {
     "slide_type": "fragment"
    }
   },
   "source": [
    "After a couple more iterations the value of $y$ is equal to $x$ and thus we can stop."
   ]
  },
  {
   "cell_type": "code",
   "execution_count": null,
   "metadata": {
    "slideshow": {
     "slide_type": "fragment"
    }
   },
   "outputs": [],
   "source": [
    "x: int = 1\n",
    "a: int = 4\n",
    "\n",
    "while True:\n",
    "    print(x)\n",
    "    y: int = (x + a / x) / 2\n",
    "    \n",
    "    if y == x:\n",
    "        break\n",
    "    \n",
    "    x = y"
   ]
  },
  {
   "cell_type": "markdown",
   "metadata": {
    "slideshow": {
     "slide_type": "fragment"
    }
   },
   "source": [
    "For most values of a this works fine, but in general it is dangerous to test equality on floating-point numbers.\n",
    "Floating-point values are only approximately right: most rational numbers, like 1/3, and\n",
    "irrational numbers, like $\\sqrt{2}$ cannot be represented exactly with a float.\n",
    "\n",
    "Rather than checking whether `x` and `y` are exactly equal, it is safer to use the built-in function\n",
    "`abs` to compute the absolute value, or magnitude, of the difference between them."
   ]
  },
  {
   "cell_type": "code",
   "execution_count": null,
   "metadata": {
    "slideshow": {
     "slide_type": "fragment"
    }
   },
   "outputs": [],
   "source": [
    "x: int = 3\n",
    "a: int = 4\n",
    "epsilon: float = 0.00000000000001\n",
    "\n",
    "while True:\n",
    "    print(x)\n",
    "    y: int = (x + a / x) / 2\n",
    "    \n",
    "    if abs(y - x) < epsilon:\n",
    "        break\n",
    "        \n",
    "    x = y"
   ]
  },
  {
   "cell_type": "markdown",
   "metadata": {
    "slideshow": {
     "slide_type": "fragment"
    }
   },
   "source": [
    "Where `epsilon` has a value like `0.00000000000001` that determines how close is close enough."
   ]
  },
  {
   "cell_type": "markdown",
   "metadata": {},
   "source": [
    "````{margin}\n",
    "```{admonition} EXTRA\n",
    "See what happens if you play with the value of <code>epsilon</code>.\n",
    "```\n",
    "````"
   ]
  },
  {
   "cell_type": "markdown",
   "metadata": {},
   "source": [
    "### Adding Numbers\n",
    "Suppose we want to add all numbers to a number provided via input."
   ]
  },
  {
   "cell_type": "code",
   "execution_count": null,
   "metadata": {},
   "outputs": [],
   "source": [
    "number_str: str = input()\n",
    "number = int(number_str)\n",
    "total: int = 0\n",
    "\n",
    "while number > 0:\n",
    "    total += number  # Same as total = total + x\n",
    "    print('total =', total)\n",
    "    number -= 1      # Same as number = number - 1\n",
    "    print('number =', number)\n",
    "\n",
    "print('total =', total)### Modified Addition\n",
    "\n",
    "In the following program, we want to:\n",
    "\n",
    "1. Ask the user for an integer number.\n",
    "1. Initialize a counter to `0`.\n",
    "1. Initialize a `total` variable to `0`\n",
    "1. If the counter is **even**, we add it to the `total`.\n",
    "1. If not, we do nothing.\n",
    "1. We increment the counter by `1`, and we go back to step 4.\n",
    "1. We loop until the counter is greater than the input integer number."
   ]
  },
  {
   "cell_type": "markdown",
   "metadata": {},
   "source": [
    "### Modified Addition\n",
    "\n",
    "In the following program, we want to:\n",
    "\n",
    "1. Ask the user for an integer number.\n",
    "1. Initialize a counter to `0`.\n",
    "1. Initialize a `total` variable to `0`\n",
    "1. If the counter is **even**, we add it to the `total`.\n",
    "1. If not, we do nothing.\n",
    "1. We increment the counter by `1`, and we go back to step 4.\n",
    "1. We loop until the counter is greater than the input integer number."
   ]
  },
  {
   "cell_type": "code",
   "execution_count": null,
   "metadata": {},
   "outputs": [],
   "source": [
    "input_: str = input('Give a number > 0:')\n",
    "number: int = int(input_)\n",
    "counter: int = 0\n",
    "total: int = 0\n",
    "\n",
    "while counter <= number:\n",
    "    print('counter =', counter)\n",
    "    \n",
    "    if counter % 2 == 0:\n",
    "        total += counter\n",
    "        print('total =', total)\n",
    "        \n",
    "    counter += 1\n",
    "    \n",
    "print('total =', total)"
   ]
  }
 ],
 "metadata": {
  "kernelspec": {
   "display_name": "Python 3 (ipykernel)",
   "language": "python",
   "name": "python3"
  },
  "language_info": {
   "codemirror_mode": {
    "name": "ipython",
    "version": 3
   },
   "file_extension": ".py",
   "mimetype": "text/x-python",
   "name": "python",
   "nbconvert_exporter": "python",
   "pygments_lexer": "ipython3",
   "version": "3.8.13"
  }
 },
 "nbformat": 4,
 "nbformat_minor": 4
}
