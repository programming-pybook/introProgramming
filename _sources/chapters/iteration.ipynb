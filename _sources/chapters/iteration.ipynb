{
 "cells": [
  {
   "cell_type": "markdown",
   "metadata": {
    "slideshow": {
     "slide_type": "slide"
    }
   },
   "source": [
    "# Iteration [^intro]\n",
    "\n",
    "[^intro]: This Jupyter Notebook is based on Chapter 3 and 5 of {cite}`Severance2016`; and Chapter 5 and 7 of {cite}`thinkPython`."
   ]
  },
  {
   "cell_type": "markdown",
   "metadata": {
    "slideshow": {
     "slide_type": "slide"
    }
   },
   "source": [
    "## The `while` Statement\n",
    "\n",
    "Computers are good in repeating boring tasks, they do this faster and more accurate than people.\n",
    "\n",
    "Repetition of instructions is called **iteration** in programming.\n",
    "\n",
    "Suppose you want to countdown and print a value, we need to *loop*."
   ]
  },
  {
   "cell_type": "code",
   "execution_count": null,
   "metadata": {
    "slideshow": {
     "slide_type": "fragment"
    }
   },
   "outputs": [],
   "source": [
    "# Countdown program\n",
    "\n",
    "n = 10  # integer\n",
    "print('initial n value =', n)\n",
    "i = 0   # integer\n",
    "\n",
    "while n > 0:\n",
    "    print(n)\n",
    "    n = n - 1\n",
    "    \n",
    "    i = i + 10\n",
    "print('Ready, and value of i =', i)"
   ]
  },
  {
   "cell_type": "markdown",
   "metadata": {
    "slideshow": {
     "slide_type": "fragment"
    }
   },
   "source": [
    "The flow of execution for a `while` statement is as follows:\n",
    "\n",
    "1. Determine whether the condition is `True` or `False`.\n",
    "2. If `False`, exit the `while` statement and continue with the next statement.\n",
    "3. If the condition is `True`, run the body and go back to step 1.\n",
    "\n",
    "This type of flow is called a loop because the third step loops back around to the top.\n",
    "\n",
    "The body should change the value of some variables that are used in the condition in order to ensure termination\n",
    "of a loop."
   ]
  },
  {
   "cell_type": "code",
   "execution_count": null,
   "metadata": {
    "slideshow": {
     "slide_type": "fragment"
    }
   },
   "outputs": [],
   "source": [
    "while True:\n",
    "    print('Hello')"
   ]
  },
  {
   "cell_type": "markdown",
   "metadata": {
    "slideshow": {
     "slide_type": "fragment"
    }
   },
   "source": [
    "The `while` loop above will never terminate, this is a so-called `infinite` loop.\n",
    "\n",
    "When writing programs it is important to convince yourself that the program terminates.\n",
    "\n",
    "In the case of `countdown`, we can prove that the loop terminates: if `n` is zero or negative, the\n",
    "loop never runs. Otherwise, `n` gets smaller each time through the loop, so eventually we\n",
    "have to get to 0.\n",
    "\n",
    "Reasoning that loops terminate is not always trivial, consider for instance."
   ]
  },
  {
   "cell_type": "code",
   "execution_count": null,
   "metadata": {
    "slideshow": {
     "slide_type": "fragment"
    }
   },
   "outputs": [],
   "source": [
    "# sequence\n",
    "n = 5   # integer\n",
    "while n != 1:\n",
    "    print(n)\n",
    "    \n",
    "    if n % 2 == 0: # n is even\n",
    "        n = n / 2\n",
    "    else: # n is odd\n",
    "        n = n * 3 + 1"
   ]
  },
  {
   "cell_type": "markdown",
   "metadata": {},
   "source": [
    "The condition for this loop is `n != 1`, so the loop will continue until `n` is 1, which makes\n",
    "the condition `False`.\n",
    "\n",
    "Since `n` sometimes increases and sometimes decreases, there is no obvious proof that `n` will\n",
    "ever reach 1, or that the program terminates. \n",
    "\n",
    "For some particular values of `n`, we can prove termination. \n",
    "\n",
    "For example, if the starting value is a power of two, `n` will be even every\n",
    "time through the loop until it reaches 1. \n",
    "\n",
    "The previous example ends with such a sequence,\n",
    "starting with 16."
   ]
  },
  {
   "cell_type": "markdown",
   "metadata": {
    "slideshow": {
     "slide_type": "slide"
    }
   },
   "source": [
    "## `break`\n",
    "\n",
    "It is possible to enforce the termination of a loop via the `break` statement.\n",
    "\n",
    "Suppose you are processing input and as soon as you get the string value `done` you want to terminate."
   ]
  },
  {
   "cell_type": "code",
   "execution_count": 1,
   "metadata": {
    "slideshow": {
     "slide_type": "fragment"
    }
   },
   "outputs": [
    {
     "name": "stdout",
     "output_type": "stream",
     "text": [
      ">  hdfjkshdsk\n",
      "Hello\n",
      ">  ijdifjsdoi\n",
      "Hello\n",
      ">  jjidfsjidsj\n",
      "Hello\n",
      ">  done\n",
      "3\n"
     ]
    }
   ],
   "source": [
    "count_words = 0\n",
    "\n",
    "while True:\n",
    "    line = input(\"> \")\n",
    "    \n",
    "    if line == 'done':\n",
    "        break\n",
    "        \n",
    "    count_words = count_words + 1; print(\"Hello\")\n",
    "    \n",
    "print(count_words)"
   ]
  },
  {
   "cell_type": "markdown",
   "metadata": {
    "slideshow": {
     "slide_type": "fragment"
    }
   },
   "source": [
    "This way of terminating `while` loops is common practice, because you can check very easily whether some condition\n",
    "holds."
   ]
  },
  {
   "cell_type": "markdown",
   "metadata": {
    "jupyter": {
     "source_hidden": true
    },
    "tags": []
   },
   "source": [
    "```{admonition} Do It Yourself!\n",
    ":class: seealso, dropdown\n",
    "Try to rewrite the <i>while</i> loop without the <i>break</i> statement.\n",
    "```"
   ]
  },
  {
   "cell_type": "code",
   "execution_count": null,
   "metadata": {
    "jupyter": {
     "source_hidden": true
    },
    "tags": []
   },
   "outputs": [],
   "source": [
    "# Remove this line and add your code here"
   ]
  },
  {
   "cell_type": "markdown",
   "metadata": {},
   "source": [
    "## `continue` \n",
    "\n",
    "Sometimes you don't want to finish the execution of the loop body for certain iterations.\n",
    "\n",
    "In that case, you want to stop the current iteration and continue with the next one.\n",
    "\n",
    "To do so, you can use the `continue` keyword.\n",
    "\n",
    "Let's see how to use it with the following example. "
   ]
  },
  {
   "cell_type": "code",
   "execution_count": null,
   "metadata": {},
   "outputs": [
    {
     "name": "stdout",
     "output_type": "stream",
     "text": [
      "What to do next?  hiuehwuh\n",
      "Your instruction is hiuehwuh\n",
      "What to do next?  huihweuhew\n",
      "Your instruction is huihweuhew\n",
      "What to do next?  skip\n"
     ]
    }
   ],
   "source": [
    "while True:\n",
    "    instruction = input('What to do next? ')\n",
    "    \n",
    "    if instruction == 'quit':\n",
    "        break\n",
    "    \n",
    "    if instruction == 'skip':\n",
    "        continue\n",
    "        print('Skip this line')\n",
    "        \n",
    "    print('Your instruction is ' + instruction)"
   ]
  },
  {
   "cell_type": "markdown",
   "metadata": {},
   "source": [
    "In this program we ask for input to the user and we print a message saying \"Your instruction is `instruction`\". However, if the input is equal to \"quit\", the program will end. Otherwise, if the input is equal to \"skip\", the current iteration will stop just before printing the message and will continue with the next iteration."
   ]
  },
  {
   "cell_type": "markdown",
   "metadata": {
    "jupyter": {
     "source_hidden": true
    },
    "tags": []
   },
   "source": [
    "```{admonition} Do It Yourself!\n",
    ":class: seealso, dropdown\n",
    "Try to rewrite the <i>while</i> loop without the <i>break</i> and <i>continue</i> statements.\n",
    "```"
   ]
  },
  {
   "cell_type": "code",
   "execution_count": null,
   "metadata": {
    "jupyter": {
     "source_hidden": true
    },
    "tags": []
   },
   "outputs": [],
   "source": [
    "# Remove this line and add your code here"
   ]
  },
  {
   "cell_type": "markdown",
   "metadata": {
    "slideshow": {
     "slide_type": "slide"
    }
   },
   "source": [
    "## While Loops in Detail\n",
    "\n",
    "Let's consider the following cell to understand the flow of control of a `while` loop.\n",
    "\n",
    "* A `while` loop should always have a boolean expression (condition). In the cell  `x < 10` (see line `#2`), but `True` is also fine.\n",
    "* A `while` loop should have at least one statement in the body (see lines `#3` and `#4`). Beware only the indented statements are part of the body, line `#5` is not part of the body.\n",
    "* As long as the evaluation of the condition yields the boolean value `True` (see line `#2`), the statements\n",
    "in the body are executed (see lines `#3` and `#4`). After the execution of the body, the condition is re-evaluated. \n",
    "If the evaluation of the condition yields the value `False`, the statement after the body is executed (see line `#5`).\n",
    "* Removing the indentation on line `#4` leads to a non-terminating loop. **Why?**"
   ]
  },
  {
   "cell_type": "code",
   "execution_count": null,
   "metadata": {},
   "outputs": [],
   "source": [
    "x = 0               #1\n",
    "while x < 10:       #2\n",
    "    print(x)        #3\n",
    "    x = x + 1       #4\n",
    "print(\"Done!\")      #5"
   ]
  },
  {
   "cell_type": "markdown",
   "metadata": {},
   "source": [
    "The program above can be visualised as follows:\n",
    "\n",
    "```{image} assets/flowchart.png\n",
    ":alt: Flowchart of first while loop program\n",
    ":width: 250px\n",
    ":align: center\n",
    "```\n",
    "\n",
    "<div style=\"text-align:center\">\n",
    "    <span style=\"font-size:0.9em; font-weight: bold;\">Flowchart of the first while-loop program.</span>\n",
    "</div>\n",
    "<br>\n",
    "\n",
    "Do you also want to see the `while` loop in action?"
   ]
  },
  {
   "cell_type": "markdown",
   "metadata": {},
   "source": [
    "```{image} assets/while-animation.gif\n",
    ":alt: Animated while loop program\n",
    ":align: center\n",
    "```\n",
    "\n",
    "<div style=\"text-align:center\">\n",
    "    <span style=\"font-size:0.9em; font-weight: bold;\">Animmated while-loop program.</span>\n",
    "</div>\n",
    "<br>\n",
    "<br>"
   ]
  },
  {
   "cell_type": "markdown",
   "metadata": {},
   "source": []
  },
  {
   "cell_type": "code",
   "execution_count": null,
   "metadata": {},
   "outputs": [],
   "source": [
    "x = 0               #1\n",
    "while x < 10:       #2\n",
    "    print(x)        #3\n",
    "x = x + 1           #4\n",
    "print(\"Done!\")      #5"
   ]
  },
  {
   "cell_type": "markdown",
   "metadata": {},
   "source": [
    "The program above can be visualised as follows:\n",
    "\n",
    "```{image} assets/flowchart2.png\n",
    ":alt: Flowchart of second while loop program\n",
    ":width: 250px\n",
    ":align: center\n",
    "```\n",
    "\n",
    "<div style=\"text-align:center\">\n",
    "    <span style=\"font-size:0.9em; font-weight: bold;\">Flowchart of the second while-loop program.</span>\n",
    "</div>\n"
   ]
  },
  {
   "cell_type": "markdown",
   "metadata": {
    "slideshow": {
     "slide_type": "fragment"
    }
   },
   "source": [
    "* The execution of the loop can *always* be terminated via a `break` statement. See line `#6` in the cell below.\n",
    "* Often the `break` statement is used in combination with a conditional. See lines `#5` and `#6`.\n",
    "* This conditional should be part of the loop body, so intended."
   ]
  },
  {
   "cell_type": "code",
   "execution_count": null,
   "metadata": {
    "slideshow": {
     "slide_type": "fragment"
    }
   },
   "outputs": [],
   "source": [
    "x = 0               #1\n",
    "while True:         #2\n",
    "    print(x)        #3\n",
    "    x = x + 1       #4\n",
    "    if x >= 10:     #5\n",
    "        break       #6\n",
    "print(\"Done!\")      #5"
   ]
  },
  {
   "cell_type": "markdown",
   "metadata": {
    "slideshow": {
     "slide_type": "fragment"
    }
   },
   "source": [
    "The program above can be visualised as follows:\n",
    "\n",
    "```{image} assets/flowchart3.png\n",
    ":alt: Flowchart of third while loop program\n",
    ":width: 300px\n",
    ":align: center\n",
    "```\n",
    "\n",
    "<div style=\"text-align:center\">\n",
    "    <span style=\"font-size:0.9em; font-weight: bold;\">Flowchart of the third while-loop program.</span>\n",
    "</div>"
   ]
  },
  {
   "cell_type": "markdown",
   "metadata": {
    "slideshow": {
     "slide_type": "slide"
    }
   },
   "source": [
    "## Square Roots\n",
    "\n",
    "Loops are often used in programs that compute numerical results by starting with an approximate\n",
    "answer and iteratively improving it.\n",
    "\n",
    "For example, one way of computing square roots is Newton’s method.\n",
    "\n",
    "Suppose that you want to know the square root of $a$. \n",
    "\n",
    "If you start with almost any estimate, $x$, you can compute\n",
    "a better estimate with the following formula:\n",
    "\n",
    "$y = \\frac{x + a/x}{2}$\n",
    "\n",
    "For example, if $a$ is 4 and $x$ is 3, we get:"
   ]
  },
  {
   "cell_type": "code",
   "execution_count": null,
   "metadata": {
    "slideshow": {
     "slide_type": "fragment"
    }
   },
   "outputs": [],
   "source": [
    "a = 4\n",
    "x = 3\n",
    "y = (x + a / x) / 2\n",
    "y"
   ]
  },
  {
   "cell_type": "markdown",
   "metadata": {
    "slideshow": {
     "slide_type": "fragment"
    }
   },
   "source": [
    "The result is closer to the correct answer ($\\sqrt{4} = 2$). If we repeat the process with the new\n",
    "estimate, it gets even closer"
   ]
  },
  {
   "cell_type": "code",
   "execution_count": null,
   "metadata": {
    "slideshow": {
     "slide_type": "fragment"
    }
   },
   "outputs": [],
   "source": [
    "x = y\n",
    "y = (x + a / x) / 2\n",
    "y"
   ]
  },
  {
   "cell_type": "markdown",
   "metadata": {
    "slideshow": {
     "slide_type": "fragment"
    }
   },
   "source": [
    "After a few more iterations the results gets more precise."
   ]
  },
  {
   "cell_type": "code",
   "execution_count": null,
   "metadata": {
    "slideshow": {
     "slide_type": "fragment"
    }
   },
   "outputs": [],
   "source": [
    "x = y\n",
    "y = (x + a / x) / 2\n",
    "y"
   ]
  },
  {
   "cell_type": "code",
   "execution_count": null,
   "metadata": {
    "slideshow": {
     "slide_type": "fragment"
    }
   },
   "outputs": [],
   "source": [
    "x = y\n",
    "y = (x + a / x) / 2\n",
    "y"
   ]
  },
  {
   "cell_type": "markdown",
   "metadata": {
    "slideshow": {
     "slide_type": "fragment"
    }
   },
   "source": [
    "After a couple more iterations the value of $y$ is equal to $x$ and thus we can stop."
   ]
  },
  {
   "cell_type": "code",
   "execution_count": null,
   "metadata": {
    "slideshow": {
     "slide_type": "fragment"
    }
   },
   "outputs": [],
   "source": [
    "x = 1\n",
    "a = 4\n",
    "\n",
    "while (True):\n",
    "    print(x)\n",
    "    y = (x + a / x) / 2\n",
    "    \n",
    "    if y == x:\n",
    "        break\n",
    "    \n",
    "    x = y"
   ]
  },
  {
   "cell_type": "markdown",
   "metadata": {
    "slideshow": {
     "slide_type": "fragment"
    }
   },
   "source": [
    "For most values of a this works fine, but in general it is dangerous to test equality on floating point numbers.\n",
    "\n",
    "Floating-point values are only approximately right: most rational numbers, like 1/3, and\n",
    "irrational numbers, like $\\sqrt{2}$ cannot be represented exactly with a float.\n",
    "\n",
    "Rather than checking whether `x` and `y` are exactly equal, it is safer to use the built-in function\n",
    "abs to compute the absolute value, or magnitude, of the difference between them:"
   ]
  },
  {
   "cell_type": "code",
   "execution_count": null,
   "metadata": {
    "slideshow": {
     "slide_type": "fragment"
    }
   },
   "outputs": [],
   "source": [
    "x = 3\n",
    "a = 4\n",
    "epsilon = 0.00000000000001\n",
    "\n",
    "while (True):\n",
    "    print(x)\n",
    "    y = (x + a / x) / 2\n",
    "    \n",
    "    if abs(y - x) < epsilon:\n",
    "        break\n",
    "        \n",
    "    x = y"
   ]
  },
  {
   "cell_type": "markdown",
   "metadata": {
    "slideshow": {
     "slide_type": "fragment"
    }
   },
   "source": [
    "Where `epsilon` has a value like `0.00000000000001` that determines how close is close enough."
   ]
  },
  {
   "cell_type": "markdown",
   "metadata": {},
   "source": [
    "````{margin}\n",
    "```{admonition} EXTRA\n",
    "See what happens if you play with the value of `epsilon`.\n",
    "```\n",
    "````"
   ]
  },
  {
   "cell_type": "markdown",
   "metadata": {},
   "source": [
    "Suppose we want to add all numbers to a number provided via input."
   ]
  },
  {
   "cell_type": "code",
   "execution_count": null,
   "metadata": {},
   "outputs": [],
   "source": [
    "x = 1+2+3+4+5+6+7+8+9+10\n",
    "print(x)"
   ]
  },
  {
   "cell_type": "code",
   "execution_count": null,
   "metadata": {},
   "outputs": [],
   "source": [
    "sx = input()\n",
    "\n",
    "x = int(sx)\n",
    "\n",
    "s = 0\n",
    "while (x > 0):\n",
    "    s = s + x\n",
    "    print(s)\n",
    "    x = x - 1\n",
    "    print(x)\n",
    "\n",
    "print(s)"
   ]
  },
  {
   "cell_type": "code",
   "execution_count": null,
   "metadata": {},
   "outputs": [],
   "source": [
    "inp = input(\"Give a number > 0:\")\n",
    "nr = int(inp)\n",
    "print(nr)\n",
    "\n",
    "cnt = 0\n",
    "tot = 0\n",
    "while (cnt <= nr):\n",
    "    print(cnt)\n",
    "    if (cnt % 2 == 0):\n",
    "        tot += cnt\n",
    "    cnt += 1\n",
    "print(tot)\n",
    "    "
   ]
  }
 ],
 "metadata": {
  "kernelspec": {
   "display_name": "Python 3 (ipykernel)",
   "language": "python",
   "name": "python3"
  },
  "language_info": {
   "codemirror_mode": {
    "name": "ipython",
    "version": 3
   },
   "file_extension": ".py",
   "mimetype": "text/x-python",
   "name": "python",
   "nbconvert_exporter": "python",
   "pygments_lexer": "ipython3",
   "version": "3.9.5"
  }
 },
 "nbformat": 4,
 "nbformat_minor": 4
}
