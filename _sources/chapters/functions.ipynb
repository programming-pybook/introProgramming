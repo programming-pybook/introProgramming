{
 "cells": [
  {
   "cell_type": "markdown",
   "metadata": {
    "slideshow": {
     "slide_type": "slide"
    }
   },
   "source": [
    "# Functions [^intro]\n",
    "\n",
    "[^intro]: This Jupyter Notebook is based on Chapter 4 of {cite}`Severance2016` and Chapters 3 and 6 of {cite}`thinkPython`."
   ]
  },
  {
   "cell_type": "markdown",
   "metadata": {
    "slideshow": {
     "slide_type": "slide"
    }
   },
   "source": [
    "So far we have seen expressions, variables, simple and advanced statements. \n",
    "\n",
    "These language constructs allows us to write already quite complex programs and to perform advanced calculations. In fact, the first programming languages did not offer many more language constructs. However, there is more to learn and to improve the quality of the programs you will write in the future. An important concept in programming is *abstraction*."
   ]
  },
  {
   "cell_type": "markdown",
   "metadata": {
    "slideshow": {
     "slide_type": "fragment"
    }
   },
   "source": [
    "**Functions** play an important role when structuring instructions. **Functions** allows us to call a group\n",
    "of instructions over and over again, without copying-and-pasting these instructions. \n",
    "\n",
    "Furthermore, **functions** introduce *abstraction*, grouping of functionality by means of group instructions and giving a simple but meanful name to it, for instance, `print`. \n",
    "\n",
    "First we will show how **functions** can be called, later we show how to define our own functions."
   ]
  },
  {
   "cell_type": "markdown",
   "metadata": {
    "slideshow": {
     "slide_type": "slide"
    }
   },
   "source": [
    "## Function Calls\n",
    "\n",
    "We have already seen examples of **function calls**, for instance:"
   ]
  },
  {
   "cell_type": "code",
   "execution_count": 1,
   "metadata": {
    "slideshow": {
     "slide_type": "fragment"
    }
   },
   "outputs": [
    {
     "data": {
      "text/plain": [
       "int"
      ]
     },
     "execution_count": 1,
     "metadata": {},
     "output_type": "execute_result"
    }
   ],
   "source": [
    "type(42)"
   ]
  },
  {
   "cell_type": "markdown",
   "metadata": {
    "slideshow": {
     "slide_type": "fragment"
    }
   },
   "source": [
    "The name of this function is `type`. \n",
    "\n",
    "The expression in parentheses is called the **argument** of the function. \n",
    "The result, for this function, is the type of the argument.\n",
    "\n",
    "It is common to say that a function “takes” an argument and “returns” a result. The result\n",
    "is called the **return value**."
   ]
  },
  {
   "cell_type": "markdown",
   "metadata": {
    "slideshow": {
     "slide_type": "slide"
    }
   },
   "source": [
    "## Built-in Functions\n",
    "\n",
    "Python has some built-in functions that we can use for free. \n",
    "\n",
    "For instance, it provides some functions to convert values from one type to another. \n",
    "\n",
    "The `int` function takes any value and converts it to an integer, if it can, or it will give an error message otherwise:"
   ]
  },
  {
   "cell_type": "code",
   "execution_count": 2,
   "metadata": {
    "slideshow": {
     "slide_type": "fragment"
    }
   },
   "outputs": [
    {
     "data": {
      "text/plain": [
       "32"
      ]
     },
     "execution_count": 2,
     "metadata": {},
     "output_type": "execute_result"
    }
   ],
   "source": [
    "int('32')"
   ]
  },
  {
   "cell_type": "code",
   "execution_count": null,
   "metadata": {
    "slideshow": {
     "slide_type": "fragment"
    }
   },
   "outputs": [],
   "source": [
    "int('Integer')"
   ]
  },
  {
   "cell_type": "markdown",
   "metadata": {
    "slideshow": {
     "slide_type": "fragment"
    }
   },
   "source": [
    "`int` can convert floating-point values to integers, but it does not round off; it chops off the\n",
    "fraction part:"
   ]
  },
  {
   "cell_type": "code",
   "execution_count": 3,
   "metadata": {
    "slideshow": {
     "slide_type": "fragment"
    }
   },
   "outputs": [
    {
     "data": {
      "text/plain": [
       "3"
      ]
     },
     "execution_count": 3,
     "metadata": {},
     "output_type": "execute_result"
    }
   ],
   "source": [
    "int(3.9999)"
   ]
  },
  {
   "cell_type": "markdown",
   "metadata": {
    "slideshow": {
     "slide_type": "slide"
    }
   },
   "source": [
    "`float` converts strings and integers into floats."
   ]
  },
  {
   "cell_type": "code",
   "execution_count": null,
   "metadata": {
    "slideshow": {
     "slide_type": "fragment"
    }
   },
   "outputs": [],
   "source": [
    "float(32)"
   ]
  },
  {
   "cell_type": "code",
   "execution_count": null,
   "metadata": {},
   "outputs": [],
   "source": [
    "float('3.14159')"
   ]
  },
  {
   "cell_type": "markdown",
   "metadata": {
    "slideshow": {
     "slide_type": "fragment"
    }
   },
   "source": [
    "`str` converts its argument into a string:"
   ]
  },
  {
   "cell_type": "code",
   "execution_count": null,
   "metadata": {
    "slideshow": {
     "slide_type": "fragment"
    }
   },
   "outputs": [],
   "source": [
    "str(3.14159)"
   ]
  },
  {
   "cell_type": "markdown",
   "metadata": {},
   "source": [
    "There are other functions to compute the largest and smallest element in a list or string: `max` and `min`."
   ]
  },
  {
   "cell_type": "code",
   "execution_count": 4,
   "metadata": {},
   "outputs": [
    {
     "data": {
      "text/plain": [
       "'t'"
      ]
     },
     "execution_count": 4,
     "metadata": {},
     "output_type": "execute_result"
    }
   ],
   "source": [
    "max('I am a data scientist')"
   ]
  },
  {
   "cell_type": "code",
   "execution_count": 5,
   "metadata": {},
   "outputs": [
    {
     "data": {
      "text/plain": [
       "' '"
      ]
     },
     "execution_count": 5,
     "metadata": {},
     "output_type": "execute_result"
    }
   ],
   "source": [
    "min('I am a data scientist')"
   ]
  },
  {
   "cell_type": "markdown",
   "metadata": {},
   "source": [
    "Another common function is `len`, which returns the length of a list or a string."
   ]
  },
  {
   "cell_type": "code",
   "execution_count": 6,
   "metadata": {},
   "outputs": [
    {
     "data": {
      "text/plain": [
       "21"
      ]
     },
     "execution_count": 6,
     "metadata": {},
     "output_type": "execute_result"
    }
   ],
   "source": [
    "len('I am a data scientist')"
   ]
  },
  {
   "cell_type": "markdown",
   "metadata": {},
   "source": [
    "You should treat built-in functions as reserved words: don't use use their names to name variables."
   ]
  },
  {
   "cell_type": "markdown",
   "metadata": {
    "jupyter": {
     "source_hidden": true
    },
    "tags": []
   },
   "source": [
    "```{admonition} Do It Yourself!\n",
    ":class: seealso, dropdown\n",
    "Compute the length of the string \"Twist and shout\".\n",
    "```"
   ]
  },
  {
   "cell_type": "code",
   "execution_count": null,
   "metadata": {
    "jupyter": {
     "source_hidden": true
    },
    "tags": []
   },
   "outputs": [],
   "source": [
    "# Remove this line and add your code here"
   ]
  },
  {
   "cell_type": "markdown",
   "metadata": {},
   "source": [
    "## Math Functions\n",
    "\n",
    "The functions presented in the previous section are built-in functions. Every Python implementation will provide these functions. \n"
   ]
  },
  {
   "cell_type": "markdown",
   "metadata": {},
   "source": [
    "````{margin}\n",
    "```{admonition} EXTRA\n",
    "A **module** is yet another mechanism to structure your software, frequently used functions, such as Math functions, can be group together in a **module**.\n",
    "```\n",
    "````"
   ]
  },
  {
   "cell_type": "markdown",
   "metadata": {},
   "source": [
    "\n",
    "Another way of providing predefined functions is via **modules**.\n",
    "\n",
    "Python has a *math module* that provides most of the familiar mathematical functions. A\n",
    "**module** is a file that contains a collection of related functions."
   ]
  },
  {
   "cell_type": "markdown",
   "metadata": {},
   "source": [
    "Before we can use the functions in a module, we have to import it with an import statement:"
   ]
  },
  {
   "cell_type": "code",
   "execution_count": 7,
   "metadata": {
    "slideshow": {
     "slide_type": "fragment"
    }
   },
   "outputs": [],
   "source": [
    "import math"
   ]
  },
  {
   "cell_type": "markdown",
   "metadata": {
    "slideshow": {
     "slide_type": "fragment"
    }
   },
   "source": [
    "This statement creates a **module object** named math. If you display the module object, you\n",
    "get some information about it:"
   ]
  },
  {
   "cell_type": "code",
   "execution_count": 8,
   "metadata": {
    "slideshow": {
     "slide_type": "fragment"
    }
   },
   "outputs": [
    {
     "data": {
      "text/plain": [
       "<module 'math' from '/Users/mvdbrand/opt/anaconda3/lib/python3.8/lib-dynload/math.cpython-38-darwin.so'>"
      ]
     },
     "execution_count": 8,
     "metadata": {},
     "output_type": "execute_result"
    }
   ],
   "source": [
    "math"
   ]
  },
  {
   "cell_type": "markdown",
   "metadata": {
    "slideshow": {
     "slide_type": "fragment"
    }
   },
   "source": [
    "If you want to learn more about the functions and constants defined in the Math module, see \n",
    "https://docs.python.org/3/library/math.html. \n",
    "\n",
    "To execute one of the functions, you have to specify the name of the module and the name of the\n",
    "function, separated by a dot (also known as a period). This format is called **dot notation**."
   ]
  },
  {
   "cell_type": "code",
   "execution_count": 9,
   "metadata": {
    "slideshow": {
     "slide_type": "fragment"
    }
   },
   "outputs": [
    {
     "name": "stdout",
     "output_type": "stream",
     "text": [
      "6.989700043360188\n"
     ]
    }
   ],
   "source": [
    "signal_power : int = 25\n",
    "noise_power : int  = 5\n",
    "ratio : float = signal_power / noise_power\n",
    "decibels : float = 10 * math.log10(ratio)\n",
    "print(decibels)"
   ]
  },
  {
   "cell_type": "markdown",
   "metadata": {
    "slideshow": {
     "slide_type": "fragment"
    }
   },
   "source": [
    "The first example uses `math.log10` to compute a signal-to-noise ratio in decibels."
   ]
  },
  {
   "cell_type": "markdown",
   "metadata": {
    "slideshow": {
     "slide_type": "fragment"
    }
   },
   "source": [
    "The expression `math.pi` gets the variable `pi` from the math module. \n",
    "\n",
    "Its value is a floating point approximation of π in 15 digits."
   ]
  },
  {
   "cell_type": "code",
   "execution_count": 10,
   "metadata": {
    "slideshow": {
     "slide_type": "fragment"
    }
   },
   "outputs": [
    {
     "name": "stdout",
     "output_type": "stream",
     "text": [
      "3.141592653589793\n"
     ]
    }
   ],
   "source": [
    "print(math.pi)"
   ]
  },
  {
   "cell_type": "markdown",
   "metadata": {
    "jupyter": {
     "source_hidden": true
    },
    "tags": []
   },
   "source": [
    "```{admonition} Do It Yourself!\n",
    ":class: seealso, dropdown\n",
    "Use the <i>math</i> module to compute the square root of 361.\n",
    "```"
   ]
  },
  {
   "cell_type": "code",
   "execution_count": null,
   "metadata": {
    "jupyter": {
     "source_hidden": true
    },
    "tags": []
   },
   "outputs": [
    {
     "ename": "",
     "evalue": "",
     "output_type": "error",
     "traceback": [
      "\u001b[1;31mJupyter cannot be started. Error attempting to locate jupyter: Running cells with 'Python 3.8.9 64-bit' requires jupyter and notebook package.\n",
      "Run the following command to install 'jupyter and notebook' into the Python environment. \n",
      "Command: 'python -m pip install jupyter notebook -U\n",
      "or\n",
      "conda install jupyter notebook -U'\n",
      "Click <a href='https://aka.ms/installJupyterForVSCode'>here</a> for more info."
     ]
    }
   ],
   "source": [
    "# Remove this line and add your code here"
   ]
  },
  {
   "cell_type": "markdown",
   "metadata": {},
   "source": [
    "## Random Numbers\n",
    "\n",
    "Python provides the module `random` to generate pseudorandom numbers.\n",
    "\n",
    "Pseudorandom numbers are not completely random because they are generated after a deterministic computation.\n",
    "\n",
    "A computation is said to be **deterministic** if it always generates the same outputs for the same inputs."
   ]
  },
  {
   "cell_type": "markdown",
   "metadata": {},
   "source": [
    "The `random` module provides the `random` function to generate a pseudorandom float bwteen 0.0 and 1.0 (including 0.0 but not 1.0).\n",
    "\n",
    "The following function generates 5 pseudorandom numbers by using the `random` function. Run it multiple times to check its output:"
   ]
  },
  {
   "cell_type": "code",
   "execution_count": 12,
   "metadata": {},
   "outputs": [
    {
     "name": "stdout",
     "output_type": "stream",
     "text": [
      "0.9530675352981902\n",
      "0.5206681624189645\n",
      "0.5294170910310029\n",
      "0.1613275022650349\n",
      "0.23171981325953195\n"
     ]
    }
   ],
   "source": [
    "import random\n",
    "\n",
    "i : int = 0\n",
    "while i < 5:\n",
    "    x = random.random()\n",
    "    print(x)\n",
    "    i+=1\n",
    "    "
   ]
  },
  {
   "cell_type": "markdown",
   "metadata": {
    "jupyter": {
     "source_hidden": true
    },
    "tags": []
   },
   "source": [
    "```{admonition} Do It Yourself!\n",
    ":class: seealso, dropdown\n",
    "Use the `randint` function to generate 10 random integers between 20 and 80.\n",
    "```"
   ]
  },
  {
   "cell_type": "code",
   "execution_count": null,
   "metadata": {
    "jupyter": {
     "source_hidden": true
    },
    "tags": []
   },
   "outputs": [],
   "source": [
    "# Remove this line and add your code here"
   ]
  },
  {
   "cell_type": "markdown",
   "metadata": {
    "slideshow": {
     "slide_type": "slide"
    }
   },
   "source": [
    "## Composition\n",
    "\n",
    "The program:"
   ]
  },
  {
   "cell_type": "code",
   "execution_count": null,
   "metadata": {
    "scrolled": true
   },
   "outputs": [],
   "source": [
    "signal_power : int = 25\n",
    "noise_power : int = 5\n",
    "ratio : float = signal_power / noise_power\n",
    "decibels : float = 10 * math.log10(ratio)\n",
    "print(decibels)"
   ]
  },
  {
   "cell_type": "markdown",
   "metadata": {},
   "source": [
    "shown in the previous section, contains program elements in isolation.\n",
    "Every line introduces a new variable and the right hand side of the\n",
    "assignment is a rather trivial operation.\n",
    "\n",
    "Programming languages offers facilities to compose operations and create\n",
    "more complicated expression.  "
   ]
  },
  {
   "cell_type": "markdown",
   "metadata": {},
   "source": [
    "For example, the argument of a function can be any\n",
    "kind of expression, including arithmetic operators:"
   ]
  },
  {
   "cell_type": "code",
   "execution_count": null,
   "metadata": {},
   "outputs": [],
   "source": [
    "degrees : float = 45.0\n",
    "x : float = math.sin(degrees / 360.0 * 2 * math.pi)\n",
    "print(x)"
   ]
  },
  {
   "cell_type": "markdown",
   "metadata": {},
   "source": [
    "And even function calls:"
   ]
  },
  {
   "cell_type": "code",
   "execution_count": null,
   "metadata": {},
   "outputs": [],
   "source": [
    "x : float = math.exp(math.log(x+1))\n",
    "print(x)"
   ]
  },
  {
   "cell_type": "markdown",
   "metadata": {},
   "source": [
    "Almost anywhere you can put a value, you can put an arbitrary expression, with one exception:\n",
    "the left side of an assignment statement has to be a variable name. Any other\n",
    "expression on the left side is a syntax error (we will see exceptions to this rule later)."
   ]
  },
  {
   "cell_type": "code",
   "execution_count": 13,
   "metadata": {
    "slideshow": {
     "slide_type": "fragment"
    }
   },
   "outputs": [
    {
     "data": {
      "text/plain": [
       "120"
      ]
     },
     "execution_count": 13,
     "metadata": {},
     "output_type": "execute_result"
    }
   ],
   "source": [
    "hours : int = 2\n",
    "minutes : int = hours * 60 # correct\n",
    "\n",
    "minutes"
   ]
  },
  {
   "cell_type": "code",
   "execution_count": 14,
   "metadata": {
    "slideshow": {
     "slide_type": "fragment"
    }
   },
   "outputs": [
    {
     "ename": "SyntaxError",
     "evalue": "cannot assign to operator (<ipython-input-14-b453c0cedfc7>, line 1)",
     "output_type": "error",
     "traceback": [
      "\u001b[0;36m  File \u001b[0;32m\"<ipython-input-14-b453c0cedfc7>\"\u001b[0;36m, line \u001b[0;32m1\u001b[0m\n\u001b[0;31m    hours * 60 = minutes # wrong\u001b[0m\n\u001b[0m    ^\u001b[0m\n\u001b[0;31mSyntaxError\u001b[0m\u001b[0;31m:\u001b[0m cannot assign to operator\n"
     ]
    }
   ],
   "source": [
    "hours * 60 = minutes # wrong"
   ]
  },
  {
   "cell_type": "markdown",
   "metadata": {},
   "source": [
    "Furthermore, it is important to realise the order of execution. The arguments of\n",
    "functions are evaluated before the function is called. \n",
    "\n",
    "The arguments are evaluated\n",
    "from left to right. \n",
    "\n",
    "If in the arguments arithmetic operators, they are evaluated taking\n",
    "the priorities (PEDMAS) into consideration."
   ]
  },
  {
   "cell_type": "markdown",
   "metadata": {
    "jupyter": {
     "source_hidden": true
    },
    "tags": []
   },
   "source": [
    "```{admonition} Do It Yourself!\n",
    ":class: seealso, dropdown\n",
    "Re-write the program presented in the first cell of this section. Use functions composition to this aim.\n",
    "```"
   ]
  },
  {
   "cell_type": "code",
   "execution_count": null,
   "metadata": {
    "jupyter": {
     "source_hidden": true
    },
    "tags": []
   },
   "outputs": [],
   "source": [
    "# Remove this line and add your code here"
   ]
  },
  {
   "cell_type": "markdown",
   "metadata": {
    "slideshow": {
     "slide_type": "slide"
    }
   },
   "source": [
    "## Adding New Functions\n",
    "\n",
    "So far, we have only been using existing Python functions, but it is also possible\n",
    "to define your own functions. \n",
    "\n",
    "This allows you to capture computations in functions in order to reuse them later.\n",
    "Functions are the mechanism to facilitate reuse. \n",
    "\n",
    "A lot of programmers are lazy and use the principle of *copy-and-paste*. \n",
    "If they see a few lines of code that does the job, they copy and paste it, instead\n",
    "of creating a proper function. This behavior leads to *code clones* and code clones\n",
    "hamper maintenance in the long run. If it is one up to four statements it is fine, but\n",
    "if you copy and paste five or more statements please create a function.\n",
    "\n",
    "A **function definition** specifies the name of a new function and the\n",
    "sequence of statements that run when the function is called."
   ]
  },
  {
   "cell_type": "code",
   "execution_count": 15,
   "metadata": {
    "slideshow": {
     "slide_type": "fragment"
    }
   },
   "outputs": [
    {
     "name": "stdout",
     "output_type": "stream",
     "text": [
      "Hello\n"
     ]
    }
   ],
   "source": [
    "def print_hello():\n",
    "    print(\"Hello\")\n",
    "    \n",
    "print_hello()"
   ]
  },
  {
   "cell_type": "markdown",
   "metadata": {
    "slideshow": {
     "slide_type": "fragment"
    }
   },
   "source": [
    "`def` is the keyword that indicates that you defined a new function.\n",
    "\n",
    "The name of the new function, in this case, is `print_hello`."
   ]
  },
  {
   "cell_type": "markdown",
   "metadata": {},
   "source": [
    "````{margin}\n",
    "```{admonition} EXTRA\n",
    "The rules for function names are the same as for variable names: letters, numbers and underscore are legal, but the first character cannot be a number. \n",
    "```\n",
    "````"
   ]
  },
  {
   "cell_type": "markdown",
   "metadata": {},
   "source": [
    "You cannot use a keyword as the name of a function, and you should avoid having a variable and a function\n",
    "with the same name."
   ]
  },
  {
   "cell_type": "markdown",
   "metadata": {
    "slideshow": {
     "slide_type": "fragment"
    }
   },
   "source": [
    "The empty parentheses after the name indicate that this function does not take any arguments.\n",
    "\n",
    "The first line of the function definition is called the **header**; the rest is called the **body**. \n",
    "\n",
    "The header has to end with a colon and the body has to be indented. \n",
    "\n",
    "By convention, indentation is always four spaces. \n",
    "\n",
    "The body can contain any number of statements."
   ]
  },
  {
   "cell_type": "markdown",
   "metadata": {
    "slideshow": {
     "slide_type": "slide"
    }
   },
   "source": [
    "Defining a function creates a **function object**, which has type function:"
   ]
  },
  {
   "cell_type": "code",
   "execution_count": 16,
   "metadata": {
    "slideshow": {
     "slide_type": "fragment"
    }
   },
   "outputs": [
    {
     "name": "stdout",
     "output_type": "stream",
     "text": [
      "<function print_hello at 0x7f97c8da58b0>\n"
     ]
    }
   ],
   "source": [
    "print(print_hello)"
   ]
  },
  {
   "cell_type": "code",
   "execution_count": 17,
   "metadata": {
    "slideshow": {
     "slide_type": "fragment"
    }
   },
   "outputs": [
    {
     "data": {
      "text/plain": [
       "function"
      ]
     },
     "execution_count": 17,
     "metadata": {},
     "output_type": "execute_result"
    }
   ],
   "source": [
    "type(print_hello)"
   ]
  },
  {
   "cell_type": "code",
   "execution_count": 18,
   "metadata": {
    "slideshow": {
     "slide_type": "fragment"
    }
   },
   "outputs": [
    {
     "name": "stdout",
     "output_type": "stream",
     "text": [
      "Hello\n"
     ]
    }
   ],
   "source": [
    "print_hello()"
   ]
  },
  {
   "cell_type": "markdown",
   "metadata": {
    "slideshow": {
     "slide_type": "slide"
    }
   },
   "source": [
    "You can define another function `print_name`"
   ]
  },
  {
   "cell_type": "code",
   "execution_count": 19,
   "metadata": {
    "slideshow": {
     "slide_type": "fragment"
    }
   },
   "outputs": [
    {
     "name": "stdout",
     "output_type": "stream",
     "text": [
      "Data Scientists\n"
     ]
    }
   ],
   "source": [
    "def print_data_scientists():\n",
    "    print(\"Data Scientists\")\n",
    "    \n",
    "print_data_scientists()"
   ]
  },
  {
   "cell_type": "markdown",
   "metadata": {
    "slideshow": {
     "slide_type": "fragment"
    }
   },
   "source": [
    "You can define a new function `print_greeting` that calls the other 2 functions."
   ]
  },
  {
   "cell_type": "code",
   "execution_count": 20,
   "metadata": {
    "slideshow": {
     "slide_type": "fragment"
    }
   },
   "outputs": [],
   "source": [
    "def print_greeting():\n",
    "    print_hello()\n",
    "    print_data_scientists()"
   ]
  },
  {
   "cell_type": "code",
   "execution_count": 21,
   "metadata": {
    "slideshow": {
     "slide_type": "fragment"
    }
   },
   "outputs": [
    {
     "name": "stdout",
     "output_type": "stream",
     "text": [
      "Hello\n",
      "Data Scientists\n"
     ]
    }
   ],
   "source": [
    "print_greeting()"
   ]
  },
  {
   "cell_type": "markdown",
   "metadata": {
    "jupyter": {
     "source_hidden": true
    },
    "tags": []
   },
   "source": [
    "\n",
    "```{admonition} Do It Yourself!\n",
    ":class: seealso, dropdown\n",
    "Define the function `compute_area()` that computes the area of a circle. It takes an integer representing the radio of a circle as argument. The return value is the area of the circle.\n",
    "```"
   ]
  },
  {
   "cell_type": "code",
   "execution_count": null,
   "metadata": {
    "jupyter": {
     "source_hidden": true
    },
    "tags": []
   },
   "outputs": [],
   "source": [
    "# Remove this line and add your code here"
   ]
  },
  {
   "cell_type": "markdown",
   "metadata": {
    "slideshow": {
     "slide_type": "slide"
    }
   },
   "source": [
    "## docstring\n",
    "\n",
    "A **docstring** is a string at the beginning of a function that explains the interface (“doc” is\n",
    "short for “documentation”)."
   ]
  },
  {
   "cell_type": "code",
   "execution_count": 23,
   "metadata": {
    "slideshow": {
     "slide_type": "fragment"
    }
   },
   "outputs": [
    {
     "name": "stdout",
     "output_type": "stream",
     "text": [
      "1, 4, 9, 16, 25\n"
     ]
    }
   ],
   "source": [
    "def print_squares():\n",
    "    \"\"\" prints the squares of 1 up to 5\n",
    "        and it does not return a value.\n",
    "    \"\"\"\n",
    "    print(\"1, 4, 9, 16, 25\")\n",
    "    \n",
    "print_squares()"
   ]
  },
  {
   "cell_type": "markdown",
   "metadata": {
    "slideshow": {
     "slide_type": "fragment"
    }
   },
   "source": [
    "By convention, all docstrings are triple-quoted strings, also known as multiline strings\n",
    "because the triple quotes allow the string to span more than one line.\n",
    "\n",
    "It is concise, but it contains the essential information someone would need to use this function.\n",
    "\n",
    "It explains concisely what the function does (without getting into the details of how\n",
    "it does it). \n",
    "\n",
    "It explains what effect each parameter has on the behavior of the function and\n",
    "what type each parameter should be (if it is not obvious).\n",
    "\n",
    "Writing this kind of documentation is an important part of interface design. \n",
    "\n",
    "A well designed interface should be simple to explain; if you have a hard time explaining one\n",
    "of your functions, maybe the interface could be improved."
   ]
  },
  {
   "cell_type": "code",
   "execution_count": 25,
   "metadata": {
    "slideshow": {
     "slide_type": "fragment"
    }
   },
   "outputs": [
    {
     "name": "stdout",
     "output_type": "stream",
     "text": [
      "1\n",
      "4\n",
      "9\n",
      "16\n",
      "25\n"
     ]
    }
   ],
   "source": [
    "def print_squares():\n",
    "    \"\"\" prints the squares of 1 up to 5.\n",
    "    \"\"\"\n",
    "    i : int = 1\n",
    "        \n",
    "    while i < 6:\n",
    "        print(i**2)\n",
    "        i += 1\n",
    "        \n",
    "print_squares()"
   ]
  },
  {
   "cell_type": "markdown",
   "metadata": {
    "slideshow": {
     "slide_type": "slide"
    }
   },
   "source": [
    "## Definitions and Uses\n",
    "\n",
    "Pulling together the code fragments from the previous section, you get the following program."
   ]
  },
  {
   "cell_type": "code",
   "execution_count": null,
   "metadata": {
    "slideshow": {
     "slide_type": "fragment"
    }
   },
   "outputs": [],
   "source": [
    "def print_data_scientists():\n",
    "    print(\"Data Scientists\")\n",
    "    \n",
    "def print_hello():\n",
    "    print(\"Hello\")\n",
    "    \n",
    "def print_greeting():\n",
    "    print_hello()\n",
    "    print_data_scientists()\n",
    "    \n",
    "print_greeting()"
   ]
  },
  {
   "cell_type": "markdown",
   "metadata": {
    "slideshow": {
     "slide_type": "fragment"
    }
   },
   "source": [
    "This program contains three function definitions: `print_hello`, `print_data_scientists` and `print_greeting`.\n",
    "\n",
    "Function definitions get executed just like other statements, but the effect is that function objects are created. \n",
    "\n",
    "The statements inside the function do not run until the function is called, and the\n",
    "function definition generates no output.\n",
    "\n",
    "You need to define a function before you can run it."
   ]
  },
  {
   "cell_type": "markdown",
   "metadata": {
    "jupyter": {
     "source_hidden": true
    },
    "tags": []
   },
   "source": [
    "```{admonition} Do It Yourself!\n",
    ":class: seealso, dropdown\n",
    " Define a new function `print_bye()` that prints the word \"Bye\". Then define another function `print_all()` that uses twice the `print_hello()` function, once the `print_data_scientists()` function, and twice the `print_bye` function in that order.\n",
    "```"
   ]
  },
  {
   "cell_type": "code",
   "execution_count": null,
   "metadata": {
    "jupyter": {
     "source_hidden": true
    },
    "tags": []
   },
   "outputs": [],
   "source": [
    "# Remove this line and add your code here"
   ]
  },
  {
   "cell_type": "markdown",
   "metadata": {},
   "source": [
    "````{margin}\n",
    "```{admonition} EXTRA\n",
    "This is also the case in the Jupyter notebooks. If you forget to execute a *cell* than variables and functions defined in that cell are not available in later cells.\n",
    "```\n",
    "````"
   ]
  },
  {
   "cell_type": "markdown",
   "metadata": {},
   "source": [
    "## Parameters and Arguments\n",
    "\n",
    "Some of the functions require arguments. For instance, `math.sin` requires a number as argument.\n",
    "\n",
    "Some functions take more than one argument. For instance, `math.pow` takes the base and exponent as arguments.\n",
    "\n",
    "Inside the function, the arguments are assigned to variables called **parameters**."
   ]
  },
  {
   "cell_type": "markdown",
   "metadata": {},
   "source": [
    "````{margin}\n",
    "```{admonition} EXTRA\n",
    "Python is a *dynamically typed language*, this means that the Python interpreter computes the types of variables and arguments.\n",
    "```\n",
    "````"
   ]
  },
  {
   "cell_type": "markdown",
   "metadata": {},
   "source": [
    "Python does not require to add types to the function arguments.\n",
    "\n",
    "In this course, you are **required** to provide the types of the arguments of a function explicitly by means of *type hints* when they are known in advance! "
   ]
  },
  {
   "cell_type": "code",
   "execution_count": 26,
   "metadata": {
    "slideshow": {
     "slide_type": "fragment"
    }
   },
   "outputs": [],
   "source": [
    "def print_text_twice(text_arg : str):\n",
    "    print(text_arg)\n",
    "    print(text_arg)"
   ]
  },
  {
   "cell_type": "markdown",
   "metadata": {
    "slideshow": {
     "slide_type": "slide"
    }
   },
   "source": [
    "Currently Python does not use the type hints, but who knows...\n",
    "\n",
    "In the next cell we do not know the type of the arguments, so we  provide the type `any`."
   ]
  },
  {
   "cell_type": "code",
   "execution_count": 27,
   "metadata": {
    "slideshow": {
     "slide_type": "fragment"
    }
   },
   "outputs": [],
   "source": [
    "def print_twice(text_arg : any):\n",
    "    print(text_arg)\n",
    "    print(text_arg)"
   ]
  },
  {
   "cell_type": "markdown",
   "metadata": {
    "slideshow": {
     "slide_type": "fragment"
    }
   },
   "source": [
    "The function `print_twice` assigns the argument to a parameter named `text_arg`. \n",
    "\n",
    "When the function is called, it prints the value of the parameter (whatever it is) twice.\n",
    "\n",
    "This function works with any value that can be printed."
   ]
  },
  {
   "cell_type": "code",
   "execution_count": 28,
   "metadata": {
    "slideshow": {
     "slide_type": "fragment"
    }
   },
   "outputs": [
    {
     "name": "stdout",
     "output_type": "stream",
     "text": [
      "42\n",
      "42\n"
     ]
    }
   ],
   "source": [
    "print_twice(42)"
   ]
  },
  {
   "cell_type": "code",
   "execution_count": 29,
   "metadata": {
    "slideshow": {
     "slide_type": "fragment"
    }
   },
   "outputs": [
    {
     "name": "stdout",
     "output_type": "stream",
     "text": [
      "3.141592653589793\n",
      "3.141592653589793\n"
     ]
    }
   ],
   "source": [
    "print_twice(math.pi)"
   ]
  },
  {
   "cell_type": "code",
   "execution_count": 30,
   "metadata": {
    "slideshow": {
     "slide_type": "fragment"
    }
   },
   "outputs": [
    {
     "name": "stdout",
     "output_type": "stream",
     "text": [
      "Data Science Data Science Data Science Data Science Data Science Data Science \n",
      "Data Science Data Science Data Science Data Science Data Science Data Science \n"
     ]
    }
   ],
   "source": [
    "print_twice('Data Science ' * 6)"
   ]
  },
  {
   "cell_type": "markdown",
   "metadata": {
    "slideshow": {
     "slide_type": "fragment"
    }
   },
   "source": [
    "The argument is always evaluated before the function is called, so in the example, the expression `'Data Science ' * 6` is only evaluated once.\n",
    "\n",
    "It is also possible to pass a variable as argument to a function parameter.\n",
    "\n",
    "The name of the variable is independent of the name of the argument."
   ]
  },
  {
   "cell_type": "code",
   "execution_count": 31,
   "metadata": {
    "slideshow": {
     "slide_type": "fragment"
    }
   },
   "outputs": [
    {
     "name": "stdout",
     "output_type": "stream",
     "text": [
      "Computer Science\n",
      "Computer Science\n"
     ]
    }
   ],
   "source": [
    "cs_str : str = 'Computer Science'\n",
    "\n",
    "print_twice(cs_str)"
   ]
  },
  {
   "cell_type": "markdown",
   "metadata": {
    "slideshow": {
     "slide_type": "slide"
    }
   },
   "source": [
    "## Variables and Parameters\n",
    "\n",
    "It is possible to create a local variable inside a function, which means that it only exists inside the function."
   ]
  },
  {
   "cell_type": "code",
   "execution_count": 32,
   "metadata": {
    "slideshow": {
     "slide_type": "fragment"
    }
   },
   "outputs": [
    {
     "name": "stdout",
     "output_type": "stream",
     "text": [
      "Data Science\n",
      "Data Science\n"
     ]
    }
   ],
   "source": [
    "def concat(part1 : str, part2 : str):\n",
    "    cc_result : str = part1 + part2\n",
    "    print_twice(cc_result)\n",
    "    \n",
    "concat('Data ', 'Science')"
   ]
  },
  {
   "cell_type": "markdown",
   "metadata": {
    "slideshow": {
     "slide_type": "fragment"
    }
   },
   "source": [
    "You cannot use the local variables outside the function."
   ]
  },
  {
   "cell_type": "code",
   "execution_count": 33,
   "metadata": {
    "slideshow": {
     "slide_type": "fragment"
    }
   },
   "outputs": [
    {
     "ename": "NameError",
     "evalue": "name 'cc_result' is not defined",
     "output_type": "error",
     "traceback": [
      "\u001b[0;31m---------------------------------------------------------------------------\u001b[0m",
      "\u001b[0;31mNameError\u001b[0m                                 Traceback (most recent call last)",
      "\u001b[0;32m<ipython-input-33-f3e4a32aa7df>\u001b[0m in \u001b[0;36m<module>\u001b[0;34m\u001b[0m\n\u001b[0;32m----> 1\u001b[0;31m \u001b[0mprint\u001b[0m\u001b[0;34m(\u001b[0m\u001b[0mcc_result\u001b[0m\u001b[0;34m)\u001b[0m\u001b[0;34m\u001b[0m\u001b[0;34m\u001b[0m\u001b[0m\n\u001b[0m",
      "\u001b[0;31mNameError\u001b[0m: name 'cc_result' is not defined"
     ]
    }
   ],
   "source": [
    "print(cc_result)"
   ]
  },
  {
   "cell_type": "markdown",
   "metadata": {
    "slideshow": {
     "slide_type": "fragment"
    }
   },
   "source": [
    "Local variables and parameters are invisible outside the function."
   ]
  },
  {
   "cell_type": "code",
   "execution_count": 35,
   "metadata": {
    "slideshow": {
     "slide_type": "fragment"
    }
   },
   "outputs": [
    {
     "ename": "NameError",
     "evalue": "name 'part1' is not defined",
     "output_type": "error",
     "traceback": [
      "\u001b[0;31m---------------------------------------------------------------------------\u001b[0m",
      "\u001b[0;31mNameError\u001b[0m                                 Traceback (most recent call last)",
      "\u001b[0;32m<ipython-input-35-5d1036bfc0b1>\u001b[0m in \u001b[0;36m<module>\u001b[0;34m\u001b[0m\n\u001b[0;32m----> 1\u001b[0;31m \u001b[0mprint\u001b[0m\u001b[0;34m(\u001b[0m\u001b[0mpart1\u001b[0m\u001b[0;34m)\u001b[0m\u001b[0;34m\u001b[0m\u001b[0;34m\u001b[0m\u001b[0m\n\u001b[0m",
      "\u001b[0;31mNameError\u001b[0m: name 'part1' is not defined"
     ]
    }
   ],
   "source": [
    "print(part1)"
   ]
  },
  {
   "cell_type": "markdown",
   "metadata": {
    "tags": []
   },
   "source": [
    "\n",
    "Which value will the following code print?\n"
   ]
  },
  {
   "cell_type": "code",
   "execution_count": 36,
   "metadata": {
    "tags": []
   },
   "outputs": [
    {
     "name": "stdout",
     "output_type": "stream",
     "text": [
      "Hello!\n"
     ]
    }
   ],
   "source": [
    "greeting : str = \"Hello!\"\n",
    "\n",
    "def print_greeting():\n",
    "    greeting : str = \"Hoi!\"\n",
    "    \n",
    "print(greeting)"
   ]
  },
  {
   "cell_type": "markdown",
   "metadata": {
    "slideshow": {
     "slide_type": "slide"
    }
   },
   "source": [
    "## Fruitful Functions and Void Functions\n",
    "\n",
    "In \"normal\" programming language parlance a **fruitful function** is a **function** and a\n",
    "**void function** is a **procedure**. \n",
    "\n",
    "In Python both **function** and **procedure** are called **function**. \n",
    "\n",
    "A **fruitful function** is a function that returns a result. From now on, we will add the return type to the function definition via `-> type`.\n",
    "\n",
    "A **void function** is a function that returns nothing."
   ]
  },
  {
   "cell_type": "code",
   "execution_count": 37,
   "metadata": {
    "slideshow": {
     "slide_type": "fragment"
    }
   },
   "outputs": [
    {
     "data": {
      "text/plain": [
       "2.23606797749979"
      ]
     },
     "execution_count": 37,
     "metadata": {},
     "output_type": "execute_result"
    }
   ],
   "source": [
    "import math\n",
    "math.sqrt(5)"
   ]
  },
  {
   "cell_type": "markdown",
   "metadata": {
    "slideshow": {
     "slide_type": "fragment"
    }
   },
   "source": [
    "In order to \"capture\" the value you have to assign the result of the function to a variable."
   ]
  },
  {
   "cell_type": "code",
   "execution_count": 38,
   "metadata": {
    "slideshow": {
     "slide_type": "fragment"
    }
   },
   "outputs": [
    {
     "name": "stdout",
     "output_type": "stream",
     "text": [
      "2.23606797749979\n"
     ]
    }
   ],
   "source": [
    "result : float = math.sqrt(5)\n",
    "print(result)"
   ]
  },
  {
   "cell_type": "markdown",
   "metadata": {
    "slideshow": {
     "slide_type": "fragment"
    }
   },
   "source": [
    "Void functions might display something on the screen or have some other effect, but they\n",
    "do not have a return value. \n",
    "\n",
    "So, it makes no sense to call a void function in the right hand side of an assignment statement.\n",
    "\n",
    "If you assign the result to a variable, you get a special value\n",
    "called `None`."
   ]
  },
  {
   "cell_type": "code",
   "execution_count": 39,
   "metadata": {
    "slideshow": {
     "slide_type": "fragment"
    }
   },
   "outputs": [
    {
     "name": "stdout",
     "output_type": "stream",
     "text": [
      "Artifial Intelligence\n",
      "Artifial Intelligence\n"
     ]
    }
   ],
   "source": [
    "ai : str = print_twice('Artifial Intelligence')"
   ]
  },
  {
   "cell_type": "code",
   "execution_count": 40,
   "metadata": {
    "slideshow": {
     "slide_type": "fragment"
    }
   },
   "outputs": [
    {
     "name": "stdout",
     "output_type": "stream",
     "text": [
      "None\n"
     ]
    }
   ],
   "source": [
    "print(ai)"
   ]
  },
  {
   "cell_type": "markdown",
   "metadata": {
    "jupyter": {
     "source_hidden": true
    },
    "tags": []
   },
   "source": [
    "```{admonition} Do It Yourself!\n",
    ":class: seealso, dropdown\n",
    "Identify the fruitful and the void function.\n",
    "```"
   ]
  },
  {
   "cell_type": "code",
   "execution_count": null,
   "metadata": {
    "jupyter": {
     "source_hidden": true
    },
    "tags": []
   },
   "outputs": [],
   "source": [
    "def sum(x: int, y: int) -> int:\n",
    "    return x + y\n",
    "\n",
    "print(sum(1, 2))"
   ]
  },
  {
   "cell_type": "code",
   "execution_count": null,
   "metadata": {
    "jupyter": {
     "source_hidden": true
    },
    "tags": []
   },
   "outputs": [],
   "source": [
    "def sum(x: int, y: int) -> None:\n",
    "    print(x + y)\n",
    "\n",
    "sum(1, 2)"
   ]
  },
  {
   "cell_type": "markdown",
   "metadata": {
    "slideshow": {
     "slide_type": "slide"
    }
   },
   "source": [
    "## Boolean Functions\n",
    "\n",
    "So far, we have seen **fruitful functions** returning integer and floating-point values.\n",
    "\n",
    "Functions can also return booleans."
   ]
  },
  {
   "cell_type": "code",
   "execution_count": 41,
   "metadata": {
    "slideshow": {
     "slide_type": "fragment"
    }
   },
   "outputs": [
    {
     "name": "stdout",
     "output_type": "stream",
     "text": [
      "0\n"
     ]
    },
    {
     "data": {
      "text/plain": [
       "True"
      ]
     },
     "execution_count": 41,
     "metadata": {},
     "output_type": "execute_result"
    }
   ],
   "source": [
    "def is_divisible(x : int, y : int) -> bool:\n",
    "    \"\"\"calculates whether x is divisible by y\"\"\"\n",
    "    \n",
    "    print(x % y)\n",
    "    if x % y == 0:\n",
    "        return True\n",
    "    else:\n",
    "        return False\n",
    "    \n",
    "is_divisible(6, 3)"
   ]
  },
  {
   "cell_type": "markdown",
   "metadata": {
    "slideshow": {
     "slide_type": "fragment"
    }
   },
   "source": [
    "The result of the `==` operator is a boolean, so the `is_divisible` function can be more concise."
   ]
  },
  {
   "cell_type": "code",
   "execution_count": 42,
   "metadata": {
    "slideshow": {
     "slide_type": "fragment"
    }
   },
   "outputs": [
    {
     "data": {
      "text/plain": [
       "True"
      ]
     },
     "execution_count": 42,
     "metadata": {},
     "output_type": "execute_result"
    }
   ],
   "source": [
    "def is_divisible(x : int, y : int) -> bool:\n",
    "    \"\"\"caculates whether x is divisible by y\"\"\"\n",
    "    \n",
    "    return x % y == 0\n",
    "\n",
    "is_divisible(6, 3)"
   ]
  },
  {
   "cell_type": "markdown",
   "metadata": {
    "slideshow": {
     "slide_type": "fragment"
    }
   },
   "source": [
    "Functions return boolean values can be used in conditional expressions."
   ]
  },
  {
   "cell_type": "code",
   "execution_count": 43,
   "metadata": {
    "slideshow": {
     "slide_type": "fragment"
    }
   },
   "outputs": [
    {
     "name": "stdout",
     "output_type": "stream",
     "text": [
      "x is divisible by y\n"
     ]
    }
   ],
   "source": [
    "x : int = 10\n",
    "y : int = 5\n",
    "if is_divisible(x, y):\n",
    "    print('x is divisible by y')"
   ]
  },
  {
   "cell_type": "markdown",
   "metadata": {
    "slideshow": {
     "slide_type": "fragment"
    }
   },
   "source": [
    "It is not neccesary to have to write the conditional expression as `is_divisible(x, y) == True`."
   ]
  },
  {
   "cell_type": "markdown",
   "metadata": {
    "jupyter": {
     "source_hidden": true
    },
    "tags": []
   },
   "source": [
    "```{admonition} Do It Yourself!\n",
    ":class: seealso, dropdown\n",
    "Create a function that checks if a number is greater than another number. Use it in an if statement. If the number is greater print the message \"*num1* is greater than *num2*\", otherwise print \"*num1* is equal or less than *num2*\".\n",
    "```"
   ]
  },
  {
   "cell_type": "code",
   "execution_count": null,
   "metadata": {
    "jupyter": {
     "source_hidden": true
    },
    "tags": []
   },
   "outputs": [],
   "source": [
    "# Remove this line and add your code here"
   ]
  },
  {
   "cell_type": "markdown",
   "metadata": {
    "slideshow": {
     "slide_type": "slide"
    }
   },
   "source": [
    "## Return Values\n",
    "\n",
    "Many functions in Python, such as the math functions, produce return values.\n",
    "\n",
    "The functions that do not return a value, and are so-called `void` functions.\n",
    "\n",
    "If we want to use the result of a function call in an expression, the function has to return a value.\n",
    "\n",
    "The first example is the function `area`, which returns the area of a circle with the given radius:"
   ]
  },
  {
   "cell_type": "code",
   "execution_count": 44,
   "metadata": {
    "slideshow": {
     "slide_type": "fragment"
    }
   },
   "outputs": [
    {
     "name": "stdout",
     "output_type": "stream",
     "text": [
      "78.53981633974483\n"
     ]
    }
   ],
   "source": [
    "import math\n",
    "\n",
    "def area(radius : int) -> float:\n",
    "    \"\"\"calculates the size of a circle given its radius\n",
    "    \"\"\"\n",
    "    \n",
    "    sz : float = math.pi * radius**2\n",
    "    return sz\n",
    "\n",
    "size : float = area(5)\n",
    "print(size)"
   ]
  },
  {
   "cell_type": "markdown",
   "metadata": {
    "slideshow": {
     "slide_type": "fragment"
    }
   },
   "source": [
    "We have seen the `return` statement before, but in a fruitful function the return statement\n",
    "includes an expression. \n",
    "\n",
    "This statement means: “Return immediately from this function\n",
    "and use the following expression as a return value.” \n",
    "\n",
    "The expression can be arbitrarily\n",
    "complicated, so we could have written this function more concisely:"
   ]
  },
  {
   "cell_type": "code",
   "execution_count": 45,
   "metadata": {
    "slideshow": {
     "slide_type": "fragment"
    }
   },
   "outputs": [
    {
     "name": "stdout",
     "output_type": "stream",
     "text": [
      "78.53981633974483\n"
     ]
    }
   ],
   "source": [
    "def area(radius : int) -> float:\n",
    "    \"\"\"calculates the size of a circle given its radius\n",
    "    \"\"\"\n",
    "    return math.pi * radius**2\n",
    "\n",
    "print(area(5))"
   ]
  },
  {
   "cell_type": "markdown",
   "metadata": {
    "slideshow": {
     "slide_type": "fragment"
    }
   },
   "source": [
    "````{margin}\n",
    "```{admonition} EXTRA\n",
    "**Temporary variables** makes debugging a function more easy. You can print intermediate results.\n",
    "```\n",
    "````"
   ]
  },
  {
   "cell_type": "markdown",
   "metadata": {},
   "source": [
    "\n",
    "Sometimes it is useful to have multiple return statements, one in each branch of a conditional.\n",
    "\n",
    "Some programmers, and I am one of them, have a different opinion, they claim that for understandability it is better to have just one `return` statement in a function."
   ]
  },
  {
   "cell_type": "code",
   "execution_count": 46,
   "metadata": {
    "slideshow": {
     "slide_type": "fragment"
    }
   },
   "outputs": [
    {
     "name": "stdout",
     "output_type": "stream",
     "text": [
      "10\n"
     ]
    }
   ],
   "source": [
    "def absolute_value(x : int) -> int:\n",
    "    \"\"\"transforms a negative value into a positive value\n",
    "    \"\"\"\n",
    "    \n",
    "    if x < 0:\n",
    "        return -x\n",
    "    else:\n",
    "        return x\n",
    "    \n",
    "\n",
    "y = absolute_value(-10)\n",
    "print(y)"
   ]
  },
  {
   "cell_type": "markdown",
   "metadata": {
    "slideshow": {
     "slide_type": "fragment"
    }
   },
   "source": [
    "Since these `return` statements are in different branches of the condition, only one branch is executed.\n",
    "\n",
    "As soon as a `return` statement is executed, the function terminates without executing any following statements. \n",
    "\n",
    "Statements that appear after a return statement, or any other place the flow\n",
    "of execution cannot reach, is called **dead code**.\n",
    "\n",
    "In a fruitful function, it is a good idea to ensure that every possible path through the program hits a `return` statement"
   ]
  },
  {
   "cell_type": "code",
   "execution_count": 49,
   "metadata": {
    "slideshow": {
     "slide_type": "fragment"
    }
   },
   "outputs": [
    {
     "name": "stdout",
     "output_type": "stream",
     "text": [
      "20\n"
     ]
    }
   ],
   "source": [
    "def absolute_value(x : int) -> int:\n",
    "    \"\"\"transforms a negative value into a positive value\n",
    "    \"\"\"\n",
    "    if x < 0:\n",
    "        return -x\n",
    "    if x > 0:\n",
    "        return x\n",
    "    \n",
    "x = absolute_value(-10)\n",
    "print(x+x)"
   ]
  },
  {
   "cell_type": "markdown",
   "metadata": {
    "slideshow": {
     "slide_type": "fragment"
    }
   },
   "source": [
    "This function is incorrect because if `x` happens to be `0`, neither condition is `True`, and the\n",
    "function ends without reaching a `return` statement.\n",
    "\n",
    "If the flow of execution gets to the end of a function, the return value is `None`, which is not the absolute value of 0."
   ]
  },
  {
   "cell_type": "code",
   "execution_count": null,
   "metadata": {
    "slideshow": {
     "slide_type": "fragment"
    }
   },
   "outputs": [],
   "source": [
    "val : int = absolute_value(0)\n",
    "print(val)"
   ]
  },
  {
   "cell_type": "markdown",
   "metadata": {
    "slideshow": {
     "slide_type": "slide"
    }
   },
   "source": [
    "## Function Composition\n",
    "\n",
    "Let's see an example of function composition.\n",
    "\n",
    "Suppose you want to develop a function that calculates the area of a circle based on the center\n",
    "of the circle and a point on the perimeter.\n",
    "\n",
    "Suppose the center point of the circle is `(xc, yc)` and the point on the perimeter is `(xp, yp)`.\n",
    "\n",
    "The first step is to calculate the radius of the circle.\n",
    "\n",
    "We have created the two relevant functions `distance` and `circle_area`."
   ]
  },
  {
   "cell_type": "code",
   "execution_count": 50,
   "metadata": {
    "slideshow": {
     "slide_type": "fragment"
    }
   },
   "outputs": [
    {
     "data": {
      "text/plain": [
       "56.54866776461626"
      ]
     },
     "execution_count": 50,
     "metadata": {},
     "output_type": "execute_result"
    }
   ],
   "source": [
    "def distance(x1 : int, y1 : int, x2 : int, y2 : int) -> float:\n",
    "    \"\"\"calculates the distance between 2 2-dimensional point\n",
    "    \"\"\"\n",
    "    \n",
    "    dx : int = x2 - x1\n",
    "    dy : int = y2 - y1\n",
    "    dsquared : int = dx**2 + dy**2\n",
    "    result : float = math.sqrt(dsquared)\n",
    "    \n",
    "    return result\n",
    "\n",
    "def circle_area(xc : int, yc : int, xp : int, yp : int) -> float:\n",
    "    \"\"\"calculates the area of a circle based on the center and\n",
    "    a point on the circle\"\"\"\n",
    "    radius : float = distance(xc, yc, xp, yp)\n",
    "    result : float = area(radius)\n",
    "    return result\n",
    "\n",
    "circle_area(1, 3, 4, 6)"
   ]
  },
  {
   "cell_type": "markdown",
   "metadata": {
    "slideshow": {
     "slide_type": "fragment"
    }
   },
   "source": [
    "The `circle_area` function can be refactor in order to get rid of the local variables."
   ]
  },
  {
   "cell_type": "code",
   "execution_count": null,
   "metadata": {
    "slideshow": {
     "slide_type": "fragment"
    }
   },
   "outputs": [],
   "source": [
    "def circle_area(xc : int, yc : int, xp : int, yp : int) -> float:\n",
    "    \"\"\"calculates the area of a circle based on the center and\n",
    "    a point on the circle\"\"\"\n",
    "    \n",
    "    return area(distance(xc, yc, xp, yp))\n",
    "\n",
    "circle_area(1, 3, 4, 6)"
   ]
  },
  {
   "cell_type": "markdown",
   "metadata": {
    "slideshow": {
     "slide_type": "slide"
    }
   },
   "source": [
    "## Checking Arguments\n",
    "\n",
    "When calling a function we have to ensure that the arguments that we pass to the function are 'correct'.\n",
    "\n",
    "Therefore, it is necessary to write auxilary code to perform some checking on the arguments,\n",
    "to ensure that the given argument does not lead to unwanted behaviour."
   ]
  },
  {
   "cell_type": "code",
   "execution_count": 56,
   "metadata": {},
   "outputs": [],
   "source": [
    "def countdown(nr : int) -> None:\n",
    "    \"\"\"print numbers in a decreasing order\"\"\"\n",
    "    while (nr != 0):\n",
    "        print(nr)\n",
    "        nr -= 1\n",
    "    print(\"Done!\")"
   ]
  },
  {
   "cell_type": "code",
   "execution_count": 57,
   "metadata": {
    "slideshow": {
     "slide_type": "fragment"
    }
   },
   "outputs": [
    {
     "name": "stdout",
     "output_type": "stream",
     "text": [
      "15\n",
      "14\n",
      "13\n",
      "12\n",
      "11\n",
      "10\n",
      "9\n",
      "8\n",
      "7\n",
      "6\n",
      "5\n",
      "4\n",
      "3\n",
      "2\n",
      "1\n",
      "Done!\n"
     ]
    }
   ],
   "source": [
    "countdown(15)"
   ]
  },
  {
   "cell_type": "code",
   "execution_count": null,
   "metadata": {
    "slideshow": {
     "slide_type": "fragment"
    }
   },
   "outputs": [],
   "source": [
    "countdown(-15)"
   ]
  },
  {
   "cell_type": "code",
   "execution_count": null,
   "metadata": {
    "slideshow": {
     "slide_type": "fragment"
    }
   },
   "outputs": [],
   "source": [
    "countdown(1.5)"
   ]
  },
  {
   "cell_type": "markdown",
   "metadata": {
    "slideshow": {
     "slide_type": "fragment"
    }
   },
   "source": [
    "It looks like an infinite computation. How can that be? The function has a condition—when \n",
    "`n != 0`. But if `n` is not an integer or negative, the condition will never be met.\n",
    "\n",
    "From there, it gets smaller (more negative), but it will never be 0.\n",
    "\n",
    "We can solve this problem by checking the type of the argument of `countdown` function. "
   ]
  },
  {
   "cell_type": "code",
   "execution_count": 58,
   "metadata": {
    "slideshow": {
     "slide_type": "fragment"
    }
   },
   "outputs": [],
   "source": [
    "def countdown(nr : int) -> None:\n",
    "    \"\"\"print numbers in a decreasing order\"\"\"\n",
    "    \n",
    "    if not isinstance(nr, int):\n",
    "        print('countdown is only defined for integers.')\n",
    "    elif nr < 0:\n",
    "        print('countdown is not defined for negative integers.')\n",
    "    else:\n",
    "        while (nr != 0):\n",
    "            print(nr)\n",
    "            nr -= 1\n",
    "    print(\"Done!\")"
   ]
  },
  {
   "cell_type": "code",
   "execution_count": 59,
   "metadata": {},
   "outputs": [
    {
     "name": "stdout",
     "output_type": "stream",
     "text": [
      "countdown is only defined for integers.\n",
      "Done!\n"
     ]
    }
   ],
   "source": [
    "countdown(-1.5)"
   ]
  },
  {
   "cell_type": "markdown",
   "metadata": {
    "slideshow": {
     "slide_type": "fragment"
    }
   },
   "source": [
    "The first condition handles non-integers; the second handles negative integers. In both\n",
    "conditions, the program prints an error message to indicate that something\n",
    "went wrong.\n",
    "\n",
    "This program demonstrates the guardin pattern. The first two conditionals\n",
    "act as guardians, protecting the code that follows from values that might cause an\n",
    "error. \n",
    "\n",
    "The guardians make it possible to prove the correctness of the code."
   ]
  }
 ],
 "metadata": {
  "anaconda-cloud": {},
  "kernelspec": {
   "display_name": "Python 3 (ipykernel)",
   "language": "python",
   "name": "python3"
  },
  "language_info": {
   "codemirror_mode": {
    "name": "ipython",
    "version": 3
   },
   "file_extension": ".py",
   "mimetype": "text/x-python",
   "name": "python",
   "nbconvert_exporter": "python",
   "pygments_lexer": "ipython3",
   "version": "3.9.5"
  },
  "vscode": {
   "interpreter": {
    "hash": "31f2aee4e71d21fbe5cf8b01ff0e069b9275f58929596ceb00d14d90e3e16cd6"
   }
  }
 },
 "nbformat": 4,
 "nbformat_minor": 4
}
