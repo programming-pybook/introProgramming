{
 "cells": [
  {
   "cell_type": "markdown",
   "metadata": {},
   "source": [
    "# Pandas DataFrames\n",
    "\n",
    "This Jupyter Notebook is based on Chapter 3 of the book \"Python Data Science Handbook\" by Jake VannderPlas."
   ]
  },
  {
   "cell_type": "markdown",
   "metadata": {},
   "source": [
    "_(c) 2021, Lina Ochoa Venegas, Eindhoven University of Technology_"
   ]
  },
  {
   "cell_type": "markdown",
   "metadata": {},
   "source": [
    "## Table of Contents\n",
    "\n",
    "* [1. Introduction](#introduction) \n",
    "* [2. The Series Object](#series)  \n",
    "* [3. The DataFrame Object](#dataframe)  \n",
    "* [4. The Index Object](#index)\n",
    "* [5. Indexing and Selection](#indexing)"
   ]
  },
  {
   "cell_type": "code",
   "execution_count": null,
   "metadata": {},
   "outputs": [],
   "source": [
    "import numpy as np"
   ]
  },
  {
   "cell_type": "markdown",
   "metadata": {},
   "source": [
    "## 1. Introduction <a class=\"anchor\" id=\"introduction\"></a>\n",
    "\n",
    "Pandas is one of the most important data science-oriented libraries. It is built atop NumPy. One of its most important contributions is an efficient implementation of a data frame. A `DataFrame` is a multi-dimensional array (just as NumPy multi-dimensional arrays) with additional information (e.g. labels) and support for heterogeneous data (e.g. different types, missing data). Besides the `DataFrame` data type, Pandas also offers two other important structures, namely `Series` and `Index`. We will dive into these three different structures and some basic operations along with this chapter."
   ]
  },
  {
   "cell_type": "markdown",
   "metadata": {},
   "source": [
    "To start using NumPy you need to add the following code."
   ]
  },
  {
   "cell_type": "code",
   "execution_count": null,
   "metadata": {},
   "outputs": [],
   "source": [
    "import pandas as pd"
   ]
  },
  {
   "cell_type": "markdown",
   "metadata": {},
   "source": [
    "By convention, the `pandas` module is renamed to `pd`, so your code is less verbose."
   ]
  },
  {
   "cell_type": "markdown",
   "metadata": {},
   "source": [
    "## 2. The `Series` Object <a class=\"anchor\" id=\"series\"></a>\n",
    "\n",
    "A Pandas `Series` is a one-dimensional indexed array. It is like having the NumPy array but with an extra structure that saves the indices of the items in the array independently. Now, it does not mean that the NumPy array does not have an index–without it, we would not be able to access its items–; what it truly means is that the `Series` object handles the index in an independent and different way as of the one of the NumPy array.\n",
    "\n",
    "A `Series` object can be created out from a sequence of values, a dictionary, or an array as follows. (The type of the items in the array–`dtype`–are printed after the `Series` object is printed.)"
   ]
  },
  {
   "cell_type": "code",
   "execution_count": null,
   "metadata": {},
   "outputs": [],
   "source": [
    "# Create a Series object out from a Python sequence\n",
    "vowels: pd.Series = pd.Series(['a', 'e', 'i', 'o', 'u'])\n",
    "vowels"
   ]
  },
  {
   "cell_type": "code",
   "execution_count": null,
   "metadata": {},
   "outputs": [],
   "source": [
    "# Create a Series object out from a Python dictionary\n",
    "municipalities: dict = {\n",
    "    'drenthe': 12,\n",
    "    'flevoland': 6,\n",
    "    'friesland': 18,\n",
    "    'gelderland': 51,\n",
    "    'groningen': 10,\n",
    "    'limburg': 31,\n",
    "    'noord-brabant': 61,\n",
    "    'noord-holland': 47,\n",
    "    'overijssel': 25,\n",
    "    'zuid-holland': 52,\n",
    "    'utrecht': 26,\n",
    "    'zeeland': 13\n",
    "}\n",
    "\n",
    "provinces: pd.Series = pd.Series(municipalities)\n",
    "provinces"
   ]
  },
  {
   "cell_type": "code",
   "execution_count": null,
   "metadata": {},
   "outputs": [],
   "source": [
    "# Create a Series object out from a NumPy array\n",
    "rand: pd.Series = pd.Series(np.random.random(8))\n",
    "rand"
   ]
  },
  {
   "cell_type": "markdown",
   "metadata": {},
   "source": [
    "Notice that each value in the one-dimensional array is placed in front of an integer or string value. In the case of the `vowels` and `rand` variables, the integer values range between `0` and `n - 1`, where `n` is the number of items in the array. In the case of the `provinces` variable, we have string values representing the keys of the dictionary. The sequence of these values–in the three cases–is what we know as the index array of the `Series` object.\n",
    "\n",
    "To access the values of the `Series` we can use the `values` attribute, and the `index` attribute to access the index array."
   ]
  },
  {
   "cell_type": "code",
   "execution_count": null,
   "metadata": {},
   "outputs": [],
   "source": [
    "# Access only the values of the Series object\n",
    "vowels.values"
   ]
  },
  {
   "cell_type": "code",
   "execution_count": null,
   "metadata": {},
   "outputs": [],
   "source": [
    "# Access the index array of the Series object\n",
    "vowels.index"
   ]
  },
  {
   "cell_type": "markdown",
   "metadata": {},
   "source": [
    "Notice that the values of the `Series` object is a NumPy array!"
   ]
  },
  {
   "cell_type": "code",
   "execution_count": null,
   "metadata": {},
   "outputs": [],
   "source": [
    "type(vowels.values)"
   ]
  },
  {
   "cell_type": "markdown",
   "metadata": {},
   "source": [
    "However, this is not the case with the index array. This value is in fact an object of the Pandas `Index` type."
   ]
  },
  {
   "cell_type": "code",
   "execution_count": null,
   "metadata": {},
   "outputs": [],
   "source": [
    "type(vowels.index)"
   ]
  },
  {
   "cell_type": "markdown",
   "metadata": {},
   "source": [
    "Moreover, to access specific items in the `Series` object or to slice it, you can proceed just as we do with NumPy arrays or Python lists."
   ]
  },
  {
   "cell_type": "code",
   "execution_count": null,
   "metadata": {},
   "outputs": [],
   "source": [
    "# Extract the 2nd item of the Series\n",
    "vowels[2]"
   ]
  },
  {
   "cell_type": "code",
   "execution_count": null,
   "metadata": {},
   "outputs": [],
   "source": [
    "# Slice the Series object\n",
    "vowels[1:3]"
   ]
  },
  {
   "cell_type": "markdown",
   "metadata": {},
   "source": [
    "Going back to the explicit index capability of `Series` objects, we might ask ourselves: what is the actual difference with regards to NumPy indices? Due to the possibility of defining it independently, you can have indices that can be of other types different from integers (like with the `provinces` variable), which is not the case with Numpy arrays–they are always integers. You do not always need to specify the index of the `Series` object. When you avoid doing that you get an **implicit index**. When you specify the index array you get an **explicit index**. These terms will be useful when slicing (c.f. Section 5).\n",
    "\n",
    "Let us have a look at the creation of another `Series` object with a string index."
   ]
  },
  {
   "cell_type": "code",
   "execution_count": null,
   "metadata": {},
   "outputs": [],
   "source": [
    "linear: pd.Series = pd.Series(np.linspace(0, 1, 5), index=['a', 'b', 'c', 'd', 'e'])\n",
    "linear"
   ]
  },
  {
   "cell_type": "markdown",
   "metadata": {},
   "source": [
    "Notice that we use the `index` keyword to pass the sequence representing the index of the object. If you want to access the value `0.75`, you can refer to the corresponding index `d`."
   ]
  },
  {
   "cell_type": "code",
   "execution_count": null,
   "metadata": {},
   "outputs": [],
   "source": [
    "linear['d']"
   ]
  },
  {
   "cell_type": "markdown",
   "metadata": {},
   "source": [
    "You can also apply slicing to indices that are not integers. For instance, in the following cell, we want all the items that are in between `'b'` and `'d'`. In this case, Pandas will return all the observations that appear in-between–given the order of the observations."
   ]
  },
  {
   "cell_type": "code",
   "execution_count": null,
   "metadata": {},
   "outputs": [],
   "source": [
    "linear['b':'d']"
   ]
  },
  {
   "cell_type": "markdown",
   "metadata": {},
   "source": [
    "## 3. The `DataFrame` Object <a class=\"anchor\" id=\"dataframe\"></a>\n",
    "\n",
    "A `DataFrame` object is the equivalent of a two-dimensional array or a matrix with flexible column names and row indices. you can think of it as a sequence of `Series` objects (each one representing a column) that share the same index array. Let us have a look at this last property. To do so, we will consider the `municipalities` dictionary representing the number of municipalities per Dutch province presented in the previous section."
   ]
  },
  {
   "cell_type": "code",
   "execution_count": null,
   "metadata": {},
   "outputs": [],
   "source": [
    "municipalities: dict = {\n",
    "    'drenthe': 12,\n",
    "    'flevoland': 6,\n",
    "    'friesland': 18,\n",
    "    'gelderland': 51,\n",
    "    'groningen': 10,\n",
    "    'limburg': 31,\n",
    "    'noord-brabant': 61,\n",
    "    'noord-holland': 47,\n",
    "    'overijssel': 25,\n",
    "    'zuid-holland': 52,\n",
    "    'utrecht': 26,\n",
    "    'zeeland': 13\n",
    "}\n",
    "municipalities"
   ]
  },
  {
   "cell_type": "markdown",
   "metadata": {},
   "source": [
    "We will also create the `area` dictionary containing the total area of each province. Notice that both dictionaries share the same keys (the names of the 13 Dutch provinces)."
   ]
  },
  {
   "cell_type": "code",
   "execution_count": null,
   "metadata": {},
   "outputs": [],
   "source": [
    "area: dict = {\n",
    "    'drenthe': 2680,\n",
    "    'flevoland': 2412,\n",
    "    'friesland': 5749,\n",
    "    'gelderland': 5136,\n",
    "    'groningen': 2960,\n",
    "    'limburg': 2210,\n",
    "    'noord-brabant': 5082,\n",
    "    'noord-holland': 4092,\n",
    "    'overijssel': 3421,\n",
    "    'zuid-holland': 3308,\n",
    "    'utrecht': 1560,\n",
    "    'zeeland': 2933\n",
    "}\n",
    "area"
   ]
  },
  {
   "cell_type": "markdown",
   "metadata": {},
   "source": [
    "Now, we will create two `Series` out of these dictionaries."
   ]
  },
  {
   "cell_type": "code",
   "execution_count": null,
   "metadata": {},
   "outputs": [],
   "source": [
    "# Create a Series out from the municipalities dictionary\n",
    "municipalities_series: pd.Series = pd.Series(municipalities)\n",
    "municipalities_series"
   ]
  },
  {
   "cell_type": "code",
   "execution_count": null,
   "metadata": {},
   "outputs": [],
   "source": [
    "# Create a Series out from the area dictionary\n",
    "area_series: pd.Series = pd.Series(area)\n",
    "area_series"
   ]
  },
  {
   "cell_type": "markdown",
   "metadata": {},
   "source": [
    "Finally, to create our data frame, we will use the type constructor and we will pass a dictionary whose keys are the names of the matrix columns, and its values point to the two `Series` objects `municipalities_series` and `area_series`."
   ]
  },
  {
   "cell_type": "code",
   "execution_count": null,
   "metadata": {},
   "outputs": [],
   "source": [
    "data: dict = {\n",
    "    'municipalities': municipalities_series, \n",
    "    'area': area_series\n",
    "}\n",
    "    \n",
    "provinces: pd.DataFrame = pd.DataFrame(data)\n",
    "provinces"
   ]
  },
  {
   "cell_type": "markdown",
   "metadata": {},
   "source": [
    "Just as with the `Series` objects, you can access the data frame index via the `index` attribute."
   ]
  },
  {
   "cell_type": "code",
   "execution_count": null,
   "metadata": {},
   "outputs": [],
   "source": [
    "provinces.index"
   ]
  },
  {
   "cell_type": "markdown",
   "metadata": {},
   "source": [
    "But also the columns of the data frame via the `columns` attribute."
   ]
  },
  {
   "cell_type": "code",
   "execution_count": null,
   "metadata": {},
   "outputs": [],
   "source": [
    "provinces.columns"
   ]
  },
  {
   "cell_type": "markdown",
   "metadata": {},
   "source": [
    "Notice that both objects are of type `Index`."
   ]
  },
  {
   "cell_type": "markdown",
   "metadata": {},
   "source": [
    "### Create `DataFrame` Objects\n",
    "\n",
    "We have already seen some approaches to create a `DataFrame` object, however, there are some additional alternatives. We will list the most common ways of creating Pandas data frames hereafter:\n",
    "\n",
    "* **From a `Series` object:** We already know that a `DataFrame` is a sequence of `Series` objects. You can create one starting from just *one* `Series` instance. Let us revisit our `municipalities_series` example. In this case, you pass the `Series` object and the name of the column to the initializer of the type."
   ]
  },
  {
   "cell_type": "code",
   "execution_count": null,
   "metadata": {},
   "outputs": [],
   "source": [
    "municipalities: dict = {\n",
    "    'drenthe': 12,\n",
    "    'flevoland': 6,\n",
    "    'friesland': 18,\n",
    "    'gelderland': 51,\n",
    "    'groningen': 10,\n",
    "    'limburg': 31,\n",
    "    'noord-brabant': 61,\n",
    "    'noord-holland': 47,\n",
    "    'overijssel': 25,\n",
    "    'zuid-holland': 52,\n",
    "    'utrecht': 26,\n",
    "    'zeeland': 13\n",
    "}\n",
    "    \n",
    "# Create a Series out from the municipalities dictionary\n",
    "municipalities_series: pd.Series = pd.Series(municipalities)\n",
    "municipalities_series"
   ]
  },
  {
   "cell_type": "code",
   "execution_count": null,
   "metadata": {},
   "outputs": [],
   "source": [
    "# Create the DataFrame object out from the municipalities_series\n",
    "pd.DataFrame(municipalities_series, columns=['municipalities'])"
   ]
  },
  {
   "cell_type": "markdown",
   "metadata": {},
   "source": [
    "* **From a list of dictionaries:** Pandas aggregates all the keys from all the dictionaries and creates a column for each one of them. Each dictionary will represent a row or a case in the data frame. If a dictionary is missing information, it will fill in the position with a `NaN` (short for Not A Number) value. (Have a look at the missing values in `dict2` and `dict3`)."
   ]
  },
  {
   "cell_type": "code",
   "execution_count": null,
   "metadata": {},
   "outputs": [],
   "source": [
    "import random as rd\n",
    "\n",
    "dict1: dict = {'a': rd.randint(0, 100), 'b': rd.randint(0, 100), 'c': rd.randint(0, 100)}\n",
    "dict2: dict = {'b': rd.randint(0, 100), 'c': rd.randint(0, 100)}\n",
    "dict3: dict = {'a': rd.randint(0, 100), 'b': rd.randint(0, 100)}\n",
    "    \n",
    "pd.DataFrame([dict1, dict2, dict3])"
   ]
  },
  {
   "cell_type": "markdown",
   "metadata": {},
   "source": [
    "* **From a dictionary of `Series` objects:** We already covered this case when introducing the `provinces` data frame. Let us look at another example with random numbers. In this example, we create three `Series` objects with 5 random integers from 0 to 10 (`values_10`), 0 to 100 (`values_100`), and 0 to 1000 (`values_1000`). The indices we use in both cases are `'a'`, `'b'`, `'c'`, `'d'`, and `'e'`. "
   ]
  },
  {
   "cell_type": "code",
   "execution_count": null,
   "metadata": {},
   "outputs": [],
   "source": [
    "import random as rd\n",
    "\n",
    "values_10: pd.Series = pd.Series([rd.randint(0, 10) for _ in range(5)], index=['a', 'b', 'c', 'd', 'e'])\n",
    "values_100: pd.Series = pd.Series([rd.randint(0, 100) for _ in range(5)], index=['a', 'b', 'c', 'd', 'e'])\n",
    "values_1000: pd.Series = pd.Series([rd.randint(0, 1000) for _ in range(5)], index=['a', 'b', 'c', 'd', 'e'])\n",
    "\n",
    "pd.DataFrame({'values_10': values_10, \n",
    "              'values_100': values_100,\n",
    "              'values_1000': values_1000})"
   ]
  },
  {
   "cell_type": "markdown",
   "metadata": {},
   "source": [
    "* **From a NumPy array:** We can also create a `DataFrame` object out from a NumPy array as follows."
   ]
  },
  {
   "cell_type": "code",
   "execution_count": null,
   "metadata": {},
   "outputs": [],
   "source": [
    "pd.DataFrame(np.random.randint(0, 100, (4, 3)),\n",
    "            columns=['apples', 'bananas', 'pears'],\n",
    "            index=['A', 'B', 'C', 'D'])"
   ]
  },
  {
   "cell_type": "markdown",
   "metadata": {},
   "source": [
    "## 4. The `Index` Object <a class=\"anchor\" id=\"index\"></a>\n",
    "\n",
    "We already discovered that both the `Series` and `DataFrame` objects have a special attribute that stores the index array. This array is of type `Index`, and it is also offered by the Pandas library. The `Index` type is an immutable array that might contain repeated values. It behaves pretty much like a NumPy array, the main difference between both data structures is that `Index` objects are immutable. \n",
    "\n",
    "Additionally, you can create your own `Index` object without creating a `Series` or `DataFrame` object first. To do so, you can pass a sequence of values as the argument of the initializer method."
   ]
  },
  {
   "cell_type": "code",
   "execution_count": null,
   "metadata": {},
   "outputs": [],
   "source": [
    "ind: pd.Index = pd.Index([1, 3, 5, 7, 9])\n",
    "ind"
   ]
  },
  {
   "cell_type": "markdown",
   "metadata": {},
   "source": [
    "You can use Python lists indexing and slicing capabilities to interact with the `Index` object values."
   ]
  },
  {
   "cell_type": "code",
   "execution_count": null,
   "metadata": {},
   "outputs": [],
   "source": [
    "# Access index located at the 2nd position\n",
    "ind[2]"
   ]
  },
  {
   "cell_type": "code",
   "execution_count": null,
   "metadata": {},
   "outputs": [],
   "source": [
    "# Slice the array: every two steps take an element starting from position 1\n",
    "ind[1::2]"
   ]
  },
  {
   "cell_type": "markdown",
   "metadata": {},
   "source": [
    "However, if you try to modify an element within the array you will get an error–recall that `Index` objects are immutable."
   ]
  },
  {
   "cell_type": "code",
   "execution_count": null,
   "metadata": {},
   "outputs": [],
   "source": [
    "ind[3] = 100"
   ]
  },
  {
   "cell_type": "markdown",
   "metadata": {},
   "source": [
    "`Index` objects count with attributes similar to the ones offered by NumPy arrays such as `size`, `shape`, `ndim`, and `dtype`."
   ]
  },
  {
   "cell_type": "code",
   "execution_count": null,
   "metadata": {},
   "outputs": [],
   "source": [
    "# Get the Index object size\n",
    "ind.size"
   ]
  },
  {
   "cell_type": "code",
   "execution_count": null,
   "metadata": {},
   "outputs": [],
   "source": [
    "# Get the Index object shape\n",
    "ind.shape"
   ]
  },
  {
   "cell_type": "code",
   "execution_count": null,
   "metadata": {},
   "outputs": [],
   "source": [
    "# Get the Index object ndim (number of dimensions)\n",
    "ind.ndim"
   ]
  },
  {
   "cell_type": "code",
   "execution_count": null,
   "metadata": {},
   "outputs": [],
   "source": [
    "# Get the Index object dtype (data type)\n",
    "ind.dtype"
   ]
  },
  {
   "cell_type": "markdown",
   "metadata": {},
   "source": [
    "## 5. Indexing and Selection <a class=\"anchor\" id=\"indexing\"></a>\n",
    "\n",
    "### In `Series` Objects\n",
    "\n",
    "`Series` objects work very similarly to both NumPy arrays and Python dictionaries, that is why they provide the same mechanisms to select a subset of data. On the one hand, when seen as one-dimensional NumPy arrays, `Series` objects can be sliced and masked.\n",
    "Let us create again a `Series` object with random numbers (from 0 to 1)."
   ]
  },
  {
   "cell_type": "code",
   "execution_count": null,
   "metadata": {},
   "outputs": [],
   "source": [
    "# Create a Series object with random numbers\n",
    "rand: pd.Series = pd.Series(np.random.random(8))\n",
    "rand"
   ]
  },
  {
   "cell_type": "code",
   "execution_count": null,
   "metadata": {},
   "outputs": [],
   "source": [
    "# Slice the Series object: every two steps take an element starting from index 1 and ending at index 6\n",
    "rand[1:6:2]"
   ]
  },
  {
   "cell_type": "code",
   "execution_count": null,
   "metadata": {},
   "outputs": [],
   "source": [
    "# Alternative to the previous code using a negative index\n",
    "rand[1:-1:2]"
   ]
  },
  {
   "cell_type": "markdown",
   "metadata": {},
   "source": [
    "Let us recall how it works when dealing with non-integer indices."
   ]
  },
  {
   "cell_type": "code",
   "execution_count": null,
   "metadata": {},
   "outputs": [],
   "source": [
    "# Create a Series object with random numbers\n",
    "rand: pd.Series = pd.Series(np.random.random(5), index=['a', 'b', 'c', 'd', 'e'])\n",
    "rand"
   ]
  },
  {
   "cell_type": "code",
   "execution_count": null,
   "metadata": {},
   "outputs": [],
   "source": [
    "# Get all items between 'b' and 'e'\n",
    "rand['b':'e']"
   ]
  },
  {
   "cell_type": "code",
   "execution_count": null,
   "metadata": {},
   "outputs": [],
   "source": [
    "# Same as the previous cell but with the step value\n",
    "rand['b':'e':2]"
   ]
  },
  {
   "cell_type": "markdown",
   "metadata": {},
   "source": [
    "Notice that when we employ the *explicit* index (the `['a', 'b', 'c', 'd', 'e']`) we do **include** the last item, while when using the *implicit* one the final index is **excluded**. Be careful when using one or the other!\n",
    "\n",
    "We can also mask our data in the same way we did with NumPy."
   ]
  },
  {
   "cell_type": "code",
   "execution_count": null,
   "metadata": {},
   "outputs": [],
   "source": [
    "# Take all the values that are greater than 0.25 and smaller than 0.75\n",
    "rand[(rand > 0.25) & (rand < 0.75)]"
   ]
  },
  {
   "cell_type": "markdown",
   "metadata": {},
   "source": [
    "The use of explicit and implicit integer indices can cause additional confusion. Let us have a look at the following example. We create the `linear` `Series` object, this time with an explicit integer index."
   ]
  },
  {
   "cell_type": "code",
   "execution_count": null,
   "metadata": {},
   "outputs": [],
   "source": [
    "linear: pd.Series = pd.Series(np.linspace(0, 1, 5), index=[1, 3, 5, 7, 9])\n",
    "linear"
   ]
  },
  {
   "cell_type": "markdown",
   "metadata": {},
   "source": [
    "What value will the following expression yield: `linear[1]`?"
   ]
  },
  {
   "cell_type": "code",
   "execution_count": null,
   "metadata": {},
   "outputs": [],
   "source": [
    "linear[1]"
   ]
  },
  {
   "cell_type": "markdown",
   "metadata": {},
   "source": [
    "Instead of displaying the value at *implicit* index 1 (counting from 0 to 4), it will display the value at *explicit* index 1 (for the index array `[1, 3, 5, 7, 9]`). But what will it happen if we try the next slicing expression: `linear[1:3]`?"
   ]
  },
  {
   "cell_type": "code",
   "execution_count": null,
   "metadata": {},
   "outputs": [],
   "source": [
    "linear[1:3]"
   ]
  },
  {
   "cell_type": "markdown",
   "metadata": {},
   "source": [
    "This time, Pandas will use the *implicit* index to produce the slice! Indeed confusing!\n",
    "\n",
    "To avoid these confusing behaviour, Pandas provide the so-called **indexer** attributes, that make explicit the indexing scheme to be used. There are two possible indexers: \n",
    "\n",
    "* **`loc`:** indexing and slicing will always refer to the *explicit index*.\n",
    "* **`iloc`:** indexing and slicing will always refer to the *implicit index*."
   ]
  },
  {
   "cell_type": "code",
   "execution_count": null,
   "metadata": {},
   "outputs": [],
   "source": [
    "# Indexing with loc\n",
    "linear.loc[1]"
   ]
  },
  {
   "cell_type": "code",
   "execution_count": null,
   "metadata": {},
   "outputs": [],
   "source": [
    "# Slicing with loc\n",
    "linear.loc[1:3]"
   ]
  },
  {
   "cell_type": "code",
   "execution_count": null,
   "metadata": {},
   "outputs": [],
   "source": [
    "# Indexing with loc\n",
    "linear.iloc[1]"
   ]
  },
  {
   "cell_type": "code",
   "execution_count": null,
   "metadata": {},
   "outputs": [],
   "source": [
    "# Slicing with loc\n",
    "linear.iloc[1:3]"
   ]
  },
  {
   "cell_type": "markdown",
   "metadata": {},
   "source": [
    "\"The Zen of Python\" guidelines mention that \"explicit is better than implicit\", so it is highly recommended to always use the `loc` or `iloc` indexer instead of just going for the default hybrid behaviour!"
   ]
  },
  {
   "cell_type": "markdown",
   "metadata": {},
   "source": [
    "### In `DataFrame` Objects\n",
    "\n",
    "When selecting data from a `DataFrame` object, we can follow the dictionary-style indexing that indexes based on the column name. This type of indexing will retrieve the whole column in the form of a `Series` object. To see it, let us go back to the Dutch `provinces` data frame."
   ]
  },
  {
   "cell_type": "code",
   "execution_count": null,
   "metadata": {},
   "outputs": [],
   "source": [
    "# Get the data as dictionaries\n",
    "municipalities: dict = {\n",
    "    'drenthe': 12,\n",
    "    'flevoland': 6,\n",
    "    'friesland': 18,\n",
    "    'gelderland': 51,\n",
    "    'groningen': 10,\n",
    "    'limburg': 31,\n",
    "    'noord-brabant': 61,\n",
    "    'noord-holland': 47,\n",
    "    'overijssel': 25,\n",
    "    'zuid-holland': 52,\n",
    "    'utrecht': 26,\n",
    "    'zeeland': 13\n",
    "}\n",
    "    \n",
    "area: dict = {\n",
    "    'drenthe': 2680,\n",
    "    'flevoland': 2412,\n",
    "    'friesland': 5749,\n",
    "    'gelderland': 5136,\n",
    "    'groningen': 2960,\n",
    "    'limburg': 2210,\n",
    "    'noord-brabant': 5082,\n",
    "    'noord-holland': 4092,\n",
    "    'overijssel': 3421,\n",
    "    'zuid-holland': 3308,\n",
    "    'utrecht': 1560,\n",
    "    'zeeland': 2933\n",
    "}\n",
    "\n",
    "# Create the Series objects out from the dictionaries\n",
    "municipalities_series: pd.Series = pd.Series(municipalities)\n",
    "area_series: pd.Series = pd.Series(area)\n",
    "    \n",
    "# Create the Pandas DataFrame object\n",
    "provinces: pd.DataFrame = pd.DataFrame({\n",
    "    'municipalities': municipalities_series, \n",
    "    'area': area_series\n",
    "})\n",
    "provinces"
   ]
  },
  {
   "cell_type": "code",
   "execution_count": null,
   "metadata": {},
   "outputs": [],
   "source": [
    "# Indexing of the area column in a dictionary-style manner\n",
    "area_s: pd.Series = provinces['area']\n",
    "print(type(area_s))\n",
    "area_s"
   ]
  },
  {
   "cell_type": "markdown",
   "metadata": {},
   "source": [
    "We can also index the data frame in an attribute-style manner: `data_frame.column_name`. You will get exactly the same output as the one obtained in the previous cell. However, this method won't always work. Cases where you should go for dictionary-style indexing include:\n",
    "* Non-string column names\n",
    "* Conflicts between column names and `DataFrame` methods"
   ]
  },
  {
   "cell_type": "code",
   "execution_count": null,
   "metadata": {},
   "outputs": [],
   "source": [
    "# Indexing of the area column in an attribute-style manner\n",
    "area_s: pd.Series = provinces.area\n",
    "print(type(area_s))\n",
    "area_s"
   ]
  },
  {
   "cell_type": "markdown",
   "metadata": {},
   "source": [
    "You can also use indexing to create new columns in your data frame. For instance, let us imagine that we can know the area per municipality if you split equally the total province area by the number of its municipalities."
   ]
  },
  {
   "cell_type": "code",
   "execution_count": null,
   "metadata": {},
   "outputs": [],
   "source": [
    "provinces['area_municipality'] = round(provinces['area'] / provinces['municipalities'], 2)\n",
    "provinces"
   ]
  },
  {
   "cell_type": "markdown",
   "metadata": {},
   "source": [
    "The $area \\div municipalities$ operation is applied to each row of the `DataFrame` object. This capability is known as **element-by-element arithmetic**.\n",
    "\n",
    "We can also use the `values` attribute to access the raw data of the data frame."
   ]
  },
  {
   "cell_type": "code",
   "execution_count": null,
   "metadata": {},
   "outputs": [],
   "source": [
    "provinces.values"
   ]
  },
  {
   "cell_type": "markdown",
   "metadata": {},
   "source": [
    "But what happens if we type `provinces.values[0]`? Will we get the first *column* or the first *row* of the data frame?"
   ]
  },
  {
   "cell_type": "code",
   "execution_count": null,
   "metadata": {},
   "outputs": [],
   "source": [
    "provinces.values[0]"
   ]
  },
  {
   "cell_type": "markdown",
   "metadata": {},
   "source": [
    "In that line of thought, what is the output of the expression `provinces['zeeland']`?"
   ]
  },
  {
   "cell_type": "code",
   "execution_count": null,
   "metadata": {},
   "outputs": [],
   "source": [
    "provinces['zeeland']"
   ]
  },
  {
   "cell_type": "markdown",
   "metadata": {},
   "source": [
    "We get a `KeyError`! When using the `values` attribute we get the first row, while when using dictionary-style indexing we consider columns. This gives birth to potential confusion. Fortunately, Pandas already offered us the `loc`, `iloc`, and `ix` indexers."
   ]
  },
  {
   "cell_type": "code",
   "execution_count": null,
   "metadata": {},
   "outputs": [],
   "source": [
    "# Get all rows between 'groningen' and 'utrecht' + all columns\n",
    "provinces.loc['groningen':'utrecht']"
   ]
  },
  {
   "cell_type": "code",
   "execution_count": null,
   "metadata": {},
   "outputs": [],
   "source": [
    "# Get all rows between 'groningen' and 'utrecht' + all columns unntil 'area'\n",
    "provinces.loc['groningen':'utrecht', :'area']"
   ]
  },
  {
   "cell_type": "code",
   "execution_count": null,
   "metadata": {},
   "outputs": [],
   "source": [
    "# Get all rows between indices 4 and 10 + all columns\n",
    "provinces.iloc[4:10]"
   ]
  },
  {
   "cell_type": "code",
   "execution_count": null,
   "metadata": {},
   "outputs": [],
   "source": [
    "# Get all rows between indices 1 and 10 + all columns between indices 0 and 2\n",
    "provinces.iloc[4:10, :2]"
   ]
  },
  {
   "cell_type": "markdown",
   "metadata": {},
   "source": [
    "We can also use the `loc` indexer to apply data masking to our `DataFrame` object as follows."
   ]
  },
  {
   "cell_type": "code",
   "execution_count": null,
   "metadata": {},
   "outputs": [],
   "source": [
    "# Get all cases where the number of municipalities is greater than 50\n",
    "provinces.loc[provinces['municipalities'] > 50]"
   ]
  },
  {
   "cell_type": "markdown",
   "metadata": {},
   "source": [
    "Moreover, any of the previous conventions can be used to modify data."
   ]
  },
  {
   "cell_type": "code",
   "execution_count": null,
   "metadata": {},
   "outputs": [],
   "source": [
    "provinces"
   ]
  },
  {
   "cell_type": "code",
   "execution_count": null,
   "metadata": {},
   "outputs": [],
   "source": [
    "# Swap the municipalities values between drenthe (iloc[0, 0]) and zeeland (iloc[12, 0])\n",
    "provinces.iloc[0, 0], provinces.iloc[len(provinces) - 1, 0] = provinces.iloc[len(provinces) - 1, 0], provinces.iloc[0, 0]\n",
    "provinces"
   ]
  },
  {
   "cell_type": "markdown",
   "metadata": {},
   "source": [
    "The previous code written with the `iloc` indexer can be rewritten with the `loc` indexer as follows."
   ]
  },
  {
   "cell_type": "code",
   "execution_count": null,
   "metadata": {},
   "outputs": [],
   "source": [
    "# Swap the municipalities values between drenthe and zeeland\n",
    "provinces.loc['drenthe', 'municipalities'], provinces.loc['zeeland', 'municipalities'] = provinces.loc['zeeland', 'municipalities'], provinces.loc['drenthe', 'municipalities']\n",
    "provinces"
   ]
  }
 ],
 "metadata": {
  "kernelspec": {
   "display_name": "Python 3 (ipykernel)",
   "language": "python",
   "name": "python3"
  },
  "language_info": {
   "codemirror_mode": {
    "name": "ipython",
    "version": 3
   },
   "file_extension": ".py",
   "mimetype": "text/x-python",
   "name": "python",
   "nbconvert_exporter": "python",
   "pygments_lexer": "ipython3",
   "version": "3.9.5"
  }
 },
 "nbformat": 4,
 "nbformat_minor": 4
}
