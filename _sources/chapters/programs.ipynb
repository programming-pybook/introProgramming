{
 "cells": [
  {
   "cell_type": "markdown",
   "metadata": {
    "slideshow": {
     "slide_type": "slide"
    }
   },
   "source": [
    "# Introduction[^intro]\n",
    "\n",
    "[^intro]: This Jupyter Notebook is based on Chapter 1 of the books Python for Everybody by {cite:t}`Severance2016` and Think Python by {cite:t}`thinkPython`."
   ]
  },
  {
   "cell_type": "markdown",
   "metadata": {
    "slideshow": {
     "slide_type": "slide"
    }
   },
   "source": [
    "<!-- ## Introductio to These Lecture Notes <a class=\"anchor\" id=\"introduction\"></a> -->\n",
    "\n",
    "The content of these notes is organized to accompany the books **Python for Everybody** by Charles Severance{cite}`Severance2016` and **Think Python (2nd edition)** by **Allen Downey**{cite}`thinkPython`. \n",
    "\n",
    "The code fragments have mostly been taken from the books and adapted in some cases.\n",
    "\n",
    "You are encouraged to **play along** in this file as you read the book. \n",
    "\n",
    "**The more you practice programming the better your programming skills will become! You do not learn programming by just reading code, you have to write the code yourself. However, before writing the first line of code, you have to solve the problem in your head, on a blackboard or on paper. If you start solving the problem at hand by immediately writing code, you will spend a lot of time because it is very a very inefficient way of working. It is too much trial-and-error. You need first to understand the problem, create mentally a solution, try to figure out whether you have dealt with all (corner) cases, and then start writing the code.**\n",
    "\n",
    "To evaluate a cell, select it by clicking on it, and then click the _Run_ button below the code cell, or press `Shift + Enter` within the cell.\n",
    "\n",
    "\n",
    "Occasionally, we have added a bit of extra information. This is marked as **[EXTRA]**."
   ]
  },
  {
   "cell_type": "markdown",
   "metadata": {
    "slideshow": {
     "slide_type": "slide"
    }
   },
   "source": [
    "## What is a Program? <a class=\"anchor\" id=\"program\"></a>\n",
    "\n",
    "A program is a sequence of instructions to perform a computation, such as finding a name in a database, \n",
    "drawing a picture, etc.\n",
    "\n",
    "Programming is more than writting code, it is first about understanding a problem, thinking about a solution, and then translating this into a programming language/code.\n",
    "\n",
    "It is also important to realise that software may have a very long timespan and a lot of modifications maybe performed on the software over this timespan. If you walk, for instance, into the software development department of an arbitrary bank in the Netherlands, you will find operational COBOL code written somewhere between 1960 and 1970! So, this code is already 50 up to 60 years old. In this timespan, we had the Y2K challenge, the introduction of the Euro, merging of banks, and changes in legislations. All these changes had to be implemented in the COBOL code that keeps the bank operational 24/7.\n",
    "\n",
    "Programming is part of **Software Engineering**. Software Engineering is the discipline of solving\n",
    "problems in a structured way by developing software."
   ]
  },
  {
   "cell_type": "markdown",
   "metadata": {
    "slideshow": {
     "slide_type": "fragment"
    }
   },
   "source": [
    "The details look different in different languages, but a few basic instructions appear in just\n",
    "about every language:\n",
    "\n",
    "**input:** Data to be processed\n",
    "\n",
    "**output:** Produced data\n",
    "\n",
    "**sequential execution:** Perform operations one after another\n",
    "\n",
    "**conditional execution:** Having alternative paths to perform operations\n",
    "\n",
    "**repeated execution:** Repeat operations\n",
    "\n",
    "**reuse:** Group and name operations for re-use and understandability"
   ]
  },
  {
   "cell_type": "markdown",
   "metadata": {
    "slideshow": {
     "slide_type": "fragment"
    }
   },
   "source": [
    "There is a lot more to tell about Software Engineering but for the moment this is suffient. Actually, Software Engineering is an entire research field and most of the people educated at universities may become software engineers in the future careers."
   ]
  },
  {
   "cell_type": "markdown",
   "metadata": {
    "slideshow": {
     "slide_type": "slide"
    }
   },
   "source": [
    "## Interpreters and Compilers <a class=\"anchor\" id=\"interpreters-compilers\"></a>\n",
    "\n",
    "Computers only understand machine language. This language is written exclusively in zeros and ones, so it looks somehow like this:"
   ]
  },
  {
   "cell_type": "markdown",
   "metadata": {
    "slideshow": {
     "slide_type": "fragment"
    }
   },
   "source": [
    "<p style=\"text-align: center;\">\n",
    "0011101000111010  \n",
    "1011010100001010\n",
    "</p>"
   ]
  },
  {
   "cell_type": "markdown",
   "metadata": {
    "slideshow": {
     "slide_type": "subslide"
    }
   },
   "source": [
    "It is cumbersome for programmers to write programs in such language. That is why we need translators that map _high-level laguages_ like Python to machine language. A high-level language is a programming language designed to be used by humans in an intuitive way. These translators can be either _interpreters_ or _compilers_.\n",
    "\n",
    "**interpreter:** it reads the source code of a program written by a human, parses it and translates it on the fly. Python is an example of an interpreter.\n",
    "\n",
    "**compiler:** it takes the whole program written in a high-level language and translates it into machine language. This translation is saved in an independent file that can be later used for execution. An executable file is usually labelled with the _.exe_ or _.dll_ extensions in Windows. There is no unique suffix for Mac or Linux. If you open a file like this in a text editor it will look somehow like this:"
   ]
  },
  {
   "cell_type": "markdown",
   "metadata": {
    "slideshow": {
     "slide_type": "fragment"
    }
   },
   "source": [
    "```\n",
    "\n",
    "äE\u0000Lâ˜ËÙìJ\u0000Hã{(HÖˇtæË*íJ\u0000Î∑LâΩ\u0018˚ˇˇHãΩ\u0010˚ˇˇË\u001bíJ\u0000ÉΩà˝ˇˇ\u0001\u000fÖ0\u0003\u0000\u0000HãΩ®˝ˇˇË,íJ\u0000H«Ö\u0010˚ˇˇ\u0000\u0000\u0000\u0000H∏\u0000\u0000\u0000\u0000ˇˇˇˇHâÖ\u0018˚ˇˇ1ˆ1“LâÔË‘∂ˇˇHãÖ†˝ˇˇLãpXMÖˆttAˇ\u000eunIã~@HÖˇt\tIâ~HË≤ëJ\u0000Mã~ MÖˇt9IãF(L9¯t$HçX–HãxËHÖˇt\tHâxËäëJ\u0000HâÿI9ﬂu‚Iã~ Î\u0003LâˇMâ~(ËpëJ\u0000Iã~\bHÖˇt\tIâ~\u0010Ë^ëJ\u0000Lâ˜ËVëJ\u0000f\u000foÖ\u0010˚ˇˇHãÖ†˝ˇˇÛ\u000f@Xf\u000fÔ…Û\u000fHhHâ«HÉ«xfI\u000f~∆1ˆ1“ËûπˇˇMÖˆttAˇ\u000eunIã~@HÖˇt\tIâ~HË\u0007ëJ\u0000Mã~ MÖˇt9IãF(L9¯t$HçX–HãxËHÖˇt\tHâxËﬂêJ\u0000HâÿI9ﬂu‚Iã~ Î\u0003LâˇMâ~(Ë≈êJ\u0000Iã~\bHÖˇt\tIâ~\u0010Ë≥êJ\u0000Lâ˜Ë´êJ\u0000Ë÷êJ\u0000Lã≠x˝ˇˇHãù0˝ˇˇLãΩÄ˝ˇˇÈÅﬂˇˇHãµx˝ˇˇË ≈ˇˇH9¬LãΩ–¸ˇˇLã≠p˝ˇˇ\u000fÜô\u0000\u0000\u0000Hâ”Lçµ\u0010˚ˇˇf\u000f\u001fÑ\u0000\u0000\u0000\u0000\u0000HâÖ\u0010˚ˇˇHâù\u0018˚ˇˇIãE\u0018HâÖ ˚ˇˇH«Ö(˚ˇˇ\u0000\u0000\u0000\u0000IãG\bI;G\u0010t2Hãç(˚ˇˇHâH\u0018Hãç ˚ˇˇHâH\u0010Hãç\u0010˚ˇˇHãï\u0018˚ˇˇHâP\bHâ\bIÉG\b Î\u000b",
    "\n",
    "\n",
    "\n",
    "```"
   ]
  },
  {
   "cell_type": "markdown",
   "metadata": {
    "slideshow": {
     "slide_type": "slide"
    }
   },
   "source": [
    "## Running Python <a class=\"anchor\" id=\"python\"></a>\n",
    "\n",
    "**Installation of Python** \n",
    "\n",
    "<strike>For the installation and testing of the installation see Assignment Week 1.</strike>\n",
    "\n",
    "```{admonition} TODO\n",
    ":class: attention\n",
    "Include this to the book\n",
    "```"
   ]
  },
  {
   "cell_type": "markdown",
   "metadata": {
    "slideshow": {
     "slide_type": "fragment"
    }
   },
   "source": [
    "**Running Python**\n",
    "\n",
    "The Python interpreter is a program that reads and executes Python code. \n",
    "\n",
    "The Python interpreter can be used to evaluate simple expressions as well."
   ]
  },
  {
   "cell_type": "markdown",
   "metadata": {},
   "source": [
    "````{margin}\n",
    "```{admonition} EXTRA\n",
    "Place the cursor in a cell, for instance the cell on the left, and click the *Run* button, or press `Shift+Enter`.\n",
    "```\n",
    "````"
   ]
  },
  {
   "cell_type": "markdown",
   "metadata": {
    "slideshow": {
     "slide_type": "fragment"
    }
   },
   "source": [
    "How fast can you calculate the value of the expression in the cell below? And what is the value?"
   ]
  },
  {
   "cell_type": "code",
   "execution_count": null,
   "metadata": {
    "slideshow": {
     "slide_type": "fragment"
    }
   },
   "outputs": [],
   "source": [
    "1+2+3+4+5+6+7+8+9+10+11+12+13+14+15+16+17+18+19+20+21+22+23+24+25+26+27+28+29+30+31+32+33+34+35+36+37+38+39+40+41+42+43+44+45+46+47+48+49+50+51+52+53+54+55+56+57+58+59+60+61+62+63+64+65+66+67+68+69+70+71+72+73+74+75+76+77+78+79+80+81+82+83+84+85+86+87+88+89+90+91+92+93+94+95+96+97+98+99+100"
   ]
  },
  {
   "cell_type": "code",
   "execution_count": null,
   "metadata": {},
   "outputs": [],
   "source": []
  },
  {
   "cell_type": "markdown",
   "metadata": {
    "slideshow": {
     "slide_type": "fragment"
    }
   },
   "source": [
    "Or how about?"
   ]
  },
  {
   "cell_type": "code",
   "execution_count": null,
   "metadata": {
    "slideshow": {
     "slide_type": "fragment"
    }
   },
   "outputs": [],
   "source": [
    "(100 * 101) / 2"
   ]
  },
  {
   "cell_type": "code",
   "execution_count": null,
   "metadata": {},
   "outputs": [],
   "source": []
  },
  {
   "cell_type": "markdown",
   "metadata": {
    "slideshow": {
     "slide_type": "slide"
    }
   },
   "source": [
    "## Our First Program <a class=\"anchor\" id=\"first-program\"></a>\n",
    "\n",
    "**A program is more than just a list of instructions.** The list of instructions should solve the problem at hand, so process the input, produce correct output by performing the needed calculations, but the instructions should be well organized with respect to the underlying structure, the names used in the\n",
    "instructions should make sense, and the problem at hand should be solved in an efficient way.\n",
    "\n",
    "This list of *instructions* or, sometimes also called *statements*  instruct the computer how to process the input, if any, perform a calculation, and produce\n",
    "the output, if any.\n",
    "\n",
    "The first statement you normally write is \"Hello World!\", however I took the liberty to change this boring first program a bit."
   ]
  },
  {
   "cell_type": "code",
   "execution_count": null,
   "metadata": {
    "slideshow": {
     "slide_type": "fragment"
    }
   },
   "outputs": [],
   "source": [
    "print(\"Hello Data Scientists!\")"
   ]
  },
  {
   "cell_type": "markdown",
   "metadata": {
    "slideshow": {
     "slide_type": "fragment"
    }
   },
   "source": [
    "````{margin}\n",
    "```{admonition} EXTRA\n",
    "In Jupyter notebooks, you do not need to use `print` to see the value of an expression (when it appears at the end of the cell).\n",
    "In the remainder, we will often omit `print` when playing with expressions (or variables).\n",
    "```\n",
    "````"
   ]
  },
  {
   "cell_type": "code",
   "execution_count": null,
   "metadata": {
    "slideshow": {
     "slide_type": "fragment"
    }
   },
   "outputs": [],
   "source": [
    "\"Hello Data Scientists!\""
   ]
  },
  {
   "cell_type": "markdown",
   "metadata": {
    "slideshow": {
     "slide_type": "skip"
    },
    "tags": []
   },
   "source": [
    "```{admonition} Do It Yourself!\n",
    ":class: seealso, dropdown\n",
    "Can you print the text \"Hello Programming!\"?\n",
    "```"
   ]
  },
  {
   "cell_type": "code",
   "execution_count": null,
   "metadata": {
    "slideshow": {
     "slide_type": "skip"
    },
    "tags": []
   },
   "outputs": [],
   "source": [
    "# Remove this line and add your code here"
   ]
  },
  {
   "cell_type": "markdown",
   "metadata": {
    "slideshow": {
     "slide_type": "slide"
    }
   },
   "source": [
    "## Arithmetic Operators <a class=\"anchor\" id=\"arithmetic-operators\"></a>\n",
    "\n",
    "The fact that Python interprets its programs allows us to immediately execute Python statements/expressions, such as the print statement for \"Hello Data Scientists!\".\n",
    "\n",
    "The arithmetic operators `+`, `-`, `*` perform addition, subtraction, and multiplication, as demonstrated in the following cells."
   ]
  },
  {
   "cell_type": "code",
   "execution_count": null,
   "metadata": {
    "slideshow": {
     "slide_type": "fragment"
    }
   },
   "outputs": [],
   "source": [
    "40 + 2"
   ]
  },
  {
   "cell_type": "code",
   "execution_count": null,
   "metadata": {
    "slideshow": {
     "slide_type": "fragment"
    }
   },
   "outputs": [],
   "source": [
    "43 - 1"
   ]
  },
  {
   "cell_type": "code",
   "execution_count": null,
   "metadata": {
    "slideshow": {
     "slide_type": "fragment"
    }
   },
   "outputs": [],
   "source": [
    "6 * 7"
   ]
  },
  {
   "cell_type": "code",
   "execution_count": null,
   "metadata": {
    "slideshow": {
     "slide_type": "fragment"
    }
   },
   "outputs": [],
   "source": [
    "100 * (100 + 1)"
   ]
  },
  {
   "cell_type": "markdown",
   "metadata": {
    "jupyter": {
     "source_hidden": true
    },
    "slideshow": {
     "slide_type": "skip"
    }
   },
   "source": [
    "```{admonition} Do It Yourself!\n",
    ":class: seealso, dropdown\n",
    "Can you add 40 to 25, then multiply it by 2, and finally substracting 5? \n",
    "```"
   ]
  },
  {
   "cell_type": "code",
   "execution_count": null,
   "metadata": {
    "jupyter": {
     "source_hidden": true
    },
    "slideshow": {
     "slide_type": "skip"
    }
   },
   "outputs": [],
   "source": [
    "# Remove this line and add your code here"
   ]
  },
  {
   "cell_type": "markdown",
   "metadata": {
    "slideshow": {
     "slide_type": "subslide"
    }
   },
   "source": [
    "**More arithmetic operators**  \n",
    "The operator `/` performs a division and the operator `**` is the \"to the power\" operator. "
   ]
  },
  {
   "cell_type": "code",
   "execution_count": null,
   "metadata": {
    "slideshow": {
     "slide_type": "fragment"
    }
   },
   "outputs": [],
   "source": [
    "84 / 2"
   ]
  },
  {
   "cell_type": "code",
   "execution_count": null,
   "metadata": {
    "slideshow": {
     "slide_type": "fragment"
    }
   },
   "outputs": [],
   "source": [
    "100 * (100 + 1) / 2"
   ]
  },
  {
   "cell_type": "code",
   "execution_count": null,
   "metadata": {
    "slideshow": {
     "slide_type": "fragment"
    }
   },
   "outputs": [],
   "source": [
    "6**2 + 6"
   ]
  },
  {
   "cell_type": "markdown",
   "metadata": {
    "slideshow": {
     "slide_type": "subslide"
    }
   },
   "source": [
    "Beware of the priorities, use brackets when in doubt!"
   ]
  },
  {
   "cell_type": "code",
   "execution_count": null,
   "metadata": {
    "slideshow": {
     "slide_type": "fragment"
    }
   },
   "outputs": [],
   "source": [
    "100 * 100 + 1 / 2"
   ]
  },
  {
   "cell_type": "markdown",
   "metadata": {
    "jupyter": {
     "source_hidden": true
    },
    "slideshow": {
     "slide_type": "skip"
    }
   },
   "source": [
    "```{admonition} Do It Yourself!\n",
    ":class: seealso, dropdown\n",
    "Let's compute the area of a circle of radius $r = 10$. Remember that the area of a circle is computed as $a = \\pi r^2$.\n",
    "```"
   ]
  },
  {
   "cell_type": "code",
   "execution_count": null,
   "metadata": {
    "jupyter": {
     "source_hidden": true
    },
    "slideshow": {
     "slide_type": "skip"
    }
   },
   "outputs": [],
   "source": [
    "# Remove this line and add your code here"
   ]
  },
  {
   "cell_type": "markdown",
   "metadata": {
    "slideshow": {
     "slide_type": "slide"
    }
   },
   "source": [
    "## What Can Go Wrong <a class=\"anchor\" id=\"wrong\"></a>\n",
    "\n",
    "While writing your program you will introduce errors, and it is completely normal. However, it will be easier to fix them if you know the four types of errors that you will find.\n",
    "\n",
    "**syntax errors:** “Syntax” refers to the structure of a program and the rules about that structure. For example, in English the construct \"She all night\" has a syntax error because there is no verb that completes the sentence. To fix this issue you should add a verb like \"She studies all night\". Now, if you run the following cell you will get a syntax error in Python."
   ]
  },
  {
   "cell_type": "code",
   "execution_count": null,
   "metadata": {},
   "outputs": [],
   "source": [
    "print('Hello Data Scientists!'"
   ]
  },
  {
   "cell_type": "markdown",
   "metadata": {},
   "source": [
    "This happens because we forgot to end the line with the closing parenthesis ')'."
   ]
  },
  {
   "cell_type": "markdown",
   "metadata": {},
   "source": [
    "**Runtime errors:** these errors do not appear until the program has started running. Can you think of a runtime error?"
   ]
  },
  {
   "cell_type": "markdown",
   "metadata": {},
   "source": [
    "What happens if I execute the following instructions?"
   ]
  },
  {
   "cell_type": "code",
   "execution_count": null,
   "metadata": {},
   "outputs": [],
   "source": [
    "value = 66\n",
    "result = value / 0\n",
    "\n",
    "print(result)"
   ]
  },
  {
   "cell_type": "markdown",
   "metadata": {},
   "source": [
    "**Logic errors:** they appear when there is an invalid order in your program. For instance, in English the construct \"She sleeps, goes to bed, and takes a shower\" has logic errors. It would make more sense if we say \"She takes a shower, goes to bed, and sleeps\". \n",
    "\n",
    "**Semantic errors:** “Semantic” refers to meaning. These errors appear when the program does not do what it is supposed to do. If there is a semantic error in your program, it will run without generating error\n",
    "messages, but it will not do the right thing. It will do something else. Specifically, it will do what you told it to do. For example, you compute the addition between two numbers but the program was supposed to compute the difference."
   ]
  },
  {
   "cell_type": "markdown",
   "metadata": {},
   "source": [
    " ````{margin}\n",
    "```{admonition} EXTRA\n",
    "Semantic errors are often related to not fully understanding the problem.\n",
    "```\n",
    "````"
   ]
  }
 ],
 "metadata": {
  "anaconda-cloud": {},
  "kernelspec": {
   "display_name": "Python 3",
   "language": "python",
   "name": "python3"
  },
  "language_info": {
   "codemirror_mode": {
    "name": "ipython",
    "version": 3
   },
   "file_extension": ".py",
   "mimetype": "text/x-python",
   "name": "python",
   "nbconvert_exporter": "python",
   "pygments_lexer": "ipython3",
   "version": "3.8.8"
  },
  "vscode": {
   "interpreter": {
    "hash": "31f2aee4e71d21fbe5cf8b01ff0e069b9275f58929596ceb00d14d90e3e16cd6"
   }
  }
 },
 "nbformat": 4,
 "nbformat_minor": 4
}
