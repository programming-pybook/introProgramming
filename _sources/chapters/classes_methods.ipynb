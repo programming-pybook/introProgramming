{
 "cells": [
  {
   "cell_type": "markdown",
   "metadata": {
    "slideshow": {
     "slide_type": "slide"
    }
   },
   "source": [
    "# Classes and Methods [^intro]\n",
    "\n",
    "[^intro]: This Jupyter Notebook is based on Chapter 17 of {cite}`thinkPython`."
   ]
  },
  {
   "cell_type": "markdown",
   "metadata": {
    "slideshow": {
     "slide_type": "slide"
    }
   },
   "source": [
    "So far, we have seen a few object-oriented features of Python, but the relation between\n",
    "programmer-defined types and functions can be much stronger and allow for real encapsulation\n",
    "of the programmer-defined data and corresponding functionalities.\n",
    "\n",
    "The next step is to change those functions into methods that make the relationships explicit."
   ]
  },
  {
   "cell_type": "markdown",
   "metadata": {},
   "source": [
    "## Object-oriented Features\n",
    "\n",
    "Python is an **object-oriented programming language**, which means that it provides features\n",
    "that support object-oriented programming, which has these defining characteristics:\n",
    "\n",
    "* Programs include class and method definitions.\n",
    "* Most of the computations are expressed in terms of operations on objects.\n",
    "* Objects often represent things in the real world, and methods often correspond to the ways things in the real world interact, for instance created, destroyed, updated, etc."
   ]
  },
  {
   "cell_type": "markdown",
   "metadata": {
    "slideshow": {
     "slide_type": "fragment"
    }
   },
   "source": [
    "The `Time` class corresponded to the way people consider\n",
    "the time of day, and the functions we defined corresponded to how people want to manipulate time.\n",
    "\n",
    "So far, we have not taken advantage of the object-oriended features Python provides when writing code. \n",
    "\n",
    "These features were expressed using the known language constructs, but the object-oriented \n",
    "alternative is more concise and more accurately conveys the structure of the program.\n",
    "\n",
    "In case of the `class Time` and the functions defined for `Time` it can be observed that all\n",
    "functions take `Time` as an argument."
   ]
  },
  {
   "cell_type": "markdown",
   "metadata": {
    "slideshow": {
     "slide_type": "fragment"
    }
   },
   "source": [
    "This observation is the motivation for methods; a **method** is a function that is associated\n",
    "with a particular class. \n",
    "\n",
    "The objects representing strings, lists, dictionaries and tuples already provided methods for manipulations.\n",
    "\n",
    "In this chapter, we will define methods for programmer-defined types.\n",
    "\n",
    "Methods are semantically the same as functions, but there are two syntactic differences:\n",
    "\n",
    "* Methods are defined inside a class definition in order to make the relationship between\n",
    "the class and the method more explicit.\n",
    "* The syntax for invoking a method is different from the syntax for calling a function.\n",
    "\n",
    "The functions we defined in the previous two chapters will be gradually transformed into methods."
   ]
  },
  {
   "cell_type": "markdown",
   "metadata": {
    "slideshow": {
     "slide_type": "slide"
    }
   },
   "source": [
    "## Printing Objects\n",
    "\n",
    "We defined the class `Time` and defined a function to print the time `print_time`."
   ]
  },
  {
   "cell_type": "code",
   "execution_count": 1,
   "metadata": {
    "slideshow": {
     "slide_type": "fragment"
    }
   },
   "outputs": [],
   "source": [
    "class Time:\n",
    "    \"\"\"Represents the time of day.\"\"\"\n",
    "    \n",
    "def print_time(time : Time) -> None:\n",
    "    \"\"\" prints a Time object\n",
    "    \"\"\"\n",
    "    print('{:02d}:{:02d}:{:02d}'.format(time.hour,time.minute,time.second))"
   ]
  },
  {
   "cell_type": "markdown",
   "metadata": {
    "slideshow": {
     "slide_type": "fragment"
    }
   },
   "source": [
    "This function uses a `Time` object as argument."
   ]
  },
  {
   "cell_type": "code",
   "execution_count": 2,
   "metadata": {
    "slideshow": {
     "slide_type": "fragment"
    }
   },
   "outputs": [
    {
     "name": "stdout",
     "output_type": "stream",
     "text": [
      "21:45:00\n"
     ]
    }
   ],
   "source": [
    "start : Time = Time()\n",
    "start.hour : int = 21\n",
    "start.minute : int = 45\n",
    "start.second : int = 0\n",
    "\n",
    "print_time(start)"
   ]
  },
  {
   "cell_type": "markdown",
   "metadata": {
    "slideshow": {
     "slide_type": "fragment"
    }
   },
   "source": [
    "To change `print_time` into a method, the function has to be declared inside the class definition. \n",
    "\n",
    "This is done by *increasing* the indentation.\n",
    "\n",
    "````{margin}\n",
    "```{admonition} EXTRA\n",
    "If a function is transformed into a method, so moved into its corresponding class, the type information related to the class has to be removed!\n",
    "```\n",
    "````\n"
   ]
  },
  {
   "cell_type": "code",
   "execution_count": 3,
   "metadata": {
    "slideshow": {
     "slide_type": "fragment"
    }
   },
   "outputs": [],
   "source": [
    "class Time:\n",
    "    \"\"\"Represents the time of day.\"\"\"\n",
    "    \n",
    "    def print_time(time) -> None:\n",
    "        \"\"\" prints a Time object\n",
    "        \"\"\"\n",
    "        print('{:02d}:{:02d}:{:02d}'.format(time.hour,time.minute,time.second))\n",
    "        \n",
    "start : Time = Time()\n",
    "start.hour : int = 21\n",
    "start.minute : int = 45\n",
    "start.second : int = 0"
   ]
  },
  {
   "cell_type": "markdown",
   "metadata": {},
   "source": [
    "Note that the method `print_time` does not have the type hint `Time` for its argument `time` anymore. \n",
    "\n",
    "The type `Time` is not known within the class `Time`. \n",
    "\n",
    "This holds for all methods defined in a class!"
   ]
  },
  {
   "cell_type": "markdown",
   "metadata": {
    "slideshow": {
     "slide_type": "fragment"
    }
   },
   "source": [
    "There are two ways to call `print_time`. \n",
    "\n",
    "The first (and uncommon) way is to use **function syntax**."
   ]
  },
  {
   "cell_type": "code",
   "execution_count": 4,
   "metadata": {
    "slideshow": {
     "slide_type": "fragment"
    }
   },
   "outputs": [
    {
     "name": "stdout",
     "output_type": "stream",
     "text": [
      "21:45:00\n"
     ]
    }
   ],
   "source": [
    "Time.print_time(start)"
   ]
  },
  {
   "cell_type": "markdown",
   "metadata": {
    "slideshow": {
     "slide_type": "fragment"
    }
   },
   "source": [
    "`Time` is the name of the class, `print_time` the method to be executed, and `start` the argument to be printed.\n",
    "\n",
    "The second way is more concise: **method syntax**."
   ]
  },
  {
   "cell_type": "code",
   "execution_count": 5,
   "metadata": {
    "slideshow": {
     "slide_type": "fragment"
    }
   },
   "outputs": [
    {
     "name": "stdout",
     "output_type": "stream",
     "text": [
      "21:45:00\n"
     ]
    }
   ],
   "source": [
    "start.print_time()"
   ]
  },
  {
   "cell_type": "markdown",
   "metadata": {
    "slideshow": {
     "slide_type": "fragment"
    }
   },
   "source": [
    "`print_time` is the name of the method (again), and `start` is\n",
    "the object the method is invoked on, which is called the **subject**. \n",
    "\n",
    "Inside the method, the subject is assigned to the first parameter, so in this case `start` is\n",
    "assigned to `time`.\n",
    "\n",
    "By convention, the first parameter of a method is called `self`.\n",
    "\n",
    "The next cell shows a more common way to write `print_time`, using the `self` parameter."
   ]
  },
  {
   "cell_type": "code",
   "execution_count": 6,
   "metadata": {
    "slideshow": {
     "slide_type": "fragment"
    }
   },
   "outputs": [],
   "source": [
    "class Time:\n",
    "    \"\"\"Represents the time of day.\"\"\"\n",
    "    \n",
    "    def print_time(self) -> None:\n",
    "        \"\"\" prints a Time object\n",
    "        \"\"\"\n",
    "        print('{:02d}:{:02d}:{:02d}'.format(self.hour, self.minute, self.second))"
   ]
  },
  {
   "cell_type": "code",
   "execution_count": 7,
   "metadata": {},
   "outputs": [
    {
     "name": "stdout",
     "output_type": "stream",
     "text": [
      "22:31:00\n"
     ]
    }
   ],
   "source": [
    "start : Time = Time()\n",
    "start.hour : int = 22\n",
    "start.minute : int = 31\n",
    "start.second : int = 0\n",
    "\n",
    "start.print_time()"
   ]
  },
  {
   "cell_type": "markdown",
   "metadata": {
    "slideshow": {
     "slide_type": "fragment"
    }
   },
   "source": [
    "The reason for this convention is an implicit metaphor:\n",
    "\n",
    "* The syntax for a function call, `print_time(start)`, suggests that the function is the\n",
    "active agent. It says something like, “Hey print_time! Here’s an object for you to\n",
    "print.”\n",
    "* In object-oriented programming, the objects are the active agents. A method invocation\n",
    "like `start.print_time()` says “Hey start! Please print yourself.”\n",
    "\n",
    "Shifting responsibility from the functions onto the objects makes it possible to write more versatile functions (or methods), and makes it easier to maintain and reuse code."
   ]
  },
  {
   "cell_type": "markdown",
   "metadata": {
    "tags": []
   },
   "source": [
    "```{admonition} Do It Yourself!\n",
    ":class: seealso, dropdown\n",
    "Do you remember the <i>print_time_meridiem(time : Time)</i> function from previous chapter? It is time to include it as a method of the Time class. This method should print the time following the 12-hour convention (e.g. 12:05 pm, 11:46 am).\n",
    "```"
   ]
  },
  {
   "cell_type": "code",
   "execution_count": null,
   "metadata": {
    "tags": []
   },
   "outputs": [],
   "source": [
    "# Remove this line and add your code here"
   ]
  },
  {
   "cell_type": "markdown",
   "metadata": {
    "slideshow": {
     "slide_type": "slide"
    }
   },
   "source": [
    "## Another Example\n",
    "\n",
    "Let us introduce a few extra useful methods to the class `Time`. \n",
    "Actually, we saw them earlier as functions.\n",
    "\n",
    "Let us start with defining the conversion function from time to seconds `time_to_int`.\n",
    "The next cells also contain simple manual tests."
   ]
  },
  {
   "cell_type": "code",
   "execution_count": 8,
   "metadata": {
    "slideshow": {
     "slide_type": "fragment"
    }
   },
   "outputs": [],
   "source": [
    "class Time:\n",
    "    \"\"\"Represents the time of day.\"\"\"\n",
    "\n",
    "    def print_time(self) -> None:\n",
    "        \"\"\" prints a Time object\n",
    "        \"\"\"\n",
    "        print('{:02d}:{:02d}:{:02d}'.format(self.hour, self.minute, self.second)) \n",
    "        \n",
    "    def time_to_int(self) -> int:\n",
    "        \"\"\" converts a Time object into an integer value respresenting seconds\n",
    "        \"\"\"\n",
    "        minutes : int = 60 * self.hour + self.minute\n",
    "        seconds : int = 60 * minutes + self.second\n",
    "        return seconds"
   ]
  },
  {
   "cell_type": "code",
   "execution_count": 10,
   "metadata": {
    "slideshow": {
     "slide_type": "fragment"
    }
   },
   "outputs": [
    {
     "data": {
      "text/plain": [
       "True"
      ]
     },
     "execution_count": 10,
     "metadata": {},
     "output_type": "execute_result"
    }
   ],
   "source": [
    "start : Time = Time()\n",
    "start.hour : int = 21\n",
    "start.minute : int = 45\n",
    "start.second : int = 1\n",
    "\n",
    "start.time_to_int() == 78301"
   ]
  },
  {
   "cell_type": "markdown",
   "metadata": {
    "slideshow": {
     "slide_type": "fragment"
    }
   },
   "source": [
    "The conversion function, `int_to_time`, which goes from seconds to time cannot be implemented as a method of the class `Time`, because it produces a `Time` object and takes an integer value.\n",
    "\n",
    "Functions can be implemented as methods if they take an instantiated object as argument."
   ]
  },
  {
   "cell_type": "code",
   "execution_count": 12,
   "metadata": {
    "slideshow": {
     "slide_type": "fragment"
    }
   },
   "outputs": [],
   "source": [
    "class Time:\n",
    "    \"\"\"Represents the time of day.\"\"\"\n",
    "\n",
    "    def print_time(self) -> None:\n",
    "        \"\"\" prints a Time object\n",
    "        \"\"\"\n",
    "        print('{:02d}:{:02d}:{:02d}'.format(self.hour, self.minute, self.second)) \n",
    "        \n",
    "    def time_to_int(self) -> int:\n",
    "        \"\"\" converts a Time object into an integer value respresenting seconds\n",
    "        \"\"\"\n",
    "        minutes : int = 60 * self.hour + self.minute\n",
    "        seconds : int = 60 * minutes + self.second\n",
    "        return seconds\n",
    "\n",
    "def int_to_time(seconds : int) -> Time:\n",
    "    \"\"\" converts a values representing seconds into a Time object\n",
    "    \"\"\"\n",
    "    time : Time = Time()\n",
    "    minutes, time.second = divmod(seconds, 60)\n",
    "    time.hour, time.minute = divmod(minutes, 60)\n",
    "    \n",
    "    # fix with hours if greater than 24\n",
    "    if time.hour >= 24:\n",
    "        time.hour -= 24\n",
    "        \n",
    "    return time"
   ]
  },
  {
   "cell_type": "code",
   "execution_count": 14,
   "metadata": {
    "slideshow": {
     "slide_type": "fragment"
    }
   },
   "outputs": [
    {
     "name": "stdout",
     "output_type": "stream",
     "text": [
      "21:45:00\n",
      "False\n",
      "True\n"
     ]
    }
   ],
   "source": [
    "start : Time = Time()\n",
    "start.hour : int = 21\n",
    "start.minute : int = 45\n",
    "start.second : int = 0\n",
    "\n",
    "int_to_time(start.time_to_int()).print_time()\n",
    "\n",
    "# Beware the following test fails!\n",
    "print(int_to_time(start.time_to_int()) == start)\n",
    "\n",
    "# Where as the next test succeeds!\n",
    "print(int_to_time(78301).time_to_int() == 78301)"
   ]
  },
  {
   "cell_type": "markdown",
   "metadata": {
    "slideshow": {
     "slide_type": "fragment"
    }
   },
   "source": [
    "The next cell shows an extension of the class `Time` with the `increment` method."
   ]
  },
  {
   "cell_type": "code",
   "execution_count": 16,
   "metadata": {
    "slideshow": {
     "slide_type": "fragment"
    }
   },
   "outputs": [],
   "source": [
    "class Time:\n",
    "    \"\"\"Represents the time of day.\"\"\"\n",
    "\n",
    "    def print_time(self) -> None:\n",
    "        \"\"\" prints a Time object\n",
    "        \"\"\"\n",
    "        print('{:02d}:{:02d}:{:02d}'.format(self.hour, self.minute, self.second)) \n",
    "        \n",
    "    def time_to_int(self) -> int:\n",
    "        \"\"\" converts a Time object into an integer value respresenting seconds\n",
    "        \"\"\"\n",
    "        minutes : int = 60 * self.hour + self.minute\n",
    "        seconds : int = 60 * minutes + self.second\n",
    "        return seconds\n",
    "            \n",
    "    def increment(self, seconds : int):\n",
    "        \"\"\" increments a Time object with an amount of seconds (represented as an integer)\n",
    "        \"\"\"\n",
    "        seconds += self.time_to_int()\n",
    "        return int_to_time(seconds)\n",
    "\n",
    "def int_to_time(seconds : int) -> Time:\n",
    "    \"\"\" converts a values representing seconds into a Time object\n",
    "    \"\"\"\n",
    "    time : Time = Time()\n",
    "    minutes, time.second = divmod(seconds, 60)\n",
    "    time.hour, time.minute = divmod(minutes, 60)\n",
    "    \n",
    "    # fix with hours if greater than 24\n",
    "    if time.hour >= 24:\n",
    "        time.hour -= 24\n",
    "        \n",
    "    return time"
   ]
  },
  {
   "cell_type": "code",
   "execution_count": 17,
   "metadata": {
    "slideshow": {
     "slide_type": "fragment"
    }
   },
   "outputs": [
    {
     "name": "stdout",
     "output_type": "stream",
     "text": [
      "21:45:00\n",
      "22:07:17\n"
     ]
    },
    {
     "data": {
      "text/plain": [
       "True"
      ]
     },
     "execution_count": 17,
     "metadata": {},
     "output_type": "execute_result"
    }
   ],
   "source": [
    "start : Time = Time()\n",
    "start.hour : int = 21\n",
    "start.minute : int = 45\n",
    "start.second : int = 0\n",
    "\n",
    "start.print_time()\n",
    "end : Time = start.increment(1337)\n",
    "end.print_time()\n",
    "\n",
    "start.time_to_int()+1337 == end.time_to_int()"
   ]
  },
  {
   "cell_type": "markdown",
   "metadata": {
    "slideshow": {
     "slide_type": "fragment"
    }
   },
   "source": [
    "The subject, `start`, gets assigned to the first parameter, `self`. \n",
    "\n",
    "The argument, `1337`, gets assigned to the second parameter, `seconds`.\n",
    "\n",
    "This mechanism can be confusing, especially if you make an error. \n",
    "\n",
    "If you invoke increment with two arguments, you get the following error message."
   ]
  },
  {
   "cell_type": "code",
   "execution_count": 18,
   "metadata": {
    "slideshow": {
     "slide_type": "fragment"
    }
   },
   "outputs": [
    {
     "ename": "TypeError",
     "evalue": "increment() takes 2 positional arguments but 3 were given",
     "output_type": "error",
     "traceback": [
      "\u001b[0;31m---------------------------------------------------------------------------\u001b[0m",
      "\u001b[0;31mTypeError\u001b[0m                                 Traceback (most recent call last)",
      "\u001b[0;32m<ipython-input-18-cc380c7dc852>\u001b[0m in \u001b[0;36m<module>\u001b[0;34m\u001b[0m\n\u001b[0;32m----> 1\u001b[0;31m \u001b[0mend\u001b[0m \u001b[0;34m:\u001b[0m \u001b[0mTime\u001b[0m \u001b[0;34m=\u001b[0m \u001b[0mstart\u001b[0m\u001b[0;34m.\u001b[0m\u001b[0mincrement\u001b[0m\u001b[0;34m(\u001b[0m\u001b[0;36m1337\u001b[0m\u001b[0;34m,\u001b[0m \u001b[0;36m460\u001b[0m\u001b[0;34m)\u001b[0m\u001b[0;34m\u001b[0m\u001b[0;34m\u001b[0m\u001b[0m\n\u001b[0m",
      "\u001b[0;31mTypeError\u001b[0m: increment() takes 2 positional arguments but 3 were given"
     ]
    }
   ],
   "source": [
    "end : Time = start.increment(1337, 460)"
   ]
  },
  {
   "cell_type": "markdown",
   "metadata": {
    "slideshow": {
     "slide_type": "fragment"
    }
   },
   "source": [
    "The error message is initially confusing, because there are only two arguments in parentheses.\n",
    "\n",
    "But the subject is also considered an argument, so all together that is three."
   ]
  },
  {
   "cell_type": "markdown",
   "metadata": {
    "slideshow": {
     "slide_type": "slide"
    }
   },
   "source": [
    "## Another (Extended) Example\n",
    "\n",
    "The transforming the function `is_after` into a method is more involved, because `is_after` takes two `Time` objects as parameters.\n",
    "\n",
    "It is conventional to name the first parameter `self`\n",
    "and the second parameter `other`."
   ]
  },
  {
   "cell_type": "code",
   "execution_count": 19,
   "metadata": {
    "slideshow": {
     "slide_type": "fragment"
    }
   },
   "outputs": [],
   "source": [
    "class Time:\n",
    "    \"\"\"Represents the time of day.\"\"\"\n",
    "\n",
    "    def print_time(self) -> None:\n",
    "        \"\"\" prints a Time object\n",
    "        \"\"\"\n",
    "        print('{:02d}:{:02d}:{:02d}'.format(self.hour, self.minute, self.second)) \n",
    "        \n",
    "    def time_to_int(self) -> int:\n",
    "        \"\"\" converts a Time object into an integer value respresenting seconds\n",
    "        \"\"\"\n",
    "        minutes : int = 60 * self.hour + self.minute\n",
    "        seconds : int = 60 * minutes + self.second\n",
    "        return seconds\n",
    "            \n",
    "    def increment(self, seconds : int):\n",
    "        \"\"\" increments a Time object with an amount of seconds (represented as an integer)\n",
    "        \"\"\"\n",
    "        seconds += self.time_to_int()\n",
    "        return int_to_time(seconds)\n",
    "    \n",
    "    def is_after(self, other) -> bool:\n",
    "        \"\"\" checks whether the current time is after the given time\n",
    "        \"\"\"\n",
    "        return self.time_to_int() > other.time_to_int()\n",
    "\n",
    "def int_to_time(seconds : int) -> Time:\n",
    "    \"\"\" converts a values representing seconds into a Time object\n",
    "    \"\"\"\n",
    "    time : Time = Time()\n",
    "    minutes, time.second = divmod(seconds, 60)\n",
    "    time.hour, time.minute = divmod(minutes, 60)\n",
    "    \n",
    "    # fix with hours if greater than 24\n",
    "    if time.hour >= 24:\n",
    "        time.hour -= 24\n",
    "        \n",
    "    return time"
   ]
  },
  {
   "cell_type": "code",
   "execution_count": 20,
   "metadata": {
    "slideshow": {
     "slide_type": "fragment"
    }
   },
   "outputs": [
    {
     "data": {
      "text/plain": [
       "True"
      ]
     },
     "execution_count": 20,
     "metadata": {},
     "output_type": "execute_result"
    }
   ],
   "source": [
    "start : Time = Time()\n",
    "start.hour : int = 21\n",
    "start.minute : int = 45\n",
    "start.second : int = 0\n",
    "\n",
    "end : Time = start.increment(1337)\n",
    "end.is_after(start)"
   ]
  },
  {
   "cell_type": "markdown",
   "metadata": {
    "slideshow": {
     "slide_type": "fragment"
    }
   },
   "source": [
    "One nice thing about this syntax is that it almost reads like English: “end is after start?”"
   ]
  },
  {
   "cell_type": "markdown",
   "metadata": {},
   "source": [
    "Additionally, arguments in a function of method can be either **positional arguments** or **keyword arguments**.\n",
    "\n",
    "A *positional argment* does not have a parameter name. This is the case of all parameters we have introduced so far.\n",
    "\n",
    "A *keyword argument* does have a parameter name. Let us consider a small example.\n",
    "\n",
    "By the way, a positional argument is an argument that does not have a parameter name;\n",
    "that is, it is not a keyword argument. In this function call:\n",
    "sketch(parrot, cage, dead=True)\n",
    "parrot and cage are positional, and dead is a keyword argument."
   ]
  },
  {
   "cell_type": "code",
   "execution_count": 21,
   "metadata": {},
   "outputs": [
    {
     "name": "stdout",
     "output_type": "stream",
     "text": [
      "21:45:00 Log in\n",
      "21:45:00 None\n"
     ]
    }
   ],
   "source": [
    "def print_event_time(time : Time, event=\"None\"):\n",
    "    print('{:02d}:{:02d}:{:02d} {}'.format(time.hour, time.minute, time.second, event))\n",
    "          \n",
    "print_event_time(start, event=\"Log in\")\n",
    "print_event_time(start)"
   ]
  },
  {
   "cell_type": "markdown",
   "metadata": {},
   "source": [
    "In this case, `time` is a positional argument, while `event` is a keyword argument."
   ]
  },
  {
   "cell_type": "markdown",
   "metadata": {
    "slideshow": {
     "slide_type": "slide"
    }
   },
   "source": [
    "## The `init` Method\n",
    "\n",
    "The init method (short for “initialization”) is a special method that gets invoked when an\n",
    "object is created. Its full name is `__init__` (two underscore characters, followed by\n",
    "init, and then two more underscores). \n",
    "\n",
    "Its purpose is to initialize a new object, this is the *constructor* method. When the object is created, for instance via `Time(11, 43, 51)`, the parameters are passed to the created object.\n",
    "\n",
    "An `init` method for the `Time` class is shown in the next cell."
   ]
  },
  {
   "cell_type": "code",
   "execution_count": 22,
   "metadata": {
    "slideshow": {
     "slide_type": "fragment"
    }
   },
   "outputs": [],
   "source": [
    "class Time:\n",
    "    \"\"\"Represents the time of day.\"\"\"\n",
    "\n",
    "    def __init__(self, hour=0, minute=0, second=0):\n",
    "        \"\"\" creates a new Time object and initializes it\n",
    "        \"\"\"\n",
    "        self.hour : int = hour\n",
    "        self.minute : int = minute\n",
    "        self.second : int = second\n",
    "            \n",
    "    def print_time(self) -> None:\n",
    "        \"\"\" prints a Time object\n",
    "        \"\"\"\n",
    "        print('{:02d}:{:02d}:{:02d}'.format(self.hour, self.minute, self.second)) \n",
    "        \n",
    "    def time_to_int(self) -> int:\n",
    "        \"\"\" converts a Time object into an integer value respresenting seconds\n",
    "        \"\"\"\n",
    "        minutes : int = 60 * self.hour + self.minute\n",
    "        seconds : int = 60 * minutes + self.second\n",
    "        return seconds\n",
    "            \n",
    "    def increment(self, seconds : int):\n",
    "        \"\"\" increments a Time object with an amount of seconds (represented as an integer)\n",
    "        \"\"\"\n",
    "        seconds += self.time_to_int()\n",
    "        return int_to_time(seconds)\n",
    "    \n",
    "    def is_after(self, other) -> bool:\n",
    "        \"\"\" checks whether the current time is after the given time\n",
    "        \"\"\"\n",
    "        return self.time_to_int() > other.time_to_int()\n",
    "\n",
    "def int_to_time(seconds : int) -> Time:\n",
    "    \"\"\" converts a values representing seconds into a Time object\n",
    "    \"\"\"\n",
    "    time : Time = Time()\n",
    "    minutes, time.second = divmod(seconds, 60)\n",
    "    time.hour, time.minute = divmod(minutes, 60)\n",
    "    \n",
    "    # fix with hours if greater than 24\n",
    "    if time.hour >= 24:\n",
    "        time.hour -= 24\n",
    "        \n",
    "    return time"
   ]
  },
  {
   "cell_type": "code",
   "execution_count": 24,
   "metadata": {
    "slideshow": {
     "slide_type": "fragment"
    }
   },
   "outputs": [
    {
     "name": "stdout",
     "output_type": "stream",
     "text": [
      "00:00:00\n",
      "25:43:51\n"
     ]
    }
   ],
   "source": [
    "start : Time = Time()\n",
    "start.print_time()\n",
    "end : Time = Time(25, 43, 51)\n",
    "end.print_time()"
   ]
  },
  {
   "cell_type": "markdown",
   "metadata": {
    "slideshow": {
     "slide_type": "fragment"
    }
   },
   "source": [
    "As you can see this results in an invalid time representation!\n",
    "\n",
    "Here are two alternative implementations for `__init__`."
   ]
  },
  {
   "cell_type": "code",
   "execution_count": 27,
   "metadata": {
    "slideshow": {
     "slide_type": "fragment"
    }
   },
   "outputs": [],
   "source": [
    "class Time:\n",
    "    \"\"\"Represents the time of day.\"\"\"\n",
    "\n",
    "    def __init__(self, hour=0, minute=0, second=0) -> None:\n",
    "        \"\"\" creates a new Time object and initializes it,\n",
    "            if at least proper values are provided.\n",
    "        \"\"\"\n",
    "        if (0 <= hour < 24 and 0 <= minute < 59 and 0 <= second < 59):\n",
    "            self.hour : int = hour\n",
    "            self.minute : int = minute\n",
    "            self.second : int = second\n",
    "        else:\n",
    "            self.hour : int = 0\n",
    "            self.minute : int = 0\n",
    "            self.second : int = 0\n",
    "            print(\"Trying to create an invalid time representation!\")\n",
    "            \n",
    "    def print_time(self) -> None:\n",
    "        \"\"\" prints a Time object\n",
    "        \"\"\"\n",
    "        print('{:02d}:{:02d}:{:02d}'.format(self.hour, self.minute, self.second)) \n",
    "        \n",
    "    def time_to_int(self) -> int:\n",
    "        \"\"\" converts a Time object into an integer value respresenting seconds\n",
    "        \"\"\"\n",
    "        minutes : int = 60 * self.hour + self.minute\n",
    "        seconds : int = 60 * minutes + self.second\n",
    "        return seconds\n",
    "            \n",
    "    def increment(self, seconds : int):\n",
    "        \"\"\" increments a Time object with an amount of seconds (represented as an integer)\n",
    "        \"\"\"\n",
    "        seconds += self.time_to_int()\n",
    "        return int_to_time(seconds)\n",
    "    \n",
    "    def is_after(self, other) -> bool:\n",
    "        \"\"\" checks whether the current time is after the given time\n",
    "        \"\"\"\n",
    "        return self.time_to_int() > other.time_to_int()\n",
    "\n",
    "def int_to_time(seconds : int) -> Time:\n",
    "    \"\"\" converts a values representing seconds into a Time object\n",
    "    \"\"\"\n",
    "    time : Time = Time()\n",
    "    minutes, time.second = divmod(seconds, 60)\n",
    "    time.hour, time.minute = divmod(minutes, 60)\n",
    "    \n",
    "    # fix with hours if greater than 24\n",
    "    if time.hour >= 24:\n",
    "        time.hour -= 24\n",
    "        \n",
    "    return time"
   ]
  },
  {
   "cell_type": "markdown",
   "metadata": {
    "slideshow": {
     "slide_type": "fragment"
    }
   },
   "source": [
    "Or:"
   ]
  },
  {
   "cell_type": "code",
   "execution_count": 30,
   "metadata": {
    "slideshow": {
     "slide_type": "fragment"
    }
   },
   "outputs": [],
   "source": [
    "class Time:\n",
    "    \"\"\"Represents the time of day.\"\"\"\n",
    "\n",
    "    def __init__(self, hour=0, minute=0, second=0) -> None:\n",
    "        \"\"\" creates a new Time object and initializes it\n",
    "        \"\"\"\n",
    "        (ignore, self.hour) = divmod(hour, 24)\n",
    "        (ignore, self.minute) = divmod(minute, 60)\n",
    "        (ignore, self.second) = divmod(second, 60)\n",
    "\n",
    "    def print_time(self) -> None:\n",
    "        \"\"\" prints a Time object\n",
    "        \"\"\"\n",
    "        print('{:02d}:{:02d}:{:02d}'.format(self.hour, self.minute, self.second)) \n",
    "                \n",
    "    def time_to_int(self) -> int:\n",
    "        \"\"\" converts a Time object into an integer value respresenting seconds\n",
    "        \"\"\"\n",
    "        minutes : int = 60 * self.hour + self.minute\n",
    "        seconds : int = 60 * minutes + self.second\n",
    "        return seconds\n",
    "            \n",
    "    def increment(self, seconds : int):\n",
    "        \"\"\" increments a Time object with an amount of seconds (represented as an integer)\n",
    "        \"\"\"\n",
    "        seconds += self.time_to_int()\n",
    "        return int_to_time(seconds)\n",
    "    \n",
    "    def is_after(self, other) -> bool:\n",
    "        \"\"\" checks whether the current time is after the given time\n",
    "        \"\"\"\n",
    "        return self.time_to_int() > other.time_to_int()\n",
    "\n",
    "def int_to_time(seconds : int) -> Time:\n",
    "    \"\"\" converts a values representing seconds into a Time object\n",
    "    \"\"\"\n",
    "    time : Time = Time()\n",
    "    minutes, time.second = divmod(seconds, 60)\n",
    "    time.hour, time.minute = divmod(minutes, 60)\n",
    "    \n",
    "    # fix with hours if greater than 24\n",
    "    if time.hour >= 24:\n",
    "        time.hour -= 24\n",
    "        \n",
    "    return time"
   ]
  },
  {
   "cell_type": "code",
   "execution_count": 31,
   "metadata": {
    "slideshow": {
     "slide_type": "fragment"
    }
   },
   "outputs": [
    {
     "name": "stdout",
     "output_type": "stream",
     "text": [
      "00:00:00\n",
      "01:43:51\n"
     ]
    }
   ],
   "source": [
    "start : Time = Time()\n",
    "start.print_time()\n",
    "end : Time = Time(25, 43, 51)\n",
    "end.print_time()"
   ]
  },
  {
   "cell_type": "markdown",
   "metadata": {
    "slideshow": {
     "slide_type": "fragment"
    }
   },
   "source": [
    "If you provide one argument, it overrides `hour`:"
   ]
  },
  {
   "cell_type": "code",
   "execution_count": 32,
   "metadata": {
    "slideshow": {
     "slide_type": "fragment"
    }
   },
   "outputs": [
    {
     "name": "stdout",
     "output_type": "stream",
     "text": [
      "09:00:00\n"
     ]
    }
   ],
   "source": [
    "start : Time = Time(9)\n",
    "start.print_time()"
   ]
  },
  {
   "cell_type": "markdown",
   "metadata": {
    "slideshow": {
     "slide_type": "fragment"
    }
   },
   "source": [
    "If you provide two arguments, it overrides `hour` and `minutes`:"
   ]
  },
  {
   "cell_type": "code",
   "execution_count": null,
   "metadata": {
    "slideshow": {
     "slide_type": "fragment"
    }
   },
   "outputs": [],
   "source": [
    "start : Time = Time(9, 45)\n",
    "start.print_time()"
   ]
  },
  {
   "cell_type": "markdown",
   "metadata": {
    "slideshow": {
     "slide_type": "fragment"
    }
   },
   "source": [
    "If you provide all three arguments, they override all three default values."
   ]
  },
  {
   "cell_type": "markdown",
   "metadata": {
    "jupyter": {
     "source_hidden": true
    },
    "tags": []
   },
   "source": [
    "```{admonition} Do It Yourself!\n",
    ":class: seealso, dropdown\n",
    "Do you remember the <i>Dog</i> class? Well, let's define it again but this time you should provide a constructor. The attributes of a dog are its name and its breed.\n",
    "```"
   ]
  },
  {
   "cell_type": "code",
   "execution_count": null,
   "metadata": {
    "jupyter": {
     "source_hidden": true
    },
    "tags": []
   },
   "outputs": [],
   "source": [
    "# Remove this line and add your code here"
   ]
  },
  {
   "cell_type": "markdown",
   "metadata": {
    "slideshow": {
     "slide_type": "slide"
    }
   },
   "source": [
    "## The `__str__` Method\n",
    "\n",
    "`__str__` is a special method, like `__init__`, that is supposed to return a string representation\n",
    "of an object."
   ]
  },
  {
   "cell_type": "code",
   "execution_count": 33,
   "metadata": {
    "slideshow": {
     "slide_type": "fragment"
    }
   },
   "outputs": [],
   "source": [
    "class Time:\n",
    "    \"\"\"Represents the time of day.\"\"\"\n",
    "\n",
    "    def __init__(self, hour=0, minute=0, second=0) -> None:\n",
    "        \"\"\" creates a new Time object and initializes it\n",
    "        \"\"\"\n",
    "        (ignore, self.hour) = divmod(hour, 24)\n",
    "        (ignore, self.minute) = divmod(minute, 60)\n",
    "        (ignore, self.second) = divmod(second, 60)\n",
    "        \n",
    "    def __str__(self) -> str:\n",
    "        \"\"\" creates a string from the current Time object\n",
    "        \"\"\"\n",
    "        return '{:02d}:{:02d}:{:02d}'.format(self.hour, self.minute, self.second)\n",
    "    \n",
    "    def time_to_int(self) -> int:\n",
    "        \"\"\" converts a Time object into an integer value respresenting seconds\n",
    "        \"\"\"\n",
    "        minutes : int = 60 * self.hour + self.minute\n",
    "        seconds : int = 60 * minutes + self.second\n",
    "        return seconds\n",
    "            \n",
    "    def increment(self, seconds : int):\n",
    "        \"\"\" increments a Time object with an amount of seconds (represented as an integer)\n",
    "        \"\"\"\n",
    "        seconds += self.time_to_int()\n",
    "        return int_to_time(seconds)\n",
    "    \n",
    "    def is_after(self, other) -> bool:\n",
    "        \"\"\" checks whether the current time is after the given time\n",
    "        \"\"\"\n",
    "        return self.time_to_int() > other.time_to_int()\n",
    "\n",
    "def int_to_time(seconds : int) -> Time:\n",
    "    \"\"\" converts a values representing seconds into a Time object\n",
    "    \"\"\"\n",
    "    time : Time = Time()\n",
    "    minutes, time.second = divmod(seconds, 60)\n",
    "    time.hour, time.minute = divmod(minutes, 60)\n",
    "    \n",
    "    # fix with hours if greater than 24\n",
    "    if time.hour >= 24:\n",
    "        time.hour -= 24\n",
    "        \n",
    "    return time"
   ]
  },
  {
   "cell_type": "code",
   "execution_count": 35,
   "metadata": {
    "slideshow": {
     "slide_type": "fragment"
    }
   },
   "outputs": [
    {
     "name": "stdout",
     "output_type": "stream",
     "text": [
      "01:45:30\n"
     ]
    }
   ],
   "source": [
    "start : Time = Time(25, 45, 30)\n",
    "print(start)"
   ]
  },
  {
   "cell_type": "markdown",
   "metadata": {
    "slideshow": {
     "slide_type": "fragment"
    }
   },
   "source": [
    "When you print an object, Python invokes the str method.\n",
    "\n",
    "It is a good habit to start a class with the `__init__` method, in order to initialize, and\n",
    "to write `__str__`, for debugging."
   ]
  },
  {
   "cell_type": "markdown",
   "metadata": {
    "jupyter": {
     "source_hidden": true
    },
    "tags": []
   },
   "source": [
    "```{admonition} Do It Yourself!\n",
    ":class: seealso, dropdown\n",
    "Let's add a <i>__str__</i> method to the <i>Dog</i> class. You should return the string: \"This dog is called <i>name</i> and it is a <i>breed</i>\".\n",
    "```"
   ]
  },
  {
   "cell_type": "code",
   "execution_count": null,
   "metadata": {
    "jupyter": {
     "source_hidden": true
    },
    "tags": []
   },
   "outputs": [],
   "source": [
    "# Remove this line and add your code here"
   ]
  },
  {
   "cell_type": "markdown",
   "metadata": {},
   "source": [
    "## A Bit of OO Theory\n",
    "\n",
    "Classes and objects are powerful programming tools. They allow good programmers to be very effective, but if wrongly used they create a mess and hard to maintain code.\n",
    "\n",
    "### Encapsulation\n",
    "\n",
    "*Encapsulation* means enclosing something in a kind of container. Encapsulation in programming means bringing data and code together in one place and hiding the details of both and the interaction between both.\n",
    "\n",
    "Good encapsulation ensures that a programmer does not need to dive into the details of the implementation.\n",
    "\n",
    "### Polymorphism\n",
    "\n",
    "*Polymorphism* means *having more than one form*. In programming, it means that a function can be applied to different data types and a type may influence the behaviour of the function.\n",
    "\n",
    "To be discussed in more detail in the following section.\n",
    "\n",
    "### Inheritance\n",
    "\n",
    "Polymorphism can be implemented by having a method with the same name implemented in various classes.\n",
    "\n",
    "However, this approach is tedious and error prone: we need to copy a lot of *boilerplate* code. Forgetting to add such a method to your code can make it fail.\n",
    "\n",
    "A better approach is to use another feature of object oriented programming: *inheritance*, which allows you to reuse code in a different way.\n",
    "\n",
    "When you create a class, you are using *inheritance*: your created class inherits *all* attributes of the class `object`. This is similar to inheriting characteristics of your parents as their child.\n",
    "\n",
    "To be discussed in more detail in the following chapter."
   ]
  },
  {
   "cell_type": "markdown",
   "metadata": {
    "slideshow": {
     "slide_type": "slide"
    }
   },
   "source": [
    "## Operator Overloading\n",
    "\n",
    "By defining other special methods, you can specify the behavior of operators on\n",
    "programmer-defined types. \n",
    "\n",
    "If you define a method named `__add__` for the\n",
    "`Time` class, you can use the `+` operator on `Time` objects."
   ]
  },
  {
   "cell_type": "code",
   "execution_count": 36,
   "metadata": {
    "slideshow": {
     "slide_type": "fragment"
    }
   },
   "outputs": [],
   "source": [
    "class Time:\n",
    "    \"\"\"Represents the time of day.\"\"\"\n",
    "\n",
    "    def __init__(self, hour=0, minute=0, second=0) -> None:\n",
    "        \"\"\" creates a new Time object and initializes it\n",
    "        \"\"\"\n",
    "        (ignore, self.hour) = divmod(hour, 24)\n",
    "        (ignore, self.minute) = divmod(minute, 60)\n",
    "        (ignore, self.second) = divmod(second, 60)\n",
    "        \n",
    "    def __str__(self) -> str:\n",
    "        \"\"\" creates a string from the current Time object\n",
    "        \"\"\"\n",
    "        return '{:02d}:{:02d}:{:02d}'.format(self.hour, self.minute, self.second)\n",
    "    \n",
    "    def time_to_int(self) -> int:\n",
    "        \"\"\" converts a Time object into an integer value respresenting seconds\n",
    "        \"\"\"\n",
    "        minutes : int = 60 * self.hour + self.minute\n",
    "        seconds : int = 60 * minutes + self.second\n",
    "        return seconds\n",
    "            \n",
    "    def increment(self, seconds : int):\n",
    "        \"\"\" increments a Time object with an amount of seconds (represented as an integer)\n",
    "        \"\"\"\n",
    "        seconds += self.time_to_int()\n",
    "        return int_to_time(seconds)\n",
    "    \n",
    "    def is_after(self, other) -> bool:\n",
    "        \"\"\" checks whether the current time is after the given time\n",
    "        \"\"\"\n",
    "        return self.time_to_int() > other.time_to_int()\n",
    "    \n",
    "    def __add__(self, other):\n",
    "        \"\"\" adds a Time object to the current Time object\n",
    "        \"\"\"\n",
    "        seconds : int = self.time_to_int() + other.time_to_int()\n",
    "        return int_to_time(seconds)\n",
    "\n",
    "def int_to_time(seconds : int) -> Time:\n",
    "    \"\"\" converts a values representing seconds into a Time object\n",
    "    \"\"\"\n",
    "    time : Time = Time()\n",
    "    minutes, time.second = divmod(seconds, 60)\n",
    "    time.hour, time.minute = divmod(minutes, 60)\n",
    "    \n",
    "    # fix with hours if greater than 24\n",
    "    if time.hour >= 24:\n",
    "        time.hour -= 24\n",
    "        \n",
    "    return time"
   ]
  },
  {
   "cell_type": "code",
   "execution_count": 37,
   "metadata": {
    "slideshow": {
     "slide_type": "fragment"
    }
   },
   "outputs": [
    {
     "name": "stdout",
     "output_type": "stream",
     "text": [
      "10:01:00\n"
     ]
    }
   ],
   "source": [
    "start : Time = Time(9, 45, 30)\n",
    "duration : Time = Time(0, 15, 30)\n",
    "print(start + duration)"
   ]
  },
  {
   "cell_type": "markdown",
   "metadata": {
    "slideshow": {
     "slide_type": "fragment"
    }
   },
   "source": [
    "When you apply the `+` operator to `Time` objects, Python invokes `__add__`. \n",
    "\n",
    "When you print the result, Python invokes `__str__`. \n",
    "\n",
    "Changing the behavior of an operator so that it works with programmer-defined types is\n",
    "called **operator overloading**. \n",
    "\n",
    "For every operator in Python there is a corresponding special\n",
    "method, like `__add__`. \n",
    "\n",
    "For more details, see http://docs.python.org/3/reference/datamodel.html#specialnames"
   ]
  },
  {
   "cell_type": "markdown",
   "metadata": {
    "jupyter": {
     "source_hidden": true
    },
    "tags": []
   },
   "source": [
    "```{admonition} Do It Yourself!\n",
    ":class: seealso, dropdown\n",
    "Overload the &gt; operator for the <i>Time</i> class. Use the definition provided for the method <i>is_after</i>.\n",
    "```"
   ]
  },
  {
   "cell_type": "code",
   "execution_count": null,
   "metadata": {
    "jupyter": {
     "source_hidden": true
    },
    "tags": []
   },
   "outputs": [],
   "source": [
    "# Remove this line and add your code here"
   ]
  },
  {
   "cell_type": "markdown",
   "metadata": {
    "slideshow": {
     "slide_type": "slide"
    }
   },
   "source": [
    "## Type-based Dispatch\n",
    "\n",
    "The `__add__` method introduced in the previous section, adds two `Time` objects. \n",
    "\n",
    "It would be convenient to use the `__add__` method to add an integer value (representing an amount of seconds) to a `Time` object.\n",
    "\n",
    "The following is a version of `__add__` that checks the type of\n",
    "other and invokes either `add_time` or `increment`."
   ]
  },
  {
   "cell_type": "code",
   "execution_count": 38,
   "metadata": {
    "slideshow": {
     "slide_type": "fragment"
    }
   },
   "outputs": [],
   "source": [
    "class Time:\n",
    "    \"\"\"Represents the time of day.\"\"\"\n",
    "\n",
    "    def __init__(self, hour=0, minute=0, second=0) -> None:\n",
    "        \"\"\" creates a new Time object and initializes it\n",
    "        \"\"\"\n",
    "        (ignore, self.hour) = divmod(hour, 24)\n",
    "        (ignore, self.minute) = divmod(minute, 60)\n",
    "        (ignore, self.second) = divmod(second, 60)\n",
    "        \n",
    "    def __str__(self) -> str:\n",
    "        \"\"\" creates a string from the current Time object\n",
    "        \"\"\"\n",
    "        return '{:02d}:{:02d}:{:02d}'.format(self.hour, self.minute, self.second)\n",
    "    \n",
    "    def time_to_int(self) -> int:\n",
    "        \"\"\" converts a Time object into an integer value respresenting seconds\n",
    "        \"\"\"\n",
    "        minutes : int = 60 * self.hour + self.minute\n",
    "        seconds : int = 60 * minutes + self.second\n",
    "        return seconds\n",
    "            \n",
    "    def increment(self, seconds : int):\n",
    "        \"\"\" increments a Time object with an amount of seconds (represented as an integer)\n",
    "        \"\"\"\n",
    "        seconds += self.time_to_int()\n",
    "        return int_to_time(seconds)\n",
    "    \n",
    "    def is_after(self, other) -> bool:\n",
    "        \"\"\" checks whether the current time is after the given time\n",
    "        \"\"\"\n",
    "        return self.time_to_int() > other.time_to_int()\n",
    "    \n",
    "    def add_time(self, other):\n",
    "        \"\"\" adds a Time object to the current Time object\n",
    "        \"\"\"\n",
    "        seconds : int = self.time_to_int() + other.time_to_int()\n",
    "        return int_to_time(seconds)\n",
    "    \n",
    "    def __add__(self, other : any):\n",
    "        \"\"\" adds a Time object or an amount of seconds to the current Time object\n",
    "        \"\"\"\n",
    "        if isinstance(other, Time):\n",
    "            return self.add_time(other)\n",
    "        else:\n",
    "            return self.increment(other)\n",
    "\n",
    "def int_to_time(seconds : int) -> Time:\n",
    "    \"\"\" converts a values representing seconds into a Time object\n",
    "    \"\"\"\n",
    "    time : Time = Time()\n",
    "    minutes, time.second = divmod(seconds, 60)\n",
    "    time.hour, time.minute = divmod(minutes, 60)\n",
    "    \n",
    "    # fix with hours if greater than 24\n",
    "    if time.hour >= 24:\n",
    "        time.hour -= 24\n",
    "        \n",
    "    return time"
   ]
  },
  {
   "cell_type": "code",
   "execution_count": 40,
   "metadata": {
    "slideshow": {
     "slide_type": "fragment"
    }
   },
   "outputs": [
    {
     "name": "stdout",
     "output_type": "stream",
     "text": [
      "10:45:30\n",
      "11:45:30\n"
     ]
    }
   ],
   "source": [
    "start : Time = Time(9, 45, 30)\n",
    "print(start + 3600)\n",
    "duration : Time = Time(2)\n",
    "print(start+duration)"
   ]
  },
  {
   "cell_type": "markdown",
   "metadata": {
    "slideshow": {
     "slide_type": "fragment"
    }
   },
   "source": [
    "The built-in function `isinstance` takes a value and a class object, and returns `True` if the value is an instance of the class.\n",
    "\n",
    "If other is a `Time` object, `__add__` calls `add_time`. \n",
    "\n",
    "Otherwise, it assumes that the parameter is a number and calls `increment`.\n",
    "\n",
    "This operation is called a **type-based dispatch** because it dispatches the computation to different methods based on the type of the arguments.\n",
    "\n",
    "In object-oriented languages this is a common concept; another name is **dynamic dispatch**."
   ]
  },
  {
   "cell_type": "markdown",
   "metadata": {
    "jupyter": {
     "source_hidden": true
    },
    "tags": []
   },
   "source": [
    "```{admonition} Do It Yourself!\n",
    ":class: seealso, dropdown\n",
    "Modify the definition of the &gt; operator for the <i>Time</i> class, so it also compares the Time object against an integer. Use the `time_to_int()` method to support the comparison.\n",
    "```"
   ]
  },
  {
   "cell_type": "code",
   "execution_count": null,
   "metadata": {
    "jupyter": {
     "source_hidden": true
    },
    "tags": []
   },
   "outputs": [],
   "source": [
    "# Remove this line and add your code here"
   ]
  },
  {
   "cell_type": "markdown",
   "metadata": {
    "slideshow": {
     "slide_type": "fragment"
    }
   },
   "source": [
    "Unfortunately, this implementation of addition is not commutative. If the integer is the\n",
    "first operand, you get an error message."
   ]
  },
  {
   "cell_type": "code",
   "execution_count": null,
   "metadata": {
    "slideshow": {
     "slide_type": "fragment"
    }
   },
   "outputs": [],
   "source": [
    "print(3630 + start)"
   ]
  },
  {
   "cell_type": "markdown",
   "metadata": {
    "slideshow": {
     "slide_type": "fragment"
    }
   },
   "source": [
    "The problem is, instead of asking the `Time` object to add an integer, Python is asking an\n",
    "integer to add a `Time` object, and it does not know how. \n",
    "\n",
    "But there is a clever solution for this problem: the special method `__radd__`, which stands for “right-side add”. \n",
    "\n",
    "This method\n",
    "is invoked when a `Time` object appears on the right side of the `+` operator. "
   ]
  },
  {
   "cell_type": "code",
   "execution_count": null,
   "metadata": {
    "slideshow": {
     "slide_type": "fragment"
    }
   },
   "outputs": [],
   "source": [
    "class Time:\n",
    "    \"\"\"Represents the time of day.\"\"\"\n",
    "\n",
    "    def __init__(self, hour=0, minute=0, second=0) -> None:\n",
    "        \"\"\" creates a new Time object and initializes it\n",
    "        \"\"\"\n",
    "        (ignore, self.hour) = divmod(hour, 24)\n",
    "        (ignore, self.minute) = divmod(minute, 60)\n",
    "        (ignore, self.second) = divmod(second, 60)\n",
    "        \n",
    "    def __str__(self) -> str:\n",
    "        \"\"\" creates a string from the current Time object\n",
    "        \"\"\"\n",
    "        return '{:02d}:{:02d}:{:02d}'.format(self.hour, self.minute, self.second)\n",
    "    \n",
    "    def time_to_int(self) -> int:\n",
    "        \"\"\" converts a Time object into an integer value respresenting seconds\n",
    "        \"\"\"\n",
    "        minutes : int = 60 * self.hour + self.minute\n",
    "        seconds : int = 60 * minutes + self.second\n",
    "        return seconds\n",
    "            \n",
    "    def increment(self, seconds : int):\n",
    "        \"\"\" increments a Time object with an amount of seconds (represented as an integer)\n",
    "        \"\"\"\n",
    "        seconds += self.time_to_int()\n",
    "        return int_to_time(seconds)\n",
    "    \n",
    "    def is_after(self, other) -> bool:\n",
    "        \"\"\" checks whether the current time is after the given time\n",
    "        \"\"\"\n",
    "        return self.time_to_int() > other.time_to_int()\n",
    "    \n",
    "    def add_time(self, other):\n",
    "        \"\"\" adds a Time object to the current Time object\n",
    "        \"\"\"\n",
    "        seconds : int = self.time_to_int() + other.time_to_int()\n",
    "        return int_to_time(seconds)\n",
    "    \n",
    "    def __add__(self, other : any):\n",
    "        \"\"\" adds a Time object or an amount of seconds to the current Time object\n",
    "        \"\"\"\n",
    "        if isinstance(other, Time):\n",
    "            return self.add_time(other)\n",
    "        else:\n",
    "            return self.increment(other)\n",
    "\n",
    "    def __radd__(self, other : any):\n",
    "        \"\"\" flips the arguments if needed\n",
    "        \"\"\"\n",
    "        return self.__add__(other)\n",
    "    \n",
    "def int_to_time(seconds : int) -> Time:\n",
    "    \"\"\" converts a values representing seconds into a Time object\n",
    "    \"\"\"\n",
    "    time : Time = Time()\n",
    "    minutes, time.second = divmod(seconds, 60)\n",
    "    time.hour, time.minute = divmod(minutes, 60)\n",
    "    \n",
    "    # fix with hours if greater than 24\n",
    "    if time.hour >= 24:\n",
    "        time.hour -= 24\n",
    "        \n",
    "    return time"
   ]
  },
  {
   "cell_type": "code",
   "execution_count": null,
   "metadata": {
    "slideshow": {
     "slide_type": "fragment"
    }
   },
   "outputs": [],
   "source": [
    "start : Time = Time(9, 45, 30)\n",
    "print(3630 + start)\n",
    "print(3630 + start + 363)"
   ]
  },
  {
   "cell_type": "markdown",
   "metadata": {
    "slideshow": {
     "slide_type": "slide"
    }
   },
   "source": [
    "## Polymorphism\n",
    "\n",
    "Type-based dispatch is useful when it is necessary, but (fortunately) it is not always necessary.\n",
    "\n",
    "Often you can avoid it by writing functions that work correctly for arguments with different types.\n",
    "\n",
    "Many of the functions we wrote for strings also work for other sequence types. \n",
    "\n",
    "In Section 11.2 we used `histogram` to count the number of times each letter appears in a word."
   ]
  },
  {
   "cell_type": "code",
   "execution_count": null,
   "metadata": {
    "slideshow": {
     "slide_type": "fragment"
    }
   },
   "outputs": [],
   "source": [
    "def histogram(s : list) -> dict:\n",
    "    \"\"\" creates a histogram from a list of elements\n",
    "    \"\"\"\n",
    "    d = dict()\n",
    "    for c in s:\n",
    "        if c not in d:\n",
    "            d[c] = 1\n",
    "        else:\n",
    "            d[c] = d[c] + 1\n",
    "    return d"
   ]
  },
  {
   "cell_type": "markdown",
   "metadata": {
    "slideshow": {
     "slide_type": "fragment"
    }
   },
   "source": [
    "The function `histogram` works on a list of words."
   ]
  },
  {
   "cell_type": "code",
   "execution_count": null,
   "metadata": {
    "slideshow": {
     "slide_type": "fragment"
    }
   },
   "outputs": [],
   "source": [
    "t = ['data', 'science', 'statistics', 'machine', 'learning', 'computer', 'science']\n",
    "histogram(t)"
   ]
  },
  {
   "cell_type": "markdown",
   "metadata": {
    "slideshow": {
     "slide_type": "fragment"
    }
   },
   "source": [
    "Or on a list of prime numbers."
   ]
  },
  {
   "cell_type": "code",
   "execution_count": null,
   "metadata": {},
   "outputs": [],
   "source": [
    "p = [3, 7, 11, 13, 3, 5, 23, 13, 3]\n",
    "histogram(p)"
   ]
  },
  {
   "cell_type": "markdown",
   "metadata": {
    "slideshow": {
     "slide_type": "fragment"
    }
   },
   "source": [
    "Functions that work with several types are called **polymorphic**.\n",
    "\n",
    "Polymorphism can facilitate code reuse.\n",
    "\n",
    "For example, the built-in function `sum`, which adds the elements of a\n",
    "sequence, works as long as the elements of the sequence support addition.\n",
    "\n",
    "Since `Time` objects provide an `add` method, they work with `sum`."
   ]
  },
  {
   "cell_type": "code",
   "execution_count": null,
   "metadata": {
    "slideshow": {
     "slide_type": "fragment"
    }
   },
   "outputs": [],
   "source": [
    "t1 : Time = Time(7, 43)\n",
    "t2 : Time = Time(7, 41)\n",
    "t3 : Time = Time(7, 37)\n",
    "\n",
    "total_time : Time = sum([t1, t2, t3])\n",
    "print(total_time)\n",
    "\n",
    "total_value : int = sum([3, 7, 11, 13, 3, 5, 23, 13, 3])\n",
    "print(total_value)"
   ]
  },
  {
   "cell_type": "markdown",
   "metadata": {
    "slideshow": {
     "slide_type": "fragment"
    }
   },
   "source": [
    "In general, if all of the operations inside a function work with a given type, the function\n",
    "works with that type.\n",
    "\n",
    "The best kind of polymorphism is the unintentional kind, where you discover that a function\n",
    "you already wrote can be applied to a type you never planned for."
   ]
  },
  {
   "cell_type": "markdown",
   "metadata": {
    "jupyter": {
     "source_hidden": true
    },
    "tags": []
   },
   "source": [
    "```{admonition} Do It Yourself!\n",
    ":class: seealso, dropdown\n",
    "Let's analyse the `len()` function. create a list of integers and string and store each value on a different variable. Then call the function with each one of them. Can we say that the `len()` function is polymorphic or not?\n",
    "```"
   ]
  },
  {
   "cell_type": "code",
   "execution_count": null,
   "metadata": {
    "jupyter": {
     "source_hidden": true
    },
    "tags": []
   },
   "outputs": [],
   "source": [
    "# Remove this line and add your code here"
   ]
  },
  {
   "cell_type": "markdown",
   "metadata": {
    "slideshow": {
     "slide_type": "fragment"
    }
   },
   "source": [
    "## Interface and Implementation\n",
    "\n",
    "One of the goals of object-oriented design is to make software more maintainable, which means that you can keep the program working when other parts of the system change, and modify the program to meet new requirements.\n",
    "\n",
    "A design principle that helps achieve that goal is to keep interfaces separate from implementations. This is called **encapsulation**.\n",
    "\n",
    "For objects, that means that the methods a class provides should not depend on how the attributes are represented.\n",
    "\n",
    "For example, in this chapter we developed a class that represents a time of the day. \n",
    "\n",
    "Methods provided by this class include `time_to_int`, `is_after`, and `add_time`.\n",
    "\n",
    "We could implement those methods in several ways. \n",
    "\n",
    "The details of the implementation\n",
    "depend on how we represent time. \n",
    "\n",
    "In this chapter, the attributes of a `Time` object are `hour`,\n",
    "`minute`, and `second`.\n",
    "\n",
    "As an alternative, we could replace these attributes with a single integer representing the\n",
    "number of seconds since midnight. \n",
    "\n",
    "This implementation would make some methods, like\n",
    "`is_after`, easier to write, but it makes other methods harder.\n",
    "\n",
    "After you deploy a new class, you might discover a better implementation. \n",
    "\n",
    "If other parts\n",
    "of the program are using your class, it might be time-consuming and error-prone to change\n",
    "the interface.\n",
    "\n",
    "But if you designed the interface carefully, you can change the implementation without\n",
    "changing the interface, which means that other parts of the program do not have to change."
   ]
  }
 ],
 "metadata": {
  "kernelspec": {
   "display_name": "Python 3 (ipykernel)",
   "language": "python",
   "name": "python3"
  },
  "language_info": {
   "codemirror_mode": {
    "name": "ipython",
    "version": 3
   },
   "file_extension": ".py",
   "mimetype": "text/x-python",
   "name": "python",
   "nbconvert_exporter": "python",
   "pygments_lexer": "ipython3",
   "version": "3.9.5"
  }
 },
 "nbformat": 4,
 "nbformat_minor": 4
}
