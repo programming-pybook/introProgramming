{
 "cells": [
  {
   "cell_type": "markdown",
   "metadata": {
    "slideshow": {
     "slide_type": "slide"
    }
   },
   "source": [
    "# Sorting"
   ]
  },
  {
   "cell_type": "markdown",
   "metadata": {
    "slideshow": {
     "slide_type": "slide"
    }
   },
   "source": [
    "Sorting[^intro] is an operation that you need to perform frequently. There are multiple sorting algorithms, such as bubble sort, insertion sort, merge sort, quick sort, etc. Each algorithm has a different time complexity, this means the amount of time need to sort an array. \n",
    "\n",
    "Of course, Python offers built-in functions for sorting, e.g. `list.sort()`.\n",
    "\n",
    "But it is good to understand the basic principles of various sorting algorithms.\n",
    "\n",
    "[^intro]: This Jupyter Notebook is based on external content related to algorithms (e.g. searching and sorting)."
   ]
  },
  {
   "cell_type": "markdown",
   "metadata": {
    "slideshow": {
     "slide_type": "slide"
    }
   },
   "source": [
    "### Bubble Sort\n",
    "\n",
    "The first algorithm that will be discussed is *bubble sort*.\n",
    "\n",
    "The basic idea of *bubble sort* is to move the largest element to the end of a list, array, etc. \n",
    "\n",
    "We will use a list of elements for which the comparison operator `>` is defined.\n",
    "\n",
    "Suppose we have to sort the list `[4, 3, 5, 2, 1]`.\n",
    "\n",
    "In the first step the element `5` bubbles to the end of the list, giving `[4, 3, 2, 1, 5]`.\n",
    "\n",
    "In the second step the element `4` bubbles to the end of the list, but will not pass the element `5`, giving `[3, 2, 1, 4, 5]`.\n",
    "\n",
    "In the third step the element `3` bubbles to the end of the list, but will not pass the element `4`, giving `[2, 1, 3, 4, 5]`.\n",
    "\n",
    "In the fourth step the element `2` bubbles to the end of the list, but will not pass the element `3`, giving `[1, 2, 3, 4, 5]`.\n",
    "\n",
    "The first version of *bubble sort* is a recursive version."
   ]
  },
  {
   "cell_type": "code",
   "execution_count": null,
   "metadata": {
    "slideshow": {
     "slide_type": "fragment"
    }
   },
   "outputs": [],
   "source": [
    "from typing import List\n",
    "\n",
    "def bubble_to_end(lst : List[any]) -> List[any]:\n",
    "    \"\"\" moves the largest element to the end of the list\"\"\"\n",
    "    \n",
    "    if len(lst) <= 1:   # Stop condition for moving\n",
    "        return lst\n",
    "    else:\n",
    "        if lst[0] > lst[1]:\n",
    "            # Swap the first and second elements in the row\n",
    "            lst[0], lst[1] = lst[1], lst[0] \n",
    "        first : any = lst[0]\n",
    "        return [first] + bubble_to_end(lst[1:])\n",
    "    \n",
    "def bubble_sort_r(unsorted : List[any]) -> List[any]:\n",
    "    \"\"\" sorts a list in a recursive way\n",
    "    >>> bubble_sort([3, 4, 7, -1, 2, 5])\n",
    "    [-1, 2, 3, 4, 5, 7]\n",
    "    >>> bubble_sort([])\n",
    "    []\n",
    "    >>> bubble_sort([5, 4, 3, 2, 1])\n",
    "    [1, 2, 3, 4, 5]\n",
    "    \"\"\"\n",
    "    \n",
    "    if len(unsorted) <= 1:  # Stop condition for sorting\n",
    "        return unsorted\n",
    "    else:\n",
    "        unsorted = bubble_to_end(unsorted)    #move (bubble) largest element to the end\n",
    "        print(unsorted)\n",
    "        last : any = unsorted.pop()               #remove last element and remember it\n",
    "        sortedList = bubble_sort_r(unsorted)\n",
    "        print(sortedList)\n",
    "        return sortedList + [last]  #sort the rest and concatenate last element\n",
    "    \n",
    "print(bubble_sort_r([4,3,5,2,1]))"
   ]
  },
  {
   "cell_type": "code",
   "execution_count": null,
   "metadata": {
    "slideshow": {
     "slide_type": "fragment"
    }
   },
   "outputs": [],
   "source": [
    "import doctest\n",
    "\n",
    "doctest.testmod(verbose=True)  # with details"
   ]
  },
  {
   "cell_type": "markdown",
   "metadata": {
    "slideshow": {
     "slide_type": "fragment"
    }
   },
   "source": [
    "The time complexity of the *bubble sort* algorithm is $n^2$ worst case.\n",
    "\n",
    "The next cell shows the iterative version of *bubble sort*, it has the same time complexity."
   ]
  },
  {
   "cell_type": "code",
   "execution_count": null,
   "metadata": {
    "slideshow": {
     "slide_type": "fragment"
    }
   },
   "outputs": [],
   "source": [
    "from typing import List\n",
    "\n",
    "def bubble_sort(unsorted : List[any]) -> List[any]:\n",
    "    \"\"\"sorts a list in a non-recursive way\n",
    "    >>> bubble_sort([3, 4, 7, -1, 2, 9, 5])\n",
    "    [-1, 2, 3, 4, 5, 7, 9]\n",
    "    >>> bubble_sort([])\n",
    "    []\n",
    "    >>> bubble_sort([6, 5, 4, 3, 2, 1])\n",
    "    [1, 2, 3, 4, 5, 6]\n",
    "    \"\"\"\n",
    "    \n",
    "    offset : int = 1\n",
    "    swapped : bool = True\n",
    "    while swapped:  #Non-terminating loop\n",
    "        swapped = False\n",
    "        #move the biggest element to the end of the list\n",
    "        for i in range(len(unsorted)-offset): \n",
    "            if unsorted[i] > unsorted[i+1]:\n",
    "                unsorted[i], unsorted[i+1] = unsorted[i+1], unsorted[i] #swap\n",
    "                swapped = True\n",
    "                \n",
    "        # you can ignore the last element(s) because they are sorted       \n",
    "        offset += 1\n",
    "        #print(unsorted)\n",
    "        #print(offset)\n",
    "        \n",
    "    return unsorted\n",
    "        \n",
    "print(bubble_sort([4,3,5,2,1]))"
   ]
  },
  {
   "cell_type": "code",
   "execution_count": null,
   "metadata": {
    "slideshow": {
     "slide_type": "fragment"
    }
   },
   "outputs": [],
   "source": [
    "doctest.testmod(verbose=True)  # with details"
   ]
  },
  {
   "cell_type": "code",
   "execution_count": null,
   "metadata": {},
   "outputs": [],
   "source": [
    "import random\n",
    "from typing import List\n",
    "\n",
    "i : int = 0\n",
    "rdlst : List[int] = []\n",
    "    \n",
    "while i < 10000:\n",
    "    rdnr : int = random.randint(0,1000000)\n",
    "    if rdnr not in rdlst:\n",
    "        rdlst = rdlst + [rdnr]\n",
    "    i += 1\n",
    "    \n",
    "#print(rdlst)"
   ]
  },
  {
   "cell_type": "markdown",
   "metadata": {},
   "source": [
    "Again some timing measurements."
   ]
  },
  {
   "cell_type": "code",
   "execution_count": null,
   "metadata": {},
   "outputs": [],
   "source": [
    "import time\n",
    "\n",
    "org_lst = rdlst.copy()\n",
    "\n",
    "t1 = time.perf_counter()\n",
    "lst2 : List[int] = bubble_sort(rdlst)\n",
    "t2 = time.perf_counter()\n",
    "print(\"The binary search code took {:.2f}ms\".format((t2 - t1) * 1000))"
   ]
  },
  {
   "cell_type": "markdown",
   "metadata": {
    "slideshow": {
     "slide_type": "slide"
    }
   },
   "source": [
    "### Insertion Sort\n",
    "\n",
    "The second algorithm that will be discussed is *insertion sort*.\n",
    "\n",
    "The basic idea of *insertion sort* is to move the smaller elements in front of bigger elements.  \n",
    "\n",
    "We will use a list of elements for which the comparison operator `>` is defined.\n",
    "\n",
    "Suppose we have to sort the list `[4, 3, 5, 2, 1]`.\n",
    "\n",
    "In the first step the element `3` will be inserted before the `4` in the list, giving `[3, 4, 5, 2, 1]`. This is done by storing the value `3` and copying the `4` to the place of the `3`, the intermediate result is: `[4, 4, 5, 2, 1]`. Now the original `4` is replaced by `3`, giving `[3, 4, 5, 2, 1]`.\n",
    "\n",
    "In the second step the first 3 elements `3, 4, 5` are sorted and next element `2` must be inserted before the `3`. This is done by storing the value `2` and copying the first 3 elements one position to the right, the intermediate result is: `[3, 3, 4, 5, 1]`.Now the original `3` is replaced by `3`, giving `[2, 3, 4, 5, 1]`.\n",
    "\n",
    "In the third and final step the first 4 elements `2, 3, 4, 5` are sorted and next element `1` must be inserted before the `2`. This is done by storing the value `1` and copying the first 4 elements one position to the right, the intermediate result is: `[2, 2, 3, 4, 5]`.Now the original `2` is replaced by `1`, giving `[1, 2, 3, 4, 5]`.\n",
    "\n",
    "\n",
    "The next cell shows a version of *insertion sort*."
   ]
  },
  {
   "cell_type": "code",
   "execution_count": null,
   "metadata": {
    "slideshow": {
     "slide_type": "fragment"
    }
   },
   "outputs": [],
   "source": [
    "from typing import List\n",
    "\n",
    "def insertion_sort(unsorted: List[any]) -> List[any]:\n",
    "    \"\"\"sorts the list by inserting the at the right position in the list\n",
    "    \n",
    "    >>> insertion_sort([3, 4, 7, -1, 2, 9, 5])\n",
    "    [-1, 2, 3, 4, 5, 7, 9]\n",
    "    >>> insertion_sort([])\n",
    "    []\n",
    "    >>> insertion_sort([6, 5, 4, 3, 2, 1])\n",
    "    [1, 2, 3, 4, 5, 6]\n",
    "    \"\"\"\n",
    "   \n",
    "    for index in range(1, len(unsorted)):\n",
    "        currentvalue : any = unsorted[index]\n",
    "        position : int = index\n",
    "\n",
    "        # print(unsorted)\n",
    "        # shift elements that are greater than the \"current value\" to the right and\n",
    "        # create an \"open\" slot in the list to insert the \"current value\".\n",
    "        while position > 0 and unsorted[position-1] > currentvalue:\n",
    "            unsorted[position] = unsorted[position-1]\n",
    "            position -= 1\n",
    "        #print(unsorted)\n",
    "        unsorted[position] = currentvalue\n",
    "    \n",
    "    return unsorted\n",
    "\n",
    "alist = [54,26,93,17,77,31,44,55,20]\n",
    "sortedList = insertion_sort(alist)\n",
    "print(sortedList)"
   ]
  },
  {
   "cell_type": "code",
   "execution_count": null,
   "metadata": {
    "slideshow": {
     "slide_type": "fragment"
    }
   },
   "outputs": [],
   "source": [
    "import doctest\n",
    "\n",
    "doctest.testmod(verbose=True)  # with details"
   ]
  },
  {
   "cell_type": "code",
   "execution_count": null,
   "metadata": {},
   "outputs": [],
   "source": [
    "import time\n",
    "\n",
    "rdlst = org_lst.copy()\n",
    "\n",
    "t1 = time.perf_counter()\n",
    "lst1 : List[int] = bubble_sort(rdlst)\n",
    "t2 = time.perf_counter()\n",
    "print(\"The binary search code took {:.2f}ms\".format((t2 - t1) * 1000))\n",
    "\n",
    "rdlst = org_lst.copy()\n",
    "\n",
    "t1 = time.perf_counter()\n",
    "lst2 : List[int] = insertion_sort(rdlst)\n",
    "t2 = time.perf_counter()\n",
    "print(\"The insertion search code took {:.2f}ms\".format((t2 - t1) * 1000))\n",
    "\n",
    "if lst1 == lst2:\n",
    "    print(\"lst1 == lst2\")"
   ]
  },
  {
   "cell_type": "markdown",
   "metadata": {
    "slideshow": {
     "slide_type": "slide"
    }
   },
   "source": [
    "### Merge Sort\n",
    "\n",
    "The third algorithm that will be discussed is *merge sort*. This algorithm and the next are based on the same idea as the *binary_search* algorithm. Splitting the list recursively in 2 parts and sort each part and then merge.\n",
    "\n",
    "The basic idea of *merge sort* is to split the list in two halves and sort each halves\n",
    "and merge the both into one list again.\n",
    "\n",
    "We will use again a list of elements for which the comparison operator `>` is defined.\n",
    "\n",
    "Suppose we have to sort the list `[4, 3, 5, 2, 1]`.\n",
    "\n",
    "In the first step the list is splitted into `[4, 3]` and `[5, 2, 1]`\n",
    "\n",
    "In the second step the list `[4, 3]` is splitted into `[4]` and `[3]`, and\n",
    "the resulting two 'sorted lists' are merged into `[3, 4]`.\n",
    "\n",
    "In the third step the list `[5, 2, 1]` is splitted into `[5]` and `[2, 1]`.\n",
    "\n",
    "In the fourth step the list `[2, 1]` is splitted into `[2]` and `[1]`, and\n",
    "the resulting two 'sorted lists' are merged into `[1, 2]`. \n",
    "\n",
    "The list `[1, 2]` can now be merged with the sorted list `[5]`, resulting in `[1, 2, 5]`.\n",
    "\n",
    "The list `[1, 2, 5]` can now be merged with the sorted list `[3, 4]`, resulting in the sorted list `[1, 2, 3, 4, 5]`.\n",
    "\n",
    "The  version of *merge sort* is a recursive version."
   ]
  },
  {
   "cell_type": "code",
   "execution_count": null,
   "metadata": {
    "slideshow": {
     "slide_type": "fragment"
    }
   },
   "outputs": [],
   "source": [
    "from typing import List\n",
    "\n",
    "def merging(leftSorted : List[any], rightSorted : List[any]) -> List[any]:\n",
    "    \"\"\"both lists into a merged list\n",
    "    \"\"\"\n",
    "    \n",
    "    sortedList : List[any] = []\n",
    "    i : int = 0\n",
    "    j : int = 0\n",
    "    while i < len(leftSorted) and j < len(rightSorted):\n",
    "        if leftSorted[i] < rightSorted[j]:\n",
    "            sortedList.append(leftSorted[i])\n",
    "            i += 1\n",
    "        else:\n",
    "            sortedList.append(rightSorted[j])\n",
    "            j += 1\n",
    "\n",
    "    if i < len(leftSorted):\n",
    "        sortedList += leftSorted[i:]\n",
    "\n",
    "    if j < len(rightSorted):\n",
    "        sortedList += rightSorted[j:]\n",
    "\n",
    "#    print(\"Merging \", sortedList)\n",
    "    return sortedList\n",
    "\n",
    "def merge_sort(unsorted : List[any]) -> List[any]:\n",
    "    \"\"\"sorts a list by means of divide and conquer\n",
    "    \n",
    "    >>> merge_sort([3, 4, 7, -1, 2, 9, 5])\n",
    "    [-1, 2, 3, 4, 5, 7, 9]\n",
    "    >>> merge_sort([])\n",
    "    []\n",
    "    >>> merge_sort([6, 5, 4, 3, 2, 1])\n",
    "    [1, 2, 3, 4, 5, 6]\n",
    "    \"\"\"\n",
    "    \n",
    "    if len(unsorted) > 1:\n",
    "        middle = len(unsorted) // 2\n",
    "        leftUnsorted = unsorted[:middle]\n",
    "        rightUnsorted = unsorted[middle:]\n",
    "\n",
    "        leftSorted = merge_sort(leftUnsorted)\n",
    "        rightSorted = merge_sort(rightUnsorted)\n",
    "\n",
    "        return merging(leftSorted, rightSorted)\n",
    "    else:\n",
    "        return unsorted\n",
    "    \n",
    "\n",
    "alist = [54,26,93,17,77,31,44,55,20]\n",
    "#alist = [4, 3, 5, 2, 1]\n",
    "print(alist)\n",
    "sList = merge_sort(alist)\n",
    "print(sList)"
   ]
  },
  {
   "cell_type": "code",
   "execution_count": null,
   "metadata": {
    "slideshow": {
     "slide_type": "fragment"
    }
   },
   "outputs": [],
   "source": [
    "import doctest\n",
    "\n",
    "doctest.testmod(verbose=True)  # with details"
   ]
  },
  {
   "cell_type": "markdown",
   "metadata": {
    "slideshow": {
     "slide_type": "fragment"
    }
   },
   "source": [
    "*merge sort* is more efficient than *bubble sort* because of the *divide-and-conquer* strategy, however the creation of intermediate lists may be problematic.\n",
    "\n"
   ]
  },
  {
   "cell_type": "code",
   "execution_count": null,
   "metadata": {},
   "outputs": [],
   "source": [
    "import time\n",
    "\n",
    "rdlst = org_lst.copy()\n",
    "\n",
    "t1 = time.perf_counter()\n",
    "lst1 : List[int] = bubble_sort(rdlst)\n",
    "t2 = time.perf_counter()\n",
    "print(\"The bubble sort took {:.2f}ms\".format((t2 - t1) * 1000))\n",
    "\n",
    "rdlst = org_lst.copy()\n",
    "\n",
    "t1 = time.perf_counter()\n",
    "lst2 : List[int] = insertion_sort(rdlst)\n",
    "t2 = time.perf_counter()\n",
    "print(\"The insertion sort took {:.2f}ms\".format((t2 - t1) * 1000))\n",
    "\n",
    "rdlst = org_lst.copy()\n",
    "\n",
    "t1 = time.perf_counter()\n",
    "lst3 : List[int] = merge_sort(rdlst)\n",
    "t2 = time.perf_counter()\n",
    "print(\"The merge sort took {:.2f}ms\".format((t2 - t1) * 1000))\n",
    "\n",
    "if lst1 == lst2:\n",
    "    print(\"lst1 == lst2\")\n",
    "\n",
    "if lst1 == lst3:\n",
    "    print(\"lst1 == lst3\")"
   ]
  },
  {
   "cell_type": "markdown",
   "metadata": {
    "slideshow": {
     "slide_type": "slide"
    }
   },
   "source": [
    "### Quicksort\n",
    "\n",
    "Quicksort is an algorithm presented by Tony Hoare in 1962.\n",
    "It is like merge sort a recursive algorithm, where the list \n",
    "to be sorted is recursively \"split\" into 2 parts, sorted and \n",
    "combined again. In contrast to merge sort,\n",
    "where the split is done based on the length of the list, \n",
    "each half is sorted and the results are merged. In case of quicksort\n",
    "the splitting results two parts that can be concatenated.\n",
    "This is possible because a *pivot* is chosen and the elements \n",
    "of the list are reshuffled in relation to the pivot. Elements\n",
    "smaller than the pivot are moved to left of the pivot, elements greater\n",
    "than the pivot are moved to the right of the pivot.\n",
    "\n",
    "The challenge is to find the right pivot. The better the pivot the faster the algorithm, because the sublist (left and right of the pivot) will be more or less of the same length."
   ]
  },
  {
   "cell_type": "code",
   "execution_count": null,
   "metadata": {},
   "outputs": [],
   "source": [
    "def partition(arr : List[any], low : int, high : int) -> int: \n",
    "    \"\"\" Reshuffles the elements of the list according to a pivot.\n",
    "    The arbitrary chosen pivot is the last element of the list.\n",
    "    The pivot is moved to the \"middle\" of the list.\n",
    "    \n",
    "    >>> L = [1]\n",
    "    >>> partition(L, 0, 0)\n",
    "    0\n",
    "    >>> L = [5, 4, 2, 1, 3]\n",
    "    >>> partition(L, 0, 4)\n",
    "    2\n",
    "    >>> L = [5, 4, 3, 2, 1]\n",
    "    >>> partition(L, 0, 4)\n",
    "    0\n",
    "    \"\"\"\n",
    "    \n",
    "    i : int  = low-1             # index of smaller element \n",
    "    pivot : any = arr[high]     # choose a pivot \n",
    "  \n",
    "    for j in range(low , high): \n",
    "  \n",
    "        # If current element is smaller than or equal to pivot \n",
    "        if arr[j] <= pivot: \n",
    "            # increment index of smaller element and swap elements\n",
    "            i += 1 \n",
    "            arr[i],arr[j] = arr[j],arr[i] \n",
    "            \n",
    "    # move the pivot to the right position\n",
    "    arr[i+1],arr[high] = arr[high],arr[i+1] \n",
    "    \n",
    "    return i+1 \n",
    "  \n",
    "# The main function that implements QuickSort \n",
    "# arr[] --> Array to be sorted, \n",
    "# low  --> Starting index, \n",
    "# high  --> Ending index \n",
    "  \n",
    "# Function to do Quick sort \n",
    "def quick_sort(arr : List[any], low : int, high : int) -> None: \n",
    "    \"\"\" the list is sorted by partition the list in two parts,\n",
    "    a part with elements smaller than a pivot and elements greater\n",
    "    than the pivot.\n",
    "    The partitioned parts are recursively sorted.\n",
    "    \n",
    "    >>> L = [3, 4, 7, -1, 2, 5]\n",
    "    >>> quick_sort(L, 0, 5)\n",
    "    >>> L\n",
    "    [-1, 2, 3, 4, 5, 7]\n",
    "    \"\"\"\n",
    "    if low < high: \n",
    "  \n",
    "        # pi is partitioning index, arr[p] is now \n",
    "        # at right place \n",
    "        pi : int = partition(arr, low, high) \n",
    "  \n",
    "        # Separately sort elements before \n",
    "        # partition and after partition \n",
    "        quick_sort(arr, low, pi-1) \n",
    "        quick_sort(arr, pi+1, high) \n",
    "        \n",
    "alist = [54,26,93,17,77,31,44,55,20]\n",
    "#alist = [4, 3, 5, 2, 1]\n",
    "print(alist)\n",
    "quick_sort(alist, 0, len(alist)-1)\n",
    "print(alist)"
   ]
  },
  {
   "cell_type": "code",
   "execution_count": null,
   "metadata": {},
   "outputs": [],
   "source": [
    "import doctest\n",
    "\n",
    "doctest.testmod(verbose=True)  # with details"
   ]
  },
  {
   "cell_type": "code",
   "execution_count": null,
   "metadata": {},
   "outputs": [],
   "source": [
    "import time\n",
    "\n",
    "rdlst = org_lst.copy()\n",
    "\n",
    "t1 = time.perf_counter()\n",
    "lst1 : List[int] = bubble_sort(rdlst)\n",
    "t2 = time.perf_counter()\n",
    "print(\"The bubble sort took {:.2f}ms\".format((t2 - t1) * 1000))\n",
    "\n",
    "rdlst = org_lst.copy()\n",
    "\n",
    "t1 = time.perf_counter()\n",
    "lst2 : List[int] = insertion_sort(rdlst)\n",
    "t2 = time.perf_counter()\n",
    "print(\"The insertion sort took {:.2f}ms\".format((t2 - t1) * 1000))\n",
    "\n",
    "rdlst = org_lst.copy()\n",
    "\n",
    "t1 = time.perf_counter()\n",
    "lst3 : List[int] = merge_sort(rdlst)\n",
    "t2 = time.perf_counter()\n",
    "print(\"The merge sort took {:.2f}ms\".format((t2 - t1) * 1000))\n",
    "\n",
    "rdlst1 = org_lst.copy()\n",
    "\n",
    "t1 = time.perf_counter()\n",
    "quick_sort(rdlst1, 0, len(rdlst1)-1)\n",
    "t2 = time.perf_counter()\n",
    "print(\"The quick sort took {:.2f}ms\".format((t2 - t1) * 1000))\n",
    "\n",
    "rdlst2 = org_lst.copy()\n",
    "\n",
    "t1 = time.perf_counter()\n",
    "rdlst2.sort()\n",
    "t2 = time.perf_counter()\n",
    "print(\"The python sort took {:.2f}ms\".format((t2 - t1) * 1000))\n",
    "\n",
    "if lst1 == lst2:\n",
    "    print(\"lst1 == lst2\")\n",
    "\n",
    "if lst1 == lst3:\n",
    "    print(\"lst1 == lst3\")\n",
    "\n",
    "if lst1 == rdlst1:\n",
    "    print(\"lst1 == rdlst1\")\n",
    "\n",
    "if lst1 == rdlst2:\n",
    "    print(\"lst1 == rdlst2\")"
   ]
  },
  {
   "cell_type": "markdown",
   "metadata": {
    "jupyter": {
     "source_hidden": true
    },
    "tags": []
   },
   "source": [
    "```{admonition} Do It Yourself!\n",
    ":class: seealso, dropdown\n",
    "Use the four functions to sort an array of integers and profile each one of them. Create a copy of the list otherwise you will end up sorting the same list. What is the difference among each algorithm?\n",
    "```"
   ]
  },
  {
   "cell_type": "code",
   "execution_count": null,
   "metadata": {
    "jupyter": {
     "source_hidden": true
    },
    "tags": []
   },
   "outputs": [],
   "source": [
    "lst = [54, 26, 93, 17, 77, 31, 44, 55, 20]\n",
    "\n",
    "# Remove this line and add your code here"
   ]
  },
  {
   "cell_type": "markdown",
   "metadata": {},
   "source": [
    "**Advice:** when writing code always make sure that the code is correct (via testing for instance) before starting optimizing."
   ]
  }
 ],
 "metadata": {
  "anaconda-cloud": {},
  "kernelspec": {
   "display_name": "Python 3.8.9 64-bit",
   "language": "python",
   "name": "python3"
  },
  "language_info": {
   "codemirror_mode": {
    "name": "ipython",
    "version": 3
   },
   "file_extension": ".py",
   "mimetype": "text/x-python",
   "name": "python",
   "nbconvert_exporter": "python",
   "pygments_lexer": "ipython3",
   "version": "3.8.9"
  },
  "vscode": {
   "interpreter": {
    "hash": "31f2aee4e71d21fbe5cf8b01ff0e069b9275f58929596ceb00d14d90e3e16cd6"
   }
  }
 },
 "nbformat": 4,
 "nbformat_minor": 4
}
