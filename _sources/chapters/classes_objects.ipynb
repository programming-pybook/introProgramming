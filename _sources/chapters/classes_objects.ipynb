{
 "cells": [
  {
   "cell_type": "markdown",
   "metadata": {
    "slideshow": {
     "slide_type": "slide"
    }
   },
   "source": [
    "# Classes and Objects [^intro]\n",
    "\n",
    "[^intro]: This Jupyter Notebook is based on Chapter 15 of {cite}`thinkPython`."
   ]
  },
  {
   "cell_type": "markdown",
   "metadata": {},
   "source": [
    "There are multiple programming paradigms: **imperative**, **logical**, **functional**, and **object-oriented**, the logical and functional way of programming is sometimes called **declarative**.\n",
    "\n",
    "So far, we have seen the imperative way of programming; creating data structures, and developing functions that manipulate the data structures. \n",
    "\n",
    "We will graduately introduce concepts from **object-oriented** programming.\n",
    "\n",
    "The idea of object-oriented programming is to bring code and data closer together; this will increase the level of abstraction and facilitates encapsulation of data. \n",
    "\n",
    "Object-oriented (OO) paradigm enables information hiding, the underlying structure is invisible and the programmer can use, among others, so-called *getters* and *setters* to manipulate the data."
   ]
  },
  {
   "cell_type": "markdown",
   "metadata": {
    "slideshow": {
     "slide_type": "slide"
    }
   },
   "source": [
    "## 2. Programmer-defined Types\n",
    "\n",
    "We have seen and used a number of built-in types of Python. \n",
    "\n",
    "We are now going to define our own types.\n",
    "\n",
    "We will start by creating a type called `Point` that represents a point in a two-dimensional space.\n",
    "\n",
    "In mathematical notation, points are often written in parentheses with a comma separating the coordinates. \n",
    "\n",
    "$(0, 0)$ represents the origin, and $(x, y)$ represents the point $x$\n",
    "units to the right and $y$ units up from the origin.\n",
    "\n",
    "There are several ways we might represent points in Python:\n",
    "\n",
    "* We could store the coordinates separately in two variables, `x` and `y`.\n",
    "* We could store the coordinates as elements in a list or tuple.\n",
    "* We could create a new type to represent points as objects.\n",
    "\n",
    "Creating a new type is more complicated than the other options, but it offers numerous advantages as we will see later on.\n",
    "\n",
    "A programmer-defined type is also called a **class**. \n",
    "\n",
    "The following cell shows the class definition for `Point`."
   ]
  },
  {
   "cell_type": "code",
   "execution_count": null,
   "metadata": {
    "slideshow": {
     "slide_type": "fragment"
    }
   },
   "outputs": [],
   "source": [
    "class Point:\n",
    "    \"\"\"Represents a point in 2-D space.\"\"\""
   ]
  },
  {
   "cell_type": "markdown",
   "metadata": {},
   "source": [
    "A new class `Point` has been introduced. "
   ]
  },
  {
   "cell_type": "markdown",
   "metadata": {
    "jupyter": {
     "source_hidden": true
    },
    "tags": []
   },
   "source": [
    "```{admonition} Do It Yourself!\n",
    ":class: seealso, dropdown\n",
    "Define the class *Dog*, which represents a dog (obviously). Include a docstring with the description of the class.\n",
    "```"
   ]
  },
  {
   "cell_type": "code",
   "execution_count": null,
   "metadata": {
    "jupyter": {
     "source_hidden": true
    },
    "tags": []
   },
   "outputs": [],
   "source": [
    "# Remove this line and add your code here"
   ]
  },
  {
   "cell_type": "markdown",
   "metadata": {
    "slideshow": {
     "slide_type": "fragment"
    }
   },
   "source": [
    "There is not much you can do so far with this `class Point`.\n",
    "\n",
    "The body is a docstring that explains what the class defines or is used for.\n",
    "\n",
    "Defining a class named `Point` creates a **class object**."
   ]
  },
  {
   "cell_type": "code",
   "execution_count": null,
   "metadata": {
    "slideshow": {
     "slide_type": "fragment"
    }
   },
   "outputs": [],
   "source": [
    "Point"
   ]
  },
  {
   "cell_type": "markdown",
   "metadata": {
    "slideshow": {
     "slide_type": "fragment"
    }
   },
   "source": [
    "Because `Point` is defined at the top level, its “full name” is `__main__.Point`.\n",
    "\n",
    "The class object is like a **factory** for creating objects, it is a built-in mechanism that based on the class allocates pieces of memory to store the data. Every object is a separate allocated piece of memory.\n",
    "\n",
    "To create a Point, you call `Point` as if it were a function."
   ]
  },
  {
   "cell_type": "code",
   "execution_count": null,
   "metadata": {
    "scrolled": true,
    "slideshow": {
     "slide_type": "fragment"
    }
   },
   "outputs": [],
   "source": [
    "pnt = Point()\n",
    "pnt"
   ]
  },
  {
   "cell_type": "markdown",
   "metadata": {
    "slideshow": {
     "slide_type": "fragment"
    }
   },
   "source": [
    "The return value is a reference to a `Point` object, which we assign to the variable `pnt`.\n",
    "\n",
    "Creating a new object is called **instantiation**, and the object is an **instance** of the class.\n",
    "\n",
    "When you print an instance, Python tells you what class it belongs to and where it is stored in memory.\n",
    "\n",
    "Every object is an instance of some class, so “object” and “instance” are interchangeable."
   ]
  },
  {
   "cell_type": "markdown",
   "metadata": {
    "jupyter": {
     "source_hidden": true
    },
    "tags": []
   },
   "source": [
    "```{admonition} Do It Yourself!\n",
    ":class: seealso, dropdown\n",
    "Create an instance of a Dog and assign its value to a the variable `doggy`.\n",
    "```"
   ]
  },
  {
   "cell_type": "code",
   "execution_count": null,
   "metadata": {
    "jupyter": {
     "source_hidden": true
    },
    "tags": []
   },
   "outputs": [],
   "source": [
    "# Remove this line and add your code here"
   ]
  },
  {
   "cell_type": "markdown",
   "metadata": {
    "slideshow": {
     "slide_type": "slide"
    }
   },
   "source": [
    "## Attributes\n",
    "\n",
    "The class `Point` we have created in the previous section is not really useful. \n",
    "\n",
    "The next step is to assign values to an instance of the class `Point`."
   ]
  },
  {
   "cell_type": "code",
   "execution_count": null,
   "metadata": {
    "slideshow": {
     "slide_type": "fragment"
    }
   },
   "outputs": [],
   "source": [
    "pnt.x : float = 3.0\n",
    "pnt.y : float = 4.0"
   ]
  },
  {
   "cell_type": "markdown",
   "metadata": {
    "slideshow": {
     "slide_type": "fragment"
    }
   },
   "source": [
    "The same syntax (notation) is used as for selecting a variable from a module, for instance `math.pi` or `string.whitespace`.\n",
    "\n",
    "We use the `dot` notation to assign values to named elements of an object.\n",
    "\n",
    "The elements are called **attributes**, see the corresponding visualisation of the corresponding **object diagram**.\n",
    "\n",
    "|           | Point |\n",
    "|:----------|:----------|\n",
    "| pnt $\\rightarrow$ | x $\\rightarrow$ 3.0 |\n",
    "|   | y $\\rightarrow$ 4.0 |\n",
    "\n",
    "The variable `pnt` refers to a Point object, which contains two attributes. \n",
    "\n",
    "Each attribute refers to a floating-point number.\n"
   ]
  },
  {
   "cell_type": "markdown",
   "metadata": {},
   "source": [
    "\n",
    "````{margin}\n",
    "```{admonition} EXTRA\n",
    "Python is a dynamically typed language. This means you do not need to define the types of variables explicitly, Python will deduced them for you and report if there are inconsistencies. The **attributes** of a class do not need to be declared explicitly when creating a class.\n",
    "```\n",
    "````"
   ]
  },
  {
   "cell_type": "code",
   "execution_count": null,
   "metadata": {},
   "outputs": [],
   "source": [
    "pnt.z : float = 5.0"
   ]
  },
  {
   "cell_type": "markdown",
   "metadata": {
    "jupyter": {
     "source_hidden": true
    },
    "tags": []
   },
   "source": [
    "```{admonition} Do It Yourself!\n",
    ":class: seealso, dropdown\n",
    "Add the attributes `name` and `breed` to the object doggy refers to. Set the values you prefer.\n",
    "```"
   ]
  },
  {
   "cell_type": "code",
   "execution_count": null,
   "metadata": {
    "jupyter": {
     "source_hidden": true
    },
    "tags": []
   },
   "outputs": [],
   "source": [
    "# Remove this line and add your code here"
   ]
  },
  {
   "cell_type": "markdown",
   "metadata": {},
   "source": [
    "You can read the value of an attribute using the same syntax."
   ]
  },
  {
   "cell_type": "code",
   "execution_count": null,
   "metadata": {
    "slideshow": {
     "slide_type": "fragment"
    }
   },
   "outputs": [],
   "source": [
    "print('x =', pnt.x)\n",
    "\n",
    "y : float = pnt.y\n",
    "\n",
    "print('y =', y)"
   ]
  },
  {
   "cell_type": "markdown",
   "metadata": {
    "slideshow": {
     "slide_type": "fragment"
    }
   },
   "source": [
    "The expression `pnt.y` means, “Go to the object `pnt`\n",
    "refers to and get the value of `y`.” \n",
    "\n",
    "We assign that value to a variable named `y`. \n",
    "\n",
    "There is no conflict between the variable `y` and the attribute `y`;\n",
    "they live in 2 different worlds.\n",
    "\n",
    "You can use dot notation as part of any expression, as we can see in the cells below."
   ]
  },
  {
   "cell_type": "code",
   "execution_count": null,
   "metadata": {
    "slideshow": {
     "slide_type": "fragment"
    }
   },
   "outputs": [],
   "source": [
    "'(%g, %g)' % (pnt.x, pnt.y)"
   ]
  },
  {
   "cell_type": "code",
   "execution_count": null,
   "metadata": {},
   "outputs": [],
   "source": [
    "import math\n",
    "\n",
    "distance : float = math.sqrt(pnt.x**2 + pnt.y**2)\n",
    "distance"
   ]
  },
  {
   "cell_type": "markdown",
   "metadata": {
    "slideshow": {
     "slide_type": "fragment"
    }
   },
   "source": [
    "You can use an instance of a class as argument for a function in the usual way.\n",
    "\n",
    "`print_point` takes a point as an argument and displays it in mathematical notation. \n",
    "\n",
    "To invoke it, you can pass `pnt` as an argument. \n",
    "\n",
    "The argument of the function has the type `Point`, the *type-hints* are very important to really document and understand the function."
   ]
  },
  {
   "cell_type": "code",
   "execution_count": null,
   "metadata": {
    "slideshow": {
     "slide_type": "fragment"
    }
   },
   "outputs": [],
   "source": [
    "def print_point(p : Point) -> None:\n",
    "    \"\"\"prints a point object\n",
    "    \"\"\"\n",
    "    print('(%g, %g)' % (p.x, p.y))\n",
    "    \n",
    "print_point(pnt)"
   ]
  },
  {
   "cell_type": "markdown",
   "metadata": {
    "slideshow": {
     "slide_type": "fragment"
    }
   },
   "source": [
    "Inside the function, `p` is an alias for `pnt`, so if the function modifies `p`, `pnt` changes."
   ]
  },
  {
   "cell_type": "markdown",
   "metadata": {
    "jupyter": {
     "source_hidden": true
    },
    "tags": []
   },
   "source": [
    "```{admonition} Do It Yourself!\n",
    ":class: seealso, dropdown\n",
    "Create a function `print_dog(dog: Dog) -> None` that prints a message with the attributes of the dog. Use the dot notation to access the attributes of the dog object. Print a message that says: \"This dog is called <i>name</i> and it is a <i>breed</i>\". Use the doggy variable to verify the effect of your function.\n",
    "```"
   ]
  },
  {
   "cell_type": "code",
   "execution_count": null,
   "metadata": {
    "jupyter": {
     "source_hidden": true
    },
    "tags": []
   },
   "outputs": [],
   "source": [
    "# Remove this line and add your code here"
   ]
  },
  {
   "cell_type": "markdown",
   "metadata": {},
   "source": [
    "## The `init` Method\n",
    "\n",
    "The init method (short for “initialization”) is a special method that gets invoked when an\n",
    "object is created. Its full name is `__init__` (two underscore characters, followed by\n",
    "init, and then two more underscores). \n",
    "\n",
    "Its purpose is to initialize a new object, this is the *constructor* method. When the object is created, for instance via `Time(11, 43, 51)`, the parameters are passed to the created object.\n",
    "\n",
    "By convention, the first parameter of a method is called `self`.\n",
    "\n",
    "An `init` method for the `Point` class is shown in the next cell."
   ]
  },
  {
   "cell_type": "code",
   "execution_count": 2,
   "metadata": {},
   "outputs": [],
   "source": [
    "class Point:\n",
    "    \"\"\"Represents a point in 2-D space.\"\"\"\n",
    "    \n",
    "    def __init__(self, x=0, y=0):\n",
    "        \"\"\" creates a new Point object and initializes it\n",
    "        \"\"\"\n",
    "        self.x : int = x\n",
    "        self.y : int = y"
   ]
  },
  {
   "cell_type": "markdown",
   "metadata": {
    "slideshow": {
     "slide_type": "slide"
    }
   },
   "source": [
    "## Rectangles\n",
    "\n",
    "Sometimes it is obvious what the attributes of an object should be, but other times you have to make decisions. \n",
    "\n",
    "For example, imagine you are designing a class to represent rectangles.\n",
    "\n",
    "What attributes would you use to specify the location and size of a rectangle? \n",
    "\n",
    "We assume that the rectangle is just in a vertical or horizontal position.\n",
    "\n",
    "There are at least two possibilities:\n",
    "* You could specify one corner of the rectangle (or the center), the width, and the height.\n",
    "* You could specify two opposing corners.\n",
    "\n",
    "At this point it is hard to say whether one is better than the other, so we will implement the first case, just as an example, so the combination of one corner with width and height."
   ]
  },
  {
   "cell_type": "code",
   "execution_count": 4,
   "metadata": {
    "slideshow": {
     "slide_type": "fragment"
    }
   },
   "outputs": [],
   "source": [
    "class Rectangle:\n",
    "    \"\"\"Represents a rectangle.\n",
    "    \n",
    "    attributes: width, height, corner.\n",
    "    \"\"\"\n",
    "    \n",
    "        \n",
    "    def __init__(self, w=0, h=0, x=0, y=0):\n",
    "        \"\"\" creates a new Point object and initializes it\n",
    "        \"\"\"\n",
    "        self.width : float = w\n",
    "        self.height : float = h\n",
    "        self.corner : Point(x,y)"
   ]
  },
  {
   "cell_type": "markdown",
   "metadata": {
    "slideshow": {
     "slide_type": "fragment"
    }
   },
   "source": [
    "The docstring lists the attributes: `width` and `height` are numbers; `corner` is a `Point` object that specifies the lower-left corner.\n",
    "\n",
    "\n",
    "````{margin}\n",
    "```{admonition} EXTRA\n",
    "Remember that Python is dynamically typed, the mentioning of the attributes in the docstring is not same as declaring them.\n",
    "```\n",
    "````"
   ]
  },
  {
   "cell_type": "markdown",
   "metadata": {
    "jupyter": {
     "source_hidden": true
    },
    "tags": []
   },
   "source": [
    "```{admonition} Do It Yourself!\n",
    ":class: seealso, dropdown\n",
    "Declare a new class called <i>DogOwner</i>. This class will have the following attributes: name, last_name, age, and dog. Include the docstring that describes this class.\n",
    "```"
   ]
  },
  {
   "cell_type": "code",
   "execution_count": null,
   "metadata": {
    "jupyter": {
     "source_hidden": true
    },
    "tags": []
   },
   "outputs": [],
   "source": [
    "# Remove this line and add your code here"
   ]
  },
  {
   "cell_type": "markdown",
   "metadata": {},
   "source": [
    "To represent a rectangle, you have to instantiate a Rectangle object and assign values to the attributes."
   ]
  },
  {
   "cell_type": "code",
   "execution_count": 5,
   "metadata": {
    "slideshow": {
     "slide_type": "fragment"
    }
   },
   "outputs": [],
   "source": [
    "box : Rectangle = Rectangle(100.0, 100.0, 0, 0)\n",
    "box.width : float = 100.0\n",
    "box.height : float = 200.0\n",
    "box.corner : Point = Point()\n",
    "box.corner.x : float = 0.0\n",
    "box.corner.y : float = 0.0"
   ]
  },
  {
   "cell_type": "markdown",
   "metadata": {
    "slideshow": {
     "slide_type": "fragment"
    }
   },
   "source": [
    "The expression `box.corner.x` means, “Go to the object `box` refers to and select the attribute named `corner`; then go to that object and select the attribute named `x`.”\n",
    "\n",
    "\n",
    "|           | Rectangle |           |\n",
    "|:----------|:----------|:----------|\n",
    "| box $\\rightarrow$ | width $\\rightarrow$ 100.0 |  |\n",
    "|   | height $\\rightarrow$ 200.0 | **Point**|\n",
    "|   | corner $\\longrightarrow$ | x $\\rightarrow$ 0.0 |\n",
    "|   |                          | y $\\rightarrow$ 0.0 |\n",
    "\n",
    "The figure shows the layout of this object. \n",
    "\n",
    "An object that is an attribute of another object is **embedded**."
   ]
  },
  {
   "cell_type": "markdown",
   "metadata": {
    "jupyter": {
     "source_hidden": true
    },
    "tags": []
   },
   "source": [
    "```{admonition} Do It Yourself!\n",
    ":class: seealso, dropdown\n",
    "Create a new dog owner and assign values to all of its attributes. Do not forget to assign values to his or her dog attributes!\n",
    "```"
   ]
  },
  {
   "cell_type": "code",
   "execution_count": null,
   "metadata": {
    "jupyter": {
     "source_hidden": true
    },
    "tags": []
   },
   "outputs": [],
   "source": [
    "# Remove this line and add your code here"
   ]
  },
  {
   "cell_type": "markdown",
   "metadata": {
    "slideshow": {
     "slide_type": "slide"
    }
   },
   "source": [
    "## Classes and Objects\n",
    "\n",
    "Every class in Python is *derived* from the class `object`, so every *instance* of every class is an `object`.\n",
    "\n",
    "The class `object` is a *superclass* of class `Rectangle`, and class `Rectangle` is a *subclass* of class `object`.\n",
    "\n",
    "Class `object` has the following *attributes* (attributes are elements inside a class that refer to methods, functions, variables, or even other classes)."
   ]
  },
  {
   "cell_type": "code",
   "execution_count": null,
   "metadata": {
    "slideshow": {
     "slide_type": "fragment"
    }
   },
   "outputs": [],
   "source": [
    "dir(object)"
   ]
  },
  {
   "cell_type": "code",
   "execution_count": null,
   "metadata": {
    "slideshow": {
     "slide_type": "fragment"
    }
   },
   "outputs": [],
   "source": [
    "dir(Rectangle)"
   ]
  },
  {
   "cell_type": "markdown",
   "metadata": {
    "slideshow": {
     "slide_type": "fragment"
    }
   },
   "source": [
    "If you compare these 2 lists, you observe that they are almost the same, except for `__dict__`, `__module__`, and `__weakref__`.\n",
    "\n",
    "We can even get *help* on our `Rectangle` class."
   ]
  },
  {
   "cell_type": "code",
   "execution_count": null,
   "metadata": {
    "scrolled": true,
    "slideshow": {
     "slide_type": "fragment"
    }
   },
   "outputs": [],
   "source": [
    "help(Rectangle)"
   ]
  },
  {
   "cell_type": "markdown",
   "metadata": {
    "jupyter": {
     "source_hidden": true
    },
    "tags": []
   },
   "source": [
    "```{admonition} Do It Yourself!\n",
    ":class: seealso, dropdown\n",
    "Use the function `help()` to display the documentation of the class DogOwner.\n",
    "```"
   ]
  },
  {
   "cell_type": "code",
   "execution_count": null,
   "metadata": {
    "jupyter": {
     "source_hidden": true
    },
    "tags": []
   },
   "outputs": [],
   "source": [
    "# Remove this line and add your code here"
   ]
  },
  {
   "cell_type": "markdown",
   "metadata": {
    "slideshow": {
     "slide_type": "fragment"
    }
   },
   "source": [
    "## Instances as Return Values\n",
    "\n",
    "Functions can return instances. \n",
    "\n",
    "The function `find_center` takes a `Rectangle` as an argument\n",
    "and returns a `Point` that contains the coordinates of the center of the Rectangle."
   ]
  },
  {
   "cell_type": "code",
   "execution_count": null,
   "metadata": {
    "slideshow": {
     "slide_type": "fragment"
    }
   },
   "outputs": [],
   "source": [
    "def find_center(rect : Rectangle) -> Point:\n",
    "    \"\"\"calculates the center of a rectangle\n",
    "    \"\"\"\n",
    "    \n",
    "    p : Point = Point()\n",
    "    p.x : float = rect.corner.x + rect.width/2\n",
    "    p.y : float = rect.corner.y + rect.height/2\n",
    "    return p"
   ]
  },
  {
   "cell_type": "markdown",
   "metadata": {
    "slideshow": {
     "slide_type": "fragment"
    }
   },
   "source": [
    "Here is an example that passes `box` as an argument and assigns the resulting `Point` to center."
   ]
  },
  {
   "cell_type": "code",
   "execution_count": null,
   "metadata": {
    "slideshow": {
     "slide_type": "fragment"
    }
   },
   "outputs": [],
   "source": [
    "center : Point = find_center(box)\n",
    "print_point(center)"
   ]
  },
  {
   "cell_type": "markdown",
   "metadata": {
    "jupyter": {
     "source_hidden": true
    },
    "tags": []
   },
   "source": [
    "```{admonition} Do It Yourself!\n",
    ":class: seealso, dropdown\n",
    "Create the function `add_dog_lastname(owner: DogOwner) -> Dog`, which modifies the name of the dog by concatenating the last name of the owner to it. For example, if the dog's name is \"Scooby\" and the owner's last name is \"Doo\", the new name of the dog should be \"Scooby Doo\". Return the modified instance of the dog.\n",
    "```"
   ]
  },
  {
   "cell_type": "code",
   "execution_count": null,
   "metadata": {
    "jupyter": {
     "source_hidden": true
    },
    "tags": []
   },
   "outputs": [],
   "source": [
    "# Remove this line and add your code here"
   ]
  },
  {
   "cell_type": "markdown",
   "metadata": {
    "slideshow": {
     "slide_type": "slide"
    }
   },
   "source": [
    "## Objects are Mutable\n",
    "\n",
    "You can change the state of an object by making an assignment to one of its attributes.\n",
    "\n",
    "It is possible to change the size of a rectangle without changing its position.\n",
    "\n",
    "In the cell below, the `width` and `height` are adapted."
   ]
  },
  {
   "cell_type": "code",
   "execution_count": null,
   "metadata": {
    "slideshow": {
     "slide_type": "fragment"
    }
   },
   "outputs": [],
   "source": [
    "box.width = box.width + 50\n",
    "box.height = box.height + 100"
   ]
  },
  {
   "cell_type": "markdown",
   "metadata": {
    "slideshow": {
     "slide_type": "fragment"
    }
   },
   "source": [
    "You can also write functions that modify objects. \n",
    "\n",
    "For example, `grow_rectangle` takes a\n",
    "`Rectangle` object and two numbers, `dwidth` and `dheight`, and adds the numbers to the\n",
    "`width` and `height` of the rectangle."
   ]
  },
  {
   "cell_type": "code",
   "execution_count": null,
   "metadata": {
    "slideshow": {
     "slide_type": "fragment"
    }
   },
   "outputs": [],
   "source": [
    "def grow_rectangle(rect : Rectangle, dwidth : int, dheight : int) -> None:\n",
    "    \"\"\"increases the size of the rectangle\n",
    "    \"\"\"\n",
    "    rect.width += dwidth\n",
    "    rect.height += dheight"
   ]
  },
  {
   "cell_type": "markdown",
   "metadata": {},
   "source": [
    "The next cell shows how to use this function and demonstrates its effect."
   ]
  },
  {
   "cell_type": "code",
   "execution_count": null,
   "metadata": {
    "slideshow": {
     "slide_type": "fragment"
    }
   },
   "outputs": [],
   "source": [
    "print('width = ', box.width)\n",
    "print('height = ', box.height)\n",
    "\n",
    "grow_rectangle(box, 50, 100)\n",
    "print('width = ', box.width)\n",
    "print('height = ', box.height)"
   ]
  },
  {
   "cell_type": "markdown",
   "metadata": {
    "slideshow": {
     "slide_type": "fragment"
    }
   },
   "source": [
    "Because `rect` is an alias for `box`, so if the function modifies `rect`, `box`\n",
    "changes as well."
   ]
  },
  {
   "cell_type": "markdown",
   "metadata": {
    "jupyter": {
     "source_hidden": true
    },
    "tags": []
   },
   "source": [
    "```{admonition} Do It Yourself!\n",
    ":class: seealso, dropdown\n",
    "Create the function `celebrate_birthday(owner : DogOwner)`, which adds 1 year to the age of the dog's owner. Do not return the new owner. Call the function and pass an instance of a DogOwner. Use the <i>print()</i> function to see how the attributes of the object have changes.\n",
    "```"
   ]
  },
  {
   "cell_type": "code",
   "execution_count": null,
   "metadata": {
    "jupyter": {
     "source_hidden": true
    },
    "tags": []
   },
   "outputs": [],
   "source": [
    "# Remove this line and add your code here"
   ]
  },
  {
   "cell_type": "markdown",
   "metadata": {
    "slideshow": {
     "slide_type": "fragment"
    }
   },
   "source": [
    "## Copying\n",
    "\n",
    "Aliasing can make a program difficult to read, it may even be dangerous, because changes in one place might have unexpected effects in another place. \n",
    "\n",
    "It is hard to keep track of all the variables that might\n",
    "refer to a given object and being changed unindented.\n",
    "\n",
    "Copying an object is often an alternative to aliasing. \n",
    "\n",
    "The `copy` module contains a function\n",
    "called `copy` that can duplicate any object."
   ]
  },
  {
   "cell_type": "code",
   "execution_count": null,
   "metadata": {
    "slideshow": {
     "slide_type": "fragment"
    }
   },
   "outputs": [],
   "source": [
    "p1 : Point = Point()\n",
    "p1.x : float = 3.0\n",
    "p1.y : float = 4.0\n",
    "\n",
    "import copy\n",
    "p2 : Point = copy.copy(p1)"
   ]
  },
  {
   "cell_type": "markdown",
   "metadata": {
    "slideshow": {
     "slide_type": "fragment"
    }
   },
   "source": [
    "`p1` and `p2` contain the same data, but are different objects."
   ]
  },
  {
   "cell_type": "code",
   "execution_count": null,
   "metadata": {
    "slideshow": {
     "slide_type": "fragment"
    }
   },
   "outputs": [],
   "source": [
    "print_point(p1)\n",
    "print_point(p2)\n",
    "\n",
    "p1 is p2"
   ]
  },
  {
   "cell_type": "markdown",
   "metadata": {
    "slideshow": {
     "slide_type": "fragment"
    }
   },
   "source": [
    "The `is` operator indicates that `p1` and `p2` are not the same object, thus this explains the `False`.\n",
    "\n",
    "The `==` operator is also defined for *programmer-defined types*, for \n",
    "programmer-defined types the `==` and `is` operator have the same behaviour, although you may have expected differently.\n",
    "\n",
    "The `==` operator yields `False` although these points contain the\n",
    "same data. "
   ]
  },
  {
   "cell_type": "code",
   "execution_count": null,
   "metadata": {
    "slideshow": {
     "slide_type": "fragment"
    }
   },
   "outputs": [],
   "source": [
    "p1 == p2"
   ]
  },
  {
   "cell_type": "markdown",
   "metadata": {
    "slideshow": {
     "slide_type": "slide"
    }
   },
   "source": [
    "If you use `copy.copy` to duplicate a `Rectangle`, you will find that it copies the Rectangle object but not the embedded Point."
   ]
  },
  {
   "cell_type": "code",
   "execution_count": null,
   "metadata": {
    "slideshow": {
     "slide_type": "fragment"
    }
   },
   "outputs": [],
   "source": [
    "box2 = copy.copy(box)\n",
    "box2 is box"
   ]
  },
  {
   "cell_type": "code",
   "execution_count": null,
   "metadata": {
    "slideshow": {
     "slide_type": "fragment"
    }
   },
   "outputs": [],
   "source": [
    "box2.corner is box.corner"
   ]
  },
  {
   "cell_type": "markdown",
   "metadata": {
    "slideshow": {
     "slide_type": "fragment"
    }
   },
   "source": [
    "|           | Rectangle |           |  Rectangle |           |\n",
    "|:----------|:----------|:----------|:----------|:----------|\n",
    "| box2 $\\rightarrow$ | width $\\rightarrow$ 100.0 |  |100 $\\leftarrow$ width | $\\leftarrow$ box|\n",
    "|   | height $\\rightarrow$ 200.0 | **Point**|200.0 $\\leftarrow$ height | | \n",
    "|   | corner $\\longrightarrow$ | x $\\rightarrow$ 0.0 | $\\longleftarrow$ corner ||\n",
    "|   |                          | y $\\rightarrow$ 0.0 |||\n",
    "\n",
    "The diagram above shows the object diagram.\n",
    "\n",
    "The `copy.copy` operator is a so-called **shallow copy**.\n",
    "\n",
    "It copies the object and any references it contains, but not the embedded\n",
    "objects.\n",
    "\n",
    "In many cases this is not the desired behaviour, you want to copy the entire object structure.\n",
    "\n",
    "In order to do that you need to use the `copy.deepcopy` function, this function implements the **deep copy**."
   ]
  },
  {
   "cell_type": "code",
   "execution_count": null,
   "metadata": {
    "slideshow": {
     "slide_type": "fragment"
    }
   },
   "outputs": [],
   "source": [
    "box3 = copy.deepcopy(box)\n",
    "box3 is box"
   ]
  },
  {
   "cell_type": "code",
   "execution_count": null,
   "metadata": {
    "slideshow": {
     "slide_type": "fragment"
    }
   },
   "outputs": [],
   "source": [
    "box3.corner is box.corner"
   ]
  },
  {
   "cell_type": "code",
   "execution_count": null,
   "metadata": {},
   "outputs": [],
   "source": [
    "@Mark: make a view cells on the effect of changing copies."
   ]
  },
  {
   "cell_type": "markdown",
   "metadata": {
    "jupyter": {
     "source_hidden": true
    },
    "tags": []
   },
   "source": [
    "```{admonition} Do It Yourself!\n",
    ":class: seealso, dropdown\n",
    "Create a dog owner instance, then create two copies of it: i) a shallow copy; and ii) a deep copy. Compare the dogs of the copies against the original dog with the <i>is</i> operator. What is the difference between both cases?\n",
    "```"
   ]
  },
  {
   "cell_type": "code",
   "execution_count": null,
   "metadata": {
    "jupyter": {
     "source_hidden": true
    },
    "tags": []
   },
   "outputs": [],
   "source": [
    "# Remove this line and add your code here"
   ]
  }
 ],
 "metadata": {
  "kernelspec": {
   "display_name": "Python 3",
   "language": "python",
   "name": "python3"
  },
  "language_info": {
   "codemirror_mode": {
    "name": "ipython",
    "version": 3
   },
   "file_extension": ".py",
   "mimetype": "text/x-python",
   "name": "python",
   "nbconvert_exporter": "python",
   "pygments_lexer": "ipython3",
   "version": "3.8.8"
  }
 },
 "nbformat": 4,
 "nbformat_minor": 4
}
