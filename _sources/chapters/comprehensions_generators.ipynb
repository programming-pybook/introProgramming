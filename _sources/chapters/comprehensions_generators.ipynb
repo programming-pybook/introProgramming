{
 "cells": [
  {
   "cell_type": "markdown",
   "metadata": {
    "slideshow": {
     "slide_type": "slide"
    }
   },
   "source": [
    "# Comprehensions and Generators [^intro]\n",
    "\n",
    "[^intro]: This Jupyter Notebook is based on Chapter 19 (Sections 19.2-19.5) of {cite}`Severance2016`.\n",
    "The extra material presented is based on Jupyter notebooks developed by Tom Verhoeff (TU/e)."
   ]
  },
  {
   "cell_type": "markdown",
   "metadata": {},
   "source": [
    "## Collections of Data\n",
    "\n",
    "Comprehensions and generators are ways of transforming\n",
    "collections of data.\n",
    "So, let us first look at such data collections.\n",
    "\n",
    "A collection of data can be **stored** in a **tuple**, **list**, **set**, or **dictionary**. The difference between using one or the other will depend on the properties you need to represent your data. In the following table, we briefly present the properties of each of these collections.\n",
    "\n",
    "| Collection | Mutable | Ordered | Allows duplicates | Indexed | Representation |\n",
    "|------------|:-------:|:-------:|:----------------:|:-------:|:--------------:|\n",
    "| `tuple` | ✖︎ | ✔︎ | ✔︎ | ✔︎ | `(...)` |\n",
    "| `list`  | ✔︎ | ✔︎ | ✔︎ | ✔︎ | `[...]` |\n",
    "| `set`   | ✔︎ | ✖︎ | ✖︎ | ✖︎ | `{...}` |\n",
    "| `dict`  | ✔︎ | ✖︎ | ✖︎ | ✔︎ * | `{key: val, ...}` |\n",
    "\n",
    "<sup>*</sup> You access key-value pairs via a key.\n",
    "\n",
    "Additionally, we have already seen a number of built-in operations on lists, such as\n",
    "* **indexing**, to access an item at a given index:\n",
    "  `s[i]`, where `0 <= i < len(s)`\n",
    "* **slicing**, to extract a subsequence of items:\n",
    "  `s[a:b]` extracts the list of `s[i]` with `a <= i < b`,\n",
    "  or `s[a:b:c]` where `c` is the step size\n",
    "* **concatenation**: `s + t`\n",
    "* **length**: `len(s)`\n",
    "* **aggregation**: `sum(s)`, `min(s)`, `max(s)`\n",
    "* **sorting**: `sorted(s)`"
   ]
  },
  {
   "cell_type": "markdown",
   "metadata": {},
   "source": [
    "## Iterables and Iterators\n",
    "\n",
    "What collections of data have in common is that they are _iterable_.\n",
    "An **iterable** is any collection that you can step through one by one.\n",
    "To traverse an *iterable* you require an **iterator**.\n",
    "An *iterator* is an object that traverses your iterable and returns one element at a time. \n",
    "To transform a collection into an iterator, we use the `iter()` method.\n",
    "Afterwards, each element in the iterator can be accessed by repeatedly calling the `next()` method.\n",
    "\n",
    "```{image} assets/iterable-iterator.png\n",
    ":alt: Iterables and Iterators\n",
    ":width: 500px\n",
    ":align: center\n",
    "```\n",
    "\n",
    "<div style=\"text-align:center\">\n",
    "    <span style=\"font-size:0.9em; font-weight: bold;\">Iterables and iterators in Python.</span>\n",
    "</div>"
   ]
  },
  {
   "cell_type": "code",
   "execution_count": null,
   "metadata": {},
   "outputs": [],
   "source": [
    "# Create a list of integers, which is an iterable\n",
    "iterable: list = [1, 2, 3, 4, 5]\n",
    "print(type(iterable))\n",
    "iterable"
   ]
  },
  {
   "cell_type": "code",
   "execution_count": null,
   "metadata": {},
   "outputs": [],
   "source": [
    "from typing import Iterator \n",
    "\n",
    "# Create an iterator out from the \"iterable\" list\n",
    "iterator: Iterator = iter(iterable)\n",
    "type(iterator)"
   ]
  },
  {
   "cell_type": "code",
   "execution_count": null,
   "metadata": {},
   "outputs": [],
   "source": [
    "# Traverse the iterable via the iterator\n",
    "num_one = next(iterator)\n",
    "print(f'First iteration: {num_one}')\n",
    "\n",
    "num_two = next(iterator)\n",
    "print(f'Second iteration: {num_two}')\n",
    "\n",
    "num_three = next(iterator)\n",
    "print(f'Third iteration: {num_three}')\n",
    "\n",
    "num_four = next(iterator)\n",
    "print(f'Fourth iteration: {num_four}')\n",
    "\n",
    "num_five = next(iterator)\n",
    "print(f'Fifth iteration: {num_five}')"
   ]
  },
  {
   "cell_type": "markdown",
   "metadata": {},
   "source": [
    "If the collection has been traversed and you call the `next()` function one more time, you will get a `StopIteration` error."
   ]
  },
  {
   "cell_type": "code",
   "execution_count": null,
   "metadata": {},
   "outputs": [],
   "source": [
    "next(iterator)"
   ]
  },
  {
   "cell_type": "markdown",
   "metadata": {},
   "source": [
    "Let us now use the `while` loop to iterate over our iterable in a smarter way."
   ]
  },
  {
   "cell_type": "code",
   "execution_count": null,
   "metadata": {},
   "outputs": [],
   "source": [
    "iterable: list = [1, 2, 3, 4, 5]\n",
    "iterator: Iterator = iter(iterable)\n",
    "i: int = 0\n",
    "\n",
    "while i < len(iterable):\n",
    "    val: int = next(iterator)\n",
    "    print(val)\n",
    "    i += 1"
   ]
  },
  {
   "cell_type": "markdown",
   "metadata": {},
   "source": [
    "When using a `for` loop, you do not need to call these methods. The previous procedure is done under the hood by Python!\n",
    "\n",
    "Furthermore, one *iterable* can be iterated over or traversed multiple times. Each new traversal involves a new *iterator*.\n",
    "In fact, multiple iterators can be active concurrently on the same collection, as it is the case of nested loops."
   ]
  },
  {
   "cell_type": "code",
   "execution_count": null,
   "metadata": {
    "scrolled": true,
    "slideshow": {
     "slide_type": "fragment"
    }
   },
   "outputs": [],
   "source": [
    "letters: tuple = ('a', 'b', 'c')\n",
    "\n",
    "for i in letters:\n",
    "    for j in letters:\n",
    "        print('{}{}'.format(i, j), end=\" \")\n",
    "    print()"
   ]
  },
  {
   "cell_type": "markdown",
   "metadata": {
    "jupyter": {
     "source_hidden": true
    },
    "tags": []
   },
   "source": [
    "```{admonition} Do It Yourself!\n",
    ":class: seealso, dropdown\n",
    "Iterate over the list of words and add the words that start by 'a' to a new list.\n",
    "```"
   ]
  },
  {
   "cell_type": "code",
   "execution_count": null,
   "metadata": {
    "jupyter": {
     "source_hidden": true
    },
    "tags": []
   },
   "outputs": [],
   "source": [
    "words = ['age', 'bee', 'ask', 'cut', 'clean', 'zoo', 'add']\n",
    "# Remove this line and add your code here"
   ]
  },
  {
   "cell_type": "markdown",
   "metadata": {
    "slideshow": {
     "slide_type": "slide"
    }
   },
   "source": [
    "## Comprehensions\n",
    "\n",
    "A **list comprehension** is an _expression_ that constructs a list\n",
    "based on some *iterable*.\n",
    "The items taken from the iterable can be _transformed_ in an expression\n",
    "before being collected in the list.\n",
    "\n",
    "In the next example, the iterable is `range(10)`, and we collect the squares of the numbers in that range:"
   ]
  },
  {
   "cell_type": "code",
   "execution_count": null,
   "metadata": {
    "slideshow": {
     "slide_type": "fragment"
    }
   },
   "outputs": [],
   "source": [
    "[n * n for n in range(10)]"
   ]
  },
  {
   "cell_type": "markdown",
   "metadata": {
    "slideshow": {
     "slide_type": "fragment"
    }
   },
   "source": [
    "The list comprehension above defines the same list\n",
    "as the following program fragment\n",
    "with a **`for`** statement and an auxiliary variable (`aux`), but in a more compact way."
   ]
  },
  {
   "cell_type": "code",
   "execution_count": null,
   "metadata": {
    "slideshow": {
     "slide_type": "fragment"
    }
   },
   "outputs": [],
   "source": [
    "aux: list = []\n",
    "\n",
    "for n in range(10):\n",
    "    aux.append(n * n)\n",
    "\n",
    "aux"
   ]
  },
  {
   "cell_type": "markdown",
   "metadata": {
    "slideshow": {
     "slide_type": "fragment"
    }
   },
   "source": [
    "The comprehension is more compact, and\n",
    "does not need an explicit list variable."
   ]
  },
  {
   "cell_type": "markdown",
   "metadata": {
    "jupyter": {
     "source_hidden": true
    },
    "tags": []
   },
   "source": [
    "```{admonition} Do It Yourself!\n",
    ":class: seealso, dropdown\n",
    "Use a comprehension to create a list where all words in the given list are transformed into capital letters.\n",
    "```"
   ]
  },
  {
   "cell_type": "code",
   "execution_count": null,
   "metadata": {
    "jupyter": {
     "source_hidden": true
    },
    "tags": []
   },
   "outputs": [],
   "source": [
    "words = ['age', 'bee', 'ask', 'cut', 'clean', 'zoo', 'add']\n",
    "# Remove this line and add your code here"
   ]
  },
  {
   "cell_type": "markdown",
   "metadata": {
    "slideshow": {
     "slide_type": "subslide"
    }
   },
   "source": [
    "## Selective Inclusion in a Comprehension\n",
    "\n",
    "You can also _selectively_ include items in the constructed list,\n",
    "by using an `if` clause.\n",
    "For instance, the numbers less than 10\n",
    "that leave a remainder more than 2 when divided by 7:"
   ]
  },
  {
   "cell_type": "code",
   "execution_count": null,
   "metadata": {
    "slideshow": {
     "slide_type": "fragment"
    }
   },
   "outputs": [],
   "source": [
    "[n for n in range(10) if n % 7 > 2]"
   ]
  },
  {
   "cell_type": "markdown",
   "metadata": {
    "slideshow": {
     "slide_type": "fragment"
    }
   },
   "source": [
    "And here is the list of _squares_ of those numbers\n",
    "that leave a remainder more than 2 when divided by 7."
   ]
  },
  {
   "cell_type": "code",
   "execution_count": null,
   "metadata": {
    "slideshow": {
     "slide_type": "fragment"
    }
   },
   "outputs": [],
   "source": [
    "[n * n for n in range(10) if n % 7 > 2]"
   ]
  },
  {
   "cell_type": "markdown",
   "metadata": {
    "slideshow": {
     "slide_type": "fragment"
    }
   },
   "source": [
    "Note that the condition is applied to the items\n",
    "_before_ they are transformed.\n",
    "\n",
    "This is like putting an `if` statement inside the `for` loop."
   ]
  },
  {
   "cell_type": "code",
   "execution_count": null,
   "metadata": {
    "slideshow": {
     "slide_type": "fragment"
    }
   },
   "outputs": [],
   "source": [
    "aux: list = []\n",
    "    \n",
    "for n in range(10):\n",
    "    if n % 7 > 2:\n",
    "        aux.append(n * n)\n",
    "\n",
    "aux"
   ]
  },
  {
   "cell_type": "markdown",
   "metadata": {},
   "source": [
    "In summary, a **list comprehension**\n",
    "```python\n",
    "[E(v) for v in iterable if C(v)]\n",
    "```\n",
    "  \n",
    "* takes items from an _**iterable**_:\n",
    "  ```python\n",
    "  for v in iterable\n",
    "  ```\n",
    "* _**selects**_ items based on a condition:\n",
    "  ```python\n",
    "  if C(v)\n",
    "  ```\n",
    "* _**transforms**_ the selected items using an expression:\n",
    "  ```python\n",
    "  E(v)\n",
    "  ```\n",
    "* and _**collects**_ the expression results in a list:\n",
    "  ```python\n",
    "  [...]\n",
    "  ```\n",
    "\n",
    "Note the order: first select, then transform\n",
    "(even though you write the transformation first, and the selection last)."
   ]
  },
  {
   "cell_type": "markdown",
   "metadata": {
    "jupyter": {
     "source_hidden": true
    },
    "tags": []
   },
   "source": [
    "```{admonition} Do It Yourself!\n",
    ":class: seealso, dropdown\n",
    "Remember our fisr exercise in this notebook? Use a comprehension to iterate over the list of words and add the words that start by 'a' to a new list.\n",
    "```"
   ]
  },
  {
   "cell_type": "code",
   "execution_count": null,
   "metadata": {
    "jupyter": {
     "source_hidden": true
    },
    "tags": []
   },
   "outputs": [],
   "source": [
    "words = ['age', 'bee', 'ask', 'cut', 'clean', 'zoo', 'add']\n",
    "# Remove this line and add your code here"
   ]
  },
  {
   "cell_type": "markdown",
   "metadata": {
    "slideshow": {
     "slide_type": "slide"
    }
   },
   "source": [
    "## Nested Comprehensions\n",
    "\n",
    "If you need to select _after_ transforming the items,\n",
    "then you can use a _nested_ comprehension\n",
    "(but do read the **warning** after the following example)."
   ]
  },
  {
   "cell_type": "code",
   "execution_count": null,
   "metadata": {
    "slideshow": {
     "slide_type": "fragment"
    }
   },
   "outputs": [],
   "source": [
    "[sq for sq in [n * n for n in range(10)] if sq % 7 > 2]"
   ]
  },
  {
   "cell_type": "markdown",
   "metadata": {
    "slideshow": {
     "slide_type": "fragment"
    }
   },
   "source": [
    "Observe that the result is different with `[n * n for n in range(10) if n % 7 > 2]`, why?"
   ]
  },
  {
   "cell_type": "markdown",
   "metadata": {
    "slideshow": {
     "slide_type": "fragment"
    }
   },
   "source": [
    "`````{admonition} Warning\n",
    ":class: tip\n",
    "In a **nested comprehension**, the _inner_ comprehension is **completely evaluated and stored** before it is being used in the _outer_ comprehension.\n",
    "`````\n"
   ]
  },
  {
   "cell_type": "markdown",
   "metadata": {
    "jupyter": {
     "source_hidden": true
    },
    "tags": []
   },
   "source": [
    "```{admonition} Do It Yourself!\n",
    ":class: seealso, dropdown\n",
    "We have a list of lists. The internal lists have numbers as elements. We would like to flatten the outer list; i.e. instead of have lists of lists of numbers we just want to have a list of numbers. Use a nested comprehension to achieve this goal.\n",
    "```"
   ]
  },
  {
   "cell_type": "code",
   "execution_count": null,
   "metadata": {
    "jupyter": {
     "source_hidden": true
    },
    "tags": []
   },
   "outputs": [],
   "source": [
    "lst = [[1, 2, 3], [4, 5, 6, 7], [8, 9, 10], [11], [12, 13, 14, 15]]\n",
    "# Remove this line and add your code here"
   ]
  },
  {
   "cell_type": "markdown",
   "metadata": {
    "slideshow": {
     "slide_type": "slide"
    }
   },
   "source": [
    "### Alternative Approaches for Selection _After_ Transformation\n",
    "\n",
    "Perfom the transformation (in this case: squaring)\n",
    "also in the `if` clause:"
   ]
  },
  {
   "cell_type": "code",
   "execution_count": null,
   "metadata": {
    "slideshow": {
     "slide_type": "fragment"
    }
   },
   "outputs": [],
   "source": [
    "[n * n for n in range(10) if n * n % 7 > 2]"
   ]
  },
  {
   "cell_type": "markdown",
   "metadata": {
    "slideshow": {
     "slide_type": "fragment"
    }
   },
   "source": [
    "A disadvantage of this approach is that every transformation is done *twice*,\n",
    "which can be costly if the transformation is expensive."
   ]
  },
  {
   "cell_type": "markdown",
   "metadata": {
    "slideshow": {
     "slide_type": "subslide"
    }
   },
   "source": [
    "## Set and Dictionary Comprehensions\n",
    "\n",
    "* [Comprehensions also work for _sets_ and _dictionaries_](https://docs.python.org/3/reference/expressions.html#displays-for-lists-sets-and-dictionaries).\n",
    "* Comprehensions can involve multiple `for` and `if` clauses\n",
    "  (but always start with an expression and a `for` clause).\n",
    "  \n",
    "Here are some examples.\n",
    "The _set_ of non-prime numbers up to 100:"
   ]
  },
  {
   "cell_type": "code",
   "execution_count": null,
   "metadata": {
    "scrolled": true,
    "slideshow": {
     "slide_type": "fragment"
    }
   },
   "outputs": [],
   "source": [
    "composites: set = {i * j for i in range(2, 10 + 1) for j in range(2, 100 // i + 1)}\n",
    "composites"
   ]
  },
  {
   "cell_type": "markdown",
   "metadata": {},
   "source": [
    "Let us decompose this rather complex comprehension by looking what each step does, both as `list` and `set`."
   ]
  },
  {
   "cell_type": "code",
   "execution_count": null,
   "metadata": {
    "scrolled": true,
    "slideshow": {
     "slide_type": "fragment"
    }
   },
   "outputs": [],
   "source": [
    "[i for i in range(2, 10 + 1)]"
   ]
  },
  {
   "cell_type": "code",
   "execution_count": null,
   "metadata": {
    "scrolled": true,
    "slideshow": {
     "slide_type": "fragment"
    }
   },
   "outputs": [],
   "source": [
    "{i for i in range(2, 10 + 1)}"
   ]
  },
  {
   "cell_type": "markdown",
   "metadata": {},
   "source": [
    "Let us add the second comprehension and first see the result when a list is being returned."
   ]
  },
  {
   "cell_type": "code",
   "execution_count": null,
   "metadata": {
    "scrolled": true,
    "slideshow": {
     "slide_type": "fragment"
    }
   },
   "outputs": [],
   "source": [
    "[j for i in range(2, 10 + 1) for j in range(2, 100 // i + 1)]"
   ]
  },
  {
   "cell_type": "code",
   "execution_count": null,
   "metadata": {},
   "outputs": [],
   "source": [
    "{j for i in range(2, 10 + 1) for j in range(2, 100 // i + 1)}"
   ]
  },
  {
   "cell_type": "markdown",
   "metadata": {
    "jupyter": {
     "source_hidden": true
    },
    "tags": []
   },
   "source": [
    "```{admonition} Do It Yourself!\n",
    ":class: seealso, dropdown\n",
    "We would like to use a set comprehension to create a set with all words of length 4 that are part of a given list. Remember that sets do not have duplicates and that is why we eant to use them as data type.\n",
    "```"
   ]
  },
  {
   "cell_type": "code",
   "execution_count": null,
   "metadata": {
    "jupyter": {
     "source_hidden": true
    },
    "tags": []
   },
   "outputs": [],
   "source": [
    "lst = ['funny', 'that', 'little', 'yoke', 'sunny', 'side', 'up', 'in', 'the', 'span',\n",
    "       'of', 'the', 'lake']\n",
    "# Remove this line and add your code here"
   ]
  },
  {
   "cell_type": "markdown",
   "metadata": {
    "slideshow": {
     "slide_type": "fragment"
    }
   },
   "source": [
    "A _dictionary_ that associates the numbers 13 through 32\n",
    "to their squares:"
   ]
  },
  {
   "cell_type": "code",
   "execution_count": null,
   "metadata": {
    "slideshow": {
     "slide_type": "fragment"
    }
   },
   "outputs": [],
   "source": [
    "squares: dict = {n: n * n for n in range(13, 32 + 1)}\n",
    "squares"
   ]
  },
  {
   "cell_type": "markdown",
   "metadata": {
    "slideshow": {
     "slide_type": "fragment"
    }
   },
   "source": [
    "A _list_ of powers\n",
    "where the base is a prime less than 10 and\n",
    "exponents run from 2 through 5\n",
    "(it uses `composites` defined earlier);\n",
    "note the clause order `for if for`:"
   ]
  },
  {
   "cell_type": "code",
   "execution_count": null,
   "metadata": {
    "slideshow": {
     "slide_type": "fragment"
    }
   },
   "outputs": [],
   "source": [
    "[base ** exp for base in range(2, 10 + 1) if base not in composites for exp in range(2, 5 + 1)]"
   ]
  },
  {
   "cell_type": "markdown",
   "metadata": {},
   "source": [
    "In order to understand it may be again helpful to look at the individual results of each comprehension."
   ]
  },
  {
   "cell_type": "markdown",
   "metadata": {
    "jupyter": {
     "source_hidden": true
    },
    "tags": []
   },
   "source": [
    "```{admonition} Do It Yourself!\n",
    ":class: seealso, dropdown\n",
    "Use a comprehension to create a dictionary that stores the words within the list <i>lst</i> as keys and tehir length as values.\n",
    "```"
   ]
  },
  {
   "cell_type": "code",
   "execution_count": null,
   "metadata": {
    "jupyter": {
     "source_hidden": true
    },
    "tags": []
   },
   "outputs": [],
   "source": [
    "lst = ['funny', 'that', 'little', 'yoke', 'sunny', 'side', 'up', 'in', 'the', 'span',\n",
    "       'of', 'the', 'lake']\n",
    "# Remove this line and add your code here"
   ]
  },
  {
   "cell_type": "markdown",
   "metadata": {
    "slideshow": {
     "slide_type": "subslide"
    }
   },
   "source": [
    "## Comprehensions Evaluation\n",
    "\n",
    "Comprehensions are completely evaluated before further use.\n",
    "\n",
    "What if you do not need the whole list constructed by the comprehension?\n",
    "Suppose, for instance, you only want the first element.\n",
    "Will the whole list still be computed?\n",
    "\n",
    "To illustrate what we mean,\n",
    "we first show a version with explicit\n",
    "**`for`**, **`if`**, and **`break`** statements,\n",
    "that avoids computing all values in the list.\n",
    "It stops when the first item has been computed."
   ]
  },
  {
   "cell_type": "code",
   "execution_count": null,
   "metadata": {
    "slideshow": {
     "slide_type": "fragment"
    }
   },
   "outputs": [],
   "source": [
    "aux: list = []\n",
    "\n",
    "for n in range(10):\n",
    "    if n % 7 > 2:\n",
    "        aux.append(n * n)\n",
    "        break\n",
    "\n",
    "print(aux)\n",
    "aux[0]"
   ]
  },
  {
   "cell_type": "markdown",
   "metadata": {
    "slideshow": {
     "slide_type": "fragment"
    }
   },
   "source": [
    "Let's try this with our comprehension,\n",
    "by extracting the first item (at index 0)."
   ]
  },
  {
   "cell_type": "code",
   "execution_count": null,
   "metadata": {
    "slideshow": {
     "slide_type": "fragment"
    }
   },
   "outputs": [],
   "source": [
    "[n * n for n in range(20) if n % 7 > 2][0]"
   ]
  },
  {
   "cell_type": "markdown",
   "metadata": {
    "slideshow": {
     "slide_type": "fragment"
    }
   },
   "source": [
    "Actually, we now cannot see whether the whole list got computed.\n",
    "So, let us introduce a function `f` with a **side effect**\n",
    "to make this visible.\n",
    "A *side effect* is the modification of any sort of state such as changing a mutable variable, using IO, or throwing an exception.\n",
    "As a function, `trail` does nothing to its argument:\n",
    "it returns _n_ unchanged.\n",
    "But it also prints a dot, and this is a (visible) side effect."
   ]
  },
  {
   "cell_type": "code",
   "execution_count": null,
   "metadata": {
    "slideshow": {
     "slide_type": "fragment"
    }
   },
   "outputs": [],
   "source": [
    "from typing import Any\n",
    "\n",
    "def trail(n: Any) -> Any:\n",
    "    \"\"\" Print a dot and return n.\n",
    "    \"\"\"\n",
    "    print('.', end='')\n",
    "    return n"
   ]
  },
  {
   "cell_type": "markdown",
   "metadata": {
    "slideshow": {
     "slide_type": "fragment"
    }
   },
   "source": [
    "Let us try again."
   ]
  },
  {
   "cell_type": "code",
   "execution_count": null,
   "metadata": {
    "slideshow": {
     "slide_type": "fragment"
    }
   },
   "outputs": [],
   "source": [
    "[trail(n * n) for n in range(20) if n % 7 > 2][0]"
   ]
  },
  {
   "cell_type": "markdown",
   "metadata": {
    "slideshow": {
     "slide_type": "fragment"
    }
   },
   "source": [
    "Apparently, the whole list got computed first."
   ]
  },
  {
   "cell_type": "markdown",
   "metadata": {
    "slideshow": {
     "slide_type": "slide"
    }
   },
   "source": [
    "## Generators\n",
    "\n",
    "We can fix this by using a generator.\n",
    "* A [**generator expression**](https://docs.python.org/3/reference/expressions.html#generator-expressions) is like a comprehension:\n",
    "it _selectively_ takes items from an _iterable_ and\n",
    "_transforms_ them.\n",
    "* But a generator does not construct a list to store all items.\n",
    "* A generator is **lazy**,\n",
    "in the sense that a generator will not be computed completely in advance.\n",
    "(In fact, a generator can be endless/infinite.)\n",
    "* Instead,\n",
    "a generator is only evaluated to the extent that its values are needed.\n",
    "The evaluation of a generator is **demand driven**.\n",
    "\n",
    "A generator is not a list, but it is itself again an _iterable_.\n",
    "In fact, a generator is an _iterator_.\n",
    "(A list is also an iterable, but a list is completely stored in memory.)\n",
    "\n",
    "Let us define a function `first`\n",
    "that will only extract the first element of an iterable.\n",
    "(We need this function `first`,\n",
    "because we cannot extract the first item from an iterable by indexing it at 0,\n",
    "like we did with the list comprehension.)"
   ]
  },
  {
   "cell_type": "code",
   "execution_count": null,
   "metadata": {
    "slideshow": {
     "slide_type": "fragment"
    }
   },
   "outputs": [],
   "source": [
    "from typing import Iterable\n",
    "\n",
    "def first(iterable: Iterable) -> Any:\n",
    "    \"\"\" Returns first item from iterable.\n",
    "    \"\"\"\n",
    "    for item in iterable:\n",
    "        return item  # and ignore everything else"
   ]
  },
  {
   "cell_type": "markdown",
   "metadata": {
    "slideshow": {
     "slide_type": "fragment"
    }
   },
   "source": [
    "If we apply this to the list comprehension, we (again) see that the whole list still gets computed."
   ]
  },
  {
   "cell_type": "code",
   "execution_count": null,
   "metadata": {
    "slideshow": {
     "slide_type": "fragment"
    }
   },
   "outputs": [],
   "source": [
    "first([trail(n * n) for n in range(20) if n % 7 > 2])"
   ]
  },
  {
   "cell_type": "markdown",
   "metadata": {
    "slideshow": {
     "slide_type": "fragment"
    }
   },
   "source": [
    "Now, let us apply it to the generator version of the comprehension.\n",
    "Note the use of **round parentheses** instead of square brackets.\n",
    "By the way, since the function call also involves round parentheses,\n",
    "we don't have to repeat another pair."
   ]
  },
  {
   "cell_type": "code",
   "execution_count": null,
   "metadata": {
    "slideshow": {
     "slide_type": "fragment"
    }
   },
   "outputs": [],
   "source": [
    "first(trail(n * n) for n in range(20) if n % 7 > 2)"
   ]
  },
  {
   "cell_type": "markdown",
   "metadata": {
    "slideshow": {
     "slide_type": "fragment"
    }
   },
   "source": [
    "We see that now only one item got computed (the first one)."
   ]
  },
  {
   "cell_type": "markdown",
   "metadata": {
    "jupyter": {
     "source_hidden": true
    },
    "tags": []
   },
   "source": [
    "```{admonition} Do It Yourself!\n",
    ":class: seealso, dropdown\n",
    "Create the function `first_multiple_of_2` which gets an iterable as argument and returns the first number that is multiple of two. Build a generator that iterates over number from 1 to 10, and computes the result of multiplying a given number by 3. \n",
    "```"
   ]
  },
  {
   "cell_type": "code",
   "execution_count": null,
   "metadata": {
    "jupyter": {
     "source_hidden": true
    },
    "tags": []
   },
   "outputs": [],
   "source": [
    "# Remove this line and add your code here"
   ]
  },
  {
   "cell_type": "markdown",
   "metadata": {
    "slideshow": {
     "slide_type": "subslide"
    }
   },
   "source": [
    "### A Generator Can be Used Only Once"
   ]
  },
  {
   "cell_type": "markdown",
   "metadata": {
    "slideshow": {
     "slide_type": "fragment"
    }
   },
   "source": [
    "Because a generator is a (special kind of) iterator,\n",
    "it can be used only once."
   ]
  },
  {
   "cell_type": "markdown",
   "metadata": {
    "slideshow": {
     "slide_type": "fragment"
    }
   },
   "source": [
    "Let us store our generator in a variable:"
   ]
  },
  {
   "cell_type": "code",
   "execution_count": null,
   "metadata": {
    "slideshow": {
     "slide_type": "fragment"
    }
   },
   "outputs": [],
   "source": [
    "my_gen = (trail(n * n) for n in range(10) if n % 7 > 2)"
   ]
  },
  {
   "cell_type": "markdown",
   "metadata": {
    "slideshow": {
     "slide_type": "fragment"
    }
   },
   "source": [
    "You can then use this variable as an iterable."
   ]
  },
  {
   "cell_type": "code",
   "execution_count": null,
   "metadata": {
    "slideshow": {
     "slide_type": "fragment"
    }
   },
   "outputs": [],
   "source": [
    "first(my_gen)"
   ]
  },
  {
   "cell_type": "code",
   "execution_count": null,
   "metadata": {
    "slideshow": {
     "slide_type": "fragment"
    }
   },
   "outputs": [],
   "source": [
    "for i in my_gen:\n",
    "    print(i, end=\" \")"
   ]
  },
  {
   "cell_type": "markdown",
   "metadata": {
    "slideshow": {
     "slide_type": "fragment"
    }
   },
   "source": [
    "Observe that the generator continued where it left off after its first (partial) use.\n",
    "Once a generator is exhausted (has reached the end), it becomes useless."
   ]
  },
  {
   "cell_type": "code",
   "execution_count": null,
   "metadata": {
    "slideshow": {
     "slide_type": "fragment"
    }
   },
   "outputs": [],
   "source": [
    "for i in my_gen:\n",
    "    print(i, end=\" \")"
   ]
  },
  {
   "cell_type": "markdown",
   "metadata": {
    "slideshow": {
     "slide_type": "fragment"
    }
   },
   "source": [
    "(There is no output, because the generator was already exhausted.)"
   ]
  },
  {
   "cell_type": "markdown",
   "metadata": {
    "slideshow": {
     "slide_type": "subslide"
    }
   },
   "source": [
    "## Factories\n",
    "\n",
    "Since generators (like iterators) are not reusable,\n",
    "it is more common to define a **function that returns a fresh generator** on each call.\n",
    "Such a function is also known as a **factory**.\n",
    "If that function is parameterized,\n",
    "then you can produce _customized_ generators.\n",
    "\n",
    "Here is an example of a parameterized factory:"
   ]
  },
  {
   "cell_type": "code",
   "execution_count": null,
   "metadata": {
    "slideshow": {
     "slide_type": "fragment"
    }
   },
   "outputs": [],
   "source": [
    "from typing import Generator\n",
    "\n",
    "def square_factory(m: int) -> Generator[int, None, None]:\n",
    "    \"\"\" Returns a generator for the squares of numbers in the range [0, m).\n",
    "    \"\"\"\n",
    "    return (n * n for n in range(m) if n % 7 > 2)"
   ]
  },
  {
   "cell_type": "markdown",
   "metadata": {
    "slideshow": {
     "slide_type": "fragment"
    }
   },
   "source": [
    "The call `square_factory(10)` returns (a fresh copy of) the generator\n",
    "that we considered above.\n",
    "\n",
    "Let's try the same things again, using this factory."
   ]
  },
  {
   "cell_type": "code",
   "execution_count": null,
   "metadata": {
    "slideshow": {
     "slide_type": "fragment"
    }
   },
   "outputs": [],
   "source": [
    "first(square_factory(10))"
   ]
  },
  {
   "cell_type": "code",
   "execution_count": null,
   "metadata": {
    "slideshow": {
     "slide_type": "fragment"
    }
   },
   "outputs": [],
   "source": [
    "for i in square_factory(10):\n",
    "    print(i, end=\" \")\n",
    "    \n",
    "print()\n",
    "\n",
    "for i in square_factory(10):\n",
    "    print(i, end=\" \")"
   ]
  },
  {
   "cell_type": "markdown",
   "metadata": {
    "slideshow": {
     "slide_type": "fragment"
    }
   },
   "source": [
    "That looks better.\n",
    "The **`for`** loop starts all over again."
   ]
  },
  {
   "cell_type": "markdown",
   "metadata": {
    "jupyter": {
     "source_hidden": true
    },
    "tags": []
   },
   "source": [
    "```{admonition} Do It Yourself!\n",
    ":class: seealso, dropdown\n",
    "Create a factory function to return the generator you created before: the one related to computing the multiplication of a number by 3.\n",
    "```"
   ]
  },
  {
   "cell_type": "code",
   "execution_count": null,
   "metadata": {
    "jupyter": {
     "source_hidden": true
    },
    "tags": []
   },
   "outputs": [],
   "source": [
    "# Remove this line and add your code here"
   ]
  }
 ],
 "metadata": {
  "kernelspec": {
   "display_name": "Python 3.8.9 64-bit",
   "language": "python",
   "name": "python3"
  },
  "language_info": {
   "codemirror_mode": {
    "name": "ipython",
    "version": 3
   },
   "file_extension": ".py",
   "mimetype": "text/x-python",
   "name": "python",
   "nbconvert_exporter": "python",
   "pygments_lexer": "ipython3",
   "version": "3.8.9"
  },
  "vscode": {
   "interpreter": {
    "hash": "31f2aee4e71d21fbe5cf8b01ff0e069b9275f58929596ceb00d14d90e3e16cd6"
   }
  }
 },
 "nbformat": 4,
 "nbformat_minor": 4
}
