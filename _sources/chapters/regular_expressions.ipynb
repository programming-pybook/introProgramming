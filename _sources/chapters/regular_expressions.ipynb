{
 "cells": [
  {
   "cell_type": "markdown",
   "metadata": {},
   "source": [
    "# Regular Expressions [^intro]\n",
    "\n",
    "[^intro]: This Jupyter Notebook is based on Chapter 11 of {cite}`Severance2016`."
   ]
  },
  {
   "cell_type": "markdown",
   "metadata": {},
   "source": [
    "To extract information from strings, we have been using string methods such as `split()` and `find()`, and lists and string slicing.\n",
    "However, the task of extracting data is so common that Python provides a library dedicated to handle these tasks in a more elegant manner.\n",
    "The library is called `re` (regular expressions) and it should be imported before you can start using it.\n",
    "\n",
    "**Regular expressions** are like a little programming language created for searching and parsing strings.\n",
    "\n",
    "There are general libraries, not Python specific, that offer this functionality as well (e.g. `grep`).\n",
    "\n",
    "One of the simplest uses of the `re` library is the `search()` function, which verifies if a string is part of another string. \n",
    "Let us see an example."
   ]
  },
  {
   "cell_type": "code",
   "execution_count": null,
   "metadata": {},
   "outputs": [],
   "source": [
    "file = open('datasets/mbox-short.txt')\n",
    "\n",
    "for line in file:\n",
    "    line: str = line.rstrip()\n",
    "    print(line)"
   ]
  },
  {
   "cell_type": "code",
   "execution_count": 2,
   "metadata": {},
   "outputs": [
    {
     "name": "stdout",
     "output_type": "stream",
     "text": [
      "Author: stephen.marquard@uct.ac.za\n",
      "Author: louis@media.berkeley.edu\n",
      "Author: zqian@umich.edu\n",
      "Author: rjlowe@iupui.edu\n",
      "Author: zqian@umich.edu\n",
      "Author: rjlowe@iupui.edu\n",
      "Author: cwen@iupui.edu\n",
      "Author: cwen@iupui.edu\n",
      "Author: gsilver@umich.edu\n",
      "Author: gsilver@umich.edu\n",
      "Author: zqian@umich.edu\n",
      "Author: gsilver@umich.edu\n",
      "Author: wagnermr@iupui.edu\n",
      "Author: zqian@umich.edu\n",
      "Author: antranig@caret.cam.ac.uk\n",
      "Author: gopal.ramasammycook@gmail.com\n",
      "Author: david.horwitz@uct.ac.za\n",
      "Author: david.horwitz@uct.ac.za\n",
      "Author: david.horwitz@uct.ac.za\n",
      "Author: david.horwitz@uct.ac.za\n",
      "Author: stephen.marquard@uct.ac.za\n",
      "Author: louis@media.berkeley.edu\n",
      "Author: louis@media.berkeley.edu\n",
      "Author: ray@media.berkeley.edu\n",
      "Author: cwen@iupui.edu\n",
      "Author: cwen@iupui.edu\n",
      "Author: cwen@iupui.edu\n"
     ]
    }
   ],
   "source": [
    "import re\n",
    "\n",
    "file = open('datasets/mbox-short.txt')\n",
    "\n",
    "for line in file:\n",
    "    line: str = line.rstrip()\n",
    "    if re.search('Author:', line):\n",
    "        print(line)"
   ]
  },
  {
   "cell_type": "markdown",
   "metadata": {},
   "source": [
    "The previous program prints all the lines that have the word `'Author'`.\n",
    "\n",
    "As you might have noticed, we could implement this same program with the use of the `find()` method.\n",
    "\n",
    "The power of the regular expressions comes when we add special characters to\n",
    "the search string, which allows us to more precisely control which lines match the\n",
    "string."
   ]
  },
  {
   "cell_type": "code",
   "execution_count": null,
   "metadata": {},
   "outputs": [],
   "source": [
    "file = open('datasets/mbox-short.txt')\n",
    "\n",
    "for line in file:\n",
    "    line: str = line.rstrip()\n",
    "    \n",
    "    if re.search('^Author:', line):\n",
    "        print(line)"
   ]
  },
  {
   "cell_type": "markdown",
   "metadata": {},
   "source": [
    "We modified our previous program, so it only prints the lines that start with the `'Author'` string. \n",
    "This is done thanks to the use of the caret character (`^`), which is used in regular expressions to match the beginning of a line.\n",
    "\n",
    "Still, this example can also work with the use of the `startswith()` method, but along this chapter we will try to convince you that in some cases using regular expressions eases our lives."
   ]
  },
  {
   "cell_type": "markdown",
   "metadata": {
    "jupyter": {
     "source_hidden": true
    }
   },
   "source": [
    "```{admonition} Do It Yourself!\n",
    ":class: seealso, dropdown\n",
    "Add all lines that start by 'Details:' to a list. Use the <i>search</i> function.\n",
    "```"
   ]
  },
  {
   "cell_type": "code",
   "execution_count": null,
   "metadata": {
    "jupyter": {
     "source_hidden": true
    }
   },
   "outputs": [],
   "source": [
    "# Remove this line and add your code here"
   ]
  },
  {
   "cell_type": "markdown",
   "metadata": {},
   "source": [
    "## Character Matching\n",
    "\n",
    "There are other characters that help us build powerful regular expressions.\n",
    "For instance, the **period** or **full stop** character matches any character within a string.\n",
    "\n",
    "The regular expression `s..r` can match any 4-letter word that starts with `s` and ends with `r`, like `scar`, `sear`, `slur`, and `soar`.\n",
    "\n",
    "Let us now print all lines that start by `X-` followed by four characters and ending with `M`."
   ]
  },
  {
   "cell_type": "code",
   "execution_count": null,
   "metadata": {},
   "outputs": [],
   "source": [
    "file = open('datasets/mbox-short.txt')\n",
    "\n",
    "for line in file:\n",
    "    line: str = line.rstrip()\n",
    "    \n",
    "    if re.search('^X-....M', line):\n",
    "        print(line)"
   ]
  },
  {
   "cell_type": "markdown",
   "metadata": {},
   "source": [
    "This can be simplified by indicating that a character can be repeated multiple times.\n",
    "To do so, we use the `*` and the `+` **wildcard characters**.\n",
    "\n",
    "The **asterisk** means that we need to match zero-or-more characters; while the **plus** sign states that we need to match one-or-more characters. The `*` or `+` applies to the single character placed immediately to their left.\n",
    "\n",
    "The use of `*` and `+` results into a **greedy** match.\n",
    "A greedy match indicates that we match the longest possible string.\n",
    "\n",
    "Let's now print all lines that start with `X-`, that are followed by one-or-more characters and that then have the `Result` word."
   ]
  },
  {
   "cell_type": "code",
   "execution_count": null,
   "metadata": {
    "scrolled": true
   },
   "outputs": [],
   "source": [
    "file = open('datasets/mbox-short.txt')\n",
    "\n",
    "for line in file:\n",
    "    line: str = line.rstrip()\n",
    "    \n",
    "    if re.search('^X-.+Result', line):\n",
    "        print(line)"
   ]
  },
  {
   "cell_type": "markdown",
   "metadata": {
    "jupyter": {
     "source_hidden": true
    }
   },
   "source": [
    "```{admonition} Do It Yourself!\n",
    ":class: seealso, dropdown\n",
    "Print all lines that start by 'Received:', followed by zero-or-more charcaters, and that have the word 'nakamura'.\n",
    "```"
   ]
  },
  {
   "cell_type": "code",
   "execution_count": null,
   "metadata": {
    "jupyter": {
     "source_hidden": true
    }
   },
   "outputs": [],
   "source": [
    "# Remove this line and add your code here"
   ]
  },
  {
   "cell_type": "markdown",
   "metadata": {},
   "source": [
    "## Extracting Data\n",
    "\n",
    "We can also extract data from a string if we use the `findall()` method.\n",
    "This method will extract all substrings that match a given regular expression.\n",
    "\n",
    "For instance, the `findall()` method is quite handy if we want to get all email addresses on the file, regardless of the format of the line where they are found.\n",
    "In this way, we do not need to write code for each type of line.\n",
    "\n",
    "Let us see a small example before we create the whole program."
   ]
  },
  {
   "cell_type": "code",
   "execution_count": null,
   "metadata": {},
   "outputs": [],
   "source": [
    "line: str = 'Einstein einstein@uni.edu sent an email to Ada ada@otheruni.edu about life @10'\n",
    "emails: list = re.findall('\\S+@\\S+', line)\n",
    "print(emails)"
   ]
  },
  {
   "cell_type": "markdown",
   "metadata": {},
   "source": [
    "The `findall()` method returns a list of strings with all the words that match the regular expression `\\S+@\\S+`.\n",
    "`\\S` matches a non-whitespace character.\n",
    "\n",
    "Thus, the `\\S+@\\S+` expression can be read as: one-or-more non-whitespace characters, followed by an `@` character (at), followed by one-or-more non-whitespace characters.\n",
    "\n",
    "Now, we are ready to create a program to gather all emails within the `mbox-short.txt` file."
   ]
  },
  {
   "cell_type": "code",
   "execution_count": null,
   "metadata": {},
   "outputs": [],
   "source": [
    "file = open('datasets/mbox-short.txt')\n",
    "emails: list = list()\n",
    "\n",
    "for line in file:\n",
    "    line: str = line.rstrip()\n",
    "    line_emails = re.findall('\\S+@\\S+', line)\n",
    "    emails.extend(line_emails)\n",
    "    \n",
    "emails"
   ]
  },
  {
   "cell_type": "markdown",
   "metadata": {},
   "source": [
    "As you have noticed, some of the emails have additional characters that we would like to exclude (e.g. `<`, `>`, `;`).\n",
    "We only want to extract the email. \n",
    "\n",
    "To do so, we need to be more explicit when defining our regular expression. \n",
    "Thus, we will use **square brackets** to define the set of characters that we want to match at the beginning and end of the email.\n",
    "\n",
    "The new regular expression looks like this: `[a-zA-Z0-9]\\S*@\\S*[a-zA-Z]`\n",
    "\n",
    "- The `[a-zA-Z0-9]` indicates that we are expecting one alphanumeric value (a letter between a-z or A-Z or a number between 0-9). We do not care if it is a capital or lower-case letter, that is why we add both `a-z` (for lower-case letters) and `A-Z` (for capital letters).\n",
    "- The `[a-zA-Z]` indicates that we will only match a lower-case or capital letter at the end of the string.\n",
    "- We switch to `\\S*` because we already consider the need to match at least one character with the inclusion of both `[a-zA-Z0-9]` and `[a-zA-Z]`."
   ]
  },
  {
   "cell_type": "code",
   "execution_count": 8,
   "metadata": {},
   "outputs": [
    {
     "data": {
      "text/plain": [
       "['stephen.marquard@uct.ac.za',\n",
       " 'postmaster@collab.sakaiproject.org',\n",
       " '200801051412.m05ECIaH010327@nakamura.uits.iupui.edu',\n",
       " 'source@collab.sakaiproject.org',\n",
       " 'source@collab.sakaiproject.org',\n",
       " 'source@collab.sakaiproject.org',\n",
       " 'apache@localhost',\n",
       " 'source@collab.sakaiproject.org',\n",
       " 'stephen.marquard@uct.ac.za',\n",
       " 'source@collab.sakaiproject.org',\n",
       " 'stephen.marquard@uct.ac.za',\n",
       " 'stephen.marquard@uct.ac.za',\n",
       " 'louis@media.berkeley.edu',\n",
       " 'postmaster@collab.sakaiproject.org',\n",
       " '200801042308.m04N8v6O008125@nakamura.uits.iupui.edu',\n",
       " 'source@collab.sakaiproject.org',\n",
       " 'source@collab.sakaiproject.org',\n",
       " 'source@collab.sakaiproject.org',\n",
       " 'apache@localhost',\n",
       " 'source@collab.sakaiproject.org',\n",
       " 'louis@media.berkeley.edu',\n",
       " 'source@collab.sakaiproject.org',\n",
       " 'louis@media.berkeley.edu',\n",
       " 'louis@media.berkeley.edu',\n",
       " 'zqian@umich.edu',\n",
       " 'postmaster@collab.sakaiproject.org',\n",
       " '200801042109.m04L92hb007923@nakamura.uits.iupui.edu',\n",
       " 'source@collab.sakaiproject.org',\n",
       " 'source@collab.sakaiproject.org',\n",
       " 'source@collab.sakaiproject.org',\n",
       " 'apache@localhost',\n",
       " 'source@collab.sakaiproject.org',\n",
       " 'zqian@umich.edu',\n",
       " 'source@collab.sakaiproject.org',\n",
       " 'zqian@umich.edu',\n",
       " 'zqian@umich.edu',\n",
       " 'rjlowe@iupui.edu',\n",
       " 'postmaster@collab.sakaiproject.org',\n",
       " '200801042044.m04Kiem3007881@nakamura.uits.iupui.edu',\n",
       " 'source@collab.sakaiproject.org',\n",
       " 'source@collab.sakaiproject.org',\n",
       " 'source@collab.sakaiproject.org',\n",
       " 'apache@localhost',\n",
       " 'source@collab.sakaiproject.org',\n",
       " 'rjlowe@iupui.edu',\n",
       " 'source@collab.sakaiproject.org',\n",
       " 'rjlowe@iupui.edu',\n",
       " 'rjlowe@iupui.edu',\n",
       " 'zqian@umich.edu',\n",
       " 'postmaster@collab.sakaiproject.org',\n",
       " '200801042001.m04K1cO0007738@nakamura.uits.iupui.edu',\n",
       " 'source@collab.sakaiproject.org',\n",
       " 'source@collab.sakaiproject.org',\n",
       " 'source@collab.sakaiproject.org',\n",
       " 'apache@localhost',\n",
       " 'source@collab.sakaiproject.org',\n",
       " 'zqian@umich.edu',\n",
       " 'source@collab.sakaiproject.org',\n",
       " 'zqian@umich.edu',\n",
       " 'zqian@umich.edu',\n",
       " 'zqian@umich.edu',\n",
       " 'rjlowe@iupui.edu',\n",
       " 'postmaster@collab.sakaiproject.org',\n",
       " '200801041948.m04JmdwO007705@nakamura.uits.iupui.edu',\n",
       " 'source@collab.sakaiproject.org',\n",
       " 'source@collab.sakaiproject.org',\n",
       " 'source@collab.sakaiproject.org',\n",
       " 'apache@localhost',\n",
       " 'source@collab.sakaiproject.org',\n",
       " 'rjlowe@iupui.edu',\n",
       " 'source@collab.sakaiproject.org',\n",
       " 'rjlowe@iupui.edu',\n",
       " 'rjlowe@iupui.edu',\n",
       " 'cwen@iupui.edu',\n",
       " 'postmaster@collab.sakaiproject.org',\n",
       " '200801041635.m04GZQGZ007313@nakamura.uits.iupui.edu',\n",
       " 'source@collab.sakaiproject.org',\n",
       " 'source@collab.sakaiproject.org',\n",
       " 'source@collab.sakaiproject.org',\n",
       " 'apache@localhost',\n",
       " 'source@collab.sakaiproject.org',\n",
       " 'cwen@iupui.edu',\n",
       " 'source@collab.sakaiproject.org',\n",
       " 'cwen@iupui.edu',\n",
       " 'cwen@iupui.edu',\n",
       " 'hu2@iupui.edu',\n",
       " 'cwen@iupui.edu',\n",
       " 'postmaster@collab.sakaiproject.org',\n",
       " '200801041633.m04GX6eG007292@nakamura.uits.iupui.edu',\n",
       " 'source@collab.sakaiproject.org',\n",
       " 'source@collab.sakaiproject.org',\n",
       " 'source@collab.sakaiproject.org',\n",
       " 'apache@localhost',\n",
       " 'source@collab.sakaiproject.org',\n",
       " 'cwen@iupui.edu',\n",
       " 'source@collab.sakaiproject.org',\n",
       " 'cwen@iupui.edu',\n",
       " 'cwen@iupui.edu',\n",
       " 'hu2@iupui.edu',\n",
       " 'gsilver@umich.edu',\n",
       " 'postmaster@collab.sakaiproject.org',\n",
       " '200801041611.m04GB1Lb007221@nakamura.uits.iupui.edu',\n",
       " 'source@collab.sakaiproject.org',\n",
       " 'source@collab.sakaiproject.org',\n",
       " 'source@collab.sakaiproject.org',\n",
       " 'apache@localhost',\n",
       " 'source@collab.sakaiproject.org',\n",
       " 'gsilver@umich.edu',\n",
       " 'source@collab.sakaiproject.org',\n",
       " 'gsilver@umich.edu',\n",
       " 'gsilver@umich.edu',\n",
       " 'gsilver@umich.edu',\n",
       " 'postmaster@collab.sakaiproject.org',\n",
       " '200801041610.m04GA5KP007209@nakamura.uits.iupui.edu',\n",
       " 'source@collab.sakaiproject.org',\n",
       " 'source@collab.sakaiproject.org',\n",
       " 'source@collab.sakaiproject.org',\n",
       " 'apache@localhost',\n",
       " 'source@collab.sakaiproject.org',\n",
       " 'gsilver@umich.edu',\n",
       " 'source@collab.sakaiproject.org',\n",
       " 'gsilver@umich.edu',\n",
       " 'gsilver@umich.edu',\n",
       " 'zqian@umich.edu',\n",
       " 'postmaster@collab.sakaiproject.org',\n",
       " '200801041609.m04G9EuX007197@nakamura.uits.iupui.edu',\n",
       " 'source@collab.sakaiproject.org',\n",
       " 'source@collab.sakaiproject.org',\n",
       " 'source@collab.sakaiproject.org',\n",
       " 'apache@localhost',\n",
       " 'source@collab.sakaiproject.org',\n",
       " 'zqian@umich.edu',\n",
       " 'source@collab.sakaiproject.org',\n",
       " 'zqian@umich.edu',\n",
       " 'zqian@umich.edu',\n",
       " 'gsilver@umich.edu',\n",
       " 'postmaster@collab.sakaiproject.org',\n",
       " '200801041608.m04G8d7w007184@nakamura.uits.iupui.edu',\n",
       " 'source@collab.sakaiproject.org',\n",
       " 'source@collab.sakaiproject.org',\n",
       " 'source@collab.sakaiproject.org',\n",
       " 'apache@localhost',\n",
       " 'source@collab.sakaiproject.org',\n",
       " 'gsilver@umich.edu',\n",
       " 'source@collab.sakaiproject.org',\n",
       " 'gsilver@umich.edu',\n",
       " 'gsilver@umich.edu',\n",
       " 'wagnermr@iupui.edu',\n",
       " 'postmaster@collab.sakaiproject.org',\n",
       " '200801041537.m04Fb6Ci007092@nakamura.uits.iupui.edu',\n",
       " 'source@collab.sakaiproject.org',\n",
       " 'source@collab.sakaiproject.org',\n",
       " 'source@collab.sakaiproject.org',\n",
       " 'apache@localhost',\n",
       " 'source@collab.sakaiproject.org',\n",
       " 'wagnermr@iupui.edu',\n",
       " 'source@collab.sakaiproject.org',\n",
       " 'wagnermr@iupui.edu',\n",
       " 'wagnermr@iupui.edu',\n",
       " 'zqian@umich.edu',\n",
       " 'postmaster@collab.sakaiproject.org',\n",
       " '200801041515.m04FFv42007050@nakamura.uits.iupui.edu',\n",
       " 'source@collab.sakaiproject.org',\n",
       " 'source@collab.sakaiproject.org',\n",
       " 'source@collab.sakaiproject.org',\n",
       " 'apache@localhost',\n",
       " 'source@collab.sakaiproject.org',\n",
       " 'zqian@umich.edu',\n",
       " 'source@collab.sakaiproject.org',\n",
       " 'zqian@umich.edu',\n",
       " 'zqian@umich.edu',\n",
       " 'antranig@caret.cam.ac.uk',\n",
       " 'postmaster@collab.sakaiproject.org',\n",
       " '200801041502.m04F21Jo007031@nakamura.uits.iupui.edu',\n",
       " 'source@collab.sakaiproject.org',\n",
       " 'source@collab.sakaiproject.org',\n",
       " 'source@collab.sakaiproject.org',\n",
       " 'apache@localhost',\n",
       " 'source@collab.sakaiproject.org',\n",
       " 'antranig@caret.cam.ac.uk',\n",
       " 'source@collab.sakaiproject.org',\n",
       " 'antranig@caret.cam.ac.uk',\n",
       " 'antranig@caret.cam.ac.uk',\n",
       " 'gopal.ramasammycook@gmail.com',\n",
       " 'postmaster@collab.sakaiproject.org',\n",
       " '200801041403.m04E3psW006926@nakamura.uits.iupui.edu',\n",
       " 'source@collab.sakaiproject.org',\n",
       " 'source@collab.sakaiproject.org',\n",
       " 'source@collab.sakaiproject.org',\n",
       " 'apache@localhost',\n",
       " 'source@collab.sakaiproject.org',\n",
       " 'gopal.ramasammycook@gmail.com',\n",
       " 'source@collab.sakaiproject.org',\n",
       " 'gopal.ramasammycook@gmail.com',\n",
       " 'gopal.ramasammycook@gmail.com',\n",
       " 'david.horwitz@uct.ac.za',\n",
       " 'postmaster@collab.sakaiproject.org',\n",
       " '200801041200.m04C0gfK006793@nakamura.uits.iupui.edu',\n",
       " 'source@collab.sakaiproject.org',\n",
       " 'source@collab.sakaiproject.org',\n",
       " 'source@collab.sakaiproject.org',\n",
       " 'apache@localhost',\n",
       " 'source@collab.sakaiproject.org',\n",
       " 'david.horwitz@uct.ac.za',\n",
       " 'source@collab.sakaiproject.org',\n",
       " 'david.horwitz@uct.ac.za',\n",
       " 'david.horwitz@uct.ac.za',\n",
       " 'david.horwitz@uct.ac.za',\n",
       " 'dhorwitz@david',\n",
       " 'dhorwitz@david',\n",
       " 'david.horwitz@uct.ac.za',\n",
       " 'postmaster@collab.sakaiproject.org',\n",
       " '200801041106.m04B6lK3006677@nakamura.uits.iupui.edu',\n",
       " 'source@collab.sakaiproject.org',\n",
       " 'source@collab.sakaiproject.org',\n",
       " 'source@collab.sakaiproject.org',\n",
       " 'apache@localhost',\n",
       " 'source@collab.sakaiproject.org',\n",
       " 'david.horwitz@uct.ac.za',\n",
       " 'source@collab.sakaiproject.org',\n",
       " 'david.horwitz@uct.ac.za',\n",
       " 'david.horwitz@uct.ac.za',\n",
       " 'david.horwitz@uct.ac.za',\n",
       " 'postmaster@collab.sakaiproject.org',\n",
       " '200801040947.m049lUxo006517@nakamura.uits.iupui.edu',\n",
       " 'source@collab.sakaiproject.org',\n",
       " 'source@collab.sakaiproject.org',\n",
       " 'source@collab.sakaiproject.org',\n",
       " 'apache@localhost',\n",
       " 'source@collab.sakaiproject.org',\n",
       " 'david.horwitz@uct.ac.za',\n",
       " 'source@collab.sakaiproject.org',\n",
       " 'david.horwitz@uct.ac.za',\n",
       " 'david.horwitz@uct.ac.za',\n",
       " 'josrodri@iupui.edu',\n",
       " 'dhorwitz@david',\n",
       " 'david.horwitz@uct.ac.za',\n",
       " 'postmaster@collab.sakaiproject.org',\n",
       " '200801040932.m049W2i5006493@nakamura.uits.iupui.edu',\n",
       " 'source@collab.sakaiproject.org',\n",
       " 'source@collab.sakaiproject.org',\n",
       " 'source@collab.sakaiproject.org',\n",
       " 'apache@localhost',\n",
       " 'source@collab.sakaiproject.org',\n",
       " 'david.horwitz@uct.ac.za',\n",
       " 'source@collab.sakaiproject.org',\n",
       " 'david.horwitz@uct.ac.za',\n",
       " 'david.horwitz@uct.ac.za',\n",
       " 'josrodri@iupui.edu',\n",
       " 'dhorwitz@david',\n",
       " 'stephen.marquard@uct.ac.za',\n",
       " 'postmaster@collab.sakaiproject.org',\n",
       " '200801040905.m0495rWB006420@nakamura.uits.iupui.edu',\n",
       " 'source@collab.sakaiproject.org',\n",
       " 'source@collab.sakaiproject.org',\n",
       " 'source@collab.sakaiproject.org',\n",
       " 'apache@localhost',\n",
       " 'source@collab.sakaiproject.org',\n",
       " 'stephen.marquard@uct.ac.za',\n",
       " 'source@collab.sakaiproject.org',\n",
       " 'stephen.marquard@uct.ac.za',\n",
       " 'stephen.marquard@uct.ac.za',\n",
       " 'louis@media.berkeley.edu',\n",
       " 'postmaster@collab.sakaiproject.org',\n",
       " '200801040023.m040NpCc005473@nakamura.uits.iupui.edu',\n",
       " 'source@collab.sakaiproject.org',\n",
       " 'source@collab.sakaiproject.org',\n",
       " 'source@collab.sakaiproject.org',\n",
       " 'apache@localhost',\n",
       " 'source@collab.sakaiproject.org',\n",
       " 'louis@media.berkeley.edu',\n",
       " 'source@collab.sakaiproject.org',\n",
       " 'louis@media.berkeley.edu',\n",
       " 'louis@media.berkeley.edu',\n",
       " 'louis@media.berkeley.edu',\n",
       " 'postmaster@collab.sakaiproject.org',\n",
       " '200801032216.m03MGhDa005292@nakamura.uits.iupui.edu',\n",
       " 'source@collab.sakaiproject.org',\n",
       " 'source@collab.sakaiproject.org',\n",
       " 'source@collab.sakaiproject.org',\n",
       " 'apache@localhost',\n",
       " 'source@collab.sakaiproject.org',\n",
       " 'louis@media.berkeley.edu',\n",
       " 'source@collab.sakaiproject.org',\n",
       " 'louis@media.berkeley.edu',\n",
       " 'louis@media.berkeley.edu',\n",
       " 'ray@media.berkeley.edu',\n",
       " 'postmaster@collab.sakaiproject.org',\n",
       " '200801032205.m03M5Ea7005273@nakamura.uits.iupui.edu',\n",
       " 'source@collab.sakaiproject.org',\n",
       " 'source@collab.sakaiproject.org',\n",
       " 'source@collab.sakaiproject.org',\n",
       " 'apache@localhost',\n",
       " 'source@collab.sakaiproject.org',\n",
       " 'ray@media.berkeley.edu',\n",
       " 'source@collab.sakaiproject.org',\n",
       " 'ray@media.berkeley.edu',\n",
       " 'ray@media.berkeley.edu',\n",
       " 'cwen@iupui.edu',\n",
       " 'postmaster@collab.sakaiproject.org',\n",
       " '200801032133.m03LX3gG005191@nakamura.uits.iupui.edu',\n",
       " 'source@collab.sakaiproject.org',\n",
       " 'source@collab.sakaiproject.org',\n",
       " 'source@collab.sakaiproject.org',\n",
       " 'apache@localhost',\n",
       " 'source@collab.sakaiproject.org',\n",
       " 'cwen@iupui.edu',\n",
       " 'source@collab.sakaiproject.org',\n",
       " 'cwen@iupui.edu',\n",
       " 'cwen@iupui.edu',\n",
       " 'cwen@iupui.edu',\n",
       " 'postmaster@collab.sakaiproject.org',\n",
       " '200801032127.m03LRUqH005177@nakamura.uits.iupui.edu',\n",
       " 'source@collab.sakaiproject.org',\n",
       " 'source@collab.sakaiproject.org',\n",
       " 'source@collab.sakaiproject.org',\n",
       " 'apache@localhost',\n",
       " 'source@collab.sakaiproject.org',\n",
       " 'cwen@iupui.edu',\n",
       " 'source@collab.sakaiproject.org',\n",
       " 'cwen@iupui.edu',\n",
       " 'cwen@iupui.edu',\n",
       " 'wagnermr@iupui.edu',\n",
       " 'cwen@iupui.edu',\n",
       " 'postmaster@collab.sakaiproject.org',\n",
       " '200801032122.m03LMFo4005148@nakamura.uits.iupui.edu',\n",
       " 'source@collab.sakaiproject.org',\n",
       " 'source@collab.sakaiproject.org',\n",
       " 'source@collab.sakaiproject.org',\n",
       " 'apache@localhost',\n",
       " 'source@collab.sakaiproject.org',\n",
       " 'cwen@iupui.edu',\n",
       " 'source@collab.sakaiproject.org',\n",
       " 'cwen@iupui.edu',\n",
       " 'cwen@iupui.edu',\n",
       " 'wagnermr@iupui.edu']"
      ]
     },
     "execution_count": 8,
     "metadata": {},
     "output_type": "execute_result"
    }
   ],
   "source": [
    "file = open('datasets/mbox-short.txt')\n",
    "emails: list = list()\n",
    "\n",
    "for line in file:\n",
    "    line: str = line.rstrip()\n",
    "    line_emails: list = re.findall('[a-zA-Z0-9]\\S*@[a-zA-Z.]+', line)\n",
    "    emails.extend(line_emails)\n",
    "    \n",
    "emails"
   ]
  },
  {
   "cell_type": "markdown",
   "metadata": {
    "jupyter": {
     "source_hidden": true
    }
   },
   "source": [
    "```{admonition} Do It Yourself!\n",
    ":class: seealso, dropdown\n",
    "Use regular expressions to count all the times that the email 'cwen@iupui.edu' appears on the file regardles of the line where it is placed.\n",
    "```"
   ]
  },
  {
   "cell_type": "code",
   "execution_count": null,
   "metadata": {
    "jupyter": {
     "source_hidden": true
    }
   },
   "outputs": [],
   "source": [
    "# Remove this line and add your code here"
   ]
  },
  {
   "cell_type": "markdown",
   "metadata": {},
   "source": [
    "## Combining Searching and Extracting\n",
    "\n",
    "Let us imagine that now we want to extract all the numbers that follow an `X-Something:` header, such as:\n",
    "\n",
    "```\n",
    "X-DSPAM-Confidence: 0.8475\n",
    "X-DSPAM-Probability: 0.0000\n",
    "```\n",
    "\n",
    "To do so, we can define the following regular expression:\n",
    "\n",
    "`^X-.*: [0-9.]+`\n",
    "\n",
    "`^X-` indicates that the line should start with 'X-'. Then, it must be followed by zero-or-more characters (`.*`), followed then by a colon and a space (`: `). Finally, the string should be followed by a one-or-more numbers `0-9` that can have points `.` (`[0-9.]+`). Notice that when we use the `.` inside square brackets, it does not match any character but instead it matches **literally** the point character.\n",
    "\n",
    "Before extracting the numbers, let us just print the lines that match our regular expression."
   ]
  },
  {
   "cell_type": "code",
   "execution_count": null,
   "metadata": {
    "scrolled": true
   },
   "outputs": [],
   "source": [
    "file = open('datasets/mbox-short.txt')\n",
    "\n",
    "for line in file:\n",
    "    line: str = line.rstrip()\n",
    "    \n",
    "    if re.search('^X-.*: [0-9.]+', line):\n",
    "        print(line)\n",
    "    \n",
    "emails"
   ]
  },
  {
   "cell_type": "markdown",
   "metadata": {},
   "source": [
    "We should use `split()` to actually get the decimal number out of our target lines.\n",
    "However, we will use regular expressions to achieve the same goal.\n",
    "\n",
    "We introduce now the use of parentheses `()`.\n",
    "When you use parentheses in regular expressions, they are just completely ignored. \n",
    "You usually use them to group terms in your expression.\n",
    "\n",
    "Nevertheless, if you use `()` in a regular expression inside the `findall()` method, they serve a different purpose: \n",
    "they indicate that you are interested in extracting only a portion of the string that matches the expression.\n",
    "\n",
    "So, we modify our expression as follows:\n",
    "\n",
    "`^X-.*: ([0-9.]+)`"
   ]
  },
  {
   "cell_type": "code",
   "execution_count": null,
   "metadata": {},
   "outputs": [],
   "source": [
    "file = open('datasets/mbox-short.txt')\n",
    "\n",
    "for line in file:\n",
    "    line: str = line.rstrip()\n",
    "    match: list = re.findall('^X-.*: ([0-9.]+)', line)\n",
    "    \n",
    "    if len(match) > 0:\n",
    "        print(match)"
   ]
  },
  {
   "cell_type": "markdown",
   "metadata": {},
   "source": [
    "Let us explore another example.\n",
    "The `mbox-short.txt` file also has the following type of lines:\n",
    "\n",
    "`Details: http://source.sakaiproject.org/viewsvn/?view=rev&rev=39771`\n",
    "\n",
    "We would like to extract the revision number placed at the end of the string after `rev=`.\n",
    "In this example the revision number is `39771`.\n",
    "\n",
    "We will now extract these numbers all along the file."
   ]
  },
  {
   "cell_type": "code",
   "execution_count": null,
   "metadata": {},
   "outputs": [],
   "source": [
    "file = open('datasets/mbox-short.txt')\n",
    "\n",
    "for line in file:\n",
    "    line: str = line.rstrip()\n",
    "    revision: list = re.findall('^Details:.*rev=([0-9.]+)', line)\n",
    "    \n",
    "    if len(revision) > 0:\n",
    "        print(revision)"
   ]
  },
  {
   "cell_type": "markdown",
   "metadata": {},
   "source": [
    "We used the regular expression `^Details:.*rev=([0-9.]+)`.\n",
    "\n",
    "`^Details:` indicates that the line should start by the word `Details:`; it will be then followed by zero-or-more characters (`.*`); and then it will find the `rev=` string.\n",
    "After the latter, we want to only extract the number that follows, which is composed by one-or-more numbers and points `([0-9.]+)`.\n",
    "\n",
    "Remember that the `[0-9]+` is *greedy* and it tries to make as large a string of\n",
    "digits as possible before extracting those digits. Because of this behaviour, we\n",
    "get all five digits for each number."
   ]
  },
  {
   "cell_type": "markdown",
   "metadata": {
    "jupyter": {
     "source_hidden": true
    }
   },
   "source": [
    "```{admonition} Do It Yourself!\n",
    ":class: seealso, dropdown\n",
    "    Use regular expressions to extract the IP numbers of lines with the following format (the IP number is the number that you find between the square brackets at the end of the string, e.g. 141.211.14.46):\n",
    "    \n",
    "    Received: from murder (mail.umich.edu [141.211.14.46])\n",
    "```"
   ]
  },
  {
   "cell_type": "code",
   "execution_count": null,
   "metadata": {
    "jupyter": {
     "source_hidden": true
    }
   },
   "outputs": [],
   "source": [
    "# Remove this line and add your code here"
   ]
  },
  {
   "cell_type": "markdown",
   "metadata": {},
   "source": [
    "## Escape Character\n",
    "\n",
    "We need a way to use special characters within regular expressions in a normal or **literal** way.\n",
    "For instance, there might be cases where we want to match the caret `^` character, and not just use it to denote the start of a line.\n",
    "To do so, we use the escape character `\\` before we type the character we want to match (e.g. `\\^`)."
   ]
  },
  {
   "cell_type": "code",
   "execution_count": null,
   "metadata": {},
   "outputs": [],
   "source": [
    "msg: str = 'This is how you write 2 to the power of 2 in Java: 2^2'\n",
    "matches: list = re.findall('[0-9]+\\^[0-9]+', msg)\n",
    "matches"
   ]
  },
  {
   "cell_type": "markdown",
   "metadata": {},
   "source": [
    "Remember that if you write special characters inside square brackets, characters are taken as literals.\n",
    "If we write `[0-9.^]` it literally means that we want to match digits (`0-9`) or the dot (`.`) or the caret character (`^`)."
   ]
  },
  {
   "cell_type": "markdown",
   "metadata": {
    "jupyter": {
     "source_hidden": true
    }
   },
   "source": [
    "```{admonition} Do It Yourself!\n",
    ":class: seealso, dropdown\n",
    "Match all prices with the <i>receipt</i> string and return the sum of them all.\n",
    "```"
   ]
  },
  {
   "cell_type": "code",
   "execution_count": null,
   "metadata": {
    "jupyter": {
     "source_hidden": true
    }
   },
   "outputs": [],
   "source": [
    "receipt: str = \"Chocolate $2.0, Soap $10.0, Bread $1.4, Milk $2.4\"\n",
    "\n",
    "# Remove this line and add your code here"
   ]
  },
  {
   "cell_type": "markdown",
   "metadata": {},
   "source": [
    "## Regular Expressions Cheat Sheet\n",
    "\n",
    "In this section, we introduce some of the characters you can use when creating your regular expressions."
   ]
  },
  {
   "cell_type": "markdown",
   "metadata": {},
   "source": [
    "### Special Characters\n",
    "\n",
    "| Character | Description |\n",
    "|:---------:|:------------|\n",
    "| `^` | Matches the start of a string |\n",
    "| `$` | Matches the end of a string |\n",
    "| `.` | Matches any character except new line characters (e.g. `\\n`)|\n",
    "| `\\` | Escapes special characters |\n",
    "| `A\\|B` | Matches expression A or B |\n",
    "| `+` | Greedy match of one-or-more characters |\n",
    "| `*` | Greedy match of zero-or-more characters |\n",
    "| `?` | Greedy match of zero-or-one character. If added after a qualifier (i.e. `+`, `*`, `?`) performs non-greedy (or lazy) matches |\n",
    "| `{n}` | Matches an expression `n` times |\n",
    "| `{n, m}` | Matches an expression from `n` to `m` times |"
   ]
  },
  {
   "cell_type": "markdown",
   "metadata": {},
   "source": [
    "### Character Classes\n",
    "\n",
    "| Character | Description |\n",
    "|:---------:|:------------|\n",
    "| `\\w` | Matches alphanumeric characters (i.e. a-z, A-Z, 0-9 and \\_) |\n",
    "| `\\d` | Matches digits (i.e. 0-9) |\n",
    "| `\\D` | Matches non-digits | \n",
    "| `\\s` | Matches whitespace characters (e.g. \\t, \\n, \\r) |\n",
    "| `\\S` | Matches non-whitespace characters |\n",
    "| `\\b` | Matches the empty string, but only at the start or end of a word |\n",
    "| `\\B` | Matches the empty string, but not at the start or end of a word |\n"
   ]
  },
  {
   "cell_type": "markdown",
   "metadata": {},
   "source": [
    "### Sets\n",
    "\n",
    "| Character | Description |\n",
    "|:---------:|:------------|\n",
    "| `[ ]` | Contains characters to match |\n",
    "| `[ab]` | Matches character `a` or `b`, not `ab` |\n",
    "| `[a-z]` | Matches a lower-case letter from `a` to `z` |\n",
    "| `[A-Z]` | Matches a capital letter from `A` to `Z` |\n",
    "| `[0-9]` | Matches a digit from `0` to `9` |\n",
    "| `[a-zA-Z0-9]` | Matches alphanumeric characters |\n",
    "| `[+*().]` | Matches special characters as literals |\n",
    "| `[^ab]` | Matches any character except `a` and `b` |"
   ]
  },
  {
   "cell_type": "markdown",
   "metadata": {},
   "source": [
    "### Common `re` Methods\n",
    "\n",
    "\n",
    "| Method | Description |\n",
    "|:-------|:------------|\n",
    "|`re.findall(exp, string)` | Matches substrings in `string` that match expression `exp`, and returns them on a list. |\n",
    "| `re.search(exp, string)` | Matches the first substring in `string` that matches expression `exp`, and returns it as a match object. |\n",
    "| `re.split(exp, string)` | Splits `string` into a list by means of using expression `exp` as delimiter. |\n",
    "| `re.sub(exp1, exp2, string)` | Replaces all matches of expression `exp1` with `exp2` in the `string`. |"
   ]
  },
  {
   "cell_type": "markdown",
   "metadata": {
    "jupyter": {
     "source_hidden": true
    }
   },
   "source": [
    "```{admonition} Do It Yourself!\n",
    ":class: seealso, dropdown\n",
    "Write a program to look for lines of the form: 'New Revision: 39772'. Then, extract all numers and add them up.\n",
    "```"
   ]
  },
  {
   "cell_type": "code",
   "execution_count": null,
   "metadata": {
    "jupyter": {
     "source_hidden": true
    }
   },
   "outputs": [],
   "source": [
    "# Remove this line and add your code here"
   ]
  }
 ],
 "metadata": {
  "kernelspec": {
   "display_name": "Python 3",
   "language": "python",
   "name": "python3"
  },
  "language_info": {
   "codemirror_mode": {
    "name": "ipython",
    "version": 3
   },
   "file_extension": ".py",
   "mimetype": "text/x-python",
   "name": "python",
   "nbconvert_exporter": "python",
   "pygments_lexer": "ipython3",
   "version": "3.8.8"
  }
 },
 "nbformat": 4,
 "nbformat_minor": 4
}
