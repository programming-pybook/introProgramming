{
 "cells": [
  {
   "cell_type": "markdown",
   "metadata": {
    "slideshow": {
     "slide_type": "slide"
    }
   },
   "source": [
    "# Conditionals [^intro]\n",
    "\n",
    "[^intro]: This Jupyter Notebook is based on Chapter 3 and 5 of {cite}`Severance2016`; and Chapter 5 and 7 of {cite}`thinkPython`."
   ]
  },
  {
   "cell_type": "markdown",
   "metadata": {},
   "source": [
    "## Introduction <a class=\"anchor\" id=\"logic\"></a>\n",
    "\n",
    "This chapter introduces the main concepts related to Boolean logic.\n",
    "In particular, we refer to Boolean values (i.e., `True` and `False`), and how they can be used in Boolean expressions to support conditional executions within a program."
   ]
  },
  {
   "cell_type": "markdown",
   "metadata": {
    "tags": []
   },
   "source": [
    "## Logic <a class=\"anchor\" id=\"logic\"></a>\n",
    "\n",
    "**Logic** is the study of the formal principles of reasoning. \n",
    "These principles determine what can be considered as a correct or incorrect argument. \n",
    "An **argument** is \"a change of reasoning that ends up in a conclusion\" (Beecher, 2017). \n",
    "Every statement within an argument is called a **proposition**, and it has a **truth value**. \n",
    "That is, it is either **true** or **false**. \n",
    "Thus, certain expressions like questions (e.g. \"are you hungry?\") or commands (e.g. \"clean your bedroom!\") cannot be propositions given that they do not have a truth value. \n",
    "\n",
    "Below we present a very famous argument in the logic field:\n",
    "\n",
    "1. Socrates is a man.\n",
    "2. All men are mortal.\n",
    "3. Therefore, Socrates is mortal.\n",
    "\n",
    "This argument is composed of three propositions (each one is enumerated). \n",
    "These statements are propositions because all of them have a truth value. \n",
    "However, you can notice that some of these statements are used to arrive at a conclusion. \n",
    "The propositions that form the basis of an argument are known as **premises**. \n",
    "In our example, propositions 1 and 2 are premises. \n",
    "Lastly, the proposition that is derived from a set of premises is known as a **conclusion**."
   ]
  },
  {
   "cell_type": "markdown",
   "metadata": {},
   "source": [
    "````{margin}\n",
    "```{admonition} EXTRA\n",
    "Logic studies the formal principles of reasoning, which determine if an argument is correct or not. An argument is a sequence of premises. Each premise is a statement that has a truth value (i.e. true or false).\n",
    "```\n",
    "````\n"
   ]
  },
  {
   "cell_type": "markdown",
   "metadata": {},
   "source": [
    "## Types of Arguments <a class=\"anchor\" id=\"arguments\"></a>\n",
    "\n",
    "Arguments can either be deductive or inductive.\n",
    "\n",
    "### Deductive Arguments\n",
    "**Deductive** arguments are considered a strong form of reasoning because the conclusion is derived from previous premises. However, deductive arguments can fail in two different scenarios:\n",
    "\n",
    "**False premises:** One of the premises turns to be false. For example:  \n",
    "1. I eat healthy food.  \n",
    "2. Every person eating healthy food is tall.  \n",
    "3. I am tall.   \n",
    "\n",
    "In this example, premise 2 is false. It is not true that every person eating healthy food is tall. Then, this argument fails.\n",
    "\n",
    "\n",
    "**Faulty logic:** The conclusion is wrongly derived out from the premises. For example:  \n",
    "1. All bitterballen are round.  \n",
    "2. The moon is round.  \n",
    "3. The moon is a bitterbal.  \n",
    "\n",
    "In this case, the conclusion presented in premise 3 is false. It is true that bitterballen are round and that the moon is round, but this does not imply that the moon is a bitterbal! By the way, a \"bitterbal\" is a typical Dutch snack, to be eaten with a good glass of beer!\n",
    "    \n",
    "### Inductive Arguments\n",
    "Although deductive arguments are strong, they follow very stern standards that make them difficult to build. Additionally, the real world usually cannot be seen just in black and white–there are many shades in between. This is where inductive arguments play an important role. **Inductive** arguments do not have an unquestionable truth value. Instead, they deal with *probabilities* to express the level of confidence in them. Thus, the conclusion of the argument cannot be guaranteed to be true, but you can have a certain confidence in it. An example of an inductive argument comes as follows:\n",
    "\n",
    "1. Every time I go out home it is raining.\n",
    "2. Tomorrow I will go out from home.\n",
    "3. Tomorrow it will be raining.\n",
    "\n",
    "There is no way you can be certain that tomorrow will rain, but given the evidence, there is a high chance that it will be the case. (The chance might be even higher if we mention that we are living in the Netherlands!)"
   ]
  },
  {
   "cell_type": "markdown",
   "metadata": {},
   "source": [
    "\n",
    "````{margin}\n",
    "```{admonition} EXTRA\n",
    "Arguments can be either deductive or inductive. On the one hand, deductive arguments have premises that have a clear truth value. On the other hand, inductive arguments have premises associated with a level of confidence in them.\n",
    "```\n",
    "````\n"
   ]
  },
  {
   "cell_type": "markdown",
   "metadata": {},
   "source": [
    "## 4. Boolean Logic <a class=\"anchor\" id=\"boolean-logic\"></a>\n",
    "\n",
    "Given their binary nature, computers are well suited to deal with deductive reasoning (rather than inductive). To allow them to reason about the correctness of an argument, we use Boolean logic. **Boolean logic** is a form of logic that deals with deductive arguments–that is, arguments having propositions with a truth value that is either true or false. Boolean logic or Boolean algebra was introduced by George Boole (that is why it is called Boolean) in his book \"The Mathematical Analysis of Logic\" in 1847. It deals with **binary variables** (with true or false values) representing propositions and logical operations on them. \n",
    "\n",
    "### Logical Operators\n",
    "The main logical operators used in Boolean logic to connect propositions are:\n",
    "\n",
    "1. **And** operator: It is also known as the *conjunction* operator. It chains premises in such a way that *all* of them must be true for the conclusion to be true.\n",
    "2. **Or** operator: It is also known as the *disjunction* operator. It connects premises in such a way that *at least one* of them must be true for the conclusion to be true.\n",
    "3. **Not** operator: It is also known as the *negation* operator. It modifies the value of a proposition by *flipping* its truth value.\n",
    "\n",
    "\n",
    "```{image} assets/logical-operators.jpeg\n",
    ":alt: Venn diagrams of logical operators\n",
    ":width: 600px\n",
    ":align: center\n",
    "```\n",
    "\n",
    "<div style=\"text-align:center\">\n",
    "    <span style=\"font-size:0.9em; font-weight: bold;\">Venn diagrams of the <em>and</em>, <em>or</em>, and <em>not</em> logical operators.</span>\n",
    "</div>\n",
    "\n",
    "<br>\n",
    "\n",
    "In Boolean logic, propositions are usually represented as letters or *variables* (see previous figure). For instance, going back to our Socrates argument, we can represent the three propositions as follows:\n",
    "\n",
    "* **P:** Socrates is a man.\n",
    "* **Q:** All men are mortal.\n",
    "* **R:** Therefore, Socrates is mortal.\n",
    "\n",
    "In order for R to be true, P and Q most be true."
   ]
  },
  {
   "cell_type": "markdown",
   "metadata": {},
   "source": [
    "## Boolean Expressions\n",
    "\n",
    "Let us now see how Boolean logic is supported in Python!\n",
    "\n",
    "A **boolean expression** is an expression that yields either `True` or `False`.\n",
    "\n",
    "The following examples use the operator `==` to compare the values of two expressions.\n",
    "The result is `True` if the values are the same, otherwise the result is `False`."
   ]
  },
  {
   "cell_type": "code",
   "execution_count": null,
   "metadata": {},
   "outputs": [],
   "source": [
    "5 == 5"
   ]
  },
  {
   "cell_type": "code",
   "execution_count": null,
   "metadata": {},
   "outputs": [],
   "source": [
    "5 == 6"
   ]
  },
  {
   "cell_type": "markdown",
   "metadata": {},
   "source": [
    "`True` and `False` are special values of the type `bool`."
   ]
  },
  {
   "cell_type": "code",
   "execution_count": null,
   "metadata": {},
   "outputs": [],
   "source": [
    "True and False"
   ]
  },
  {
   "cell_type": "markdown",
   "metadata": {},
   "source": [
    "Besides the relational operator `==` we have\n",
    "\n",
    "| **Operator** | **Purpose** |\n",
    "|:----------|:---------|\n",
    "| `==` | x is  equal to y |\n",
    "| `!=` | x is not equal to y |\n",
    "| `x > y` | x is greater than y |\n",
    "| `x < y` | x is less than y |\n",
    "| `x >= y` | x is greater than or equal to y | \n",
    "\n",
    "Although these operations are probably familiar to you, the Python symbols are different from the mathematical symbols. \n",
    "\n",
    "A common error is to use a single equal sign (`=`) instead of\n",
    "a double equal sign (`==`). \n",
    "\n",
    "Remember that `=` is an assignment operator and `==` is a relational\n",
    "operator."
   ]
  },
  {
   "cell_type": "markdown",
   "metadata": {},
   "source": [
    "## Logical Operators\n",
    "\n",
    "There are the three Python logical operators: `and`, `or`, and `not`. \n",
    "The semantics (meaning) of these operators is the same one as the one presented in the [Boolean Logic](#boolean-logic) section.\n",
    "\n",
    "| Operator | Technical name | Math symbol | Python construct | \n",
    "|:--------:|:--------------:|:------:|:------:|\n",
    "| And      | Conjunction    | $\\land$| `and`  |\n",
    "| Or       | Disjunction    | $\\lor$ | `or`   |\n",
    "| Not      | Negation       | $\\lnot$| `not`  |\n",
    "\n",
    "They can be used in combination with Boolean expressions, as follows."
   ]
  },
  {
   "cell_type": "code",
   "execution_count": null,
   "metadata": {},
   "outputs": [],
   "source": [
    "x: int = 9\n",
    "x > 0 and x < 10"
   ]
  },
  {
   "cell_type": "markdown",
   "metadata": {},
   "source": [
    "`n % 2 == 0 or n % 3 == 0` is `True` if *either one or both* of the conditions are `True`—that is, if the number\n",
    "is divisible by `2` *or* `3`."
   ]
  },
  {
   "cell_type": "code",
   "execution_count": null,
   "metadata": {},
   "outputs": [],
   "source": [
    "n: int = 27\n",
    "n % 2 == 0 or n % 3 == 0"
   ]
  },
  {
   "cell_type": "markdown",
   "metadata": {},
   "source": [
    "Finally, the `not` operator negates a boolean expression, so `not (x > y)` is `True` if `x > y` is\n",
    "`False`, that is, if `x` is less than or equal to `y`."
   ]
  },
  {
   "cell_type": "code",
   "execution_count": null,
   "metadata": {},
   "outputs": [],
   "source": [
    "x: int = 10\n",
    "y: int = 15\n",
    "not (x > y)"
   ]
  },
  {
   "cell_type": "markdown",
   "metadata": {},
   "source": [
    "Strictly speaking, the operands of the logical operators should be Boolean expressions, but Python is not very strict. \n",
    "Any non-zero number is interpreted as `True`.\n",
    "This flexibility can be useful, but there are some subtleties to it that might be confusing.\n",
    "You might want to avoid it (unless you know what you are doing).\n",
    "\n",
    "If you use the Boolean operators in the same expression you have to beware of their precedence order.\n",
    "The order is as follows: `not` > `or` > `and`, again if in doubt *use brackets!*"
   ]
  },
  {
   "cell_type": "code",
   "execution_count": null,
   "metadata": {},
   "outputs": [],
   "source": [
    "not False and True"
   ]
  },
  {
   "cell_type": "code",
   "execution_count": null,
   "metadata": {},
   "outputs": [],
   "source": [
    "True or False and True"
   ]
  },
  {
   "cell_type": "markdown",
   "metadata": {
    "slideshow": {
     "slide_type": "slide"
    }
   },
   "source": [
    "## Conditional Execution\n",
    "\n",
    "In order to write useful programs, under certain situations, we need to check if a set of conditions are fulfilled and change the behavior of the program accordingly. \n",
    "Conditions allow us to change the execution flow in a program. \n",
    "\n",
    "**Conditional statements** provide us with this functionality. \n",
    "The simplest form of a conditional statement is the **if statement**."
   ]
  },
  {
   "cell_type": "code",
   "execution_count": null,
   "metadata": {
    "slideshow": {
     "slide_type": "fragment"
    }
   },
   "outputs": [],
   "source": [
    "x: int = 10\n",
    "if x > 0:\n",
    "    print('x is positive')\n",
    "    \n",
    "print('x is an integer value')"
   ]
  },
  {
   "cell_type": "markdown",
   "metadata": {
    "slideshow": {
     "slide_type": "fragment"
    }
   },
   "source": [
    "The Boolean expression after the `if` keyword is called the **condition**. \n",
    "If it is true, then the indented statement is being executed.\n",
    "\n",
    "If statements have a header (aka. condition) followed by an indented body. \n",
    "Statements like this are called **compound statements**."
   ]
  },
  {
   "cell_type": "markdown",
   "metadata": {
    "slideshow": {
     "slide_type": "fragment"
    }
   },
   "source": [
    "What is printed when executing the following cells?"
   ]
  },
  {
   "cell_type": "code",
   "execution_count": null,
   "metadata": {
    "slideshow": {
     "slide_type": "fragment"
    }
   },
   "outputs": [],
   "source": [
    "x: int = 1\n",
    "if x < 0:\n",
    "    print('x is negative')\n",
    "    \n",
    "print('Hello Data Scientists')"
   ]
  },
  {
   "cell_type": "code",
   "execution_count": null,
   "metadata": {
    "slideshow": {
     "slide_type": "fragment"
    }
   },
   "outputs": [],
   "source": [
    "x: int = 1\n",
    "if x < 0:\n",
    "print('x is negative')\n",
    "\n",
    "print('Hello Data Scientists')"
   ]
  },
  {
   "cell_type": "markdown",
   "metadata": {
    "slideshow": {
     "slide_type": "fragment"
    }
   },
   "source": [
    "Where other programming languages use brackets, for instance `{` and `}` in C or Java, Python uses **indentation** to group lists of instruction *blocks*."
   ]
  },
  {
   "cell_type": "code",
   "execution_count": null,
   "metadata": {
    "slideshow": {
     "slide_type": "fragment"
    }
   },
   "outputs": [],
   "source": [
    "x: int = -1\n",
    "if x < 0:\n",
    "    print('x is negative')\n",
    "    print('Hello Data Scientists')"
   ]
  },
  {
   "cell_type": "markdown",
   "metadata": {
    "jupyter": {
     "source_hidden": true
    },
    "tags": []
   },
   "source": [
    "```{admonition} Do It Yourself!\n",
    ":class: seealso, dropdown\n",
    "Ask the age of a user with the <i>input</i> function. If the user is an adult (older than or equal to 18) print the message \"Hi adult!\".\n",
    "```"
   ]
  },
  {
   "cell_type": "code",
   "execution_count": null,
   "metadata": {
    "jupyter": {
     "source_hidden": true
    },
    "tags": []
   },
   "outputs": [],
   "source": [
    "# Remove this line and add your code here"
   ]
  },
  {
   "cell_type": "markdown",
   "metadata": {},
   "source": [
    "Sometimes conditionals are not really needed; using a Boolean expression is sufficient. \n",
    "Having unneeded language constructs (e.g. conditionals) can negatively impact the readability of your code.\n",
    "\n",
    "Let us see an example."
   ]
  },
  {
   "cell_type": "code",
   "execution_count": null,
   "metadata": {},
   "outputs": [],
   "source": [
    "# Change the truth values of p and q to see how the conclusion r changes\n",
    "p: bool = True\n",
    "q: bool = True\n",
    "r: bool\n",
    "\n",
    "if p and q:\n",
    "    r = True\n",
    "else:\n",
    "    r = False\n",
    "    \n",
    "print(r)"
   ]
  },
  {
   "cell_type": "markdown",
   "metadata": {},
   "source": [
    "The previous translation to Python code of the deductive argument is correct, however, we can get rid of the conditional statement! Let us see."
   ]
  },
  {
   "cell_type": "code",
   "execution_count": null,
   "metadata": {},
   "outputs": [],
   "source": [
    "# Change the truth values of p and q to see how the conclusion r changes\n",
    "p: bool = True\n",
    "q: bool = True\n",
    "r: bool = p and q\n",
    "    \n",
    "print(r)"
   ]
  },
  {
   "cell_type": "markdown",
   "metadata": {
    "slideshow": {
     "slide_type": "slide"
    }
   },
   "source": [
    "## Alternative Execution\n",
    "\n",
    "There is yet another if statement to represent an **alternative execution**.\n",
    "This statement is calles an if-else statement.\n",
    "There are 2 alternatives to execute and the evaluation of the expression determines which alternative\n",
    "needs to be executed.\n",
    "If the condition is true the body of the `if` section will be executed.\n",
    "However, if the condition is false, the body of the `else` section will be executed."
   ]
  },
  {
   "cell_type": "code",
   "execution_count": null,
   "metadata": {
    "slideshow": {
     "slide_type": "fragment"
    }
   },
   "outputs": [],
   "source": [
    "x: int = 23\n",
    "\n",
    "if  x % 2 == 0:\n",
    "    print('x is even')\n",
    "else:\n",
    "    print('x is odd')"
   ]
  },
  {
   "cell_type": "markdown",
   "metadata": {
    "jupyter": {
     "source_hidden": true
    },
    "tags": []
   },
   "source": [
    "```{admonition} Do It Yourself!\n",
    ":class: seealso, dropdown\n",
    "Ask the age of a user with the <i>input</i> function. If the user is an adult (older than or equal to 18) print the message \"Hi adult!\", otherwise print the message \"Hi kid!\".\n",
    "```"
   ]
  },
  {
   "cell_type": "code",
   "execution_count": null,
   "metadata": {
    "jupyter": {
     "source_hidden": true
    },
    "tags": []
   },
   "outputs": [],
   "source": [
    "# Remove this line and add your code here"
   ]
  },
  {
   "cell_type": "markdown",
   "metadata": {
    "slideshow": {
     "slide_type": "slide"
    }
   },
   "source": [
    "## Chained Conditionals\n",
    "\n",
    "Sometimes there are more than 2 alternatives. \n",
    "In that case you can use a **chained conditional**.\n",
    "A chained contidional starts with the well-known `if` section, it ends with the `else` one, and all othar alternative executions placed in the middle, are preceeded by an `elif` section.\n",
    "`elif` is an abbreviation of `else if`.\n",
    "After the `elif` keyword you should always define a new Boolean expression."
   ]
  },
  {
   "cell_type": "code",
   "execution_count": null,
   "metadata": {
    "slideshow": {
     "slide_type": "fragment"
    }
   },
   "outputs": [],
   "source": [
    "x : int = 4\n",
    "y : int = 2\n",
    "\n",
    "if  x < y:\n",
    "    print('x is less than y')\n",
    "elif x > y:\n",
    "    print('x is greater than y')\n",
    "else:\n",
    "    print('x and y are equal')"
   ]
  },
  {
   "cell_type": "markdown",
   "metadata": {
    "slideshow": {
     "slide_type": "fragment"
    }
   },
   "source": [
    "Conditions in a chained condition are checked from top to bottom, and as soon as one succeeds the corresponding branch is\n",
    "executed and the conditional terminates.\n",
    "\n",
    "If more than one condition evaluates to `True` only the first branch for which the condition succeeds is executed."
   ]
  },
  {
   "cell_type": "markdown",
   "metadata": {
    "jupyter": {
     "source_hidden": true
    },
    "tags": []
   },
   "source": [
    "```{admonition} Do It Yourself!\n",
    ":class: seealso, dropdown\n",
    "Ask the age of a user with the <i>input</i> function. If the user is a kid (younger than 18) print the message \"Hi kid!\"; if the user is between 18 and 69 print the message \"Hi adult!\"; otherwise, print the message \"Hi old pal!\".\n",
    "```"
   ]
  },
  {
   "cell_type": "code",
   "execution_count": null,
   "metadata": {
    "jupyter": {
     "source_hidden": true
    },
    "tags": []
   },
   "outputs": [],
   "source": [
    "# Remove this line and add your code here"
   ]
  },
  {
   "cell_type": "markdown",
   "metadata": {
    "slideshow": {
     "slide_type": "slide"
    }
   },
   "source": [
    "## Nested Conditionals\n",
    "\n",
    "One conditional can also be nested within another.\n",
    "That is, you can have a contidional statement within the body of one of the alternative executions of a conditional."
   ]
  },
  {
   "cell_type": "code",
   "execution_count": null,
   "metadata": {
    "slideshow": {
     "slide_type": "fragment"
    }
   },
   "outputs": [],
   "source": [
    "x: int = 2\n",
    "y: int = 2\n",
    "\n",
    "if x == y:\n",
    "    print('x and y are equal')\n",
    "else:\n",
    "    if x < y:\n",
    "        print('x is less than y')\n",
    "    else:\n",
    "        print('x is greater than y')"
   ]
  },
  {
   "cell_type": "markdown",
   "metadata": {
    "slideshow": {
     "slide_type": "fragment"
    }
   },
   "source": [
    "In the prvious example, the outer conditional contains two branches. \n",
    "The first branch contains a simple statement that prints the message \"x and y are equal\".\n",
    "The second branch contains another `if` statement, which has two branches of its own."
   ]
  },
  {
   "cell_type": "markdown",
   "metadata": {},
   "source": [
    "\n",
    "````{margin}\n",
    "```{admonition} EXTRA\n",
    "Although the indentation of the statements makes the structure apparent, **nested conditionals**\n",
    "become difficult to read very quickly. It is a good idea to avoid them whenever you can.\n",
    "Logical operators often provide a way to simplify nested conditional statements.\n",
    "```\n",
    "````\n"
   ]
  },
  {
   "cell_type": "code",
   "execution_count": null,
   "metadata": {
    "slideshow": {
     "slide_type": "fragment"
    }
   },
   "outputs": [],
   "source": [
    "x: int = 2\n",
    "\n",
    "if 0 < x:\n",
    "    if x < 10:\n",
    "        print('x is a positive single-digit number')"
   ]
  },
  {
   "cell_type": "markdown",
   "metadata": {
    "slideshow": {
     "slide_type": "fragment"
    }
   },
   "source": [
    "We can **refactor** this nested conditional by introducing the `and` operator in the logical expression."
   ]
  },
  {
   "cell_type": "code",
   "execution_count": null,
   "metadata": {
    "slideshow": {
     "slide_type": "fragment"
    }
   },
   "outputs": [],
   "source": [
    "x: int = 2\n",
    "\n",
    "if  0 < x and x < 10:\n",
    "    print('x is a positive single-digit number')"
   ]
  },
  {
   "cell_type": "markdown",
   "metadata": {
    "slideshow": {
     "slide_type": "fragment"
    }
   },
   "source": [
    "We can **refactor** this nested conditional by merging the two conditions into `0 < x < 10`."
   ]
  },
  {
   "cell_type": "code",
   "execution_count": null,
   "metadata": {
    "slideshow": {
     "slide_type": "fragment"
    }
   },
   "outputs": [],
   "source": [
    "x: int = 3\n",
    "\n",
    "if 0 < x < 10:\n",
    "    print('x is a positive single-digit number')"
   ]
  },
  {
   "cell_type": "markdown",
   "metadata": {
    "jupyter": {
     "source_hidden": true
    },
    "tags": []
   },
   "source": [
    "```{admonition} Do It Yourself!\n",
    ":class: seealso, dropdown\n",
    "Can you refactor the following program so we avoid having nested conditionals?\n",
    "```"
   ]
  },
  {
   "cell_type": "code",
   "execution_count": null,
   "metadata": {
    "jupyter": {
     "source_hidden": true
    },
    "tags": []
   },
   "outputs": [],
   "source": [
    "# Modify this code\n",
    "day = 2\n",
    "\n",
    "if day < 3:\n",
    "    print('The week just started')\n",
    "else:\n",
    "    if day <= 5:\n",
    "        print('We are just in the middle of the week')\n",
    "    else:\n",
    "        if day < 7:\n",
    "            print('The week is ending')\n",
    "        else:\n",
    "            print('It is a fact, the week ends today')"
   ]
  },
  {
   "cell_type": "markdown",
   "metadata": {},
   "source": [
    "## Catching Exceptions\n",
    "\n",
    "The following program requests you to enter your age. \n",
    "Then, it parses the input as an integer. \n",
    "But what does happen if you introduce a string that cannot be converted into a number?"
   ]
  },
  {
   "cell_type": "code",
   "execution_count": null,
   "metadata": {},
   "outputs": [],
   "source": [
    "age: str = input('What is your age? ')\n",
    "int(age)"
   ]
  },
  {
   "cell_type": "markdown",
   "metadata": {},
   "source": [
    "Indeed, you get an error or exception. \n",
    "\n",
    "Python can help you handle these cases to end the program gracefully, or continue through an alternative path. \n",
    "The construct that handles errors is called **try-except**.\n",
    "\n",
    "We use the try-except statement when we know that a sequence of instructions might introduce an error (placed in the **try** section) and you want to execute other sequence in case the problem rises (placed in the **except** section). \n",
    "If no error appears, the except section is ignored. \n",
    "**Catching** is the action of handling an exception.\n",
    "\n",
    "Now, let us rewrite our previous example with the try/except construct."
   ]
  },
  {
   "cell_type": "code",
   "execution_count": null,
   "metadata": {},
   "outputs": [],
   "source": [
    "age: str = input('What is your age? ')\n",
    "\n",
    "try:\n",
    "    # The int(age) call can rise an exception\n",
    "    print(int(age))\n",
    "except:\n",
    "    print('You should introduce a number!')"
   ]
  },
  {
   "cell_type": "markdown",
   "metadata": {
    "jupyter": {
     "source_hidden": true
    },
    "tags": []
   },
   "source": [
    "```{admonition} Do It Yourself!\n",
    ":class: seealso, dropdown\n",
    "Ask the user for two numbers (two calls of the <i>input</i> function can be used) so you can compute the addition of both of them. Then, print the message \"<i>num_1</i> + <i>num_2</i> = <i>sum</i>\". If the user inputs a value that cannot be converted to a number print the message \"Please, enter a valid number.\"\n",
    "```"
   ]
  },
  {
   "cell_type": "code",
   "execution_count": null,
   "metadata": {
    "jupyter": {
     "source_hidden": true
    },
    "tags": []
   },
   "outputs": [],
   "source": [
    "# Remove this line and add your code here"
   ]
  },
  {
   "cell_type": "markdown",
   "metadata": {},
   "source": [
    "## Short-circuit Evaluation of Logical Expressions\n",
    "\n",
    "When Python processes a logical expression, it does it from left to right. \n",
    "\n",
    "So, for the expression `x > 0 and x < 10` it will first process `x > 0` and then `x < 10`.\n",
    "\n",
    "However, if it happens that `x = -1`, the first expression `x > 0` will be equal to `False` and then there is no point to evaluate the second expression. \n",
    "By definition, if one of the expression of an `and` is `False`, the whole expression is also `False`.\n",
    "\n",
    "Python avoids processing extra expressions when the result is already known. \n",
    "This is know as **short-circuiting** the evaluation.\n",
    "Short-circuiting the evaluation lead to a useful technique known as the **guard pattern**. \n",
    "Let us see why it is needed with the following example."
   ]
  },
  {
   "cell_type": "code",
   "execution_count": null,
   "metadata": {},
   "outputs": [],
   "source": [
    "x: int = 10\n",
    "y: int = 5\n",
    "\n",
    "x > 0 and x / y == 2"
   ]
  },
  {
   "cell_type": "markdown",
   "metadata": {},
   "source": [
    "Everything works fine until now. But what does it happen if we change the value of `y` to `0`?"
   ]
  },
  {
   "cell_type": "code",
   "execution_count": null,
   "metadata": {},
   "outputs": [],
   "source": [
    "x: int = 10\n",
    "y: int = 0\n",
    "\n",
    "x > 0 and x / y == 2"
   ]
  },
  {
   "cell_type": "markdown",
   "metadata": {},
   "source": [
    "We get an error because you cannot have `0` as a denominator in a division. \n",
    "We can use the guard pattern to place a **guard** expression that let us check if `y != 0`. \n",
    "Let us see what happens now."
   ]
  },
  {
   "cell_type": "code",
   "execution_count": null,
   "metadata": {},
   "outputs": [],
   "source": [
    "x: int = 10\n",
    "y: int = 0\n",
    "\n",
    "x > 0 and y != 0 and x / y == 2"
   ]
  },
  {
   "cell_type": "markdown",
   "metadata": {},
   "source": [
    "No errors appear now because Python stops evaluating expressions when it notices that `y != 0 == False`. \n",
    "And this is the beauty of using the guard pattern!"
   ]
  }
 ],
 "metadata": {
  "kernelspec": {
   "display_name": "Python 3.8.9 64-bit",
   "language": "python",
   "name": "python3"
  },
  "language_info": {
   "codemirror_mode": {
    "name": "ipython",
    "version": 3
   },
   "file_extension": ".py",
   "mimetype": "text/x-python",
   "name": "python",
   "nbconvert_exporter": "python",
   "pygments_lexer": "ipython3",
   "version": "3.8.9"
  },
  "vscode": {
   "interpreter": {
    "hash": "31f2aee4e71d21fbe5cf8b01ff0e069b9275f58929596ceb00d14d90e3e16cd6"
   }
  }
 },
 "nbformat": 4,
 "nbformat_minor": 4
}
