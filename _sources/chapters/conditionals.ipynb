{
 "cells": [
  {
   "cell_type": "markdown",
   "metadata": {
    "slideshow": {
     "slide_type": "slide"
    }
   },
   "source": [
    "# Conditionals [^intro]\n",
    "\n",
    "[^intro]: This Jupyter Notebook is based on Chapter 3 and 5 of {cite}`Severance2016`; and Chapter 5 and 7 of {cite}`thinkPython`."
   ]
  },
  {
   "cell_type": "markdown",
   "metadata": {},
   "source": [
    "## Boolean Expressions\n",
    "\n",
    "A **boolean expression** is an expression that yields either `True` or `False`.\n",
    "\n",
    "The following examples use the operator `==` to compare the values of two expressions.\n",
    "\n",
    "The result is `True` if the values are the same, otherwise the result is `False`."
   ]
  },
  {
   "cell_type": "code",
   "execution_count": null,
   "metadata": {},
   "outputs": [],
   "source": [
    "5 == 5"
   ]
  },
  {
   "cell_type": "code",
   "execution_count": null,
   "metadata": {},
   "outputs": [],
   "source": [
    "5 == 6"
   ]
  },
  {
   "cell_type": "markdown",
   "metadata": {},
   "source": [
    "`True` and `False` are special values of the type `bool`."
   ]
  },
  {
   "cell_type": "code",
   "execution_count": null,
   "metadata": {},
   "outputs": [],
   "source": [
    "True and False"
   ]
  },
  {
   "cell_type": "markdown",
   "metadata": {},
   "source": [
    "Beside the relational operator `==` we have\n",
    "\n",
    "| **Operator** | **Purpose** |\n",
    "|:----------|:---------|\n",
    "| `==` | x is  equal to y |\n",
    "| `!=` | x is not equal to y |\n",
    "| `x > y` | x is greater than y |\n",
    "| `x < y` | x is less than y |\n",
    "| `x >= y` | x is greater than or equal to y | \n",
    "\n",
    "Although these operations are probably familiar to you, the Python symbols are different from the mathematical symbols. \n",
    "\n",
    "A common error is to use a single equal sign (`=`) instead of\n",
    "a double equal sign (`==`). \n",
    "\n",
    "Remember that `=` is an assignment operator and `==` is a relational\n",
    "operator."
   ]
  },
  {
   "cell_type": "markdown",
   "metadata": {},
   "source": [
    "## Logical Operators\n",
    "\n",
    "There are three logical operators: `and`, `or`, and `not`. \n",
    "\n",
    "The semantics (meaning) of these operators is similar to their meaning in English. \n",
    "\n",
    "For example, `x > 0 and x < 10` is `True`\n",
    "only if `x` is greater than `0` *and* less than `10`."
   ]
  },
  {
   "cell_type": "code",
   "execution_count": null,
   "metadata": {},
   "outputs": [],
   "source": [
    "x = 9\n",
    "x > 0 and x < 10"
   ]
  },
  {
   "cell_type": "markdown",
   "metadata": {},
   "source": [
    "`n % 2 == 0 or n % 3 == 0` is `True` if *either one or both* of the conditions are `True`, that is, if the number\n",
    "is divisible by `2` *or* `3`."
   ]
  },
  {
   "cell_type": "code",
   "execution_count": null,
   "metadata": {},
   "outputs": [],
   "source": [
    "n = 27\n",
    "n % 2 == 0 or n % 3 == 0"
   ]
  },
  {
   "cell_type": "markdown",
   "metadata": {},
   "source": [
    "Finally, the `not` operator negates a boolean expression, so `not (x > y)` is `True` if `x > y` is\n",
    "`False`, that is, if `x` is less than or equal to `y`."
   ]
  },
  {
   "cell_type": "code",
   "execution_count": null,
   "metadata": {},
   "outputs": [],
   "source": [
    "x = 10\n",
    "y = 15\n",
    "not (x > y)"
   ]
  },
  {
   "cell_type": "markdown",
   "metadata": {},
   "source": [
    "Strictly speaking, the operands of the logical operators should be boolean expressions, but Python is not very strict. \n",
    "\n",
    "Any nonzero number is interpreted as `True`.\n",
    "\n",
    "This flexibility can be useful, but there are some subtleties to it that might be confusing.\n",
    "\n",
    "You might want to avoid it (unless you know what you are doing)."
   ]
  },
  {
   "cell_type": "markdown",
   "metadata": {},
   "source": [
    "If you use the boolean operators in the same expression you have to beware of the order of the boolean operators.\n",
    "\n",
    "The order is as follows: `not` > `or` > `and`, again if in doubt *use brackets!*"
   ]
  },
  {
   "cell_type": "code",
   "execution_count": null,
   "metadata": {},
   "outputs": [],
   "source": [
    "not False and True"
   ]
  },
  {
   "cell_type": "code",
   "execution_count": null,
   "metadata": {},
   "outputs": [],
   "source": [
    "True or False and True"
   ]
  },
  {
   "cell_type": "markdown",
   "metadata": {
    "slideshow": {
     "slide_type": "slide"
    }
   },
   "source": [
    "## Conditional Execution\n",
    "\n",
    "In order to write useful programs, we almost always need the ability to check conditions\n",
    "and change the behavior of the program accordingly. Conditions allow us to change the execution flow in a program. \n",
    "\n",
    "**Conditional statements** provide us this functionality. \n",
    "\n",
    "The simplest form is the **if statement**."
   ]
  },
  {
   "cell_type": "code",
   "execution_count": null,
   "metadata": {
    "slideshow": {
     "slide_type": "fragment"
    }
   },
   "outputs": [],
   "source": [
    "x = 10\n",
    "if x > 0:\n",
    "    print('x is positive')\n",
    "print('x is an integer value')"
   ]
  },
  {
   "cell_type": "markdown",
   "metadata": {
    "slideshow": {
     "slide_type": "fragment"
    }
   },
   "source": [
    "The boolean expression after the `if` is called the **condition**. \n",
    "\n",
    "If it is true, the indented statement is being executed.\n",
    "\n",
    "If statements have the same structure as function definitions: a header followed by an indented body. \n",
    "\n",
    "Statements like this are called **compound statements**."
   ]
  },
  {
   "cell_type": "markdown",
   "metadata": {
    "slideshow": {
     "slide_type": "fragment"
    }
   },
   "source": [
    "What is printed when executing the following cells?"
   ]
  },
  {
   "cell_type": "code",
   "execution_count": null,
   "metadata": {
    "slideshow": {
     "slide_type": "fragment"
    }
   },
   "outputs": [],
   "source": [
    "x = 1\n",
    "if x < 0:\n",
    "    print('x is negative')\n",
    "print('Hello Data Scientists')"
   ]
  },
  {
   "cell_type": "code",
   "execution_count": null,
   "metadata": {
    "slideshow": {
     "slide_type": "fragment"
    }
   },
   "outputs": [],
   "source": [
    "x = 1\n",
    "if x < 0:\n",
    "print('x is negative')\n",
    "print('Hello Data Scientists')"
   ]
  },
  {
   "cell_type": "markdown",
   "metadata": {
    "slideshow": {
     "slide_type": "fragment"
    }
   },
   "source": [
    "Where \"normal\" programming languages use brackets, for instance `{` and `}` in C or Java, Python uses **indentation** to group lists of instruction *blocks*."
   ]
  },
  {
   "cell_type": "code",
   "execution_count": null,
   "metadata": {
    "slideshow": {
     "slide_type": "fragment"
    }
   },
   "outputs": [],
   "source": [
    "x = -1\n",
    "if x < 0:\n",
    "    print('x is negative')\n",
    "    print('Hello Data Scientists')"
   ]
  },
  {
   "cell_type": "markdown",
   "metadata": {
    "jupyter": {
     "source_hidden": true
    },
    "tags": []
   },
   "source": [
    "```{admonition} Do It Yourself!\n",
    ":class: seealso, dropdown\n",
    "Ask the age of a user with the <i>input</i> function. If the user is an adult (older than or equal to 18) print the message \"Hi adult!\".\n",
    "```"
   ]
  },
  {
   "cell_type": "code",
   "execution_count": null,
   "metadata": {
    "jupyter": {
     "source_hidden": true
    },
    "tags": []
   },
   "outputs": [],
   "source": [
    "# Remove this line and add your code here"
   ]
  },
  {
   "cell_type": "markdown",
   "metadata": {
    "slideshow": {
     "slide_type": "slide"
    }
   },
   "source": [
    "## Alternative Execution\n",
    "\n",
    "There is yet another if statement, namely to represent **alternative execution**.\n",
    "\n",
    "There are 2 alternatives to execute and the evaluation of the expression determines which alternative\n",
    "needs to be executed."
   ]
  },
  {
   "cell_type": "code",
   "execution_count": null,
   "metadata": {
    "slideshow": {
     "slide_type": "fragment"
    }
   },
   "outputs": [],
   "source": [
    "x = 23\n",
    "\n",
    "if  x % 2 == 0:\n",
    "    print('x is even')\n",
    "else:\n",
    "    print('x is odd')"
   ]
  },
  {
   "cell_type": "markdown",
   "metadata": {
    "jupyter": {
     "source_hidden": true
    },
    "tags": []
   },
   "source": [
    "```{admonition} Do It Yourself!\n",
    ":class: seealso, dropdown\n",
    "Ask the age of a user with the <i>input</i> function. If the user is an adult (older than or equal to 18) print the message \"Hi adult!\", otherwise print the message \"Hi kid!\".\n",
    "```"
   ]
  },
  {
   "cell_type": "code",
   "execution_count": null,
   "metadata": {
    "jupyter": {
     "source_hidden": true
    },
    "tags": []
   },
   "outputs": [],
   "source": [
    "# Remove this line and add your code here"
   ]
  },
  {
   "cell_type": "markdown",
   "metadata": {
    "slideshow": {
     "slide_type": "slide"
    }
   },
   "source": [
    "## Chained Conditionals\n",
    "\n",
    "Sometimes there are more than 2 alternatives. \n",
    "\n",
    "In that case you can use a **chained conditional**. "
   ]
  },
  {
   "cell_type": "code",
   "execution_count": null,
   "metadata": {
    "slideshow": {
     "slide_type": "fragment"
    }
   },
   "outputs": [],
   "source": [
    "x = 4\n",
    "y = 2\n",
    "\n",
    "if  x < y:\n",
    "    print('x is less than y')\n",
    "elif x > y:\n",
    "    print('x is greater than y')\n",
    "else:\n",
    "    print('x and y are equal')"
   ]
  },
  {
   "cell_type": "markdown",
   "metadata": {
    "slideshow": {
     "slide_type": "fragment"
    }
   },
   "source": [
    "`elif` is an abbreviation of `else if`.\n",
    "\n",
    "Every condition is checked from top to bottom and as soon as one succeeds the corresponding branch is\n",
    "executed and the conditional terminates.\n",
    "\n",
    "If more than one condition evaluates to `True` only the first branch for which the condition succeeds is executed."
   ]
  },
  {
   "cell_type": "markdown",
   "metadata": {
    "jupyter": {
     "source_hidden": true
    },
    "tags": []
   },
   "source": [
    "```{admonition} Do It Yourself!\n",
    ":class: seealso, dropdown\n",
    "Ask the age of a user with the <i>input</i> function. If the user is a kid (younger than 18) print the message \"Hi kid!\"; if the user is between 18 and 69 print the message \"Hi adult!\"; otherwise, print the message \"Hi old pal!\".\n",
    "```"
   ]
  },
  {
   "cell_type": "code",
   "execution_count": null,
   "metadata": {
    "jupyter": {
     "source_hidden": true
    },
    "tags": []
   },
   "outputs": [],
   "source": [
    "# Remove this line and add your code here"
   ]
  },
  {
   "cell_type": "markdown",
   "metadata": {
    "slideshow": {
     "slide_type": "slide"
    }
   },
   "source": [
    "## Nested Conditionals\n",
    "\n",
    "One conditional can also be nested within another."
   ]
  },
  {
   "cell_type": "code",
   "execution_count": null,
   "metadata": {
    "slideshow": {
     "slide_type": "fragment"
    }
   },
   "outputs": [],
   "source": [
    "x = 2\n",
    "y = 2\n",
    "\n",
    "if  x == y:\n",
    "    print('x and y are equal')\n",
    "else:\n",
    "    if x < y:\n",
    "        print('x is less than y')\n",
    "    else:\n",
    "        print('x is greater than y')"
   ]
  },
  {
   "cell_type": "markdown",
   "metadata": {
    "slideshow": {
     "slide_type": "fragment"
    }
   },
   "source": [
    "The outer conditional contains two branches. \n",
    "\n",
    "The first branch contains a simple statement.\n",
    "\n",
    "The second branch contains another `if` statement, which has two branches of its own.\n"
   ]
  },
  {
   "cell_type": "markdown",
   "metadata": {},
   "source": [
    "\n",
    "````{margin}\n",
    "```{admonition} EXTRA\n",
    "Although the indentation of the statements makes the structure apparent, **nested conditionals**\n",
    "become difficult to read very quickly. \n",
    "```\n",
    "````\n"
   ]
  },
  {
   "cell_type": "markdown",
   "metadata": {},
   "source": [
    "\n",
    "It is a good idea to avoid them whenever you can.\n",
    "\n",
    "Logical operators often provide a way to simplify nested conditional statements."
   ]
  },
  {
   "cell_type": "code",
   "execution_count": null,
   "metadata": {
    "slideshow": {
     "slide_type": "fragment"
    }
   },
   "outputs": [],
   "source": [
    "x = 2\n",
    "\n",
    "if  0 < x :\n",
    "    if x < 10:\n",
    "        print('x is a positive single-digit number')"
   ]
  },
  {
   "cell_type": "markdown",
   "metadata": {
    "slideshow": {
     "slide_type": "fragment"
    }
   },
   "source": [
    "We can **refactor** this nested conditional by introducing the `and` operator in the logical expression."
   ]
  },
  {
   "cell_type": "code",
   "execution_count": null,
   "metadata": {
    "slideshow": {
     "slide_type": "fragment"
    }
   },
   "outputs": [],
   "source": [
    "x = 2\n",
    "\n",
    "if  0 < x and x < 10:\n",
    "    print('x is a positive single-digit number')"
   ]
  },
  {
   "cell_type": "markdown",
   "metadata": {
    "slideshow": {
     "slide_type": "fragment"
    }
   },
   "source": [
    "We can **refactor** this nested conditional by merging the two conditions into `0 < x < 10`."
   ]
  },
  {
   "cell_type": "code",
   "execution_count": null,
   "metadata": {
    "slideshow": {
     "slide_type": "fragment"
    }
   },
   "outputs": [],
   "source": [
    "x = 3\n",
    "\n",
    "if  0 < x < 10:\n",
    "    print('x is a positive single-digit number')"
   ]
  },
  {
   "cell_type": "code",
   "execution_count": null,
   "metadata": {},
   "outputs": [],
   "source": [
    "\n",
    "print('Do something!')"
   ]
  },
  {
   "cell_type": "markdown",
   "metadata": {
    "jupyter": {
     "source_hidden": true
    },
    "tags": []
   },
   "source": [
    "```{admonition} Do It Yourself!\n",
    ":class: seealso, dropdown\n",
    "Can you refactor the following program so we avoid having nested conditionals?\n",
    "```"
   ]
  },
  {
   "cell_type": "code",
   "execution_count": null,
   "metadata": {
    "jupyter": {
     "source_hidden": true
    },
    "tags": []
   },
   "outputs": [],
   "source": [
    "# Modify this code\n",
    "day = 2\n",
    "\n",
    "if day < 3:\n",
    "    print('The week just started')\n",
    "else:\n",
    "    if day <= 5:\n",
    "        print('We are just in the middle of the week')\n",
    "    else:\n",
    "        if day < 7:\n",
    "            print('The week is ending')\n",
    "        else:\n",
    "            print('It is a fact, the week ends today')"
   ]
  },
  {
   "cell_type": "markdown",
   "metadata": {},
   "source": [
    "## Catching Exceptions\n",
    "\n",
    "The following program request you to enter your age. Then, it parses the input as an integer. But what does it happen if you introduce a string instead of a number?"
   ]
  },
  {
   "cell_type": "code",
   "execution_count": null,
   "metadata": {},
   "outputs": [],
   "source": [
    "age = input('What is your age? ')\n",
    "int(age)"
   ]
  },
  {
   "cell_type": "markdown",
   "metadata": {},
   "source": [
    "Indeed, you get an error or exception. \n",
    "\n",
    "Python can help you handle these cases to end the program gracefully, or continue trhough an alternative path. The construct that handles errors is called **try/except**.\n",
    "\n",
    "We use the try/except when we know that a sequence of instructions might introduce an error (placed in the **try** section) and you want to execute other sequence in case the problem rises (placed in the **except** section). If no error appears, the except section is ignored. \n",
    "\n",
    "**Catching** is the action of handling an exception.\n",
    "\n",
    "Now, let's rewrite our previous example with the try/except construct."
   ]
  },
  {
   "cell_type": "code",
   "execution_count": null,
   "metadata": {},
   "outputs": [],
   "source": [
    "age = input('What is your age? ')\n",
    "\n",
    "try: \n",
    "     print(int(age))\n",
    "except:\n",
    "    print('You should introduce a number!')"
   ]
  },
  {
   "cell_type": "markdown",
   "metadata": {
    "jupyter": {
     "source_hidden": true
    },
    "tags": []
   },
   "source": [
    "```{admonition} Do It Yourself!\n",
    ":class: seealso, dropdown\n",
    "Ask the user for two numbers (two calls of the <i>input</i> function can be used) so you can compute the addition of both of them. Then, print the message \"<i>num_1</i> + <i>num_2</i> = <i>sum</i>\". If the user inputs a value that cannot be converted to a number print the message \"Please, enter a valid number.\"\n",
    "```"
   ]
  },
  {
   "cell_type": "code",
   "execution_count": null,
   "metadata": {
    "jupyter": {
     "source_hidden": true
    },
    "tags": []
   },
   "outputs": [],
   "source": [
    "# Remove this line and add your code here"
   ]
  },
  {
   "cell_type": "markdown",
   "metadata": {},
   "source": [
    "## Short-circuit Evaluation of Logical Expressions\n",
    "\n",
    "When Python processes a logical expression, it does it from left to right. \n",
    "\n",
    "So, for the expression `x > 0 and x < 10` it will first process `x > 0` and then `x <10`.\n",
    "\n",
    "However, if it happens that `x = -1`, the first expression `x > 0` will be equal to `False` and tthen there is no point to evaluate the second expression. By definition, if one of the expression of an `and` is `False`, the whole expression is also `False`.\n",
    "\n",
    "Python avoids processing extra expressions when the result is already known. This is know as **short-circuiting** the evaluation."
   ]
  },
  {
   "cell_type": "markdown",
   "metadata": {},
   "source": [
    "Short-circuiting the evaluation lead to a useful technique known as the **guard pattern**. Let's see why it is needed with the following example."
   ]
  },
  {
   "cell_type": "code",
   "execution_count": null,
   "metadata": {},
   "outputs": [],
   "source": [
    "x = 10\n",
    "y = 5\n",
    "\n",
    "x > 0 and x / y == 2"
   ]
  },
  {
   "cell_type": "markdown",
   "metadata": {},
   "source": [
    "Everything works fine until now. But what does it happen if we change the value of `y` to `0`?"
   ]
  },
  {
   "cell_type": "code",
   "execution_count": null,
   "metadata": {},
   "outputs": [],
   "source": [
    "x = 10\n",
    "y = 0\n",
    "\n",
    "x > 0 and x / y == 2"
   ]
  },
  {
   "cell_type": "markdown",
   "metadata": {},
   "source": [
    "Yes. We get an error because you cannot have `0` as a denominator in a division. We can use the guard pattern to place a **guard** expression that let us check if `y != 0`. Let's see what happens now."
   ]
  },
  {
   "cell_type": "code",
   "execution_count": null,
   "metadata": {},
   "outputs": [],
   "source": [
    "x = 10\n",
    "y = 0\n",
    "\n",
    "x > 0 and y != 0 and x / y == 2"
   ]
  },
  {
   "cell_type": "markdown",
   "metadata": {},
   "source": [
    "No errors now because Python stops evaluating expressions when it notices that `y != 0 == False`. And this is the beauty of using the guard pattern."
   ]
  }
 ],
 "metadata": {
  "kernelspec": {
   "display_name": "Python 3 (ipykernel)",
   "language": "python",
   "name": "python3"
  },
  "language_info": {
   "codemirror_mode": {
    "name": "ipython",
    "version": 3
   },
   "file_extension": ".py",
   "mimetype": "text/x-python",
   "name": "python",
   "nbconvert_exporter": "python",
   "pygments_lexer": "ipython3",
   "version": "3.9.5"
  }
 },
 "nbformat": 4,
 "nbformat_minor": 4
}
