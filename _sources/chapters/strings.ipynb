{
 "cells": [
  {
   "cell_type": "markdown",
   "metadata": {
    "slideshow": {
     "slide_type": "slide"
    }
   },
   "source": [
    "# Strings [^intro]\n",
    "\n",
    "[^intro]: This Jupyter Notebook is based on Chapter 6 of {cite}`Severance2016` and Chapter 8 of {cite}`thinkPython`."
   ]
  },
  {
   "cell_type": "markdown",
   "metadata": {
    "slideshow": {
     "slide_type": "slide"
    }
   },
   "source": [
    "## What is a String?\n",
    "\n",
    "We have seen and used most of the language constructs Python offers.\n",
    "\n",
    "The next step in programming is how to represent data. \n",
    "\n",
    "We have seen so far a number of basic data types: integers, floats, and booleans.\n",
    "\n",
    "However, we will need more powerful data types to describe and manipulate data. For instance,\n",
    "if we want to calculate the average of a list of integers, the basic data types are not sufficient.\n",
    "\n",
    "We will start with *strings*, which is a (non-basic) data type (`str`) in Python. \n",
    "\n",
    "A string represents a **sequence** of characters.\n",
    "\n",
    "You can consider a *sequence* as a list of elements, we will see *lists* later on.\n",
    "\n",
    "One of the operations that we can perform on strings is selecting one of the characters, via *indexing*."
   ]
  },
  {
   "cell_type": "code",
   "execution_count": null,
   "metadata": {
    "slideshow": {
     "slide_type": "fragment"
    }
   },
   "outputs": [],
   "source": [
    "bike : str = 'gazelle'\n",
    "letter = bike[1]\n",
    "letter"
   ]
  },
  {
   "cell_type": "markdown",
   "metadata": {
    "slideshow": {
     "slide_type": "fragment"
    }
   },
   "source": [
    "The second statement selects character number 1 from `bike` and assigns it to `letter`.\n",
    "\n",
    "The expression in square brackets is called an **index**. \n",
    "\n",
    "The index indicates which character in the sequence you want (hence the name).\n",
    "\n",
    "The index `1` does not yield the first letter of `gazelle`, but the second.\n",
    "\n",
    "The first letter of a string is obtained by index `0`."
   ]
  },
  {
   "cell_type": "code",
   "execution_count": null,
   "metadata": {
    "slideshow": {
     "slide_type": "fragment"
    }
   },
   "outputs": [],
   "source": [
    "letter = bike[0]\n",
    "letter"
   ]
  },
  {
   "cell_type": "markdown",
   "metadata": {
    "slideshow": {
     "slide_type": "fragment"
    }
   },
   "source": [
    "So `g` is the 0th letter of `'gazelle'`, `a` is the 1st letter, `z` is the 2th\n",
    "letter, and so on. \n",
    "\n",
    "The following table presents the index of each letter in the string `'gazelle'`.\n",
    "\n",
    "| 0 | 1 | 2 | 3 | 4 | 5 | 6 |\n",
    "|---|---|---|---|---|---|---|\n",
    "| g | a | z | e | l | l | e |"
   ]
  },
  {
   "cell_type": "markdown",
   "metadata": {},
   "source": [
    "As an index you can use an expression that contains variables and operators:"
   ]
  },
  {
   "cell_type": "code",
   "execution_count": null,
   "metadata": {
    "slideshow": {
     "slide_type": "fragment"
    }
   },
   "outputs": [],
   "source": [
    "i : int = 0\n",
    "letter = bike[i]\n",
    "print(letter)\n",
    "i += 1\n",
    "letter = bike[i]\n",
    "print(letter)\n",
    "i += 1\n",
    "letter = bike[i]\n",
    "print(letter)"
   ]
  },
  {
   "cell_type": "markdown",
   "metadata": {
    "slideshow": {
     "slide_type": "fragment"
    }
   },
   "source": [
    "The value of the index **must** be an integer."
   ]
  },
  {
   "cell_type": "code",
   "execution_count": null,
   "metadata": {
    "slideshow": {
     "slide_type": "fragment"
    }
   },
   "outputs": [],
   "source": [
    "letter = bike[1.5]"
   ]
  },
  {
   "cell_type": "markdown",
   "metadata": {
    "jupyter": {
     "source_hidden": true
    },
    "tags": []
   },
   "source": [
    "```{admonition} Do It Yourself!\n",
    ":class: seealso, dropdown\n",
    "Assign the value 'Maurits Cornelis Escher' to the variable <i>artist</i>. Then, print the first letter of the first, middle and last name of the artist.\n",
    "```"
   ]
  },
  {
   "cell_type": "code",
   "execution_count": null,
   "metadata": {
    "jupyter": {
     "source_hidden": true
    },
    "tags": []
   },
   "outputs": [],
   "source": [
    "# Remove this line and add your code here"
   ]
  },
  {
   "cell_type": "markdown",
   "metadata": {
    "slideshow": {
     "slide_type": "slide"
    }
   },
   "source": [
    "## Length of a String\n",
    "\n",
    "There are more operations that we can apply on a sequence, such as calculating the length of a sequence (or string).\n",
    "\n",
    "`len` is a built-in function to obtain the length of a sequence, and thus of a string."
   ]
  },
  {
   "cell_type": "code",
   "execution_count": null,
   "metadata": {
    "slideshow": {
     "slide_type": "fragment"
    }
   },
   "outputs": [],
   "source": [
    "len(bike)"
   ]
  },
  {
   "cell_type": "code",
   "execution_count": null,
   "metadata": {},
   "outputs": [],
   "source": [
    "len('gazelle')"
   ]
  },
  {
   "cell_type": "markdown",
   "metadata": {
    "slideshow": {
     "slide_type": "fragment"
    }
   },
   "source": [
    "Given the fact that the first letter is accessed via the index `0`, the last letter is accessed via `len - 1` instead, as you may have expected."
   ]
  },
  {
   "cell_type": "code",
   "execution_count": null,
   "metadata": {
    "slideshow": {
     "slide_type": "fragment"
    }
   },
   "outputs": [],
   "source": [
    "length : int = len(bike)\n",
    "bike[length]"
   ]
  },
  {
   "cell_type": "code",
   "execution_count": null,
   "metadata": {
    "slideshow": {
     "slide_type": "fragment"
    }
   },
   "outputs": [],
   "source": [
    "bike[length - 1]"
   ]
  },
  {
   "cell_type": "markdown",
   "metadata": {
    "jupyter": {
     "source_hidden": true
    },
    "tags": []
   },
   "source": [
    "```{admonition} Do It Yourself!\n",
    ":class: seealso, dropdown\n",
    "Make sure you have declared the variable `artist`and you have assigned it the value 'Maurits Cornelis Escher'. Then, print the penultimate (second last) and antepenultimate (third last) letters of the artist name.\n",
    "```"
   ]
  },
  {
   "cell_type": "code",
   "execution_count": null,
   "metadata": {
    "jupyter": {
     "source_hidden": true
    },
    "tags": []
   },
   "outputs": [],
   "source": [
    "# Remove this line and add your code here"
   ]
  },
  {
   "cell_type": "markdown",
   "metadata": {
    "slideshow": {
     "slide_type": "slide"
    }
   },
   "source": [
    "## Traversal with a `for` Loop\n",
    "\n",
    "Programs often involve processing a string by reading its characters one by one.\n",
    "\n",
    "Often they start at the beginning, select each character, do something to the selected character, and continue until the end of the string. \n",
    "\n",
    "This pattern of processing is called a **traversal** of a sequence (or string). \n",
    "\n",
    "One way to write a traversal is with a `while` loop. Note that we need an explicit *iterator* in order to access all elements of the sequence (or characters of the string).\n",
    "\n",
    "The next cell contains a correct implementation for iterating over a string with a `while` loop."
   ]
  },
  {
   "cell_type": "code",
   "execution_count": null,
   "metadata": {
    "slideshow": {
     "slide_type": "fragment"
    }
   },
   "outputs": [],
   "source": [
    "index : int = 0\n",
    "while index < len(bike):\n",
    "    letter = bike[index]\n",
    "    print(letter)\n",
    "    index += 1"
   ]
  },
  {
   "cell_type": "markdown",
   "metadata": {},
   "source": [
    "However, using an explicit iterator often introduces serious mistakes in programs. For example, programmers start at the wrong index (`1` instead of `0`) and terminate to early or to late.\n",
    "\n",
    "So-called **out-of-bound** errors, or **off-by-one** errors are the root cause for serious security threats.\n",
    "\n",
    "Below you find code that contains multiple **out-of-bound** errors."
   ]
  },
  {
   "cell_type": "code",
   "execution_count": null,
   "metadata": {
    "scrolled": true
   },
   "outputs": [],
   "source": [
    "index : int = 1\n",
    "while index <= len(bike):\n",
    "    letter = bike[index]\n",
    "    print(letter)\n",
    "    index += 1"
   ]
  },
  {
   "cell_type": "markdown",
   "metadata": {
    "jupyter": {
     "source_hidden": true
    },
    "tags": []
   },
   "source": [
    "```{admonition} Do It Yourself!\n",
    ":class: seealso, dropdown\n",
    "Make sure you have declared the variable `artist` and you have assigned it the value 'Maurits Cornelis Escher'. Then, only print the characters located in an even position. Use a `while` loop.\n",
    "```"
   ]
  },
  {
   "cell_type": "code",
   "execution_count": null,
   "metadata": {
    "jupyter": {
     "source_hidden": true
    },
    "tags": []
   },
   "outputs": [],
   "source": [
    "# Remove this line and add your code here"
   ]
  },
  {
   "cell_type": "markdown",
   "metadata": {
    "slideshow": {
     "slide_type": "fragment"
    }
   },
   "source": [
    "Another way (and more secure) way of writing a traversal is using a `for` loop.\n",
    "\n",
    "A `for` loop has an implicit iterator, in the cell below represented by the variable `letter`."
   ]
  },
  {
   "cell_type": "code",
   "execution_count": null,
   "metadata": {
    "slideshow": {
     "slide_type": "fragment"
    }
   },
   "outputs": [],
   "source": [
    "for letter in \"sparta\":\n",
    "    print(letter)"
   ]
  },
  {
   "cell_type": "markdown",
   "metadata": {
    "slideshow": {
     "slide_type": "fragment"
    }
   },
   "source": [
    "Each time the loop is executed, the next character in the string is assigned to the *iterator* (variable) `letter`. \n",
    "\n",
    "The loop continues until no characters are left.\n",
    "\n",
    "The following example shows how to use concatenation (string addition) and a `for` loop\n",
    "to generate a list of names in alphabetical order. "
   ]
  },
  {
   "cell_type": "code",
   "execution_count": null,
   "metadata": {
    "scrolled": true,
    "slideshow": {
     "slide_type": "fragment"
    }
   },
   "outputs": [],
   "source": [
    "prefixes : str = 'JKLMNOPQ'\n",
    "suffix : str = 'ack'\n",
    "\n",
    "for letter in prefixes:\n",
    "    print(letter + suffix)"
   ]
  },
  {
   "cell_type": "markdown",
   "metadata": {
    "jupyter": {
     "source_hidden": true
    },
    "tags": []
   },
   "source": [
    "```{admonition} Do It Yourself!\n",
    ":class: seealso, dropdown\n",
    "There is a hidden text in the following cell. To find the hidden message you should print all characters in the variable `code` except for those that are equal to 'x', 'y', or 'z'. Use a `for` loop to solve this problem.\n",
    "```"
   ]
  },
  {
   "cell_type": "code",
   "execution_count": null,
   "metadata": {
    "jupyter": {
     "source_hidden": true
    },
    "tags": []
   },
   "outputs": [],
   "source": [
    "code = 'Esxzcxxhyezrzy wyzyaxsz zyxbxoxrxxn yinz zyLxexxeuzwaryxdexyzn'\n",
    "\n",
    "# Remove this line and add your code here"
   ]
  },
  {
   "cell_type": "markdown",
   "metadata": {
    "slideshow": {
     "slide_type": "slide"
    }
   },
   "source": [
    "## String Slices\n",
    "\n",
    "We are now able to select individual characters of a string and to iterate over all characters of a string, but sometimes we want just a part (segment) of a string.\n",
    "\n",
    "A segment of a string is called a **slice**.\n",
    "\n",
    "A slice is obtained by giving a range of indices.\n",
    "\n",
    "In the next cell, we show how we can obtain the segments `Data` and `Science` from the giving string."
   ]
  },
  {
   "cell_type": "code",
   "execution_count": null,
   "metadata": {
    "slideshow": {
     "slide_type": "fragment"
    }
   },
   "outputs": [],
   "source": [
    "ds_str : str = 'Data Science'\n",
    "\n",
    "ln : int = len(ds_str)\n",
    "print(ln)\n",
    "data : str = ds_str[0:4]\n",
    "science : str = ds_str[5:ln]\n",
    "\n",
    "print(data)\n",
    "print(len(data))\n",
    "print(science)\n",
    "print(len(science))"
   ]
  },
  {
   "cell_type": "markdown",
   "metadata": {
    "slideshow": {
     "slide_type": "fragment"
    }
   },
   "source": [
    "The operator [n:m] returns the part of the string from the “n-eth” character to the “m-eth”\n",
    "character, including the first but excluding the last. \n",
    "\n",
    "If you omit the first index (before the colon), the slice starts at the beginning of the string.\n",
    "If you omit the second index, the slice goes to the end of the string.\n",
    "\n",
    "Beware, take care of the *start* and *end* indices of the string. This is a frequent source of errors."
   ]
  },
  {
   "cell_type": "code",
   "execution_count": null,
   "metadata": {
    "slideshow": {
     "slide_type": "fragment"
    }
   },
   "outputs": [],
   "source": [
    "ds_str : str = 'Data Science'\n",
    "\n",
    "data : str = ds_str[:4]\n",
    "science : str = ds_str[5:]\n",
    "\n",
    "print(data)\n",
    "print(science)"
   ]
  },
  {
   "cell_type": "markdown",
   "metadata": {
    "slideshow": {
     "slide_type": "fragment"
    }
   },
   "source": [
    "If the first index is greater than or equal to the second the result is an empty string, represented\n",
    "by two quotation marks:"
   ]
  },
  {
   "cell_type": "code",
   "execution_count": null,
   "metadata": {
    "slideshow": {
     "slide_type": "fragment"
    }
   },
   "outputs": [],
   "source": [
    "ds : str = 'Data Science'\n",
    "\n",
    "data : str = ds[4:4]\n",
    "\n",
    "data"
   ]
  },
  {
   "cell_type": "markdown",
   "metadata": {
    "jupyter": {
     "source_hidden": true
    },
    "tags": []
   },
   "source": [
    "```{admonition} Do It Yourself!\n",
    ":class: seealso, dropdown\n",
    "Assign the string 'skateboard' to the variable *word*. Now, print the first and second half in independent lines by just slicing the string and using the `len` function. \n",
    "```"
   ]
  },
  {
   "cell_type": "code",
   "execution_count": null,
   "metadata": {
    "jupyter": {
     "source_hidden": true
    },
    "tags": []
   },
   "outputs": [],
   "source": [
    "# Remove this line and add your code here"
   ]
  },
  {
   "cell_type": "markdown",
   "metadata": {
    "slideshow": {
     "slide_type": "slide"
    }
   },
   "source": [
    "## Strings are Immutable\n",
    "\n",
    "What is meant by *immutable*?"
   ]
  },
  {
   "cell_type": "markdown",
   "metadata": {
    "slideshow": {
     "slide_type": "slide"
    }
   },
   "source": [
    "It is not possible to use the `[]` operator on the left hand side of an assignment.\n",
    "\n",
    "It is not possible to change an existing string, strings are **immutable**."
   ]
  },
  {
   "cell_type": "code",
   "execution_count": null,
   "metadata": {
    "slideshow": {
     "slide_type": "fragment"
    }
   },
   "outputs": [],
   "source": [
    "greeting : str = 'Hello Data Scientist'\n",
    "greeting[0] = 'h'"
   ]
  },
  {
   "cell_type": "markdown",
   "metadata": {
    "slideshow": {
     "slide_type": "fragment"
    }
   },
   "source": [
    "If you want to change a string you *must* create a new string.\n",
    "\n",
    "In the cell below, we create a new string `new_greeting` by concatenating the letter `h` with the slice consisting of all characters of the original string except the first character.\n",
    "\n",
    "The original string is not *changed*."
   ]
  },
  {
   "cell_type": "code",
   "execution_count": null,
   "metadata": {
    "slideshow": {
     "slide_type": "fragment"
    }
   },
   "outputs": [],
   "source": [
    "print(greeting)\n",
    "new_greeting : str = 'h' + greeting[1:]\n",
    "print(new_greeting)"
   ]
  },
  {
   "cell_type": "markdown",
   "metadata": {
    "jupyter": {
     "source_hidden": true
    },
    "tags": []
   },
   "source": [
    "```{admonition} Do It Yourself!\n",
    ":class: seealso, dropdown\n",
    "Assign the string 'break' to a varible. Replace the first letter by 'g' and the last one by 't'.\n",
    "```"
   ]
  },
  {
   "cell_type": "code",
   "execution_count": null,
   "metadata": {
    "jupyter": {
     "source_hidden": true
    },
    "tags": []
   },
   "outputs": [],
   "source": [
    "# Remove this line and add your code here"
   ]
  },
  {
   "cell_type": "markdown",
   "metadata": {
    "slideshow": {
     "slide_type": "slide"
    }
   },
   "source": [
    "## Searching\n",
    "\n",
    "Finding a specific element in a long list can be boring, in principle you have to inspect all elements until you find the element you are looking for. \n",
    "\n",
    "The next cell shows a few lines of code that mimicks this searching for an element by means of looking for a specific letter in a word."
   ]
  },
  {
   "cell_type": "code",
   "execution_count": null,
   "metadata": {
    "slideshow": {
     "slide_type": "fragment"
    }
   },
   "outputs": [],
   "source": [
    "def find(word : str, letter : str) -> int:\n",
    "    \"\"\"looks at which position the letter appears first, \n",
    "    if the letter does not appear in the string -1 is returned\"\"\"\n",
    "    index : int = 0\n",
    "    \n",
    "    while index < len(word):\n",
    "        if word[index] == letter:\n",
    "            return index\n",
    "        index += 1\n",
    "        \n",
    "    return -1\n",
    "\n",
    "find('data science', 'a')"
   ]
  },
  {
   "cell_type": "markdown",
   "metadata": {
    "slideshow": {
     "slide_type": "fragment"
    }
   },
   "source": [
    "The function `find` is in fact the inverse of the `[]` operator. \n",
    "\n",
    "Instead of taking an index and extracting\n",
    "the corresponding character, it takes a character and finds the index where that character\n",
    "appears. \n",
    "\n",
    "If the character is not found, the function returns `-1`.\n"
   ]
  },
  {
   "cell_type": "markdown",
   "metadata": {},
   "source": [
    "\n",
    "````{margin}\n",
    "```{admonition} EXTRA\n",
    "This is the first example we have seen of a return statement inside a loop. \n",
    "```\n",
    "````\n"
   ]
  },
  {
   "cell_type": "markdown",
   "metadata": {},
   "source": [
    "\n",
    "If `word[index] == letter`, the function breaks out of the loop and returns immediately.\n",
    "\n",
    "If the character does not appear in the string, the program exits the loop normally and returns\n",
    "`-1`.\n",
    "\n",
    "This pattern of computation —traversing a sequence and returning when we find what we\n",
    "are looking for— is called a **search**.\n",
    "\n",
    "Is it possible to write this function using a `for` loop more compact?"
   ]
  },
  {
   "cell_type": "code",
   "execution_count": null,
   "metadata": {
    "slideshow": {
     "slide_type": "fragment"
    }
   },
   "outputs": [],
   "source": [
    "def find(word : str, letter : str) -> int:\n",
    "    \"\"\"looks at which position the letter appears first, \n",
    "    if the letter does not appear in the string -1 is returned\"\"\"\n",
    "    index : int = 0\n",
    "    \n",
    "    for char in word:\n",
    "        if char == letter:\n",
    "            break\n",
    "        index += 1\n",
    "        \n",
    "    if index >= len(word):\n",
    "        return -1\n",
    "    else:\n",
    "        return index\n",
    "\n",
    "find('data science', 'z')"
   ]
  },
  {
   "cell_type": "markdown",
   "metadata": {
    "jupyter": {
     "source_hidden": true
    },
    "tags": []
   },
   "source": [
    "```{admonition} Do It Yourself!\n",
    ":class: seealso, dropdown\n",
    "In the following cell there is information about the ticket of a concert. You want to extract the number of the ticket. Use the search pattern and previous string functions and operators to return the ticket reference.\n",
    "```"
   ]
  },
  {
   "cell_type": "code",
   "execution_count": null,
   "metadata": {
    "jupyter": {
     "source_hidden": true
    },
    "tags": []
   },
   "outputs": [],
   "source": [
    "info = 'Ticket reference: 9090873982'\n",
    "\n",
    "# Remove this line and add your code here"
   ]
  },
  {
   "cell_type": "markdown",
   "metadata": {
    "slideshow": {
     "slide_type": "slide"
    }
   },
   "source": [
    "## Looping and Counting\n",
    "\n",
    "The following program counts the number of times the letter `e` appears in a string."
   ]
  },
  {
   "cell_type": "code",
   "execution_count": null,
   "metadata": {
    "slideshow": {
     "slide_type": "fragment"
    }
   },
   "outputs": [],
   "source": [
    "word : str = 'gazelle'\n",
    "count : int = 0\n",
    "\n",
    "for letter in word:\n",
    "    if letter == 'e':\n",
    "        count += 1\n",
    "        \n",
    "print(count)"
   ]
  },
  {
   "cell_type": "markdown",
   "metadata": {
    "slideshow": {
     "slide_type": "fragment"
    }
   },
   "source": [
    "This program demonstrates another pattern of computation called a **counter**. \n",
    "\n",
    "The variable count is initialized to `0` and then incremented each time the letter is encountered. \n",
    "\n",
    "When the loop exits, count contains the result —the total number of `e`’s in the word `gazelle`."
   ]
  },
  {
   "cell_type": "markdown",
   "metadata": {
    "jupyter": {
     "source_hidden": true
    },
    "tags": []
   },
   "source": [
    "```{admonition} Do It Yourself!\n",
    ":class: seealso, dropdown\n",
    "Count the number of vowels in the word 'supercalifragilisticexpialidocious'.\n",
    "```"
   ]
  },
  {
   "cell_type": "code",
   "execution_count": null,
   "metadata": {
    "jupyter": {
     "source_hidden": true
    },
    "tags": []
   },
   "outputs": [],
   "source": [
    "# Remove this line and add your code here"
   ]
  },
  {
   "cell_type": "markdown",
   "metadata": {
    "slideshow": {
     "slide_type": "slide"
    }
   },
   "source": [
    "## The `in` Operator\n",
    "\n",
    "The word `in` is a boolean operator that takes two strings and returns `True` if the first appears\n",
    "as a substring in the second."
   ]
  },
  {
   "cell_type": "code",
   "execution_count": null,
   "metadata": {
    "slideshow": {
     "slide_type": "fragment"
    }
   },
   "outputs": [],
   "source": [
    "'zel' in 'gazelle'"
   ]
  },
  {
   "cell_type": "code",
   "execution_count": null,
   "metadata": {
    "slideshow": {
     "slide_type": "fragment"
    }
   },
   "outputs": [],
   "source": [
    "'par' in 'gazelle'"
   ]
  },
  {
   "cell_type": "markdown",
   "metadata": {
    "slideshow": {
     "slide_type": "fragment"
    }
   },
   "source": [
    "For example, the following function prints all the letters from `word1` that also appear in `word2`."
   ]
  },
  {
   "cell_type": "code",
   "execution_count": null,
   "metadata": {
    "slideshow": {
     "slide_type": "fragment"
    }
   },
   "outputs": [],
   "source": [
    "def in_both(word1 : str, word2 : str):\n",
    "    \"\"\"prints letters that appear in both words\"\"\"\n",
    "    for letter in word1:\n",
    "        if letter in word2:\n",
    "            print(letter)\n",
    "\n",
    "in_both('trek', 'gazelle')"
   ]
  },
  {
   "cell_type": "markdown",
   "metadata": {
    "jupyter": {
     "source_hidden": true
    },
    "tags": []
   },
   "source": [
    "```{admonition} Do It Yourself!\n",
    ":class: seealso, dropdown\n",
    "Count the number of vowels in the word 'supercalifragilisticexpialidocious' but this time use the <i>in</i> operator.\n",
    "```"
   ]
  },
  {
   "cell_type": "code",
   "execution_count": null,
   "metadata": {
    "jupyter": {
     "source_hidden": true
    },
    "tags": []
   },
   "outputs": [],
   "source": [
    "# Remove this line and add your code here"
   ]
  },
  {
   "cell_type": "markdown",
   "metadata": {
    "slideshow": {
     "slide_type": "slide"
    }
   },
   "source": [
    "## String Comparison\n",
    "\n",
    "An important operation on strings is checking whether strings are equal or not.\n",
    "If you have to search for a certain word in a text or dictionary you will need\n",
    "such an operation. \n",
    "\n",
    "Python offers a number of relational operators that work on strings, \n",
    "for instance to check whether two strings are equal."
   ]
  },
  {
   "cell_type": "code",
   "execution_count": null,
   "metadata": {
    "slideshow": {
     "slide_type": "fragment"
    }
   },
   "outputs": [],
   "source": [
    "word : str = input('> ')\n",
    "if word == 'apple':\n",
    "    print('Hmmm, an apple!')"
   ]
  },
  {
   "cell_type": "markdown",
   "metadata": {
    "slideshow": {
     "slide_type": "fragment"
    }
   },
   "source": [
    "Other relational operations are useful for putting words in alphabetical order."
   ]
  },
  {
   "cell_type": "code",
   "execution_count": null,
   "metadata": {
    "slideshow": {
     "slide_type": "fragment"
    }
   },
   "outputs": [],
   "source": [
    "word : str = input('> ')\n",
    "if word < 'apple':\n",
    "    print('Your word, ' + word + ', comes before apple!')\n",
    "elif word > 'apple':\n",
    "    print('Your word, ' + word + ', comes after apple!')\n",
    "else:\n",
    "    print('Hmmm, an apple!')"
   ]
  },
  {
   "cell_type": "markdown",
   "metadata": {
    "slideshow": {
     "slide_type": "fragment"
    }
   },
   "source": [
    "Python does not treat uppercase and lowercase letters the same as people do. \n",
    "\n",
    "All the uppercase letters come before all the lowercase letters, so:\n",
    "\n",
    "`Your word, Pineapple, comes before apple.`\n",
    "\n",
    "A common way to address this problem is to convert strings to a standard format, such as\n",
    "all lowercase, before doing string comparison. "
   ]
  },
  {
   "cell_type": "markdown",
   "metadata": {
    "jupyter": {
     "source_hidden": true
    },
    "tags": []
   },
   "source": [
    "```{admonition} Do It Yourself!\n",
    ":class: seealso, dropdown\n",
    "In the following cell you will find three words. Can you print them in alphabetical order? Use the comparison operator for that purpose.\n",
    "```"
   ]
  },
  {
   "cell_type": "code",
   "execution_count": null,
   "metadata": {
    "jupyter": {
     "source_hidden": true
    },
    "tags": []
   },
   "outputs": [],
   "source": [
    "word1 : str = 'purple'\n",
    "word2 : str = 'green'\n",
    "word3 : str = 'red'\n",
    "\n",
    "# Remove this line and add your code here"
   ]
  },
  {
   "cell_type": "markdown",
   "metadata": {
    "slideshow": {
     "slide_type": "slide"
    }
   },
   "source": [
    "## String Methods\n",
    "\n",
    "Strings are an example of a Python object.\n",
    "\n",
    "For now, an object is equivalente to a value.\n",
    "\n",
    "However, it has more information than a normal valuel. An object contains *data* and a set of *methods*.\n",
    "\n",
    "Methods are functions that are built into the object. \n",
    "\n",
    "Contrary to normal function, methods have a slightly different syntax.\n",
    "\n",
    "The Python function `dir` lists all the methods available for an object. Let's see the methods that an object of type string has."
   ]
  },
  {
   "cell_type": "code",
   "execution_count": null,
   "metadata": {},
   "outputs": [],
   "source": [
    "text : str = 'Data Science'\n",
    "dir(text)"
   ]
  },
  {
   "cell_type": "markdown",
   "metadata": {},
   "source": [
    "As you can see, Python provides a whole collection of useful methods on strings.\n",
    "\n",
    "Calling a method is similar to calling a function, the only difference is that you will first place the name of the variable and then the name of the method separated by a dot. Something like `var.method()`.\n",
    "\n",
    "For instance, instead of the function syntax `upper(word)`, we use the method syntax `word.upper()`."
   ]
  },
  {
   "cell_type": "code",
   "execution_count": null,
   "metadata": {
    "slideshow": {
     "slide_type": "fragment"
    }
   },
   "outputs": [],
   "source": [
    "word : str = 'gazelle'\n",
    "new_word : str = word.upper()\n",
    "new_word"
   ]
  },
  {
   "cell_type": "markdown",
   "metadata": {
    "slideshow": {
     "slide_type": "fragment"
    }
   },
   "source": [
    "This form of dot notation specifies the name of the method, `upper`, and the name of the\n",
    "string to apply the method to, `word`. \n",
    "\n",
    "The empty parentheses indicate that this method takes no arguments.\n",
    "\n",
    "A method call is called an **invocation**; in this case, we would say that we are invoking the method\n",
    "`upper` on `word`.\n",
    "\n",
    "As it turns out, there is a string method named `find` that is remarkably similar to the\n",
    "function we wrote."
   ]
  },
  {
   "cell_type": "code",
   "execution_count": null,
   "metadata": {
    "slideshow": {
     "slide_type": "fragment"
    }
   },
   "outputs": [],
   "source": [
    "word : str = 'gazelle'\n",
    "index : int = word.find('z')\n",
    "index"
   ]
  },
  {
   "cell_type": "markdown",
   "metadata": {
    "slideshow": {
     "slide_type": "fragment"
    }
   },
   "source": [
    "Actually, the find method is more general than our function; it can find substrings, not just\n",
    "characters.\n",
    "\n",
    "Furthermore, the method can also be directly invoked on a string **object**."
   ]
  },
  {
   "cell_type": "code",
   "execution_count": null,
   "metadata": {
    "slideshow": {
     "slide_type": "fragment"
    }
   },
   "outputs": [],
   "source": [
    "index : int = 'sparta'.find('par')\n",
    "index"
   ]
  },
  {
   "cell_type": "markdown",
   "metadata": {
    "slideshow": {
     "slide_type": "fragment"
    }
   },
   "source": [
    "The `find` method can take 1 or 2 **optional arguments**.\n",
    "\n",
    "The first optional argument is the index where the search in the string object should start.\n",
    "\n",
    "The second optional argument is the index where the search in the string object should stop."
   ]
  },
  {
   "cell_type": "code",
   "execution_count": null,
   "metadata": {
    "slideshow": {
     "slide_type": "fragment"
    }
   },
   "outputs": [],
   "source": [
    "name : str = 'bob'\n",
    "name.find('b', 1, 2)"
   ]
  },
  {
   "cell_type": "markdown",
   "metadata": {
    "slideshow": {
     "slide_type": "fragment"
    }
   },
   "source": [
    "This search fails because `b` does not appear in the index range from `1` to `2`, not including `2`.\n",
    "\n",
    "Searching up to, but not including, the second index makes `find` consistent with the slice operator."
   ]
  },
  {
   "cell_type": "code",
   "execution_count": null,
   "metadata": {
    "slideshow": {
     "slide_type": "fragment"
    }
   },
   "outputs": [],
   "source": [
    "name[1:2].find('b')"
   ]
  },
  {
   "cell_type": "markdown",
   "metadata": {},
   "source": [
    "## Format Operator\n",
    "\n",
    "With the format operator `%` we can build a string by replacing parts of it with data stored in variables.\n",
    "\n",
    "Remember that when `%` is used with integers it is know as the modulus operator. When playing around with strings we call it the format operator.\n",
    "\n",
    "The first operand should always be a string containing *format sequences*. The second argument is one or more variables. If you have more than one variable they should be stores in a tuple (we will talk about this data type later).\n",
    "\n",
    "A format sequence are markers such as `'%d'` to format an integer, `'%g'` to format floats, and `'%s'` to format strings."
   ]
  },
  {
   "cell_type": "code",
   "execution_count": null,
   "metadata": {},
   "outputs": [],
   "source": [
    "days : int = 365\n",
    "'A year has %d' % days"
   ]
  },
  {
   "cell_type": "code",
   "execution_count": null,
   "metadata": {},
   "outputs": [],
   "source": [
    "who : str = 'Tom'\n",
    "budget : float = 1.99\n",
    "days : int = 365\n",
    "\n",
    "'%s says that he is allowed to spend %g euros every single day of the %d days of the year.' % (who, budget, days)"
   ]
  },
  {
   "cell_type": "markdown",
   "metadata": {},
   "source": [
    "You can get an error if your don't write all needed elements to format the string."
   ]
  },
  {
   "cell_type": "code",
   "execution_count": null,
   "metadata": {},
   "outputs": [],
   "source": [
    "day : str = 'Monday'\n",
    "hour : int = 5\n",
    "place : str = 'the park'\n",
    "\n",
    "'Se you on %s at %d in %s' % (day, hour)"
   ]
  },
  {
   "cell_type": "markdown",
   "metadata": {},
   "source": [
    "Or when you use a wrong format sequence."
   ]
  },
  {
   "cell_type": "code",
   "execution_count": null,
   "metadata": {},
   "outputs": [],
   "source": [
    "day : str = 'Monday'\n",
    "hour : int = 5\n",
    "place : str = 'the park'\n",
    "\n",
    "'Se you on %d at %d in %s' % (day, hour, place)"
   ]
  },
  {
   "cell_type": "markdown",
   "metadata": {},
   "source": [
    "For more information on the format operator, \n",
    "see https://docs.python.org/3/library/stdtypes.html#printf-style-string-formatting. \n",
    "\n",
    "A more powerful alternative is\n",
    "the string format method, which you can read about at \n",
    "https://docs.python.org/3/library/stdtypes.html#str.format."
   ]
  },
  {
   "cell_type": "markdown",
   "metadata": {
    "jupyter": {
     "source_hidden": true
    },
    "tags": []
   },
   "source": [
    "```{admonition} Do It Yourself!\n",
    ":class: seealso, dropdown\n",
    "Create three variables: the first one will contain your name, the second one your age, and the third one your passion. Print a string that says 'My name is `name`. I am `age` years old. And my passion is `passion`.' Use the format operator to create this string.\n",
    "```"
   ]
  },
  {
   "cell_type": "code",
   "execution_count": null,
   "metadata": {
    "jupyter": {
     "source_hidden": true
    },
    "tags": []
   },
   "outputs": [],
   "source": [
    "# Remove this line and add your code here"
   ]
  },
  {
   "cell_type": "markdown",
   "metadata": {
    "slideshow": {
     "slide_type": "slide"
    }
   },
   "source": [
    "## Reading Word Lists\n",
    "\n",
    "In one of the next lectures, file manipulation will be discussed, however we need to have a list of words.\n",
    "\n",
    "This file is in plain text, so you can open it with a text editor, but you can also read it from Python. \n",
    "\n",
    "The built-in function `open` takes the name of the file as a parameter and returns a\n",
    "file **object** you can use to read the content of the file."
   ]
  },
  {
   "cell_type": "code",
   "execution_count": null,
   "metadata": {
    "slideshow": {
     "slide_type": "fragment"
    }
   },
   "outputs": [],
   "source": [
    "words = open('words.txt')"
   ]
  },
  {
   "cell_type": "markdown",
   "metadata": {
    "slideshow": {
     "slide_type": "fragment"
    }
   },
   "source": [
    "The `file` object provides several methods for reading, including **readline**, which reads characters from the `file` until it gets to a newline and returns the result as a string."
   ]
  },
  {
   "cell_type": "code",
   "execution_count": null,
   "metadata": {
    "slideshow": {
     "slide_type": "fragment"
    }
   },
   "outputs": [],
   "source": [
    "words.readline()"
   ]
  },
  {
   "cell_type": "markdown",
   "metadata": {
    "slideshow": {
     "slide_type": "fragment"
    }
   },
   "source": [
    "The character `\\n` represents whitespace character `newline`, that separate this word from the next.\n",
    "\n",
    "The `file` object keeps track of where it is in the file, so if you call `readline` again, you get the next word."
   ]
  },
  {
   "cell_type": "code",
   "execution_count": null,
   "metadata": {
    "slideshow": {
     "slide_type": "fragment"
    }
   },
   "outputs": [],
   "source": [
    "words.readline()"
   ]
  },
  {
   "cell_type": "markdown",
   "metadata": {
    "slideshow": {
     "slide_type": "fragment"
    }
   },
   "source": [
    "The next word is “aah”.\n",
    "\n",
    "The fact that every word that we read via `readline` is terminated by a whitespace is\n",
    "annoying and inconvenient. \n",
    "\n",
    "We can get rid of these whitespace characters with the string method `strip`."
   ]
  },
  {
   "cell_type": "code",
   "execution_count": null,
   "metadata": {
    "slideshow": {
     "slide_type": "fragment"
    }
   },
   "outputs": [],
   "source": [
    "line : str = words.readline()\n",
    "word : str = line.strip()\n",
    "word"
   ]
  },
  {
   "cell_type": "markdown",
   "metadata": {
    "slideshow": {
     "slide_type": "fragment"
    }
   },
   "source": [
    "You can also use a file object as part of a `for` loop. \n",
    "\n",
    "The following program reads `words.txt` and prints each word, one per line."
   ]
  },
  {
   "cell_type": "code",
   "execution_count": null,
   "metadata": {
    "slideshow": {
     "slide_type": "fragment"
    }
   },
   "outputs": [],
   "source": [
    "words = open('words.txt')\n",
    "for word in words:\n",
    "    s_word : str = word.strip()\n",
    "    print(s_word)"
   ]
  },
  {
   "cell_type": "markdown",
   "metadata": {
    "slideshow": {
     "slide_type": "slide"
    }
   },
   "source": [
    "## Simple Examples\n",
    "\n",
    "There are a number of exercises/examples in the book. \n",
    "\n",
    "The first is to print all words with a length greater than 20.\n",
    "\n",
    "A straightforward solution is to use a `for` loop to iterate over the list of words, of course we first need to read the file with words.\n",
    "\n",
    "In the body of the `for` loop there is a test on the length of the words, after stripping the whitespace."
   ]
  },
  {
   "cell_type": "code",
   "execution_count": null,
   "metadata": {
    "slideshow": {
     "slide_type": "fragment"
    }
   },
   "outputs": [],
   "source": [
    "words = open('words.txt')\n",
    "\n",
    "for word in words:\n",
    "    stripped_word : str = word.strip()\n",
    "    if len(stripped_word) > 20:\n",
    "        print(stripped_word)"
   ]
  },
  {
   "cell_type": "markdown",
   "metadata": {
    "slideshow": {
     "slide_type": "fragment"
    }
   },
   "source": [
    "The second example is on counting the number of words without an `'e'` character.\n",
    "\n",
    "Again we use a `for` loop, but now we need to keep a counter for counting the number of words without an `'e'` letter."
   ]
  },
  {
   "cell_type": "code",
   "execution_count": null,
   "metadata": {
    "slideshow": {
     "slide_type": "fragment"
    }
   },
   "outputs": [],
   "source": [
    "words = open('words.txt')\n",
    "\n",
    "no_e_count : int = 0\n",
    "\n",
    "for word in words:\n",
    "    \n",
    "    if not('e' in word):\n",
    "        no_e_count += 1\n",
    "\n",
    "print(no_e_count)"
   ]
  },
  {
   "cell_type": "markdown",
   "metadata": {
    "slideshow": {
     "slide_type": "fragment"
    }
   },
   "source": [
    "The third example is variation on the second one, we do not only count the number of words without an `'e'` character, but also *all* words in the file.\n",
    "\n",
    "For course, we could introduce a separate loop for counting the total number of words, but because we have to iterate anyway one `for` loop will be sufficient.\n",
    "\n",
    "We need to keep a counter for counting the number of words with an `'e'` letter and a counter for counting all words."
   ]
  },
  {
   "cell_type": "code",
   "execution_count": null,
   "metadata": {
    "slideshow": {
     "slide_type": "fragment"
    }
   },
   "outputs": [],
   "source": [
    "words = open('words.txt')\n",
    "\n",
    "count : int = 0\n",
    "no_e_count : int = 0\n",
    "\n",
    "for word in words:\n",
    "\n",
    "    count += 1\n",
    "    if not('e' in word):\n",
    "        no_e_count += 1\n",
    "\n",
    "print(count)\n",
    "print(no_e_count)\n",
    "\n",
    "print(\"Percentage is:\", int((no_e_count/count)*100))"
   ]
  },
  {
   "cell_type": "markdown",
   "metadata": {},
   "source": [
    "The fourth example is how via a simple check on can determine whether forbidden letters are used in a word."
   ]
  },
  {
   "cell_type": "code",
   "execution_count": null,
   "metadata": {},
   "outputs": [],
   "source": [
    "def avoids(word : str, forbidden : str) -> bool:\n",
    "    \"\"\"check whether the forbidden letters do not appear the word\"\"\"\n",
    "    for letter in forbidden:\n",
    "        if letter in word:\n",
    "            return False\n",
    "    return True\n",
    "\n",
    "avoids(\"foo\", \"abcf\")"
   ]
  },
  {
   "cell_type": "code",
   "execution_count": null,
   "metadata": {},
   "outputs": [],
   "source": [
    "forbidden_letters = input('> ')\n",
    "\n",
    "words = open('words.txt')\n",
    "\n",
    "count = 0\n",
    "for word in words:\n",
    "    if avoids(word, forbidden_letters):\n",
    "        count += 1\n",
    "\n",
    "print(count)"
   ]
  },
  {
   "cell_type": "code",
   "execution_count": null,
   "metadata": {},
   "outputs": [],
   "source": [
    "def uses_only(word : str, only : str) -> bool:\n",
    "    \"\"\"check whether the all letters in word appear in only\"\"\"\n",
    "    for letter in word:\n",
    "        if not letter in only:\n",
    "            return False\n",
    "    return True\n",
    "\n",
    "uses_only(\"foo\", \"fol\")"
   ]
  },
  {
   "cell_type": "markdown",
   "metadata": {},
   "source": [
    "## Frequent string related errors\n",
    "\n",
    "One of the most frequently occurring and most expensive errors are the **off-by-one** errors.\n",
    "\n",
    "When traversing a sequence (string) it turns out to be very hard to get the indices right.\n",
    "\n",
    "Consider the following function that tests whether one word is the reverse of the other.\n",
    "\n",
    "So, `stop` and `pots` are possible candidates.\n",
    "\n",
    "We are going to use a loop in combination with indices, note that a recursive solution is more *robust*."
   ]
  },
  {
   "cell_type": "code",
   "execution_count": null,
   "metadata": {
    "slideshow": {
     "slide_type": "fragment"
    }
   },
   "outputs": [],
   "source": [
    "def is_reverse(word1 : str, word2 :str) -> bool:\n",
    "    \"\"\"check whether the first argument is a reverse \n",
    "    of the second argument\n",
    "    \"\"\"\n",
    "    if len(word1) != len(word2):\n",
    "        return False\n",
    "    \n",
    "    i : int = 0\n",
    "    j : int = len(word2)\n",
    "    \n",
    "    while (j > 0):\n",
    "        if word1[i] != word2[j]:\n",
    "            return False\n",
    "        i += 1\n",
    "        j -= 1\n",
    "        \n",
    "    return True"
   ]
  },
  {
   "cell_type": "markdown",
   "metadata": {
    "slideshow": {
     "slide_type": "fragment"
    }
   },
   "source": [
    "First we check both words have the same length, if not, then the words cannot be the reverse of each other.\n",
    "\n",
    "Next we iterate over the both words, `word1` from the first character to  the end and `word2` starting for the end of the word to the beginning. \n",
    "\n",
    "We check per character whether they appear in both words."
   ]
  },
  {
   "cell_type": "code",
   "execution_count": null,
   "metadata": {
    "slideshow": {
     "slide_type": "fragment"
    }
   },
   "outputs": [],
   "source": [
    "is_reverse('pots', 'stop')"
   ]
  },
  {
   "cell_type": "markdown",
   "metadata": {
    "slideshow": {
     "slide_type": "fragment"
    }
   },
   "source": [
    "Adding a print statement when we enter the loop to see the values of `i` and `j` gives insight in what we did wrong. "
   ]
  },
  {
   "cell_type": "code",
   "execution_count": null,
   "metadata": {
    "slideshow": {
     "slide_type": "fragment"
    }
   },
   "outputs": [],
   "source": [
    "def is_reverse(word1 : str, word2 :str) -> bool:\n",
    "    \"\"\"check whether the first argument is a reverse of the second argument\n",
    "    \"\"\"\n",
    "    if len(word1) != len(word2):\n",
    "        return False\n",
    "    \n",
    "    i = 0\n",
    "    j = len(word2)\n",
    "    \n",
    "    while (j > 0):\n",
    "        print(i, j)\n",
    "        if word1[i] != word2[j]:\n",
    "            return False\n",
    "        i += 1\n",
    "        j -= 1\n",
    "        \n",
    "    return True\n",
    "\n",
    "is_reverse('stop', 'pots')"
   ]
  },
  {
   "cell_type": "markdown",
   "metadata": {
    "slideshow": {
     "slide_type": "fragment"
    }
   },
   "source": [
    "We did not initialized the variable `j` in a correct way. "
   ]
  },
  {
   "cell_type": "code",
   "execution_count": null,
   "metadata": {
    "slideshow": {
     "slide_type": "fragment"
    }
   },
   "outputs": [],
   "source": [
    "def is_reverse(word1 : str, word2 :str) -> bool:\n",
    "    \"\"\"check whether the first argument is a reverse of the second argument\n",
    "    \"\"\"\n",
    "    if len(word1) != len(word2):\n",
    "        return False\n",
    "    \n",
    "    i = 0\n",
    "    j = len(word2) - 1\n",
    "    \n",
    "    while (j >= 0):\n",
    "        print(i, j)\n",
    "        if word1[i] != word2[j]:\n",
    "            return False\n",
    "        i += 1\n",
    "        j -= 1\n",
    "        \n",
    "    return True\n",
    "\n",
    "is_reverse('stop', 'pots')"
   ]
  },
  {
   "cell_type": "code",
   "execution_count": null,
   "metadata": {
    "slideshow": {
     "slide_type": "fragment"
    }
   },
   "outputs": [],
   "source": [
    "is_reverse('stop', 'lots')"
   ]
  },
  {
   "cell_type": "markdown",
   "metadata": {
    "slideshow": {
     "slide_type": "fragment"
    }
   },
   "source": [
    "Is the `is_reverse` function now correct?\n",
    "\n",
    "What is the result of the following call and why?"
   ]
  }
 ],
 "metadata": {
  "kernelspec": {
   "display_name": "Python 3",
   "language": "python",
   "name": "python3"
  },
  "language_info": {
   "codemirror_mode": {
    "name": "ipython",
    "version": 3
   },
   "file_extension": ".py",
   "mimetype": "text/x-python",
   "name": "python",
   "nbconvert_exporter": "python",
   "pygments_lexer": "ipython3",
   "version": "3.8.8"
  }
 },
 "nbformat": 4,
 "nbformat_minor": 4
}
