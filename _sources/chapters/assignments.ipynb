{
 "cells": [
  {
   "cell_type": "markdown",
   "metadata": {
    "slideshow": {
     "slide_type": "slide"
    }
   },
   "source": [
    "# Variables, expressions and assignments [^intro]\n",
    "\n",
    "[^intro]: This Jupyter Notebook is based on Chapter 2 of the books Python for Everybody {cite}`Severance2016` and Think Python (Sections 5.1, 7.1, 7.2, and 5.12) {cite}`thinkPython`."
   ]
  },
  {
   "cell_type": "markdown",
   "metadata": {},
   "source": [
    "## Values and Types\n",
    "\n",
    "A **value** is the basic unit used in a program. It may be, for instance, a number respresenting temperature. It may be a string representing a word.\n",
    "\n",
    "Some values are 42, 42.0, and 'Hello, Data Scientists!'.\n",
    "\n",
    "Each value has its own **type**: 42 is an integer (`int` in Python), 42.0 is a floating-point number (`float` in Python), and 'Hello, Data Scientists!' is a string (`str` in Python).\n",
    "\n",
    "The interpreter can tell you the type of a value.\n",
    "\n",
    "The function `type` takes a value as argument and returns its corresponding type."
   ]
  },
  {
   "cell_type": "code",
   "execution_count": 1,
   "metadata": {},
   "outputs": [
    {
     "data": {
      "text/plain": [
       "int"
      ]
     },
     "execution_count": 1,
     "metadata": {},
     "output_type": "execute_result"
    }
   ],
   "source": [
    "type(42)"
   ]
  },
  {
   "cell_type": "code",
   "execution_count": 2,
   "metadata": {},
   "outputs": [
    {
     "data": {
      "text/plain": [
       "float"
      ]
     },
     "execution_count": 2,
     "metadata": {},
     "output_type": "execute_result"
    }
   ],
   "source": [
    "type(42.0)"
   ]
  },
  {
   "cell_type": "code",
   "execution_count": 3,
   "metadata": {},
   "outputs": [
    {
     "data": {
      "text/plain": [
       "str"
      ]
     },
     "execution_count": 3,
     "metadata": {},
     "output_type": "execute_result"
    }
   ],
   "source": [
    "type('Hello Data Scientists!')"
   ]
  },
  {
   "cell_type": "markdown",
   "metadata": {},
   "source": [
    "Observe the difference between `type(42)` and `type('42')`!"
   ]
  },
  {
   "cell_type": "code",
   "execution_count": 4,
   "metadata": {},
   "outputs": [
    {
     "data": {
      "text/plain": [
       "str"
      ]
     },
     "execution_count": 4,
     "metadata": {},
     "output_type": "execute_result"
    }
   ],
   "source": [
    "type('42')"
   ]
  },
  {
   "cell_type": "markdown",
   "metadata": {
    "slideshow": {
     "slide_type": "slide"
    }
   },
   "source": [
    "## Assignment Statements\n",
    "\n",
    "We have already seen that Python allows to evaluate expressions, for instance `40 + 2`. \n",
    "\n",
    "It is very convenient if we are able to store the calculated value in some variable\n",
    "for future use. \n",
    "\n",
    "An **assignment statement** creates a new variable and gives it a name.\n",
    "\n"
   ]
  },
  {
   "cell_type": "code",
   "execution_count": 5,
   "metadata": {
    "slideshow": {
     "slide_type": "fragment"
    }
   },
   "outputs": [],
   "source": [
    "magicnumber = 40 + 2    \n",
    "pi = 3.141592653589793  \n",
    "message = 'Data is eating the world'  "
   ]
  },
  {
   "cell_type": "code",
   "execution_count": 6,
   "metadata": {},
   "outputs": [
    {
     "name": "stdout",
     "output_type": "stream",
     "text": [
      "42\n"
     ]
    }
   ],
   "source": [
    "print(magicnumber)"
   ]
  },
  {
   "cell_type": "markdown",
   "metadata": {
    "slideshow": {
     "slide_type": "fragment"
    }
   },
   "source": [
    "The example in the previous box contains three assignments. The first assign the value of the expression `40+2` to a new variable called `magicnumber`, the second assigns the value of π to the variable `pi`, and the last assignment assigns a string to the variable `message`."
   ]
  },
  {
   "cell_type": "markdown",
   "metadata": {},
   "source": [
    "````{margin}\n",
    "```{admonition} EXTRA\n",
    "The type of the new variable is automatically derived from the expression in the left hand side. In contrast to other languages, Python does not offer a way of declaring the type of a variable explicitly. It may be good practice to add the types explicitly as comments.\n",
    "```\n",
    "````"
   ]
  },
  {
   "cell_type": "markdown",
   "metadata": {},
   "source": [
    "Programmers generally choose names for their variables that are meaningful—they document\n",
    "what the variable is used for."
   ]
  },
  {
   "cell_type": "code",
   "execution_count": null,
   "metadata": {
    "slideshow": {
     "slide_type": "fragment"
    }
   },
   "outputs": [],
   "source": [
    "magicnumber = 40 + 2   # An integer\n",
    "pi = 3.141592653589793 # A float\n",
    "message = 'Data is eating the world' # A string"
   ]
  },
  {
   "cell_type": "markdown",
   "metadata": {
    "jupyter": {
     "source_hidden": true
    },
    "tags": []
   },
   "source": [
    "```{admonition} Do It Yourself!\n",
    ":class: seealso, dropdown\n",
    "Let's compute the volume of a cube if side $s = 5$. Remember that the volume of a cube is defined as $v = s^3$. Assign the value to a variable called `volume`.\n",
    "```"
   ]
  },
  {
   "cell_type": "code",
   "execution_count": null,
   "metadata": {
    "jupyter": {
     "source_hidden": true
    },
    "tags": []
   },
   "outputs": [],
   "source": [
    "# Remove this line and add your code here"
   ]
  },
  {
   "cell_type": "markdown",
   "metadata": {
    "jupyter": {
     "source_hidden": true
    },
    "tags": []
   },
   "source": [
    "```{admonition} Do It Yourself!\n",
    ":class: seealso, dropdown\n",
    "Well done! Now, why don't you print the result in a message? It can say something like \"The volume of the cube of side 5 is $volume$\".\n",
    "```"
   ]
  },
  {
   "cell_type": "code",
   "execution_count": null,
   "metadata": {
    "jupyter": {
     "source_hidden": true
    },
    "tags": []
   },
   "outputs": [],
   "source": [
    "# Remove this line and add your code here"
   ]
  },
  {
   "cell_type": "markdown",
   "metadata": {
    "slideshow": {
     "slide_type": "fragment"
    }
   },
   "source": [
    "Beware that there is no checking of types (*type checking*) in Python, so a variable to which you have assigned an integer may be re-used as float."
   ]
  },
  {
   "cell_type": "code",
   "execution_count": 7,
   "metadata": {
    "slideshow": {
     "slide_type": "fragment"
    }
   },
   "outputs": [
    {
     "name": "stdout",
     "output_type": "stream",
     "text": [
      "<class 'int'>\n",
      "<class 'float'>\n",
      "<class 'str'>\n"
     ]
    }
   ],
   "source": [
    "magicnumber = 40 + 2 # An integer \n",
    "print(type(magicnumber))\n",
    "\n",
    "magicnumber = 3.141592653589793 # A float\n",
    "print(type(magicnumber))\n",
    "\n",
    "magicnumber = \"Hello\"\n",
    "print(type(magicnumber))"
   ]
  },
  {
   "cell_type": "markdown",
   "metadata": {
    "slideshow": {
     "slide_type": "slide"
    }
   },
   "source": [
    "## Variable Names and Keywords\n",
    "\n",
    "Variable names can be as long as you like. They can contain both letters and numbers, but\n",
    "they cannot begin with a number.\n",
    "\n",
    "The underscore character, `_`, can appear in a variable name. \n",
    "It is often used in names with multiple words, such as `your_name` or `data_science_student`.\n",
    "\n",
    "Some programmers prefer `doSomething`, others use `do_something`, and yet another group\n",
    "may use `dosomething`. It is important to be consistent in your naming convention, do not mix conventions, use the same naming convention for *variables* and *function names* (to be discuss later).\n",
    "\n",
    "If you use illegal variable names you will get a syntax error."
   ]
  },
  {
   "cell_type": "markdown",
   "metadata": {
    "slideshow": {
     "slide_type": "fragment"
    }
   },
   "source": [
    "````{margin}\n",
    "```{admonition} EXTRA\n",
    "If you are developing software in a team, which will be very likely in the future, it makes sense to agree upon a number of basic principles. One of them is the **naming convention** principle.\n",
    "```\n",
    "````"
   ]
  },
  {
   "cell_type": "markdown",
   "metadata": {},
   "source": [
    "\n",
    "These basic development principles are sometimes called **architectural rules**. \n",
    "By defining and agreeing upon architectural rules you make it easier for you and your fellow developers to understand and modify your code.\n",
    "\n",
    "If you want to read more on this, please have a look at **Code complete** a book by **Steven McConnell** {cite}`McConnell`."
   ]
  },
  {
   "cell_type": "code",
   "execution_count": 8,
   "metadata": {
    "slideshow": {
     "slide_type": "fragment"
    }
   },
   "outputs": [
    {
     "ename": "SyntaxError",
     "evalue": "invalid syntax (<ipython-input-8-c7fbac34145b>, line 1)",
     "output_type": "error",
     "traceback": [
      "\u001b[0;36m  File \u001b[0;32m\"<ipython-input-8-c7fbac34145b>\"\u001b[0;36m, line \u001b[0;32m1\u001b[0m\n\u001b[0;31m    99ballons = 'Nena'\u001b[0m\n\u001b[0m            ^\u001b[0m\n\u001b[0;31mSyntaxError\u001b[0m\u001b[0;31m:\u001b[0m invalid syntax\n"
     ]
    }
   ],
   "source": [
    "99ballons = 'Nena'"
   ]
  },
  {
   "cell_type": "code",
   "execution_count": 9,
   "metadata": {
    "slideshow": {
     "slide_type": "fragment"
    }
   },
   "outputs": [
    {
     "ename": "SyntaxError",
     "evalue": "invalid syntax (<ipython-input-9-e73d2939a15f>, line 1)",
     "output_type": "error",
     "traceback": [
      "\u001b[0;36m  File \u001b[0;32m\"<ipython-input-9-e73d2939a15f>\"\u001b[0;36m, line \u001b[0;32m1\u001b[0m\n\u001b[0;31m    largenr$ = 1000000\u001b[0m\n\u001b[0m           ^\u001b[0m\n\u001b[0;31mSyntaxError\u001b[0m\u001b[0;31m:\u001b[0m invalid syntax\n"
     ]
    }
   ],
   "source": [
    "largenr$ = 1000000"
   ]
  },
  {
   "cell_type": "markdown",
   "metadata": {
    "slideshow": {
     "slide_type": "slide"
    }
   },
   "source": [
    "You are not allowed to use Python **keywords** as variable names. \n",
    "Every programming language has a collection of reserved **keywords**. They are used\n",
    "in predefined language constructs, such as *loops* and *conditionals*.\n",
    "These language concepts and their usage will be explained later.\n",
    "\n",
    "The interpreter uses keywords to recognize these language constructs in a program.\n",
    "\n",
    "Python 3 has the following keywords:\n",
    "\n",
    "`False` `class` `finally` `is` `return` \n",
    "\n",
    "`None` `continue` `for` `lambda` `try` \n",
    "\n",
    "`True` `def` `from` `nonlocal` `while` \n",
    "\n",
    "`and` `del` `global` `not` `with` \n",
    "\n",
    "`as` `elif` `if` `or` `yield` \n",
    "\n",
    "`assert` `else` `import` `pass` `break`  \n",
    "\n",
    "`except` `in` `raise`\n"
   ]
  },
  {
   "cell_type": "code",
   "execution_count": 11,
   "metadata": {
    "slideshow": {
     "slide_type": "fragment"
    }
   },
   "outputs": [],
   "source": [
    "while_nr = 'loop'"
   ]
  },
  {
   "cell_type": "markdown",
   "metadata": {
    "slideshow": {
     "slide_type": "slide"
    }
   },
   "source": [
    "## Expressions and Statements\n",
    "\n",
    "An **expression** is a combination of values, variables, and operators. \n",
    "\n",
    "A value all by itself is considered an expression, and so is a variable."
   ]
  },
  {
   "cell_type": "code",
   "execution_count": 12,
   "metadata": {
    "slideshow": {
     "slide_type": "fragment"
    }
   },
   "outputs": [
    {
     "data": {
      "text/plain": [
       "42"
      ]
     },
     "execution_count": 12,
     "metadata": {},
     "output_type": "execute_result"
    }
   ],
   "source": [
    "42"
   ]
  },
  {
   "cell_type": "code",
   "execution_count": 13,
   "metadata": {
    "slideshow": {
     "slide_type": "fragment"
    }
   },
   "outputs": [
    {
     "data": {
      "text/plain": [
       "17"
      ]
     },
     "execution_count": 13,
     "metadata": {},
     "output_type": "execute_result"
    }
   ],
   "source": [
    "n = 17\n",
    "n"
   ]
  },
  {
   "cell_type": "code",
   "execution_count": 14,
   "metadata": {
    "slideshow": {
     "slide_type": "fragment"
    }
   },
   "outputs": [
    {
     "data": {
      "text/plain": [
       "52"
      ]
     },
     "execution_count": 14,
     "metadata": {},
     "output_type": "execute_result"
    }
   ],
   "source": [
    "m = 27\n",
    "m + 25"
   ]
  },
  {
   "cell_type": "code",
   "execution_count": 15,
   "metadata": {},
   "outputs": [
    {
     "data": {
      "text/plain": [
       "333"
      ]
     },
     "execution_count": 15,
     "metadata": {},
     "output_type": "execute_result"
    }
   ],
   "source": [
    "k = 9\n",
    "k * 37"
   ]
  },
  {
   "cell_type": "markdown",
   "metadata": {
    "slideshow": {
     "slide_type": "fragment"
    }
   },
   "source": [
    "When you type an expression at the prompt, the interpreter **evaluates** it, which means that\n",
    "it calculates the value of the expression and displays it. \n",
    "\n",
    "In boxes above, `m` has the value `27` and `n + 25` has the\n",
    "value `52`."
   ]
  },
  {
   "cell_type": "markdown",
   "metadata": {
    "slideshow": {
     "slide_type": "slide"
    }
   },
   "source": [
    "A **statement** is an instruction that has an effect, like creating a variable or displaying a value. "
   ]
  },
  {
   "cell_type": "code",
   "execution_count": 16,
   "metadata": {},
   "outputs": [],
   "source": [
    "n = 17"
   ]
  },
  {
   "cell_type": "code",
   "execution_count": 17,
   "metadata": {
    "slideshow": {
     "slide_type": "fragment"
    }
   },
   "outputs": [
    {
     "name": "stdout",
     "output_type": "stream",
     "text": [
      "17\n"
     ]
    }
   ],
   "source": [
    "print(n)"
   ]
  },
  {
   "cell_type": "markdown",
   "metadata": {
    "slideshow": {
     "slide_type": "fragment"
    }
   },
   "source": [
    "The first statement initialize the variable `n` with the value `17`, this is a so-called assignment statement. \n",
    "\n",
    "The second statement is a print statement and prints the value of the variable `n`.\n",
    "\n",
    "The effect is not always visible. Assigning a value to a variable is not visible, but printing the value of a variable is.\n",
    "\n",
    "Statements do not have values, but effects."
   ]
  },
  {
   "cell_type": "markdown",
   "metadata": {
    "slideshow": {
     "slide_type": "slide"
    }
   },
   "source": [
    "## Script Mode\n",
    "\n",
    "So far we have run Python in **interactive mode** in these Jupyter notebook, which means that you interact directly with the interpreter in the **code cells**.\n",
    "\n",
    "The interactive mode is a good way to get started, but if you are working\n",
    "with more than a few lines of code, it can be clumsy.\n",
    "\n",
    "The alternative is to save code in a file called a script and then run the interpreter in \n",
    "**script mode** to execute the script. \n",
    "\n",
    "By convention, Python scripts have names that end with `.py`.\n",
    "\n",
    "Use the **Spyder** icon in **Anaconda Navigator** to create and execute stand-alone Python scripts.\n",
    "\n",
    "Later in the course, you will have to work with Python projects for the assignments in order to get acquainted with another integrated development environment (PyCharm) for Python. "
   ]
  },
  {
   "cell_type": "markdown",
   "metadata": {
    "slideshow": {
     "slide_type": "slide"
    }
   },
   "source": [
    "## Order of Operations\n",
    "\n",
    "Expressions may contain multiple operators. \n",
    "\n",
    "The order of evaluation depends on the **priorities of the operators** also known as **rules of precedence**.\n",
    "\n",
    "For mathematical operators, Python follows mathematical\n",
    "convention. The acronym [PEMDAS](https://www.khanacademy.org/math/cc-sixth-grade-math/cc-6th-arithmetic-operations/cc-6th-order-of-operations/a/order-of-operations-review) is a useful way to remember the rules:\n",
    "\n",
    "+ **Parentheses** have the highest precedence and can be used to force an expression to evaluate in the order you want. Since expressions in parentheses are evaluated first, `2 * (3 - 1)` is `4`, and `(1 + 1)**(5 - 2)` is `8`. You can also use parentheses to make an expression easier to read, even if it does not change the result.\n",
    "+ **Exponentiation** has the next highest precedence, so `1 + 2**3` is `9`, not `27`, and `2 * 3**2` is `18`, not `36`.\n",
    "+ **Multiplication** and **Division** have higher precedence than **Addition** and **Subtraction**. So `2 * 3 - 1` is `5`, not `4`, and `6 + 4 / 2` is `8`, not `5`.\n",
    "+ Operators with the same precedence are evaluated from left to right (except exponentiation). So in the expression `degrees / 2 * pi`, the division happens first and the result is multiplied by `pi`. To divide by 2π, you can use parentheses or write: `degrees / 2 / pi`."
   ]
  },
  {
   "cell_type": "markdown",
   "metadata": {},
   "source": [
    "```{tip}\n",
    ":class: margin\n",
    "In case of doubt, *use parentheses!*\n",
    "```\n"
   ]
  },
  {
   "cell_type": "markdown",
   "metadata": {},
   "source": [
    "```{admonition} Do It Yourself!\n",
    ":class: seealso, dropdown\n",
    "Let's see what happens when we evaluate the previous expressions. Just run the cell to check the resulting value.\n",
    "```"
   ]
  },
  {
   "cell_type": "code",
   "execution_count": 18,
   "metadata": {},
   "outputs": [
    {
     "data": {
      "text/plain": [
       "4"
      ]
     },
     "execution_count": 18,
     "metadata": {},
     "output_type": "execute_result"
    }
   ],
   "source": [
    "# Parentheses 1\n",
    "2 * (3 - 1) "
   ]
  },
  {
   "cell_type": "code",
   "execution_count": 19,
   "metadata": {},
   "outputs": [
    {
     "data": {
      "text/plain": [
       "8"
      ]
     },
     "execution_count": 19,
     "metadata": {},
     "output_type": "execute_result"
    }
   ],
   "source": [
    "# Parentheses 2\n",
    "(1 + 1)**(5 - 2)"
   ]
  },
  {
   "cell_type": "code",
   "execution_count": 20,
   "metadata": {},
   "outputs": [
    {
     "data": {
      "text/plain": [
       "9"
      ]
     },
     "execution_count": 20,
     "metadata": {},
     "output_type": "execute_result"
    }
   ],
   "source": [
    "# Exponentiation 1\n",
    "1 + 2**3"
   ]
  },
  {
   "cell_type": "code",
   "execution_count": null,
   "metadata": {},
   "outputs": [],
   "source": [
    "# Exponentiation 2\n",
    "2 * 3**2"
   ]
  },
  {
   "cell_type": "code",
   "execution_count": null,
   "metadata": {},
   "outputs": [],
   "source": [
    "# MDAS 1\n",
    "2 * 3 - 1"
   ]
  },
  {
   "cell_type": "code",
   "execution_count": null,
   "metadata": {},
   "outputs": [],
   "source": [
    "# MDAS 2\n",
    "6 + 4 / 2"
   ]
  },
  {
   "cell_type": "code",
   "execution_count": null,
   "metadata": {},
   "outputs": [],
   "source": [
    "# Same precedence 1\n",
    "degrees = 180\n",
    "pi = 3.141592653589793\n",
    "degrees / 2 * pi"
   ]
  },
  {
   "cell_type": "code",
   "execution_count": null,
   "metadata": {},
   "outputs": [],
   "source": [
    "# Same precedence 2\n",
    "degrees / 2 / pi"
   ]
  },
  {
   "cell_type": "markdown",
   "metadata": {},
   "source": [
    "## Floor Division and Modulus Operator\n",
    "\n",
    "The floor division operator `//` divides two numbers and rounds down to an integer.\n",
    "\n",
    "For example, suppose that driving to the south of France takes 555 minutes.\n",
    "\n",
    "You might want to know how long that is in hours.\n",
    "\n",
    "Conventional division returns a floating-point number."
   ]
  },
  {
   "cell_type": "code",
   "execution_count": 21,
   "metadata": {},
   "outputs": [
    {
     "data": {
      "text/plain": [
       "9.25"
      ]
     },
     "execution_count": 21,
     "metadata": {},
     "output_type": "execute_result"
    }
   ],
   "source": [
    "minutes = 555\n",
    "minutes / 60"
   ]
  },
  {
   "cell_type": "markdown",
   "metadata": {},
   "source": [
    "Hours are normally not represented with decimal points. \n",
    "\n",
    "Floor division returns the integer number of hours, dropping the fraction part."
   ]
  },
  {
   "cell_type": "code",
   "execution_count": 22,
   "metadata": {},
   "outputs": [
    {
     "data": {
      "text/plain": [
       "9"
      ]
     },
     "execution_count": 22,
     "metadata": {},
     "output_type": "execute_result"
    }
   ],
   "source": [
    "minutes = 555\n",
    "hours = minutes // 60\n",
    "hours"
   ]
  },
  {
   "cell_type": "markdown",
   "metadata": {
    "jupyter": {
     "source_hidden": true
    },
    "tags": []
   },
   "source": [
    "```{admonition} Do It Yourself!\n",
    ":class: seealso, dropdown\n",
    "You spend around 225 minutes every week on programming activities. You want to know around how many hours you invest to this activity during a month. Use the $//$ operator to give the answer.\n",
    "```"
   ]
  },
  {
   "cell_type": "code",
   "execution_count": null,
   "metadata": {
    "jupyter": {
     "source_hidden": true
    },
    "tags": []
   },
   "outputs": [],
   "source": [
    "# Remove this line and add your code here"
   ]
  },
  {
   "cell_type": "markdown",
   "metadata": {},
   "source": [
    "The modulus operator `%` works on integer values. It computes the remainder when dividing the first integer by the second one. "
   ]
  },
  {
   "cell_type": "code",
   "execution_count": 23,
   "metadata": {},
   "outputs": [
    {
     "data": {
      "text/plain": [
       "15"
      ]
     },
     "execution_count": 23,
     "metadata": {},
     "output_type": "execute_result"
    }
   ],
   "source": [
    "remainder = minutes % 60\n",
    "remainder"
   ]
  },
  {
   "cell_type": "markdown",
   "metadata": {},
   "source": [
    "The modulus operator is more useful than it seems. \n",
    "\n",
    "For example, you can check whether one number is divisible by another—if `x % y` is zero, then `x` is divisible by `y`."
   ]
  },
  {
   "cell_type": "markdown",
   "metadata": {
    "jupyter": {
     "source_hidden": true
    },
    "tags": []
   },
   "source": [
    "```{admonition} Do It Yourself!\n",
    ":class: seealso, dropdown\n",
    "A child asks you the time. You check your digital clock and it says 17. The child does not understand what it means. Can you tell him what hour it is by using a number between 1 and 12? Use the % operator to solve this problem.\n",
    "```"
   ]
  },
  {
   "cell_type": "code",
   "execution_count": null,
   "metadata": {
    "jupyter": {
     "source_hidden": true
    },
    "tags": []
   },
   "outputs": [],
   "source": [
    "# Remove this line and add your code here"
   ]
  },
  {
   "cell_type": "markdown",
   "metadata": {
    "slideshow": {
     "slide_type": "slide"
    }
   },
   "source": [
    "## String Operations\n",
    "\n",
    "In general, you cannot perform mathematical operations on strings, even if the strings look like numbers, so the following operations are illegal: `'2'-'1'` `'eggs'/'easy'` `'third'*'a charm'`"
   ]
  },
  {
   "cell_type": "code",
   "execution_count": 24,
   "metadata": {
    "slideshow": {
     "slide_type": "fragment"
    }
   },
   "outputs": [
    {
     "ename": "TypeError",
     "evalue": "unsupported operand type(s) for -: 'str' and 'str'",
     "output_type": "error",
     "traceback": [
      "\u001b[0;31m---------------------------------------------------------------------------\u001b[0m",
      "\u001b[0;31mTypeError\u001b[0m                                 Traceback (most recent call last)",
      "\u001b[0;32m<ipython-input-24-c3c854adf3eb>\u001b[0m in \u001b[0;36m<module>\u001b[0;34m\u001b[0m\n\u001b[0;32m----> 1\u001b[0;31m \u001b[0;34m'2'\u001b[0m \u001b[0;34m-\u001b[0m \u001b[0;34m'1'\u001b[0m\u001b[0;34m\u001b[0m\u001b[0;34m\u001b[0m\u001b[0m\n\u001b[0m",
      "\u001b[0;31mTypeError\u001b[0m: unsupported operand type(s) for -: 'str' and 'str'"
     ]
    }
   ],
   "source": [
    "'2' - '1'"
   ]
  },
  {
   "cell_type": "markdown",
   "metadata": {
    "slideshow": {
     "slide_type": "fragment"
    }
   },
   "source": [
    "But there are two exceptions, `+` and `*`.\n",
    "\n",
    "The `+` operator performs string concatenation, which means it joins the strings by linking them end-to-end."
   ]
  },
  {
   "cell_type": "code",
   "execution_count": 27,
   "metadata": {
    "slideshow": {
     "slide_type": "fragment"
    }
   },
   "outputs": [
    {
     "data": {
      "text/plain": [
       "'data science'"
      ]
     },
     "execution_count": 27,
     "metadata": {},
     "output_type": "execute_result"
    }
   ],
   "source": [
    "first = 'data'\n",
    "second = ' '\n",
    "third = 'science'\n",
    "first + ((second) + third)"
   ]
  },
  {
   "cell_type": "markdown",
   "metadata": {
    "slideshow": {
     "slide_type": "fragment"
    }
   },
   "source": [
    "The `*` operator also works on strings; it performs repetition. "
   ]
  },
  {
   "cell_type": "code",
   "execution_count": 29,
   "metadata": {
    "slideshow": {
     "slide_type": "fragment"
    }
   },
   "outputs": [
    {
     "data": {
      "text/plain": [
       "'Data Data Data '"
      ]
     },
     "execution_count": 29,
     "metadata": {},
     "output_type": "execute_result"
    }
   ],
   "source": [
    "('Data' + ' ') * 3"
   ]
  },
  {
   "cell_type": "markdown",
   "metadata": {
    "jupyter": {
     "source_hidden": true
    },
    "tags": []
   },
   "source": [
    "```{admonition} Do It Yourself!\n",
    ":class: seealso, dropdown\n",
    "Speedy Gonzales is a cartoon known to be the <i>fastest mouse in all Mexico</i>. He is also famous for saying \"Arriba Arriba Andale Arriba Arriba Yepa\". Can you use the following variables, namely <i>arriba</i>, <i>andale</i> and <i>yepa</i> to print the mentioned expression? Don't forget to use the string operators.\n",
    "```"
   ]
  },
  {
   "cell_type": "code",
   "execution_count": null,
   "metadata": {
    "jupyter": {
     "source_hidden": true
    },
    "tags": []
   },
   "outputs": [],
   "source": [
    "arriba = \"Arriba\"\n",
    "andale = \"Andale\"\n",
    "yepa = \"Yepa\"\n",
    "\n",
    "# Remove this line and add your code here"
   ]
  },
  {
   "cell_type": "markdown",
   "metadata": {},
   "source": [
    "## Asking the User for Input\n",
    "\n",
    "The programs we have written so far accept no input from the user. \n",
    "\n",
    "To get data from the user through the Python prompt, we can use the built-in function `input`.\n",
    "\n",
    "When `input` is called your whole program stops and waits for the user to enter the required data. Once the user types the value and presses `Return` or `Enter`, the function returns the input value as a string and the program continues with its execution.\n",
    "\n",
    "Try it out!"
   ]
  },
  {
   "cell_type": "code",
   "execution_count": 30,
   "metadata": {},
   "outputs": [
    {
     "name": "stdout",
     "output_type": "stream",
     "text": [
      " 45\n"
     ]
    },
    {
     "data": {
      "text/plain": [
       "'454545'"
      ]
     },
     "execution_count": 30,
     "metadata": {},
     "output_type": "execute_result"
    }
   ],
   "source": [
    "inp = input()\n",
    "inp * 3"
   ]
  },
  {
   "cell_type": "markdown",
   "metadata": {},
   "source": [
    "You can also print a message to clarify the purpose of the required input as follows.  "
   ]
  },
  {
   "cell_type": "markdown",
   "metadata": {},
   "source": [
    "````{margin}\n",
    "```{admonition} EXTRA\n",
    "The sequence `\\n` at the end of the prompt represents a newline, which is a special character that causes a line break. That’s why the user’s input appears below the prompt.\n",
    "```\n",
    "````"
   ]
  },
  {
   "cell_type": "code",
   "execution_count": 31,
   "metadata": {},
   "outputs": [
    {
     "name": "stdout",
     "output_type": "stream",
     "text": [
      "What is your favourite food? \n",
      " Pizza\n",
      "I love Pizza\n"
     ]
    }
   ],
   "source": [
    "food = input('What is your favourite food? \\n')\n",
    "print('I love ' + food)"
   ]
  },
  {
   "cell_type": "markdown",
   "metadata": {},
   "source": [
    "The resulting string can be later translate as a different type, like an integer or a float. To do so, you use the functions `int()` and `float()`, respectively. But be careful, the user might introduce a value that cannot be converted to the type you required."
   ]
  },
  {
   "cell_type": "code",
   "execution_count": 32,
   "metadata": {},
   "outputs": [
    {
     "name": "stdout",
     "output_type": "stream",
     "text": [
      "What is your age?  59\n",
      "59\n",
      "59.0\n"
     ]
    }
   ],
   "source": [
    "age = input('What is your age? ')\n",
    "print(int(age))\n",
    "print(float(age))"
   ]
  },
  {
   "cell_type": "markdown",
   "metadata": {
    "jupyter": {
     "source_hidden": true
    },
    "tags": []
   },
   "source": [
    "```{admonition} Do It Yourself!\n",
    ":class: seealso, dropdown\n",
    "We want to know the name of a user so we can display a welcome message in our program. The message should say something like \"Hello $name$, welcome to our hello world program!\".\n",
    "```"
   ]
  },
  {
   "cell_type": "code",
   "execution_count": null,
   "metadata": {
    "jupyter": {
     "source_hidden": true
    },
    "tags": []
   },
   "outputs": [],
   "source": [
    "# Remove this line and add your code here"
   ]
  },
  {
   "cell_type": "markdown",
   "metadata": {
    "slideshow": {
     "slide_type": "slide"
    }
   },
   "source": [
    "## Comments\n",
    "\n",
    "A program is more than just a list of instructions to be executed.\n",
    "\n",
    "It is also a means of documenting your ideas and a means of communication to fellow software developers.\n",
    "So, it is very important to always add comments to your programs, how trivial they may seem. What is trivial today is complex tomorrow.\n",
    "\n",
    "It is, therefore, a good idea to add notes to your programs to explain in natural language\n",
    "what the program is doing.\n",
    "\n",
    "One challenge is not to write trivial comments, such as \"the value 1 is assigned to the variable x\".\n",
    "Such a comment is useless.\n",
    "\n",
    "Another challenge is to keep comments up to date, so if you change a program make sure the comments are still valid. It is a nightmare to maintain software with outdated comments.\n",
    "\n",
    "A Python comment starts with `#`, and extends to the end of the line.\n",
    "It is ignored during execution."
   ]
  },
  {
   "cell_type": "code",
   "execution_count": null,
   "metadata": {
    "slideshow": {
     "slide_type": "fragment"
    }
   },
   "outputs": [],
   "source": [
    "# This is a Python comment."
   ]
  },
  {
   "cell_type": "code",
   "execution_count": null,
   "metadata": {
    "slideshow": {
     "slide_type": "fragment"
    }
   },
   "outputs": [],
   "source": [
    "# compute the percentage of the hour that has elapsed\n",
    "minute = 10\n",
    "percentage = (minute * 100) / 60\n",
    "print(percentage)"
   ]
  },
  {
   "cell_type": "code",
   "execution_count": null,
   "metadata": {
    "slideshow": {
     "slide_type": "fragment"
    }
   },
   "outputs": [],
   "source": [
    "percentage = (minute * 100) / 60 # percentage of an hour"
   ]
  },
  {
   "cell_type": "markdown",
   "metadata": {
    "slideshow": {
     "slide_type": "fragment"
    }
   },
   "source": [
    "By choosing the right variables names you make the code self-documenting, what is better the variable `v` or `velocity`?"
   ]
  },
  {
   "cell_type": "code",
   "execution_count": null,
   "metadata": {
    "slideshow": {
     "slide_type": "fragment"
    }
   },
   "outputs": [],
   "source": [
    "velocity = 5 # in meters/second."
   ]
  },
  {
   "cell_type": "markdown",
   "metadata": {
    "slideshow": {
     "slide_type": "slide"
    }
   },
   "source": [
    "## Reassignments\n",
    "\n",
    "It is allowed to assign multiple times a value to a variable, a so-called **reassignment**. \n",
    "\n",
    "As soon as you assign a value to a variable, the old value is lost."
   ]
  },
  {
   "cell_type": "code",
   "execution_count": 33,
   "metadata": {
    "slideshow": {
     "slide_type": "fragment"
    }
   },
   "outputs": [
    {
     "name": "stdout",
     "output_type": "stream",
     "text": [
      "42\n",
      "43\n"
     ]
    }
   ],
   "source": [
    "x = 42\n",
    "print(x)\n",
    "\n",
    "x = 43\n",
    "print(x)"
   ]
  },
  {
   "cell_type": "markdown",
   "metadata": {
    "slideshow": {
     "slide_type": "fragment"
    }
   },
   "source": [
    "The assignment operator `=` has a different semantics than equality operator `==`.\n",
    "\n",
    "The assignment operator does not imply that two variables have refer to the same value.\n",
    "\n",
    "The assignment of a variable to another variable, for instance `b = a` does not imply that\n",
    "if `a` is reassigned then `b` changes as well."
   ]
  },
  {
   "cell_type": "code",
   "execution_count": 34,
   "metadata": {
    "slideshow": {
     "slide_type": "fragment"
    }
   },
   "outputs": [
    {
     "name": "stdout",
     "output_type": "stream",
     "text": [
      "a = 42\n",
      "b = 42\n",
      "43\n",
      "42\n"
     ]
    }
   ],
   "source": [
    "a = 42\n",
    "b = a # a and b have now the same value\n",
    "\n",
    "print('a =', a)\n",
    "print('b =', b)\n",
    "\n",
    "a = 43 # a and b are no longer equal\n",
    "\n",
    "print(a)\n",
    "print(b)"
   ]
  },
  {
   "cell_type": "markdown",
   "metadata": {
    "slideshow": {
     "slide_type": "fragment"
    }
   },
   "source": [
    "````{margin}\n",
    "```{admonition} EXTRA\n",
    "Reassigning variables is useful but one should take care. It may hinder understandability of the software.\n",
    "```\n",
    "````\n"
   ]
  },
  {
   "cell_type": "markdown",
   "metadata": {},
   "source": [
    "````{margin}\n",
    "```{admonition} EXTRA\n",
    "As pointed out earlier, the type of the reassigned value does not need to have the same type of the original value.\n",
    "```\n",
    "````"
   ]
  },
  {
   "cell_type": "markdown",
   "metadata": {
    "jupyter": {
     "source_hidden": true
    },
    "tags": []
   },
   "source": [
    "```{admonition} Do It Yourself!\n",
    ":class: seealso, dropdown\n",
    "You have a variable <i>salary</i> that shows the weekly salary of an employee. However, you want to compute the monthly salary. Can you reassign the value to the <i>salary</i> variable according to the instruction?\n",
    "```"
   ]
  },
  {
   "cell_type": "code",
   "execution_count": null,
   "metadata": {
    "jupyter": {
     "source_hidden": true
    },
    "tags": []
   },
   "outputs": [],
   "source": [
    "# Remove this line and add your code here"
   ]
  },
  {
   "cell_type": "markdown",
   "metadata": {
    "slideshow": {
     "slide_type": "slide"
    }
   },
   "source": [
    "## Updating Variables\n",
    "\n",
    "A frequently used reassignment is the **update**, the value of a variable depends on the previous value of the variable."
   ]
  },
  {
   "cell_type": "code",
   "execution_count": 35,
   "metadata": {
    "slideshow": {
     "slide_type": "fragment"
    }
   },
   "outputs": [
    {
     "name": "stdout",
     "output_type": "stream",
     "text": [
      "43\n",
      "44\n"
     ]
    }
   ],
   "source": [
    "print(x)\n",
    "x = x + 1\n",
    "\n",
    "print(x)"
   ]
  },
  {
   "cell_type": "markdown",
   "metadata": {
    "slideshow": {
     "slide_type": "fragment"
    }
   },
   "source": [
    "This statement expresses \"get the current value of `x`, add one, and then update `x` with the new value.”\n",
    "\n",
    "Beware, that variable should be initialized first."
   ]
  },
  {
   "cell_type": "code",
   "execution_count": 36,
   "metadata": {
    "slideshow": {
     "slide_type": "fragment"
    }
   },
   "outputs": [
    {
     "ename": "NameError",
     "evalue": "name 'y' is not defined",
     "output_type": "error",
     "traceback": [
      "\u001b[0;31m---------------------------------------------------------------------------\u001b[0m",
      "\u001b[0;31mNameError\u001b[0m                                 Traceback (most recent call last)",
      "\u001b[0;32m<ipython-input-36-2a153d9e185c>\u001b[0m in \u001b[0;36m<module>\u001b[0;34m\u001b[0m\n\u001b[0;32m----> 1\u001b[0;31m \u001b[0my\u001b[0m \u001b[0;34m=\u001b[0m \u001b[0my\u001b[0m \u001b[0;34m+\u001b[0m \u001b[0;36m1\u001b[0m\u001b[0;34m\u001b[0m\u001b[0;34m\u001b[0m\u001b[0m\n\u001b[0m\u001b[1;32m      2\u001b[0m \u001b[0mprint\u001b[0m\u001b[0;34m(\u001b[0m\u001b[0my\u001b[0m\u001b[0;34m)\u001b[0m\u001b[0;34m\u001b[0m\u001b[0;34m\u001b[0m\u001b[0m\n",
      "\u001b[0;31mNameError\u001b[0m: name 'y' is not defined"
     ]
    }
   ],
   "source": [
    "y = y + 1\n",
    "print(y)"
   ]
  },
  {
   "cell_type": "markdown",
   "metadata": {
    "slideshow": {
     "slide_type": "fragment"
    }
   },
   "source": [
    "Before you can update a variable, you have to initialize it, usually with a simple assignment."
   ]
  },
  {
   "cell_type": "markdown",
   "metadata": {},
   "source": [
    "````{margin}\n",
    "```{admonition} EXTRA\n",
    "It is a good practice whenever you *declare* a variable to initialize it and to add *comment* with the type of the variable.\n",
    "```\n",
    "````"
   ]
  },
  {
   "cell_type": "markdown",
   "metadata": {
    "jupyter": {
     "source_hidden": true
    },
    "tags": []
   },
   "source": [
    "```{admonition} Do It Yourself!\n",
    ":class: seealso, dropdown\n",
    "Do you remeber the salary excercise of the previous section (cf. 13. Reassignments)? Well, if you have not done it yet, update the <i>salary</i> variable by using its previous value.\n",
    "```"
   ]
  },
  {
   "cell_type": "code",
   "execution_count": null,
   "metadata": {
    "jupyter": {
     "source_hidden": true
    },
    "tags": []
   },
   "outputs": [],
   "source": [
    "# Remove this line and add your code here"
   ]
  },
  {
   "cell_type": "code",
   "execution_count": null,
   "metadata": {
    "slideshow": {
     "slide_type": "fragment"
    }
   },
   "outputs": [],
   "source": [
    "y = 0   # integer\n",
    "y = y + 1\n",
    "print(y)"
   ]
  },
  {
   "cell_type": "markdown",
   "metadata": {
    "slideshow": {
     "slide_type": "fragment"
    }
   },
   "source": [
    "Updating a variable by adding `1` is called an **increment**; subtracting `1` is called a **decrement**. A shorthand way of doing is using `+=` and `-=`, which stands for `x = x + ...` and `x = x - ...` respectively."
   ]
  },
  {
   "cell_type": "code",
   "execution_count": 38,
   "metadata": {},
   "outputs": [
    {
     "name": "stdout",
     "output_type": "stream",
     "text": [
      "100\n"
     ]
    }
   ],
   "source": [
    "z = 0    # integer\n",
    "z += 100\n",
    "print(z)"
   ]
  },
  {
   "cell_type": "code",
   "execution_count": 39,
   "metadata": {},
   "outputs": [
    {
     "name": "stdout",
     "output_type": "stream",
     "text": [
      "99\n"
     ]
    }
   ],
   "source": [
    "z -= 1\n",
    "print(z)"
   ]
  },
  {
   "cell_type": "markdown",
   "metadata": {},
   "source": [
    "<div class=\"alert alert-block alert-warning\"><b>Gijs:</b> So up here you use the shorthand for x = x + ... and x = x - ... but do not formally introduce them. I have added some text above which IMO should be enough, but let me know what you think</div>"
   ]
  }
 ],
 "metadata": {
  "anaconda-cloud": {},
  "kernelspec": {
   "display_name": "Python 3 (ipykernel)",
   "language": "python",
   "name": "python3"
  },
  "language_info": {
   "codemirror_mode": {
    "name": "ipython",
    "version": 3
   },
   "file_extension": ".py",
   "mimetype": "text/x-python",
   "name": "python",
   "nbconvert_exporter": "python",
   "pygments_lexer": "ipython3",
   "version": "3.8.13"
  }
 },
 "nbformat": 4,
 "nbformat_minor": 4
}
