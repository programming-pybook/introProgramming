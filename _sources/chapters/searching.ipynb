{
 "cells": [
  {
   "cell_type": "markdown",
   "metadata": {
    "slideshow": {
     "slide_type": "slide"
    }
   },
   "source": [
    "#  Searching [^intro]\n",
    "\n",
    "[^intro]: This Jupyter Notebook is based on external content related to algorithms (e.g. searching and sorting)."
   ]
  },
  {
   "cell_type": "markdown",
   "metadata": {
    "slideshow": {
     "slide_type": "slide"
    }
   },
   "source": [
    "## Searching for Two Largest Values in a List\n",
    "\n",
    "Based on Chapter 11 of the book *Practical Programming* by P. Gries, J. Campbell, and J. Montojo.\n",
    "\n",
    "Suppose we have the following list of data, for instance representing the number of seals treated in the Sealcentre in Pieterburen (NL).\n",
    "\n",
    "334 468 549 836 660 389 308 392 520 271\n",
    "\n",
    "The first number, 334, represents the number of seals treated in 2009 and the last number, 271, the number of seals treated in 2018.\n",
    "\n",
    "We start with a simpler problem, what is the highest number, and we can use the `list.index` to find the corresponding index."
   ]
  },
  {
   "cell_type": "code",
   "execution_count": null,
   "metadata": {
    "slideshow": {
     "slide_type": "fragment"
    }
   },
   "outputs": [],
   "source": [
    "counts = [334, 468, 549, 836, 660, 389, 308, 392, 520, 271]\n",
    "high = max(counts)\n",
    "counts.index(high)"
   ]
  },
  {
   "cell_type": "markdown",
   "metadata": {
    "slideshow": {
     "slide_type": "fragment"
    }
   },
   "source": [
    "Or, more concise:\n"
   ]
  },
  {
   "cell_type": "code",
   "execution_count": null,
   "metadata": {
    "slideshow": {
     "slide_type": "fragment"
    }
   },
   "outputs": [],
   "source": [
    "counts = [334, 468, 549, 836, 660, 389, 308, 392, 520, 271]\n",
    "counts.index(max(counts))"
   ]
  },
  {
   "cell_type": "markdown",
   "metadata": {
    "slideshow": {
     "slide_type": "fragment"
    }
   },
   "source": [
    "Now, suppose we want to find the indexes of the 2 highest amounts. There is no direct method to do so.\n",
    "\n",
    "We will present three alternative algorithms:\n",
    "1. *Find, remove, find*: first find the index for highest amount, remove highest amount and then look for the index of the next highest amount. Insert the highest amount back, and adapt the second index if needed.\n",
    "2. *Sort*: copy the list, and sort, and use the two highest amounts to find the corresponding indices in the original list.\n",
    "3. *Walk through the list* and keep track of the two highest amounts found so far, update if a higher amount is found.\n",
    "\n",
    "The ultimate question is of course which *one is the fastest solution*?"
   ]
  },
  {
   "cell_type": "markdown",
   "metadata": {
    "slideshow": {
     "slide_type": "slide"
    }
   },
   "source": [
    "### Find, Remove, Find"
   ]
  },
  {
   "cell_type": "code",
   "execution_count": null,
   "metadata": {
    "slideshow": {
     "slide_type": "fragment"
    }
   },
   "outputs": [],
   "source": [
    "from typing import List, Tuple\n",
    "\n",
    "def find_two_highest_remove(amounts : List[int]) -> Tuple[int, int]:\n",
    "    \"\"\"Return a tuple of the indices of the two highest values in list amounts.\n",
    "    >>> seals = [334, 468, 549, 836, 660, 389, 308, 392, 520, 271]\n",
    "    >>> find_two_highest_remove(seals)\n",
    "    (3, 4)\n",
    "    >>> seals == [334, 468, 549, 836, 660, 389, 308, 392, 520, 271]\n",
    "    True\n",
    "    \"\"\"\n",
    "    # Find the index of the maximum in seals\n",
    "    # Remove that item form the list\n",
    "    # Find the index of the new maximum in the list\n",
    "    # Put the highest item back in the list\n",
    "    # If necessary, adjust the second index\n",
    "    # Return the two indices"
   ]
  },
  {
   "cell_type": "markdown",
   "metadata": {
    "slideshow": {
     "slide_type": "fragment"
    }
   },
   "source": [
    "As we have seen `max` and `list.index` do the for finding the index of the highest amount."
   ]
  },
  {
   "cell_type": "code",
   "execution_count": null,
   "metadata": {
    "slideshow": {
     "slide_type": "fragment"
    }
   },
   "outputs": [],
   "source": [
    "from typing import List, Tuple\n",
    "\n",
    "def find_two_highest_remove(amounts : List[int]) -> Tuple[int, int]:\n",
    "    \"\"\"Return a tuple of the indices of the two highest values in list amounts.\n",
    "    >>> seals = [334, 468, 549, 836, 660, 389, 308, 392, 520, 271]\n",
    "    >>> find_two_highest_remove(seals)\n",
    "    (3, 4)\n",
    "    >>> seals == [334, 468, 549, 836, 660, 389, 308, 392, 520, 271]\n",
    "    True\n",
    "    \"\"\"\n",
    "    # Find the index of the maximum in seals\n",
    "    highest : int = max(amounts)\n",
    "    high_index1 : int = amounts.index(highest)\n",
    "    # Remove that item form the list\n",
    "    amounts.remove(highest)\n",
    "#    print(high_index1)\n",
    "    \n",
    "    # Find the index of the new maximum in the list\n",
    "    next_highest : int = max(amounts)\n",
    "    high_index2 : int = amounts.index(next_highest)\n",
    "#    print(high_index2)\n",
    "    \n",
    "    # Put the highest item back in the list\n",
    "    # If necessary, adjust the second index\n",
    "    # Return the two indices\n",
    "    \n",
    "find_two_highest_remove([334, 468, 549, 836, 660, 389, 308, 392, 520, 271])"
   ]
  },
  {
   "cell_type": "markdown",
   "metadata": {
    "slideshow": {
     "slide_type": "fragment"
    }
   },
   "source": [
    "Since we removed the highest amount, we have to put it back and if necessary adapt the index of the second-highest amount, if the highest amount was before the second-highest amount in the list."
   ]
  },
  {
   "cell_type": "code",
   "execution_count": null,
   "metadata": {
    "slideshow": {
     "slide_type": "fragment"
    }
   },
   "outputs": [],
   "source": [
    "from typing import List, Tuple\n",
    "\n",
    "def find_two_highest_remove(amounts : List[int]) -> Tuple[int, int]:\n",
    "    \"\"\"Return a tuple of the indices of the two highest values in list amounts.\n",
    "    >>> seals = [334, 468, 549, 836, 660, 389, 308, 392, 520, 271]\n",
    "    >>> find_two_highest_remove(seals)\n",
    "    (3, 4)\n",
    "    >>> seals == [334, 468, 549, 836, 660, 389, 308, 392, 520, 271]\n",
    "    True\n",
    "    \"\"\"\n",
    "    # Find the index of the maximum in seals\n",
    "    highest : int = max(amounts)\n",
    "    high_index1 : int = amounts.index(highest)\n",
    "    # Remove that item form the list\n",
    "    amounts.remove(highest)\n",
    "    \n",
    "    # Find the index of the new maximum in the list\n",
    "    next_highest : int = max(amounts)\n",
    "    high_index2 : int = amounts.index(next_highest)\n",
    "    \n",
    "    # Put the highest item back in the list\n",
    "    amounts.insert(high_index1, highest)\n",
    "    \n",
    "    # If necessary, adjust the second index\n",
    "    if high_index1 <= high_index2:\n",
    "        high_index2 += 1\n",
    "        \n",
    "    # Return the two indices\n",
    "    return (high_index1, high_index2)\n",
    "\n",
    "find_two_highest_remove([334, 468, 549, 836, 660, 389, 308, 392, 520, 271])"
   ]
  },
  {
   "cell_type": "code",
   "execution_count": null,
   "metadata": {},
   "outputs": [],
   "source": [
    "import doctest\n",
    "doctest.testmod(verbose=True)  # with details"
   ]
  },
  {
   "cell_type": "markdown",
   "metadata": {
    "jupyter": {
     "source_hidden": true
    },
    "tags": []
   },
   "source": [
    "```{admonition} Do It Yourself!\n",
    ":class: seealso, dropdown\n",
    "Create the function <i>find_two_lowest_remove</i>, which finds the indexes of the 2 lowest numbers of a list of integers received as parameter. Use the <b>find, remove, find</b> algorithm to compute the expected output. \n",
    "```"
   ]
  },
  {
   "cell_type": "code",
   "execution_count": null,
   "metadata": {
    "jupyter": {
     "source_hidden": true
    },
    "tags": []
   },
   "outputs": [],
   "source": [
    "# Remove this line and add your code here"
   ]
  },
  {
   "cell_type": "markdown",
   "metadata": {
    "slideshow": {
     "slide_type": "slide"
    }
   },
   "source": [
    "### Sort\n",
    "\n",
    "In the next cell you will find the refined algorithm based on sorting."
   ]
  },
  {
   "cell_type": "code",
   "execution_count": null,
   "metadata": {
    "slideshow": {
     "slide_type": "fragment"
    }
   },
   "outputs": [],
   "source": [
    "from typing import List, Tuple\n",
    "\n",
    "def find_two_highest_sort(amounts : List[int]) -> Tuple[int, int]:\n",
    "    \"\"\"Return a tuple of the indices of the two highest values in list amounts.\n",
    "    >>> seals = [334, 468, 549, 836, 660, 389, 308, 392, 520, 271]\n",
    "    >>> find_two_highest_sort(seals)\n",
    "    (3, 4)\n",
    "    >>> seals == [334, 468, 549, 836, 660, 389, 308, 392, 520, 271]\n",
    "    True\n",
    "    \"\"\"\n",
    "    # Sort a copy of amounts\n",
    "    # Get the two highest values\n",
    "    # Find their indices in the original list\n",
    "    # Return the two indices"
   ]
  },
  {
   "cell_type": "markdown",
   "metadata": {
    "slideshow": {
     "slide_type": "fragment"
    }
   },
   "source": [
    "We have to refine the sorting and obtaining the index. Note that we sort the list in reverse order!"
   ]
  },
  {
   "cell_type": "code",
   "execution_count": null,
   "metadata": {
    "slideshow": {
     "slide_type": "fragment"
    }
   },
   "outputs": [],
   "source": [
    "from typing import List, Tuple\n",
    "\n",
    "def find_two_highest_sort(amounts : List[int]) -> Tuple[int, int]:\n",
    "    \"\"\"Return a tuple of the indices of the two highest values in list amounts.\n",
    "    >>> seals = [334, 468, 549, 836, 660, 389, 308, 392, 520, 271]\n",
    "    >>> find_two_highest_sort(seals)\n",
    "    (3, 4)\n",
    "    >>> seals == [334, 468, 549, 836, 660, 389, 308, 392, 520, 271]\n",
    "    True\n",
    "    \"\"\"\n",
    "    # Sort a copy of amounts\n",
    "    temp_amounts : List[int] = sorted(amounts, reverse = True)\n",
    "    print(temp_amounts)\n",
    "    # Get the two highest values\n",
    "    highest : int = temp_amounts[0]\n",
    "    next_highest : int = temp_amounts[1]\n",
    "    print(highest)\n",
    "    print(next_highest)\n",
    "    \n",
    "    # Find their indices in the original list\n",
    "    # Return the two indices\n",
    "    \n",
    "find_two_highest_sort([334, 468, 549, 836, 660, 389, 308, 392, 520, 271])"
   ]
  },
  {
   "cell_type": "markdown",
   "metadata": {
    "slideshow": {
     "slide_type": "fragment"
    }
   },
   "source": [
    "We need to find the indices for both values in the original list."
   ]
  },
  {
   "cell_type": "code",
   "execution_count": null,
   "metadata": {
    "slideshow": {
     "slide_type": "fragment"
    }
   },
   "outputs": [],
   "source": [
    "from typing import List, Tuple\n",
    "\n",
    "def find_two_highest_sort(amounts : List[int]) -> Tuple[int, int]:\n",
    "    \"\"\"Return a tuple of the indices of the two highest values in list amounts.\n",
    "    >>> seals = [334, 468, 549, 836, 660, 389, 308, 392, 520, 271]\n",
    "    >>> find_two_highest_sort(seals)\n",
    "    (3, 4)\n",
    "    >>> seals == [334, 468, 549, 836, 660, 389, 308, 392, 520, 271]\n",
    "    True\n",
    "    \"\"\"\n",
    "    # Sort a copy of amounts\n",
    "    temp_amounts : List[int] = sorted(amounts, reverse = True)\n",
    "\n",
    "    # Get the two highest values\n",
    "    highest : int = temp_amounts[0]\n",
    "    next_highest : int = temp_amounts[1]\n",
    "    \n",
    "    # Find their indices in the original list\n",
    "    high_index1 : int = amounts.index(highest)\n",
    "    high_index2 : int = amounts.index(next_highest)\n",
    "    \n",
    "    # Return the two indices\n",
    "    return (high_index1, high_index2)\n",
    "\n",
    "find_two_highest_sort([334, 468, 549, 836, 660, 389, 308, 392, 520, 271])"
   ]
  },
  {
   "cell_type": "code",
   "execution_count": null,
   "metadata": {
    "slideshow": {
     "slide_type": "fragment"
    }
   },
   "outputs": [],
   "source": [
    "doctest.testmod(verbose=True)  # with details"
   ]
  },
  {
   "cell_type": "markdown",
   "metadata": {
    "jupyter": {
     "source_hidden": true
    },
    "tags": []
   },
   "source": [
    "```{admonition} Do It Yourself!\n",
    ":class: seealso, dropdown\n",
    "Create the function <i>find_two_lowest_sort</i>, which finds the indexes of the 2 lowest numbers of a list of integers received as parameter. Use the <b>sort</b> algorithm to compute the expected output. \n",
    "```"
   ]
  },
  {
   "cell_type": "code",
   "execution_count": null,
   "metadata": {
    "jupyter": {
     "source_hidden": true
    },
    "tags": []
   },
   "outputs": [],
   "source": [
    "# Remove this line and add your code here"
   ]
  },
  {
   "cell_type": "markdown",
   "metadata": {
    "slideshow": {
     "slide_type": "slide"
    }
   },
   "source": [
    "### Walk through the list\n",
    "\n",
    "In the next cell you will find the refined algorithm where walk over the list to find the highest two values."
   ]
  },
  {
   "cell_type": "code",
   "execution_count": null,
   "metadata": {
    "slideshow": {
     "slide_type": "fragment"
    }
   },
   "outputs": [],
   "source": [
    "from typing import List, Tuple\n",
    "\n",
    "def find_two_highest_walk(amounts : List[int]) -> Tuple[int, int]:\n",
    "    \"\"\"Return a tuple of the indices of the two highest values in list amounts.\n",
    "    >>> seals = [334, 468, 549, 836, 660, 389, 308, 392, 520, 271]\n",
    "    >>> find_two_highest_walk(seals)\n",
    "    (3, 4)\n",
    "    >>> seals == [334, 468, 549, 836, 660, 389, 308, 392, 520, 271]\n",
    "    True\n",
    "    \"\"\"\n",
    "\n",
    "    # Examine each value in the list in order\n",
    "    # Keep track of the indices of the two highest values found so far\n",
    "    # Update the indices when a new higher value is found\n",
    "    # Return the two indices"
   ]
  },
  {
   "cell_type": "markdown",
   "metadata": {},
   "source": [
    "We start with swapping the first and second line of the refinement steps. Furthermore, the updating of the indices is a step in the loop."
   ]
  },
  {
   "cell_type": "code",
   "execution_count": null,
   "metadata": {
    "slideshow": {
     "slide_type": "fragment"
    }
   },
   "outputs": [],
   "source": [
    "from typing import List, Tuple\n",
    "\n",
    "def find_two_highest_walk(amounts : List[int]) -> Tuple[int, int]:\n",
    "    \"\"\"Return a tuple of the indices of the tow highest values in list amounts.\n",
    "    >>> seals = [334, 468, 549, 836, 660, 389, 308, 392, 520, 271]\n",
    "    >>> find_two_highest_walk(seals)\n",
    "    (3, 4)\n",
    "    >>> seals == [334, 468, 549, 836, 660, 389, 308, 392, 520, 271]\n",
    "    True\n",
    "    \"\"\"\n",
    "\n",
    "    # Keep track of the indices of the two highest values found so far\n",
    "    # Examine each value in the list in order\n",
    "    #     Update the indices when a new higher value is found\n",
    "    # Return the two indices "
   ]
  },
  {
   "cell_type": "code",
   "execution_count": null,
   "metadata": {
    "slideshow": {
     "slide_type": "fragment"
    }
   },
   "outputs": [],
   "source": [
    "from typing import List, Tuple\n",
    "\n",
    "def find_two_highest_walk(amounts : List[int]) -> Tuple[int, int]:\n",
    "    \"\"\"Return a tuple of the indices of the tow highest values in list amounts.\n",
    "    >>> seals = [334, 468, 549, 836, 660, 389, 308, 392, 520, 271]\n",
    "    >>> find_two_highest_walk(seals)\n",
    "    (3, 4)\n",
    "    >>> seals == [334, 468, 549, 836, 660, 389, 308, 392, 520, 271]\n",
    "    True\n",
    "    \"\"\"\n",
    "\n",
    "    # Keep track of the indices of the two highest values found so far\n",
    "    if amounts[0] > amounts[1]:\n",
    "        high_index1, high_index2 = 0, 1\n",
    "    else:\n",
    "        high_index1, high_index2 = 1, 0\n",
    "        \n",
    "    # Examine each value in the list in order\n",
    "    #     Update the indices when a new higher value is found\n",
    "    # Return the two indices "
   ]
  },
  {
   "cell_type": "markdown",
   "metadata": {},
   "source": [
    "We will now use a for loop over the indices, because we are interested in the indices and not in the values themselves.\n",
    "\n",
    "There are alternative solutions, like using a while loop or a for loop to iterate over the values."
   ]
  },
  {
   "cell_type": "code",
   "execution_count": null,
   "metadata": {
    "slideshow": {
     "slide_type": "fragment"
    }
   },
   "outputs": [],
   "source": [
    "from typing import List, Tuple\n",
    "\n",
    "def find_two_highest_walk(amounts : List[int]) -> Tuple[int, int]:\n",
    "    \"\"\"Return a tuple of the indices of the tow highest values in list amounts.\n",
    "    >>> seals = [334, 468, 549, 836, 660, 389, 308, 392, 520, 271]\n",
    "    >>> find_two_highest_walk(seals)\n",
    "    (3, 4)\n",
    "    >>> seals == [334, 468, 549, 836, 660, 389, 308, 392, 520, 271]\n",
    "    True\n",
    "    \"\"\"\n",
    "\n",
    "    # Keep track of the indices of the two highest values found so far\n",
    "    if amounts[0] > amounts[1]:\n",
    "        high_index1, high_index2 = 0, 1\n",
    "    else:\n",
    "        high_index1, high_index2 = 1, 0\n",
    "        \n",
    "    # Examine each value in the list in order\n",
    "    for i in range(2, len(amounts)):\n",
    "    #     Update the indices when a new higher value is found\n",
    "    # Return the two indices   "
   ]
  },
  {
   "cell_type": "markdown",
   "metadata": {
    "slideshow": {
     "slide_type": "fragment"
    }
   },
   "source": [
    "We need to update the indices if the value at the current index is higher than one of the current values.\n",
    "\n",
    "1. We have to update both indices if the value at the current index is higher than the highest values seen so far. In this case both indices have to be updated\n",
    "2. The value at the current index is between the both highest values seen so far. Only the index of the lowest highest values has to be updated.\n",
    "3. The value at the current index is lower than the highest values seen so far. Nothing needs to be done."
   ]
  },
  {
   "cell_type": "code",
   "execution_count": null,
   "metadata": {
    "slideshow": {
     "slide_type": "fragment"
    }
   },
   "outputs": [],
   "source": [
    "from typing import List, Tuple\n",
    "\n",
    "def find_two_highest_walk(amounts : List[int]) -> Tuple[int, int]:\n",
    "    \"\"\"Return a tuple of the indices of the tow highest values in list amounts.\n",
    "    >>> seals = [334, 468, 549, 836, 660, 389, 308, 392, 520, 271]\n",
    "    >>> find_two_highest_walk(seals)\n",
    "    (3, 4)\n",
    "    >>> seals == [334, 468, 549, 836, 660, 389, 308, 392, 520, 271]\n",
    "    True\n",
    "    \"\"\"\n",
    "\n",
    "    # Keep track of the indices of the two highest values found so far\n",
    "    if amounts[0] > amounts[1]:\n",
    "        high_index1, high_index2 = 0, 1\n",
    "    else:\n",
    "        high_index1, high_index2 = 1, 0\n",
    "        \n",
    "    # Examine each value in the list in order\n",
    "    for i in range(2, len(amounts)):\n",
    "    #     Update the indices when a new higher value is found\n",
    "        if amounts[i] > amounts[high_index1]:\n",
    "            high_index2 = high_index1\n",
    "            high_index1 = i\n",
    "        elif amounts[i] > amounts[high_index2]:\n",
    "            high_index2 = i\n",
    "        \n",
    "    # Return the two indices \n",
    "    return (high_index1, high_index2)\n",
    "\n",
    "find_two_highest_walk([334, 468, 549, 836, 660, 389, 308, 392, 520, 271])"
   ]
  },
  {
   "cell_type": "code",
   "execution_count": null,
   "metadata": {
    "slideshow": {
     "slide_type": "fragment"
    }
   },
   "outputs": [],
   "source": [
    "doctest.testmod(verbose=True)  # with details"
   ]
  },
  {
   "cell_type": "markdown",
   "metadata": {
    "jupyter": {
     "source_hidden": true
    },
    "tags": []
   },
   "source": [
    "```{admonition} Do It Yourself!\n",
    ":class: seealso, dropdown\n",
    "Create the function <i>find_two_lowest_walk</i>, which finds the indexes of the 2 lowest numbers of a list of integers received as parameter. Use the <b>walk through the list</b> algorithm to compute the expected output. \n",
    "```"
   ]
  },
  {
   "cell_type": "code",
   "execution_count": null,
   "metadata": {
    "jupyter": {
     "source_hidden": true
    },
    "tags": []
   },
   "outputs": [],
   "source": [
    "# Remove this line and add your code here"
   ]
  },
  {
   "cell_type": "markdown",
   "metadata": {},
   "source": [
    "## Timing the Functions\n",
    "\n",
    "First we are going to generate a huge list of arbitrary unique numbers."
   ]
  },
  {
   "cell_type": "code",
   "execution_count": null,
   "metadata": {},
   "outputs": [],
   "source": [
    "import random\n",
    "from typing import List\n",
    "\n",
    "i : int = 0\n",
    "rdlst : List[int] = []\n",
    "    \n",
    "while i < 80000:\n",
    "    rdnr : int = random.randint(0,1000000)\n",
    "    if rdnr not in rdlst:\n",
    "        rdlst = rdlst + [rdnr]\n",
    "    i += 1\n",
    "    \n",
    "#print(rdlst)"
   ]
  },
  {
   "cell_type": "markdown",
   "metadata": {},
   "source": [
    "Via profiling you get insight in the efficiency of your code."
   ]
  },
  {
   "cell_type": "code",
   "execution_count": null,
   "metadata": {},
   "outputs": [],
   "source": [
    "import time\n",
    "\n",
    "t1 = time.perf_counter()\n",
    "#find_two_highest_remove([334, 468, 549, 836, 660, 389, 308, 392, 520, 271])\n",
    "find_two_highest_remove(rdlst)\n",
    "t2 = time.perf_counter()\n",
    "print(\"The remove code took {:.2f}ms\".format((t2 - t1) * 1000))\n",
    "\n",
    "t1 = time.perf_counter()\n",
    "#find_two_highest_sort([334, 468, 549, 836, 660, 389, 308, 392, 520, 271])\n",
    "find_two_highest_sort(rdlst)\n",
    "t2 = time.perf_counter()\n",
    "print(\"The sort code took {:.2f}ms\".format((t2 - t1) * 1000))\n",
    "\n",
    "t1 = time.perf_counter()\n",
    "#find_two_highest_walk([334, 468, 549, 836, 660, 389, 308, 392, 520, 271])\n",
    "find_two_highest_walk(rdlst)\n",
    "t2 = time.perf_counter()\n",
    "print(\"The walk code took {:.2f}ms\".format((t2 - t1) * 1000))"
   ]
  },
  {
   "cell_type": "markdown",
   "metadata": {
    "jupyter": {
     "source_hidden": true
    },
    "tags": []
   },
   "source": [
    "```{admonition} Do It Yourself!\n",
    ":class: seealso, dropdown\n",
    "Report the time taken by each of the three functions to return the indices of the lowest numbers of the list of integers.\n",
    "```"
   ]
  },
  {
   "cell_type": "code",
   "execution_count": null,
   "metadata": {
    "jupyter": {
     "source_hidden": true
    },
    "tags": []
   },
   "outputs": [],
   "source": [
    "# Remove this line and add your code here"
   ]
  },
  {
   "cell_type": "markdown",
   "metadata": {
    "slideshow": {
     "slide_type": "slide"
    }
   },
   "source": [
    "## Searching\n",
    "\n",
    "Searching elements in a list is a frequently used operation, as we saw in the cells above. In these cells we use the built-in method `index` on lists. \n",
    "\n",
    "We are going to present a number of different search algorithms for unsorted lists, eventually we will produce a more efficient algorithm if the list elements are sorted."
   ]
  },
  {
   "cell_type": "markdown",
   "metadata": {
    "slideshow": {
     "slide_type": "slide"
    }
   },
   "source": [
    "### Linear Search\n",
    "\n",
    "Linear search starts with the index `0` and looks at each list item one by one, in order to see whether the element at the given index is the element we are looking for?\n",
    "\n",
    "We will give two variants, each of the variants uses a loop."
   ]
  },
  {
   "cell_type": "code",
   "execution_count": null,
   "metadata": {},
   "outputs": [],
   "source": [
    "from typing import Any\n",
    "\n",
    "def linear_search(lst : list, value : Any) -> int:\n",
    "    \"\"\"Return the index of the first occurrence of value in lst,\n",
    "    return -1 if value is not in lst.\n",
    "    \n",
    "    >>> linear_search([2, 5, 1, -3], 5)\n",
    "    1\n",
    "    >>> linear_search([2, 4, 2], 2)\n",
    "    0\n",
    "    >>> linear_search([2, 5, 1, -3], 4)\n",
    "    -1\n",
    "    >>> linear_search([], 5)\n",
    "    -1\n",
    "    \"\"\"\n",
    "    \n",
    "    # Examine the items at each index i in lst, starting at index 0\n",
    "    # Is lst[i] the value we are looking for? If so, stop searching. "
   ]
  },
  {
   "cell_type": "markdown",
   "metadata": {},
   "source": [
    "We will first present a solution using a while-loop and an auxilary variable representing the index."
   ]
  },
  {
   "cell_type": "code",
   "execution_count": null,
   "metadata": {},
   "outputs": [],
   "source": [
    "from typing import Any\n",
    "\n",
    "def linear_search(lst : list, value : Any) -> int:\n",
    "    \"\"\"Return the index of the first occurrence of value in lst,\n",
    "    return -1 if value is not in lst.\n",
    "    \n",
    "    >>> linear_search([2, 5, 1, -3], 5)\n",
    "    1\n",
    "    >>> linear_search([2, 4, 2], 2)\n",
    "    0\n",
    "    >>> linear_search([2, 5, 1, -3], 4)\n",
    "    -1\n",
    "    >>> linear_search([], 5)\n",
    "    -1\n",
    "    \"\"\"\n",
    "    \n",
    "    # Start at index 0\n",
    "    i : int = 0\n",
    "    # Examine the items at each index i in lst\n",
    "    # Is lst[i] the value we are looking for? If so, stop searching. \n",
    "    while i != len(lst) and lst[i] != value:\n",
    "        i += 1\n",
    "        \n",
    "    # If we have inspected all elements\n",
    "    if i == len(lst):\n",
    "        return -1\n",
    "    else:\n",
    "        return i"
   ]
  },
  {
   "cell_type": "code",
   "execution_count": null,
   "metadata": {
    "slideshow": {
     "slide_type": "fragment"
    }
   },
   "outputs": [],
   "source": [
    "import doctest\n",
    "\n",
    "doctest.testmod(verbose=True)  # with details"
   ]
  },
  {
   "cell_type": "markdown",
   "metadata": {},
   "source": [
    "The next solution present uses a for-loop and an auxilary variable representing the index."
   ]
  },
  {
   "cell_type": "code",
   "execution_count": null,
   "metadata": {},
   "outputs": [],
   "source": [
    "from typing import Any\n",
    "\n",
    "def linear_search(lst : list, value : Any) -> int:\n",
    "    \"\"\"Return the index of the first occurrence of value in lst,\n",
    "    return -1 if value is not in lst.\n",
    "    \n",
    "    >>> linear_search([2, 5, 1, -3], 5)\n",
    "    1\n",
    "    >>> linear_search([2, 4, 2], 2)\n",
    "    0\n",
    "    >>> linear_search([2, 5, 1, -3], 4)\n",
    "    -1\n",
    "    >>> linear_search([], 5)\n",
    "    -1\n",
    "    \"\"\"\n",
    "    \n",
    "    for i in range(len(lst)):\n",
    "        if lst[i] == value:\n",
    "            return i\n",
    "    return -1"
   ]
  },
  {
   "cell_type": "code",
   "execution_count": null,
   "metadata": {
    "slideshow": {
     "slide_type": "fragment"
    }
   },
   "outputs": [],
   "source": [
    "doctest.testmod(verbose=True)  # with details"
   ]
  },
  {
   "cell_type": "markdown",
   "metadata": {
    "slideshow": {
     "slide_type": "fragment"
    }
   },
   "source": [
    "Suppose the list is sorted, would you use the same search function?"
   ]
  },
  {
   "cell_type": "markdown",
   "metadata": {
    "slideshow": {
     "slide_type": "slide"
    }
   },
   "source": [
    "### Binary Search\n",
    "\n",
    "Binary search is only applicable if the elements in the list are sorted. The basic idea of binary search is the find the middle of the list, compare the value with the middle element, if the two are the equal, then the index of the middle element is returned. Otherwise two options are possible, the value is smaller the middle element then the search is continued in the first half, else the search is continued in the second half.\n",
    "\n",
    "The advantage is that the number of steps to find the index in a list with 1.000.000 is about 20!"
   ]
  },
  {
   "cell_type": "code",
   "execution_count": null,
   "metadata": {},
   "outputs": [],
   "source": [
    "from typing import Any\n",
    "\n",
    "def binary_search(lst : list, value : Any) -> int:\n",
    "    \"\"\" Return the index of the first occurrence of the value in lst, \n",
    "    or return -1 if the value is not found in lst.\n",
    "    \n",
    "    >>> binary_search([1, 2, 4, 4, 5, 7, 9, 10], 1)\n",
    "    0\n",
    "    >>> binary_search([1, 2, 4, 4, 5, 7, 9, 10], 4)\n",
    "    2\n",
    "    >>> binary_search([1, 2, 4, 4, 5, 7, 9, 10], 5)\n",
    "    4\n",
    "    >>> binary_search([1, 2, 4, 4, 5, 7, 9, 10], 10)\n",
    "    7\n",
    "    >>> binary_search([1, 2, 4, 4, 5, 7, 9, 10], -3)\n",
    "    -1\n",
    "    >>> binary_search([1, 2, 4, 4, 5, 7, 9, 10], 11)\n",
    "    -1\n",
    "    >>> binary_search([1, 2, 4, 4, 5, 7, 9, 10], 3)\n",
    "    -1\n",
    "    >>> binary_search([], -3)\n",
    "    -1\n",
    "    >>> binary_search([1], 1)\n",
    "    0\n",
    "    \"\"\"\n",
    "    \n",
    "    # Mark the left and right indices of the part of the list to be searched\n",
    "    i : int = 0\n",
    "    j : int = len(lst) - 1\n",
    "    \n",
    "    while i != j + 1:\n",
    "        m = (i + j) // 2\n",
    "        if lst[m] < value:\n",
    "            i = m + 1\n",
    "        else:\n",
    "            j = m - 1\n",
    "    \n",
    "    if 0 <= i < len(lst) and lst[i] == value:\n",
    "        return i\n",
    "    else:\n",
    "        return -1\n",
    "\n",
    "    \n",
    "binary_search([1, 2, 4, 4, 5, 7, 9, 10, 12, 15, \n",
    "               20, 20, 25, 33, 33, 44, 55, 60, \n",
    "               61, 62, 64, 67, 70, 73, 76, 78], 55)"
   ]
  },
  {
   "cell_type": "code",
   "execution_count": null,
   "metadata": {
    "slideshow": {
     "slide_type": "fragment"
    }
   },
   "outputs": [],
   "source": [
    "import doctest\n",
    "\n",
    "doctest.testmod(verbose=True)  # with details"
   ]
  },
  {
   "cell_type": "markdown",
   "metadata": {},
   "source": [
    "There are a lot of test cases because the test cases cover:\n",
    "* The value is the first item.\n",
    "* The value occurs twice, we want the index of the first occurrence.\n",
    "* The value is exactly in the middle of the list.\n",
    "* The value is the last item of the list.\n",
    "* The value is smaller than all elements in the list.\n",
    "* The value is larger than all elements in the list.\n",
    "* The value is not in the list, but is larger than some but smaller than others.\n",
    "* The list has no items.\n",
    "* The list has exactly one item."
   ]
  },
  {
   "cell_type": "markdown",
   "metadata": {
    "jupyter": {
     "source_hidden": true
    },
    "tags": []
   },
   "source": [
    "```{admonition} Do It Yourself!\n",
    ":class: seealso, dropdown\n",
    "Use the linear and the binary search to find the word <i>done</i> in the list. Profile each function and compare the time taken by each one of them.\n",
    "```"
   ]
  },
  {
   "cell_type": "code",
   "execution_count": null,
   "metadata": {
    "jupyter": {
     "source_hidden": true
    },
    "tags": []
   },
   "outputs": [],
   "source": [
    "lst = ['we', 'are', 'almost', 'done', 'with', 'the', 'course']\n",
    "\n",
    "# Remove this line and add your code here"
   ]
  },
  {
   "cell_type": "markdown",
   "metadata": {},
   "source": [
    "Again some timing measurements."
   ]
  },
  {
   "cell_type": "code",
   "execution_count": null,
   "metadata": {},
   "outputs": [],
   "source": [
    "import time\n",
    "\n",
    "t1 = time.perf_counter()\n",
    "\n",
    "idx1 : int = linear_search(rdlst, 202123)\n",
    "t2 = time.perf_counter()\n",
    "print(\"The linear search code took {:.2f}ms\".format((t2 - t1) * 1000))\n",
    "print(idx1)\n",
    "\n",
    "rdlst.sort()\n",
    "\n",
    "t1 = time.perf_counter()\n",
    "idx2 : int = binary_search(rdlst, 202123)\n",
    "t2 = time.perf_counter()\n",
    "print(\"The binary search code took {:.2f}ms\".format((t2 - t1) * 1000))\n",
    "print(idx2)"
   ]
  }
 ],
 "metadata": {
  "anaconda-cloud": {},
  "kernelspec": {
   "display_name": "Python 3.8.9 64-bit",
   "language": "python",
   "name": "python3"
  },
  "language_info": {
   "codemirror_mode": {
    "name": "ipython",
    "version": 3
   },
   "file_extension": ".py",
   "mimetype": "text/x-python",
   "name": "python",
   "nbconvert_exporter": "python",
   "pygments_lexer": "ipython3",
   "version": "3.8.9"
  },
  "vscode": {
   "interpreter": {
    "hash": "31f2aee4e71d21fbe5cf8b01ff0e069b9275f58929596ceb00d14d90e3e16cd6"
   }
  }
 },
 "nbformat": 4,
 "nbformat_minor": 4
}
