{
 "cells": [
  {
   "cell_type": "markdown",
   "metadata": {
    "slideshow": {
     "slide_type": "slide"
    }
   },
   "source": [
    "# Recursion [^intro]\n",
    "\n",
    "This Jupyter Notebook is based on Chapter 5 and 6 of the book Think Python."
   ]
  },
  {
   "cell_type": "markdown",
   "metadata": {
    "slideshow": {
     "slide_type": "fragment"
    }
   },
   "source": [
    "_(c) 2021, Mark van den Brand, Eindhoven University of Technology_"
   ]
  },
  {
   "cell_type": "markdown",
   "metadata": {},
   "source": [
    "## Table of Contents\n",
    "<div class=\"toc\" style=\"margin-top: 1em;\">\n",
    "    <ul class=\"toc-item\">\n",
    "        <li>\n",
    "            <span><a href=\"#1.-Recursion\" data-toc-modified-id=\"1.-Recursion\">1. Recursion</a></span>\n",
    "        </li>\n",
    "        <li>\n",
    "            <span><a href=\"#2.-Infinite-Recursion\" data-toc-modified-id=\"2.-Infinite-Recursion\">2. Infinite Recursion</a></span>\n",
    "        </li>\n",
    "        <li>\n",
    "            <span><a href=\"#3.-More-Recursion\" data-toc-modified-id=\"3.-More-Recursion\">3. More Recursion</a></span>\n",
    "        </li>\n",
    "        <li>\n",
    "            <span><a href=\"#4.-More-Recursion-Examples\" data-toc-modified-id=\"4.-More-Recursion-Examples\">4. More Recursion Examples</a></span>\n",
    "        </li>\n",
    "        <li>\n",
    "            <span><a href=\"#5.-Memos\" data-toc-modified-id=\"5.-Memos\">5. Memos</a></span>\n",
    "        </li>\n",
    "    </ul>\n",
    "</div>"
   ]
  },
  {
   "cell_type": "markdown",
   "metadata": {
    "slideshow": {
     "slide_type": "slide"
    }
   },
   "source": [
    "## 1. Recursion\n",
    "\n",
    "One of the most powerful but also intriguing features of a programming is **recursion**.\n",
    "\n",
    "An extremely simple definition of recursion is defining a computation in terms of itself."
   ]
  },
  {
   "cell_type": "markdown",
   "metadata": {},
   "source": [
    "<img src=\"assets/munchausen.jpg\" width=400 height=400 />"
   ]
  },
  {
   "cell_type": "markdown",
   "metadata": {
    "slideshow": {
     "slide_type": "slide"
    }
   },
   "source": [
    "If translated to our Python world, one could say that you define a function in terms of itself.\n",
    "That is, in the definition of the function body a function call to the function you are defining is used.\n",
    "\n",
    "Let us make this more concrete by means of a simple example."
   ]
  },
  {
   "cell_type": "code",
   "execution_count": null,
   "metadata": {
    "slideshow": {
     "slide_type": "fragment"
    }
   },
   "outputs": [],
   "source": [
    "def countdown(n : int) -> None:\n",
    "    \"\"\" Prints by means of recursion decreasing values from n to 1 \n",
    "        and prints \"Ready!\" for n = 0.\n",
    "    \"\"\"\n",
    "    if n <= 0:\n",
    "        print('Ready!')\n",
    "    else:\n",
    "        print(n)\n",
    "        countdown(n - 1)"
   ]
  },
  {
   "cell_type": "markdown",
   "metadata": {
    "slideshow": {
     "slide_type": "fragment"
    }
   },
   "source": [
    "If `n` is `0` or negative, it outputs the word, “Ready!”.\n",
    "\n",
    "Otherwise, it outputs `n` and then calls a function named `countdown` passing `n - 1` as an argument."
   ]
  },
  {
   "cell_type": "code",
   "execution_count": null,
   "metadata": {
    "slideshow": {
     "slide_type": "fragment"
    }
   },
   "outputs": [],
   "source": [
    "countdown(3)"
   ]
  },
  {
   "cell_type": "markdown",
   "metadata": {
    "slideshow": {
     "slide_type": "subslide"
    }
   },
   "source": [
    "The execution of countdown begins with `n=3`, and since `n` is greater than `0`, \n",
    "it outputs the value `3`, and then calls itself...\n",
    "\n",
    "The execution of countdown begins with `n=2`, and since `n` is greater than `0`, \n",
    "it outputs the value 2, and then calls itself...\n",
    "\n",
    "The execution of countdown begins with `n=1`, and since `n` is greater than `0`,\n",
    "it outputs the value 1, and then calls itself...\n",
    "  \n",
    "The execution of countdown begins with `n=0`, and since `n` is\n",
    "not greater than `0`, it outputs the word, “Ready!” and then returns.\n",
    "\n",
    "The countdown that got `n=1` returns.\n",
    "\n",
    "The countdown that got `n=2` returns.\n",
    "\n",
    "The countdown that got `n=3` returns.\n",
    "\n",
    "And then you are back in `__main__`.\n",
    "\n",
    "A function that calls itself is **recursive**; the process of executing it is called **recursion**.\n",
    "\n",
    "We can write a function that prints a string `n` times."
   ]
  },
  {
   "cell_type": "code",
   "execution_count": null,
   "metadata": {
    "slideshow": {
     "slide_type": "fragment"
    }
   },
   "outputs": [],
   "source": [
    "def print_n(s : str, n : int) -> None:\n",
    "    \"\"\" Prints the string represented by the parameter \"s\" and recursively\n",
    "        calls itself with a string \"s+ +s\" as long as \"n > 0\".\n",
    "    \"\"\"\n",
    "    if n <= 0:\n",
    "        return\n",
    "    print(s)\n",
    "    print_n(f'{s} {s}', n - 1)\n",
    "    \n",
    "print_n(\"Machine Learning\", 5)"
   ]
  },
  {
   "cell_type": "markdown",
   "metadata": {
    "slideshow": {
     "slide_type": "fragment"
    }
   },
   "source": [
    "If `n <= 0` the return statement exits the function. \n",
    "\n",
    "The flow of execution immediately returns\n",
    "to the caller, and the remaining lines of the function are not executed.\n",
    "\n",
    "The rest of the function is similar to `countdown`: it displays the string represented by the variable `s` and then calls itself to display\n",
    "`s` `n − 1`  times. \n",
    "\n",
    "For simple examples like this, it is probably easier to use a `for` loop.\n",
    "\n",
    "But we will come across examples that are much harder to write with a `for` loop than with recursion, for instance calculating the **factorials** or the **fibonacci numbers**, see later.\n",
    "\n",
    "However, some care is needed! It is very easy to create a recursive function that does not terminate, it is as easy as creating a loop that does not terminate, when does a loop not terminate?"
   ]
  },
  {
   "cell_type": "markdown",
   "metadata": {
    "jupyter": {
     "source_hidden": true
    },
    "tags": []
   },
   "source": [
    "<div class=\"alert alert-success\">\n",
    "    <b>Do It Yourself!</b><br>\n",
    "    Create the recursive version of the function <i>sum_digits</i>. As before, the function takes a number as input and returns the sum of all the digits of such number. For instance, the output for the input 13450 is 13. \n",
    "</div>"
   ]
  },
  {
   "cell_type": "code",
   "execution_count": null,
   "metadata": {
    "jupyter": {
     "source_hidden": true
    },
    "tags": []
   },
   "outputs": [],
   "source": [
    "# Remove this line and add your code here"
   ]
  },
  {
   "cell_type": "markdown",
   "metadata": {
    "slideshow": {
     "slide_type": "slide"
    }
   },
   "source": [
    "## 2. Infinite Recursion\n",
    "\n",
    "Recursion is very powerful and convenient, but there is also a risk, we have to ensure that the recursion terminates.\n",
    "\n",
    "So, as a programmer you have to take care of formulating a correct **base case** that terminates the recursion.\n",
    "\n",
    "If you consider both the `countdown` and the `print_n` function you will see that the base case is formulated as\n",
    "`n <= 0`, the reason for using `n <= 0` is to ensure termination of the recursion even if these functions are called with a negative number.\n",
    "\n",
    "If you encounter an infinite recursion by accident, review your function to confirm that\n",
    "there is a base case that does not make a recursive call.\n",
    "\n",
    "And if there is a base case, check whether you are guaranteed to reach it.\n",
    "\n",
    "The `print_n` recursive function, terminate elegantly for values of `n < 10`."
   ]
  },
  {
   "cell_type": "code",
   "execution_count": null,
   "metadata": {
    "slideshow": {
     "slide_type": "fragment"
    }
   },
   "outputs": [],
   "source": [
    "print_n('Machine Learning', -10)"
   ]
  },
  {
   "cell_type": "code",
   "execution_count": null,
   "metadata": {
    "slideshow": {
     "slide_type": "fragment"
    }
   },
   "outputs": [],
   "source": [
    "def print_n(s : str, n : int) -> None:\n",
    "    \"\"\" Prints the string represented by the parameter \"s\" and recursively\n",
    "        calls itself with a string \"s+ +s\" as long as \"n != 0\".\n",
    "    \"\"\"\n",
    "    if n == 0:\n",
    "        return\n",
    "    \n",
    "    print(s)\n",
    "    print_n(s + \" \" + s, n - 1)\n",
    "    \n",
    "print_n(\"Machine Learning\", -2)"
   ]
  },
  {
   "cell_type": "markdown",
   "metadata": {
    "jupyter": {
     "source_hidden": true
    },
    "tags": []
   },
   "source": [
    "<div class=\"alert alert-success\">\n",
    "    <b>Do It Yourself!</b><br>\n",
    "    Which is the base case of the recursive function <i>sum_digits</i>? \n",
    "</div>"
   ]
  },
  {
   "cell_type": "markdown",
   "metadata": {
    "slideshow": {
     "slide_type": "slide"
    }
   },
   "source": [
    "## 3. More Recursion\n",
    "\n",
    "A recursive definition is similar to a circular definition, \n",
    "in the sense that the definition contains a reference to the thing being defined. \n",
    "\n",
    "In normal life, this does not make much sense, but when programming it is extremely handy.\n",
    "\n",
    "Consider the recursive definition of the factorial function:\n",
    "\n",
    "$0! = 1 \\\\\n",
    " n! = n * (n-1)!$\n",
    " \n",
    "This definition says that the factorial of $0$ is $1$, and the factorial of any other value, $n$, is $n$\n",
    "multiplied by the factorial of $n − 1$.\n",
    "\n",
    "So 3! is 3 times 2!, which is 2 times 1!, which is 1 times 0!. \n",
    "\n",
    "Putting it all together, 3! equals 3 times 2 times 1 times 1, which is 6.\n",
    "\n",
    "If you can write a recursive definition of something, you can write a Python program to\n",
    "evaluate it. \n",
    "\n",
    "The first step is to decide what the parameters should be. In this case it should\n",
    "be clear that factorial takes an integer:"
   ]
  },
  {
   "cell_type": "code",
   "execution_count": null,
   "metadata": {
    "slideshow": {
     "slide_type": "fragment"
    }
   },
   "outputs": [],
   "source": [
    "def factorial(n : int) -> int:\n",
    "    \"\"\"Calculates the factorial of its argument n.\"\"\"\n",
    "    \n",
    "    if n == 0:\n",
    "        return 1"
   ]
  },
  {
   "cell_type": "markdown",
   "metadata": {
    "slideshow": {
     "slide_type": "fragment"
    }
   },
   "source": [
    "If the argument is $0$ than we return $1$, otherwise we have to make a recursive call to `factorial` to calculate\n",
    "the value of $n-1$ and multiply this by $n$."
   ]
  },
  {
   "cell_type": "code",
   "execution_count": null,
   "metadata": {
    "slideshow": {
     "slide_type": "fragment"
    }
   },
   "outputs": [],
   "source": [
    "def factorial(n : int) -> int:\n",
    "    \"\"\"Calculates the factorial of its argument n.\"\"\"\n",
    "\n",
    "    if n == 0:\n",
    "        return 1\n",
    "    else:\n",
    "        i_fac_value : int = factorial(n - 1)\n",
    "        result = n * i_fac_value\n",
    "        return result\n",
    "\n",
    "factorial(100)\n"
   ]
  },
  {
   "cell_type": "markdown",
   "metadata": {},
   "source": [
    "The body of the `else` part can be written more compactly."
   ]
  },
  {
   "cell_type": "code",
   "execution_count": null,
   "metadata": {
    "slideshow": {
     "slide_type": "fragment"
    }
   },
   "outputs": [],
   "source": [
    "def factorial(n : int) -> int:\n",
    "    \"\"\"Calculates the factorial of its argument n.\"\"\"\n",
    "\n",
    "    if n == 0:\n",
    "        return 1\n",
    "    else:\n",
    "        return n * factorial(n - 1)\n",
    "\n",
    "factorial(100)"
   ]
  },
  {
   "cell_type": "markdown",
   "metadata": {},
   "source": [
    "If the last statement of the function contains the a call to the recursive function, we call this *tail recursion*, we can replace the recursive function by a loop.\n",
    "\n"
   ]
  },
  {
   "cell_type": "code",
   "execution_count": null,
   "metadata": {
    "slideshow": {
     "slide_type": "fragment"
    }
   },
   "outputs": [],
   "source": [
    "def factorial(n : int) -> int:\n",
    "    \"\"\"Calculates the factorial of its argument n.\"\"\"\n",
    "\n",
    "    rf : int = 1\n",
    "    while n > 0:\n",
    "        rf *= n\n",
    "        n -= 1\n",
    "    \n",
    "    return rf\n",
    "\n",
    "factorial(100)"
   ]
  },
  {
   "cell_type": "markdown",
   "metadata": {},
   "source": [
    "The `factorial` function, but now with proper tests."
   ]
  },
  {
   "cell_type": "code",
   "execution_count": null,
   "metadata": {
    "slideshow": {
     "slide_type": "fragment"
    }
   },
   "outputs": [],
   "source": [
    "def factorial(n : int) -> int:\n",
    "    \"\"\"Calculates the factorial of its argument n.\n",
    "    \n",
    "    >>> factorial(0) # base case\n",
    "    1\n",
    "    >>> factorial(10) # arbitrary number\n",
    "    3628800\n",
    "    \n",
    "    \"\"\"\n",
    "\n",
    "    if n == 0:\n",
    "        return 1\n",
    "    else:\n",
    "        i_fac_value : int = factorial(n - 1)\n",
    "        result : int = n * i_fac_value\n",
    "        return result\n",
    "    \n",
    "\n",
    "factorial(10)"
   ]
  },
  {
   "cell_type": "code",
   "execution_count": null,
   "metadata": {},
   "outputs": [],
   "source": [
    "import doctest"
   ]
  },
  {
   "cell_type": "code",
   "execution_count": null,
   "metadata": {},
   "outputs": [],
   "source": [
    "doctest.testmod(verbose=True)  # with details"
   ]
  },
  {
   "cell_type": "markdown",
   "metadata": {
    "jupyter": {
     "source_hidden": true
    },
    "tags": []
   },
   "source": [
    "<div class=\"alert alert-success\">\n",
    "    <b>Do It Yourself!</b><br>\n",
    "    Add at least two tests to check the output of the <i>sum_digits</i> function. Check the base case output and other arbitrary case. Verify the output given by the <i>doctest</i> module.\n",
    "</div>"
   ]
  },
  {
   "cell_type": "code",
   "execution_count": null,
   "metadata": {
    "jupyter": {
     "source_hidden": true
    },
    "tags": []
   },
   "outputs": [],
   "source": [
    "# Remove this line and add your code here"
   ]
  },
  {
   "cell_type": "markdown",
   "metadata": {},
   "source": [
    "## 4. More Recursion Examples\n",
    "\n",
    "Yet another famous recursive mathematical function is the `fibonacci` function. \n",
    "\n",
    "Growth of trees, biological ones, follow this principle.\n",
    "\n",
    "`fibonacci(0) = 0`\n",
    "\n",
    "`fibonacci(1) = 1`\n",
    "\n",
    "`fibonacci(n) = fibonacci(n-1) + fibonacci(n-2)`"
   ]
  },
  {
   "cell_type": "code",
   "execution_count": null,
   "metadata": {
    "slideshow": {
     "slide_type": "fragment"
    }
   },
   "outputs": [],
   "source": [
    "def fibonacci(n : int) -> int:\n",
    "    \"\"\"Calculates the fibonacci number of its argument.\n",
    "    \n",
    "    >>> fibonacci(0) # base case 0\n",
    "    0\n",
    "    >>> fibonacci(1) # base case 1\n",
    "    1\n",
    "    >>> fibonacci(13) # arbtriry number\n",
    "    233\n",
    "    \"\"\"\n",
    "    \n",
    "    if n == 0:\n",
    "        return 0\n",
    "    elif n == 1:\n",
    "        return 1\n",
    "    else: \n",
    "        return fibonacci(n - 1) + fibonacci(n - 2)\n",
    "\n",
    "fibonacci(15)"
   ]
  },
  {
   "cell_type": "code",
   "execution_count": null,
   "metadata": {},
   "outputs": [],
   "source": [
    "doctest.testmod(verbose=True)  # with details"
   ]
  },
  {
   "cell_type": "code",
   "execution_count": null,
   "metadata": {
    "slideshow": {
     "slide_type": "fragment"
    }
   },
   "outputs": [],
   "source": [
    "[fibonacci(n) for n in range(20)]"
   ]
  },
  {
   "cell_type": "code",
   "execution_count": null,
   "metadata": {
    "slideshow": {
     "slide_type": "fragment"
    }
   },
   "outputs": [],
   "source": [
    "fibonacci(35)"
   ]
  },
  {
   "cell_type": "markdown",
   "metadata": {
    "slideshow": {
     "slide_type": "fragment"
    }
   },
   "source": [
    "Why is it so slow?"
   ]
  },
  {
   "cell_type": "markdown",
   "metadata": {
    "slideshow": {
     "slide_type": "fragment"
    }
   },
   "source": [
    "Let us count the number of `fib` calls."
   ]
  },
  {
   "cell_type": "code",
   "execution_count": null,
   "metadata": {
    "slideshow": {
     "slide_type": "fragment"
    }
   },
   "outputs": [],
   "source": [
    "def fib_calls(n: int) -> int:\n",
    "    \"\"\" Counts the number of calls to fib to compute fib(n).\n",
    "    \"\"\"\n",
    "    if n <= 1:\n",
    "        return 0\n",
    "    else:\n",
    "        return 2 + fib_calls(n - 2) + fib_calls(n - 1)"
   ]
  },
  {
   "cell_type": "code",
   "execution_count": null,
   "metadata": {
    "slideshow": {
     "slide_type": "fragment"
    }
   },
   "outputs": [],
   "source": [
    "fib_calls(35)"
   ]
  },
  {
   "cell_type": "markdown",
   "metadata": {
    "slideshow": {
     "slide_type": "fragment"
    }
   },
   "source": [
    "Many Fibonacci values get **recomputed** over and over again.\n",
    "\n",
    "Keep in mind that there are only 35 Fibonacci values smaller than `fib(35)`."
   ]
  },
  {
   "cell_type": "markdown",
   "metadata": {
    "jupyter": {
     "source_hidden": true
    },
    "tags": []
   },
   "source": [
    "<div class=\"alert alert-success\">\n",
    "    <b>Do It Yourself!</b><br>\n",
    "    Create the recursive function <i>countup</i>, which takes an integer as parameter and prints numbers from 1 until the input number in a recursive way.\n",
    "</div>"
   ]
  },
  {
   "cell_type": "code",
   "execution_count": null,
   "metadata": {
    "jupyter": {
     "source_hidden": true
    },
    "tags": []
   },
   "outputs": [],
   "source": [
    "# Remove this line and add your code here"
   ]
  },
  {
   "cell_type": "markdown",
   "metadata": {},
   "source": [
    "### Towers of Hanoi"
   ]
  },
  {
   "cell_type": "markdown",
   "metadata": {},
   "source": [
    "Tower of Hanoi is a mathematical puzzle where we have three rods and n disks. The objective of the puzzle is to move the entire stack to another rod, obeying the following simple rules: \n",
    "1) Only one disk can be moved at a time. \n",
    "2) Each move consists of taking the upper disk from one of the stacks and placing it on top of another stack i.e. a disk can only be moved if it is the uppermost disk on a stack. \n",
    "3) No disk may be placed on top of a smaller disk."
   ]
  },
  {
   "cell_type": "markdown",
   "metadata": {},
   "source": [
    "<img src=\"assets/tower-of-hanoi.png\" width=400 height=400 />"
   ]
  },
  {
   "cell_type": "code",
   "execution_count": null,
   "metadata": {},
   "outputs": [],
   "source": [
    "def towers_of_hanoi(n : int , source : str, destination : str, auxiliary : str) -> None:\n",
    "#    print(\"n = \", n, \"src = \", source, \"dst = \", destination, \"aux = \", auxiliary)\n",
    "    \n",
    "    if n == 1:\n",
    "        print(\"Move disk 1 from source\", source, \"to destination\", destination)\n",
    "        return\n",
    "    \n",
    "    towers_of_hanoi(n - 1, source, auxiliary, destination)\n",
    "    print(\"Move disk\", n, \"from source\", source, \"to destination\", destination)\n",
    "    towers_of_hanoi(n - 1, auxiliary, destination, source)\n",
    "          \n",
    "# Driver code\n",
    "n = 2\n",
    "towers_of_hanoi(n, 'A', 'B', 'C')"
   ]
  },
  {
   "cell_type": "markdown",
   "metadata": {},
   "source": [
    "## 5. Memos"
   ]
  },
  {
   "cell_type": "markdown",
   "metadata": {
    "slideshow": {
     "slide_type": "subslide"
    }
   },
   "source": [
    "### Inefficiency in recursive definitions\n",
    "\n",
    "* The **recursion depth** is the number of concurrently active invocations.\n",
    "* Recursive definitions can be very inefficient, even if the recursion depth is moderate.\n",
    "* **Exponential blowup** when each call can give rise to _multiple_ recursive calls.\n",
    "    \n",
    "How to do better?"
   ]
  },
  {
   "cell_type": "markdown",
   "metadata": {
    "slideshow": {
     "slide_type": "fragment"
    }
   },
   "source": [
    "### Improving efficiency in recursive definitions\n",
    "\n",
    "Various techniques available:\n",
    "\n",
    "* **Cache** (**memorize**) previously computed results, and reuse them without recalculation.\n",
    "* Introduce **extra parameters** and/or **extra results**, to improve efficiency."
   ]
  },
  {
   "cell_type": "markdown",
   "metadata": {
    "slideshow": {
     "slide_type": "slide"
    }
   },
   "source": [
    "When performing calculations, specially in case of calculation that involve recursion, it may be advisable to store intermediate results.\n",
    "\n",
    "Consider the `fibonacci` function, when you are calculating the fibonacci number for larger values, you will observe that this will take some time.\n",
    "\n",
    "The larger the value, the more time it will take.\n",
    "\n",
    "The observation is that when calculating fibonacci numbers you will calculate the value for smaller values multiple times.\n",
    "\n",
    "The calculation of fibonacci numbers can be more efficient by \n",
    "memoizing intermediate values."
   ]
  },
  {
   "cell_type": "code",
   "execution_count": null,
   "metadata": {
    "slideshow": {
     "slide_type": "fragment"
    }
   },
   "outputs": [],
   "source": [
    "known_fibs = {0:0, 1:1}\n",
    "\n",
    "def fibonacci(n : int) -> int:\n",
    "    \"\"\"Calculates the fibonacci number of its argument by means of a cache.\n",
    "    \n",
    "    >>> fibonacci(0) # base case 0\n",
    "    0\n",
    "    >>> fibonacci(1) # base case 1\n",
    "    1\n",
    "    >>> fibonacci(13) # arbitrary number\n",
    "    233\n",
    "    \"\"\"\n",
    "    \n",
    "    if n in known_fibs:\n",
    "        return known_fibs[n]\n",
    "    \n",
    "    res = fibonacci(n - 1) + fibonacci(n - 2)\n",
    "    known_fibs[n] = res\n",
    "    return res\n",
    "\n",
    "fibonacci(350)\n",
    "#print(known_fibs)"
   ]
  },
  {
   "cell_type": "code",
   "execution_count": null,
   "metadata": {},
   "outputs": [],
   "source": [
    "doctest.testmod(verbose=True)  # with details"
   ]
  },
  {
   "cell_type": "markdown",
   "metadata": {},
   "source": [
    "`known_fibs` is a dictionary that keeps track of the Fibonacci numbers we already know. It starts with two items: `0` maps to `0` and `1` maps to `1`.\n",
    "\n",
    "Whenever `fibonacci` is called, it checks known cases. \n",
    "\n",
    "If the result is already there, it can return immediately. \n",
    "\n",
    "Otherwise it has to compute the new value, add it to the dictionary, and\n",
    "return it."
   ]
  }
 ],
 "metadata": {
  "anaconda-cloud": {},
  "kernelspec": {
   "display_name": "Python 3 (ipykernel)",
   "language": "python",
   "name": "python3"
  },
  "language_info": {
   "codemirror_mode": {
    "name": "ipython",
    "version": 3
   },
   "file_extension": ".py",
   "mimetype": "text/x-python",
   "name": "python",
   "nbconvert_exporter": "python",
   "pygments_lexer": "ipython3",
   "version": "3.9.5"
  }
 },
 "nbformat": 4,
 "nbformat_minor": 4
}
