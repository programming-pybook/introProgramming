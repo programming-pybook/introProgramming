{
 "cells": [
  {
   "cell_type": "markdown",
   "metadata": {
    "slideshow": {
     "slide_type": "slide"
    }
   },
   "source": [
    "# Lists [^intro]\n",
    "\n",
    "[^intro]: This Jupyter Notebook is based on Chapter 8 of {cite}`Severance2016` and Chapter 10 of {cite}`thinkPython`."
   ]
  },
  {
   "cell_type": "markdown",
   "metadata": {
    "slideshow": {
     "slide_type": "slide"
    }
   },
   "source": [
    "## A List is a Sequence\n",
    "\n",
    "Like a string, a list is a sequence of in principle *arbitrary* values, as we have seen with *string*s. \n",
    "\n",
    "In a string, the values are characters; in a list,\n",
    "they can be any type. \n",
    "\n",
    "The values in a list are called **elements** or **items**.\n",
    "\n",
    "A new list can be created in different ways.\n",
    "\n",
    "The simplest way is to put the elements between square (`[` and `]`) brackets.\n",
    "\n",
    "Lists can be assigned to variables."
   ]
  },
  {
   "cell_type": "code",
   "execution_count": null,
   "metadata": {
    "slideshow": {
     "slide_type": "fragment"
    }
   },
   "outputs": [],
   "source": [
    "int_list : list = [10, 20, 30, 40]\n",
    "\n",
    "print(int_list)\n",
    "type(int_list)"
   ]
  },
  {
   "cell_type": "markdown",
   "metadata": {
    "slideshow": {
     "slide_type": "fragment"
    }
   },
   "source": [
    "This is a list of four integers."
   ]
  },
  {
   "cell_type": "code",
   "execution_count": null,
   "metadata": {
    "slideshow": {
     "slide_type": "fragment"
    }
   },
   "outputs": [],
   "source": [
    "str_list : list = ['data science', 'computer science', 'programming', 'statistics']\n",
    "\n",
    "print(str_list)\n",
    "type(str_list)"
   ]
  },
  {
   "cell_type": "markdown",
   "metadata": {
    "slideshow": {
     "slide_type": "fragment"
    }
   },
   "source": [
    "This is a list of four strings.\n",
    "\n",
    "However, it is not necessary that the elements of a list are of the same type.\n",
    "\n",
    "We can even have other lists as elements.\n",
    "\n",
    "A list within another list is said to be **nested**."
   ]
  },
  {
   "cell_type": "code",
   "execution_count": null,
   "metadata": {
    "slideshow": {
     "slide_type": "fragment"
    }
   },
   "outputs": [],
   "source": [
    "messy_list : list = ['data science', 2, 3.14, [7, 42]]\n",
    "\n",
    "print(messy_list)\n",
    "type(messy_list)"
   ]
  },
  {
   "cell_type": "markdown",
   "metadata": {
    "slideshow": {
     "slide_type": "fragment"
    }
   },
   "source": [
    "Of course, you can assign list values to variables."
   ]
  },
  {
   "cell_type": "code",
   "execution_count": null,
   "metadata": {
    "slideshow": {
     "slide_type": "fragment"
    }
   },
   "outputs": [],
   "source": [
    "bikes : list = ['Gazelle', 'Trek', 'Sparta', 'Specialized']\n",
    "numbers : list = [7, 42, 6*42]\n",
    "empty_list : list = []\n",
    "\n",
    "print(bikes, numbers, empty_list)"
   ]
  },
  {
   "cell_type": "markdown",
   "metadata": {
    "jupyter": {
     "source_hidden": true
    },
    "tags": []
   },
   "source": [
    "```{admonition} Do It Yourself!\n",
    ":class: seealso, dropdown\n",
    "Create a list of strings, where each string represents the name of a dutch artist. Assign the list to the variable <i>dutch_artists\n",
    "```"
   ]
  },
  {
   "cell_type": "code",
   "execution_count": null,
   "metadata": {
    "jupyter": {
     "source_hidden": true
    },
    "tags": []
   },
   "outputs": [],
   "source": [
    "# Remove this line and add your code here"
   ]
  },
  {
   "cell_type": "markdown",
   "metadata": {
    "slideshow": {
     "slide_type": "slide"
    }
   },
   "source": [
    "## Lists are Mutable\n",
    "\n",
    "In contrast to strings, list elements can be changed.\n",
    "\n",
    "The syntax for accessing elements of a list is the same as for accessing characters of a string: the bracket operator.\n",
    "\n",
    "The expression inside the brackets is the index of the list element."
   ]
  },
  {
   "cell_type": "code",
   "execution_count": null,
   "metadata": {
    "slideshow": {
     "slide_type": "fragment"
    }
   },
   "outputs": [],
   "source": [
    "bikes[0]"
   ]
  },
  {
   "cell_type": "markdown",
   "metadata": {
    "slideshow": {
     "slide_type": "fragment"
    }
   },
   "source": [
    "Lists are mutable, so we can change the value of a list element via an assignment. \n",
    "\n"
   ]
  },
  {
   "cell_type": "code",
   "execution_count": null,
   "metadata": {
    "slideshow": {
     "slide_type": "fragment"
    }
   },
   "outputs": [],
   "source": [
    "bikes[0] = 'Merida'\n",
    "\n",
    "print(bikes)"
   ]
  },
  {
   "cell_type": "markdown",
   "metadata": {
    "jupyter": {
     "source_hidden": true
    },
    "tags": []
   },
   "source": [
    "```{admonition} Do It Yourself!\n",
    ":class: seealso, dropdown\n",
    "Change the last item of your list `dutch_artists`. Think of another artist that you have not included before.\n",
    "```"
   ]
  },
  {
   "cell_type": "code",
   "execution_count": null,
   "metadata": {
    "jupyter": {
     "source_hidden": true
    },
    "tags": []
   },
   "outputs": [],
   "source": [
    "# Remove this line and add your code here"
   ]
  },
  {
   "cell_type": "markdown",
   "metadata": {
    "slideshow": {
     "slide_type": "fragment"
    }
   },
   "source": [
    "List indices work the same way as string indices:\n",
    "\n",
    "* Any integer expression can be used as an index.\n",
    "\n",
    "* If you try to read or write an element that does not exist, you get an IndexError.\n",
    "\n",
    "* If an index has a negative value, it counts backward from the end of the list."
   ]
  },
  {
   "cell_type": "code",
   "execution_count": null,
   "metadata": {},
   "outputs": [],
   "source": [
    "'Grape'[-5]"
   ]
  },
  {
   "cell_type": "code",
   "execution_count": null,
   "metadata": {},
   "outputs": [],
   "source": [
    "bikes[-1]"
   ]
  },
  {
   "cell_type": "markdown",
   "metadata": {
    "slideshow": {
     "slide_type": "fragment"
    }
   },
   "source": [
    "The operator `in` works also for lists."
   ]
  },
  {
   "cell_type": "code",
   "execution_count": null,
   "metadata": {
    "slideshow": {
     "slide_type": "fragment"
    }
   },
   "outputs": [],
   "source": [
    "'Sparta' in bikes"
   ]
  },
  {
   "cell_type": "code",
   "execution_count": null,
   "metadata": {
    "slideshow": {
     "slide_type": "fragment"
    }
   },
   "outputs": [],
   "source": [
    "'JanJanssen' in bikes"
   ]
  },
  {
   "cell_type": "markdown",
   "metadata": {
    "jupyter": {
     "source_hidden": true
    },
    "tags": []
   },
   "source": [
    "```{admonition} Do It Yourself!\n",
    ":class: seealso, dropdown\n",
    "Check if numbers 3 and 252 are in the list stored in the variable `numbers`.\n",
    "```"
   ]
  },
  {
   "cell_type": "code",
   "execution_count": null,
   "metadata": {
    "jupyter": {
     "source_hidden": true
    },
    "tags": []
   },
   "outputs": [],
   "source": [
    "# Remove this line and add your code here"
   ]
  },
  {
   "cell_type": "markdown",
   "metadata": {
    "slideshow": {
     "slide_type": "fragment"
    }
   },
   "source": [
    "## Traversing a List\n",
    "\n",
    "The most common way of traversing a list is by means of using a `for` loop. \n",
    "\n",
    "The syntax is the same as for strings.\n",
    "\n",
    "````{margin}\n",
    "```{admonition} EXTRA\n",
    "The name of the *iterator* can be short, because it is typically a local variable.\n",
    "```\n",
    "````"
   ]
  },
  {
   "cell_type": "code",
   "execution_count": null,
   "metadata": {
    "slideshow": {
     "slide_type": "fragment"
    }
   },
   "outputs": [],
   "source": [
    "for b in bikes:\n",
    "    print(b)"
   ]
  },
  {
   "cell_type": "markdown",
   "metadata": {
    "slideshow": {
     "slide_type": "fragment"
    }
   },
   "source": [
    "This way of traversing lists works fine if you only want to read the elements.\n",
    "\n",
    "If you iterate over the elements of a list and you do not need to update them, an iterator over the elements of the list is sufficient. \n",
    "\n",
    "If you need to *update* the elements of the list you have to iterate using explicit *integer indices*.\n",
    "\n",
    "A common way to do that is to combine the built-in functions `range` and `len`, as shown in the next cell."
   ]
  },
  {
   "cell_type": "markdown",
   "metadata": {},
   "source": [
    "`len` returns the length of the list."
   ]
  },
  {
   "cell_type": "code",
   "execution_count": null,
   "metadata": {},
   "outputs": [],
   "source": [
    "len(numbers)"
   ]
  },
  {
   "cell_type": "markdown",
   "metadata": {},
   "source": [
    "While `range` returns a list of indices ranging from `0` to `n-1`, where `n` is the length of the list, obtained via the function `len`."
   ]
  },
  {
   "cell_type": "code",
   "execution_count": null,
   "metadata": {},
   "outputs": [],
   "source": [
    "range(len(numbers))"
   ]
  },
  {
   "cell_type": "code",
   "execution_count": null,
   "metadata": {
    "slideshow": {
     "slide_type": "fragment"
    }
   },
   "outputs": [],
   "source": [
    "print(numbers)\n",
    "\n",
    "for i in range(len(numbers)):\n",
    "    numbers[i] *= 2\n",
    "    \n",
    "print(numbers)"
   ]
  },
  {
   "cell_type": "markdown",
   "metadata": {
    "slideshow": {
     "slide_type": "fragment"
    }
   },
   "source": [
    "This loop traverses the list and updates each individual element.\n",
    "\n",
    "Each iteration of the loop `i` gets the index of the next element in the range. \n",
    "\n",
    "The assignment statement in the body uses `i` to read the old value of the element and to assign the new value."
   ]
  },
  {
   "cell_type": "code",
   "execution_count": null,
   "metadata": {
    "slideshow": {
     "slide_type": "fragment"
    }
   },
   "outputs": [],
   "source": [
    "for x in []:\n",
    "    print('This never happens.')"
   ]
  },
  {
   "cell_type": "markdown",
   "metadata": {
    "slideshow": {
     "slide_type": "fragment"
    }
   },
   "source": [
    "Is this a useful `for` loop?"
   ]
  },
  {
   "cell_type": "markdown",
   "metadata": {},
   "source": [
    "A `for` loop with an empty list never executes its body."
   ]
  },
  {
   "cell_type": "markdown",
   "metadata": {
    "jupyter": {
     "source_hidden": true
    },
    "tags": []
   },
   "source": [
    "```{admonition} Do It Yourself!\n",
    ":class: seealso, dropdown\n",
    "Iterate the `dutch_artists` list and change its items so all names appear in capital letters.\n",
    "```"
   ]
  },
  {
   "cell_type": "code",
   "execution_count": null,
   "metadata": {
    "jupyter": {
     "source_hidden": true
    },
    "tags": []
   },
   "outputs": [],
   "source": [
    "# Remove this line and add your code here"
   ]
  },
  {
   "cell_type": "markdown",
   "metadata": {
    "slideshow": {
     "slide_type": "slide"
    }
   },
   "source": [
    "## List Operations\n",
    "\n",
    "A few useful list operations are `+` and `*`. \n",
    "\n",
    "Actually, we have seen these operations for strings as well. \n",
    "\n",
    "The `+` operator concatenates two lists as it happens with strings."
   ]
  },
  {
   "cell_type": "code",
   "execution_count": null,
   "metadata": {
    "slideshow": {
     "slide_type": "fragment"
    }
   },
   "outputs": [],
   "source": [
    "a : list = [1, 2, 3]\n",
    "b : list = [4, 5, 6]\n",
    "c : list = a + b\n",
    "c"
   ]
  },
  {
   "cell_type": "markdown",
   "metadata": {},
   "source": [
    "The `*` operator repeats a list for a given number of times."
   ]
  },
  {
   "cell_type": "code",
   "execution_count": null,
   "metadata": {
    "slideshow": {
     "slide_type": "fragment"
    }
   },
   "outputs": [],
   "source": [
    "a : list = [1, 2, 3] * 5\n",
    "a"
   ]
  },
  {
   "cell_type": "markdown",
   "metadata": {
    "slideshow": {
     "slide_type": "slide"
    }
   },
   "source": [
    "## List Slices\n",
    "\n",
    "Similar to strings it is also possible to take a slice of a list."
   ]
  },
  {
   "cell_type": "code",
   "execution_count": null,
   "metadata": {
    "slideshow": {
     "slide_type": "fragment"
    }
   },
   "outputs": [],
   "source": [
    "subjects : list = ['data science', 'computer science', 'programming', 'statistics']\n",
    "\n",
    "subjects[1:3]"
   ]
  },
  {
   "cell_type": "markdown",
   "metadata": {
    "slideshow": {
     "slide_type": "fragment"
    }
   },
   "source": [
    "Recall, that if you omit the first index, the slice starts at the beginning. "
   ]
  },
  {
   "cell_type": "code",
   "execution_count": null,
   "metadata": {
    "slideshow": {
     "slide_type": "fragment"
    }
   },
   "outputs": [],
   "source": [
    "subjects[:4]"
   ]
  },
  {
   "cell_type": "markdown",
   "metadata": {},
   "source": [
    "If you omit the second, the slice goes to the end. "
   ]
  },
  {
   "cell_type": "code",
   "execution_count": null,
   "metadata": {
    "slideshow": {
     "slide_type": "fragment"
    }
   },
   "outputs": [],
   "source": [
    "subjects[2:]"
   ]
  },
  {
   "cell_type": "markdown",
   "metadata": {},
   "source": [
    "If you omit both, the slice is a copy of the entire list."
   ]
  },
  {
   "cell_type": "code",
   "execution_count": null,
   "metadata": {
    "slideshow": {
     "slide_type": "fragment"
    }
   },
   "outputs": [],
   "source": [
    "subjects[:]"
   ]
  },
  {
   "cell_type": "markdown",
   "metadata": {
    "slideshow": {
     "slide_type": "fragment"
    }
   },
   "source": [
    "Lists are mutable, so it is possible to use the slice operator in the left hand side of an assignment.\n",
    "However, beware, this changes the list. If you do not want this, make a copy.\n",
    "\n",
    "A slice operator on the left side of an assignment can update multiple elements."
   ]
  },
  {
   "cell_type": "code",
   "execution_count": null,
   "metadata": {
    "slideshow": {
     "slide_type": "fragment"
    }
   },
   "outputs": [],
   "source": [
    "subjects[3:4] = ['software engineering', 'machine learning']\n",
    "\n",
    "subjects"
   ]
  },
  {
   "cell_type": "markdown",
   "metadata": {
    "jupyter": {
     "source_hidden": true
    },
    "tags": []
   },
   "source": [
    "```{admonition} Do It Yourself!\n",
    ":class: seealso, dropdown\n",
    "Slice the `dutch_artists` list. We require all items except the first one.\n",
    "```"
   ]
  },
  {
   "cell_type": "code",
   "execution_count": null,
   "metadata": {
    "jupyter": {
     "source_hidden": true
    },
    "tags": []
   },
   "outputs": [],
   "source": [
    "# Remove this line and add your code here"
   ]
  },
  {
   "cell_type": "markdown",
   "metadata": {
    "slideshow": {
     "slide_type": "slide"
    }
   },
   "source": [
    "## List Methods\n",
    "\n",
    "Python provides methods that operate on lists. For example, `append` adds a new element\n",
    "to the end of a list."
   ]
  },
  {
   "cell_type": "code",
   "execution_count": null,
   "metadata": {
    "slideshow": {
     "slide_type": "fragment"
    }
   },
   "outputs": [],
   "source": [
    "subjects : list = ['data science', 'computer science', 'programming', 'statistics']\n",
    "\n",
    "subjects.append('software engineering')\n",
    "\n",
    "subjects"
   ]
  },
  {
   "cell_type": "markdown",
   "metadata": {
    "slideshow": {
     "slide_type": "fragment"
    }
   },
   "source": [
    "An alternative way of appending elements to a list is shown in the following cell."
   ]
  },
  {
   "cell_type": "code",
   "execution_count": null,
   "metadata": {},
   "outputs": [],
   "source": [
    "subjects : list = ['data science', 'computer science', 'programming', 'statistics']\n",
    "\n",
    "print(subjects[4:])\n",
    "\n",
    "subjects[4:] = ['software engineering']\n",
    "\n",
    "subjects"
   ]
  },
  {
   "cell_type": "markdown",
   "metadata": {
    "slideshow": {
     "slide_type": "fragment"
    }
   },
   "source": [
    "However, beware that this way of concatenating is error prone: if you use the wrong index, you will end up replacing instead of appending."
   ]
  },
  {
   "cell_type": "code",
   "execution_count": null,
   "metadata": {},
   "outputs": [],
   "source": [
    "print(subjects[4:])\n",
    "\n",
    "subjects[4:] = ['system engineering']\n",
    "\n",
    "subjects"
   ]
  },
  {
   "cell_type": "markdown",
   "metadata": {
    "slideshow": {
     "slide_type": "fragment"
    }
   },
   "source": [
    "The method `extend` appends the list given argument to the list it is applied to. \n",
    "\n",
    "The list given as argument is not changed."
   ]
  },
  {
   "cell_type": "code",
   "execution_count": null,
   "metadata": {
    "slideshow": {
     "slide_type": "fragment"
    }
   },
   "outputs": [],
   "source": [
    "subjects1 : list = ['data science', 'computer science', 'programming', 'statistics']\n",
    "subjects2 : list = ['software engineering', 'artificial intelligence']\n",
    "\n",
    "subjects1.extend(subjects2)\n",
    "\n",
    "print(subjects1)\n",
    "print(subjects2)"
   ]
  },
  {
   "cell_type": "markdown",
   "metadata": {
    "slideshow": {
     "slide_type": "subslide"
    }
   },
   "source": [
    "The method `sort` sorts the elements of the list to which it is applied.\n",
    "\n",
    "It uses the alphabetical order or from low to high if the elements are integers or floats."
   ]
  },
  {
   "cell_type": "code",
   "execution_count": null,
   "metadata": {
    "slideshow": {
     "slide_type": "fragment"
    }
   },
   "outputs": [],
   "source": [
    "subjects1.sort()\n",
    "\n",
    "subjects1"
   ]
  },
  {
   "cell_type": "code",
   "execution_count": null,
   "metadata": {
    "slideshow": {
     "slide_type": "fragment"
    }
   },
   "outputs": [],
   "source": [
    "numbers : list = [9, 5, 6, 2, 7, 1, 8, 4, 3]\n",
    "numbers.sort()\n",
    "\n",
    "numbers"
   ]
  },
  {
   "cell_type": "markdown",
   "metadata": {
    "slideshow": {
     "slide_type": "fragment"
    }
   },
   "source": [
    "In order to be able to sort a list, the `sort` method should be defined on element *type*s.\n",
    "\n",
    "So, sorting a list consisting of integers and strings is not possible, but a list of integers and floats can be sorted."
   ]
  },
  {
   "cell_type": "code",
   "execution_count": null,
   "metadata": {
    "slideshow": {
     "slide_type": "fragment"
    }
   },
   "outputs": [],
   "source": [
    "ns_list : list = [3, 5, 2, 7, 'abc', 1, 'xyz']\n",
    "ns_list.sort()\n",
    "\n",
    "ns_list"
   ]
  },
  {
   "cell_type": "code",
   "execution_count": null,
   "metadata": {
    "slideshow": {
     "slide_type": "fragment"
    }
   },
   "outputs": [],
   "source": [
    "ns_list : list = [3, 5, 2, 7, 4.0, 1, 1.5]\n",
    "ns_list.sort()\n",
    "\n",
    "ns_list"
   ]
  },
  {
   "cell_type": "markdown",
   "metadata": {
    "slideshow": {
     "slide_type": "subslide"
    }
   },
   "source": [
    "Most list methods are void, that means they are non-fruitful functions. \n",
    "\n",
    "They modify the list and return `None`. \n",
    "\n",
    "Observe what happens if you write `nums = nums.sort()`."
   ]
  },
  {
   "cell_type": "code",
   "execution_count": null,
   "metadata": {
    "slideshow": {
     "slide_type": "fragment"
    }
   },
   "outputs": [],
   "source": [
    "nums : list = [9, 5, 6, 2, 7, 1, 8, 4, 3]\n",
    "nums = nums.sort()\n",
    "\n",
    "print(nums)"
   ]
  },
  {
   "cell_type": "markdown",
   "metadata": {
    "jupyter": {
     "source_hidden": true
    },
    "tags": []
   },
   "source": [
    "```{admonition} Do It Yourself!\n",
    ":class: seealso, dropdown\n",
    "Use the `append` method to add a new artist to the `dutch_artists` list. Then sort all items.\n",
    "```"
   ]
  },
  {
   "cell_type": "code",
   "execution_count": null,
   "metadata": {
    "jupyter": {
     "source_hidden": true
    },
    "tags": []
   },
   "outputs": [],
   "source": [
    "# Remove this line and add your code here"
   ]
  },
  {
   "cell_type": "markdown",
   "metadata": {
    "slideshow": {
     "slide_type": "slide"
    }
   },
   "source": [
    "## Map, Filter and Reduce\n",
    "\n",
    "We have seen in the previous section a number of operations that can be applied to lists.\n",
    "\n",
    "We will continue discussing a number of operations that can be applied to the elements of a list.\n",
    "\n",
    "Suppose you want to add all numerical values of a list. You would probably write the following function\n",
    "using a `for` statement."
   ]
  },
  {
   "cell_type": "markdown",
   "metadata": {},
   "source": [
    "If you want to use a list as argument or result of a function together with a type hint you have to add the following line to your code:\n",
    "\n",
    "`from typing import List`\n",
    "\n",
    "If you know the type of the elements, for instance all elements are integers, you can write `nums : List[int]`. If you do not know the elements or the list contains elements of different types, you can write `elems : List[any]`."
   ]
  },
  {
   "cell_type": "code",
   "execution_count": null,
   "metadata": {},
   "outputs": [],
   "source": [
    "from typing import List"
   ]
  },
  {
   "cell_type": "code",
   "execution_count": null,
   "metadata": {
    "slideshow": {
     "slide_type": "fragment"
    }
   },
   "outputs": [],
   "source": [
    "def add_all(nums : List[int]) -> int:\n",
    "    \"\"\"accumulates the values of a list of integers\n",
    "    \"\"\"\n",
    "    \n",
    "    total : int = 0;\n",
    "    for n in nums:\n",
    "        total += n\n",
    "    return total\n",
    "\n",
    "print(add_all([9, 5, 6, 2, 7, 1, 8, 4, 3]))"
   ]
  },
  {
   "cell_type": "markdown",
   "metadata": {
    "slideshow": {
     "slide_type": "fragment"
    }
   },
   "source": [
    "As the loop runs, `total` accumulates the sum of the elements; a variable used this way is\n",
    "sometimes called an **accumulator**.\n",
    "\n",
    "Adding up the elements of a list is such a common operation that Python provides it as a\n",
    "built-in function, `sum`."
   ]
  },
  {
   "cell_type": "code",
   "execution_count": null,
   "metadata": {
    "slideshow": {
     "slide_type": "fragment"
    }
   },
   "outputs": [],
   "source": [
    "nums : List[int] = [9, 5, 6, 2, 7, 1, 8, 4, 3]\n",
    "\n",
    "sum(nums)"
   ]
  },
  {
   "cell_type": "markdown",
   "metadata": {
    "slideshow": {
     "slide_type": "fragment"
    }
   },
   "source": [
    "An operation like this combines a sequence of elements into a single value and is called **reduce**.\n",
    "\n",
    "Sometimes you want to apply an operation to all elements of a list and construct on the fly a new list.\n",
    "\n",
    "Suppose you want to capitalize all strings in a list."
   ]
  },
  {
   "cell_type": "code",
   "execution_count": null,
   "metadata": {
    "slideshow": {
     "slide_type": "fragment"
    }
   },
   "outputs": [],
   "source": [
    "def capitalize_all(lst : List[str]) -> List[str]:\n",
    "    \"\"\"capitalizes the first letter of all string elements\n",
    "    \"\"\"\n",
    "    \n",
    "    rlst : List[str] = []\n",
    "    for e in lst:\n",
    "        rlst.append(e.capitalize())\n",
    "    return rlst\n",
    "\n",
    "print(subjects1)\n",
    "print(capitalize_all(subjects1))"
   ]
  },
  {
   "cell_type": "markdown",
   "metadata": {},
   "source": [
    "`rlst` is initialized with an empty list; each time through the loop, we append the next element.\n",
    "\n",
    "So `rlst` is another kind of accumulator.\n",
    "\n",
    "An operation like `capitalize_all` is sometimes called a **map** because it “maps” a function\n",
    "(in this case the method capitalize) onto each of the elements in a sequence."
   ]
  },
  {
   "cell_type": "markdown",
   "metadata": {},
   "source": [
    "Another common operation is to select some of the elements from a list and return a sublist.\n",
    "\n",
    "For example, the following function takes a list of numbers and returns a list that contains\n",
    "all numbers greater than 5."
   ]
  },
  {
   "cell_type": "code",
   "execution_count": null,
   "metadata": {
    "slideshow": {
     "slide_type": "fragment"
    }
   },
   "outputs": [],
   "source": [
    "def gtr_than_five(nums : List[int]) -> List[int]:\n",
    "    \"\"\"filters all numbers less than or equal to 5\n",
    "    \"\"\"\n",
    "    \n",
    "    result_nums : List[int] = []\n",
    "    for n in nums:\n",
    "        if n > 5:\n",
    "            result_nums.append(n)\n",
    "    return result_nums\n",
    "\n",
    "print(nums)\n",
    "print(gtr_than_five(nums))"
   ]
  },
  {
   "cell_type": "markdown",
   "metadata": {
    "slideshow": {
     "slide_type": "fragment"
    }
   },
   "source": [
    "An operation like `gtr_than_five` is called a **filter** because it selects some of the elements and\n",
    "filters out the others.\n",
    "\n",
    "Map, filter and reduce allow a concise but powerful way of manipulating list, certainly if combined"
   ]
  },
  {
   "cell_type": "markdown",
   "metadata": {
    "jupyter": {
     "source_hidden": true
    },
    "tags": []
   },
   "source": [
    "```{admonition} Do It Yourself!\n",
    ":class: seealso, dropdown\n",
    "Change all items in the `dutch_artists` list, so now they are shown in lower case. Is this a map, filter or reduce function?\n",
    "```"
   ]
  },
  {
   "cell_type": "code",
   "execution_count": null,
   "metadata": {
    "jupyter": {
     "source_hidden": true
    },
    "tags": []
   },
   "outputs": [],
   "source": [
    "# Remove this line and add your code here"
   ]
  },
  {
   "cell_type": "markdown",
   "metadata": {
    "slideshow": {
     "slide_type": "slide"
    }
   },
   "source": [
    "## Deleting Elements\n",
    "\n",
    "There are several ways of removing elements of a list, which one to choose depends on what kind of behaviour you want.\n",
    "\n",
    "We start with the `pop` method. This operation removes an element at certain index (if given), otherwise it removes the last element of the list.\n",
    "\n",
    "The `pop` method is a fruitful function: it returns the element that was removed."
   ]
  },
  {
   "cell_type": "code",
   "execution_count": null,
   "metadata": {
    "slideshow": {
     "slide_type": "fragment"
    }
   },
   "outputs": [],
   "source": [
    "topics : list = ['data science', 'computer science', 'programming', 'statistics']\n",
    "\n",
    "elem : str = topics.pop(1)\n",
    "\n",
    "print(topics)\n",
    "print(elem)"
   ]
  },
  {
   "cell_type": "markdown",
   "metadata": {
    "slideshow": {
     "slide_type": "fragment"
    }
   },
   "source": [
    "If you are not interested in the removed element, you can use the method `del`."
   ]
  },
  {
   "cell_type": "code",
   "execution_count": null,
   "metadata": {
    "slideshow": {
     "slide_type": "fragment"
    }
   },
   "outputs": [],
   "source": [
    "topics : list = ['data science', 'computer science', 'programming', 'statistics']\n",
    "\n",
    "del(topics[1])\n",
    "print(topics)"
   ]
  },
  {
   "cell_type": "markdown",
   "metadata": {
    "slideshow": {
     "slide_type": "fragment"
    }
   },
   "source": [
    "If you want to remove specific element from a list you can use `remove`.\n",
    "\n",
    "The return value of `remove` is `None`."
   ]
  },
  {
   "cell_type": "code",
   "execution_count": null,
   "metadata": {
    "slideshow": {
     "slide_type": "fragment"
    }
   },
   "outputs": [],
   "source": [
    "topics : list = ['data science', 'computer science', 'programming', 'statistics']\n",
    "\n",
    "topics.remove('programming')\n",
    "print(topics)"
   ]
  },
  {
   "cell_type": "markdown",
   "metadata": {
    "slideshow": {
     "slide_type": "fragment"
    }
   },
   "source": [
    "If a consecutive number of elements have to be removed from a list, it is better to use a slice."
   ]
  },
  {
   "cell_type": "code",
   "execution_count": null,
   "metadata": {
    "slideshow": {
     "slide_type": "fragment"
    }
   },
   "outputs": [],
   "source": [
    "topics : list = ['data science', 'computer science', 'programming', 'statistics']\n",
    "\n",
    "del(topics[1:3])\n",
    "print(topics)"
   ]
  },
  {
   "cell_type": "markdown",
   "metadata": {
    "jupyter": {
     "source_hidden": true
    },
    "tags": []
   },
   "source": [
    "```{admonition} Do It Yourself!\n",
    ":class: seealso, dropdown\n",
    "Remove the last item of the `dutch_artists` list. What operation did you choose and why?\n",
    "```"
   ]
  },
  {
   "cell_type": "code",
   "execution_count": null,
   "metadata": {
    "jupyter": {
     "source_hidden": true
    },
    "tags": []
   },
   "outputs": [],
   "source": [
    "# Remove this line and add your code here"
   ]
  },
  {
   "cell_type": "markdown",
   "metadata": {},
   "source": [
    "## Lists and Functions\n",
    "\n",
    "We already saw that we can use the function `sum` to add all items in a list, and the function `len` to get the size of a list.\n",
    "\n",
    "There are other handy functions that you can use to compute values without writing your own loops.\n",
    "\n",
    "Some of these functions are `min` and `max`."
   ]
  },
  {
   "cell_type": "markdown",
   "metadata": {},
   "source": [
    "We use the function `max` to get the maximum number of a list."
   ]
  },
  {
   "cell_type": "code",
   "execution_count": null,
   "metadata": {},
   "outputs": [],
   "source": [
    "max(numbers)"
   ]
  },
  {
   "cell_type": "markdown",
   "metadata": {},
   "source": [
    "We use the function `min` to get the minimum number of a list."
   ]
  },
  {
   "cell_type": "code",
   "execution_count": null,
   "metadata": {},
   "outputs": [],
   "source": [
    "min(numbers)"
   ]
  },
  {
   "cell_type": "markdown",
   "metadata": {
    "jupyter": {
     "source_hidden": true
    },
    "tags": []
   },
   "source": [
    "```{admonition} Do It Yourself!\n",
    ":class: seealso, dropdown\n",
    "Can you compute the average of the list `numbers` without using any loop?\n",
    "```"
   ]
  },
  {
   "cell_type": "code",
   "execution_count": null,
   "metadata": {
    "jupyter": {
     "source_hidden": true
    },
    "tags": []
   },
   "outputs": [],
   "source": [
    "# Remove this line and add your code here"
   ]
  },
  {
   "cell_type": "markdown",
   "metadata": {
    "slideshow": {
     "slide_type": "slide"
    }
   },
   "source": [
    "## Lists and Strings\n",
    "\n",
    "A string is a sequence of characters and a list is a sequence of values, but a list of characters is not the same as a string. \n",
    "\n",
    "To convert from a string to a list of characters, you can use `list`."
   ]
  },
  {
   "cell_type": "code",
   "execution_count": null,
   "metadata": {
    "slideshow": {
     "slide_type": "fragment"
    }
   },
   "outputs": [],
   "source": [
    "s : str = 'data science'\n",
    "\n",
    "lst : list = list(s)\n",
    "print(lst)"
   ]
  },
  {
   "cell_type": "markdown",
   "metadata": {
    "slideshow": {
     "slide_type": "fragment"
    }
   },
   "source": [
    "Because `list` is the name of a built-in function, you should avoid using it as a variable\n",
    "name.\n",
    "\n",
    "The `list` function breaks a string into individual characters. \n",
    "\n",
    "If you want to break a string (sentence) into words, you can use the `split` method."
   ]
  },
  {
   "cell_type": "code",
   "execution_count": null,
   "metadata": {
    "slideshow": {
     "slide_type": "fragment"
    }
   },
   "outputs": [],
   "source": [
    "claim : str = 'Data science is younger than computer science or not?'\n",
    "\n",
    "words : list = claim.split()\n",
    "print(words)"
   ]
  },
  {
   "cell_type": "markdown",
   "metadata": {
    "slideshow": {
     "slide_type": "fragment"
    }
   },
   "source": [
    "An optional argument called a **delimiter** specifies which characters to use as word boundaries.\n",
    "\n",
    "The following example uses a hyphen `-` as a delimiter."
   ]
  },
  {
   "cell_type": "code",
   "execution_count": null,
   "metadata": {
    "slideshow": {
     "slide_type": "fragment"
    }
   },
   "outputs": [],
   "source": [
    "big_word : str = 'Multi-language-programming'\n",
    "\n",
    "words : list = big_word.split('-')\n",
    "print(words)"
   ]
  },
  {
   "cell_type": "markdown",
   "metadata": {
    "slideshow": {
     "slide_type": "fragment"
    }
   },
   "source": [
    "The function `join` is the inverse of the `split` operation.\n",
    "\n",
    "It takes a list of strings (words) and concatenates the elements.\n",
    "\n",
    "`join` is a string method and has to be invoked on the delimiter and\n",
    "pass the list as a parameter."
   ]
  },
  {
   "cell_type": "code",
   "execution_count": null,
   "metadata": {
    "slideshow": {
     "slide_type": "fragment"
    }
   },
   "outputs": [],
   "source": [
    "words : list = ['Data', 'science', 'is', 'fun!']\n",
    "sentence : str = ' '.join(words)\n",
    "print(sentence)"
   ]
  },
  {
   "cell_type": "markdown",
   "metadata": {
    "jupyter": {
     "source_hidden": true
    },
    "tags": []
   },
   "source": [
    "```{admonition} Do It Yourself!\n",
    ":class: seealso, dropdown\n",
    "Can you change dots in the following message by spaces?\n",
    "```"
   ]
  },
  {
   "cell_type": "code",
   "execution_count": null,
   "metadata": {
    "jupyter": {
     "source_hidden": true
    },
    "tags": []
   },
   "outputs": [],
   "source": [
    "msg = 'We.want.to.modify.this.message'\n",
    "\n",
    "# Remove this line and add your code here"
   ]
  },
  {
   "cell_type": "markdown",
   "metadata": {},
   "source": [
    "We usually read files to extract interesting information from it. \n",
    "\n",
    "To do so, we first need to find *interesting* lines that contain *interesting* information required by our program. To find this information we need to **parse** the interesting lines."
   ]
  },
  {
   "cell_type": "markdown",
   "metadata": {},
   "source": [
    "Let's look at this example. We want to detect lines that have the following form:\n",
    "\n",
    "```python\n",
    "'INFO Sending email [01-09-2020T07:44:11.144] from:bob@mail.nl to:alice@mail.nl'\n",
    "```\n",
    "\n",
    "We want to extract the sender of the email of all lines that start with the \"INFO Sending email\" string.\n",
    "\n",
    "Later in the course we will see a more powerful mechanism, *regular expressions* to find patterns in strings."
   ]
  },
  {
   "cell_type": "code",
   "execution_count": null,
   "metadata": {},
   "outputs": [],
   "source": [
    "def printSender() -> None:\n",
    "    \"\"\" Look for interesting lines and print the sender of an email\n",
    "    \"\"\"\n",
    "    logs = open('datasets/logs.txt') # Get lines from the logs.txt file\n",
    "    \n",
    "    for line in logs:\n",
    "        line.rstrip() # Remove white spaces at the end of the string\n",
    "        \n",
    "        if line.startswith('INFO Sending email'): # Pick interesting lines\n",
    "            words : list = line.split() # Split line into words\n",
    "            print(words[4]) # Print the sender of the email\n",
    "\n",
    "printSender()"
   ]
  },
  {
   "cell_type": "markdown",
   "metadata": {
    "jupyter": {
     "source_hidden": true
    },
    "tags": []
   },
   "source": [
    "```{admonition} Do It Yourself!\n",
    ":class: seealso, dropdown\n",
    "Can you now print the receiver of the email?\n",
    "```"
   ]
  },
  {
   "cell_type": "code",
   "execution_count": null,
   "metadata": {
    "jupyter": {
     "source_hidden": true
    },
    "tags": []
   },
   "outputs": [],
   "source": [
    "# Remove this line and add your code here"
   ]
  },
  {
   "cell_type": "markdown",
   "metadata": {
    "slideshow": {
     "slide_type": "slide"
    }
   },
   "source": [
    "## Objects and Values\n",
    "\n",
    "There is a subtle difference between *objects* and *values*. \n",
    "\n",
    "Even when two objects represent the same value, they may be considered to be distinct."
   ]
  },
  {
   "cell_type": "code",
   "execution_count": null,
   "metadata": {
    "slideshow": {
     "slide_type": "fragment"
    }
   },
   "outputs": [],
   "source": [
    "a : str = 'Data'\n",
    "b : str = 'Data'\n",
    "\n",
    "a == b"
   ]
  },
  {
   "cell_type": "markdown",
   "metadata": {
    "slideshow": {
     "slide_type": "fragment"
    }
   },
   "source": [
    "`a` and `b` refer both to the string `\"Data\"`, but do they actually refer to the same string?\n",
    "\n",
    "See Figure 8.1 from the book *Python for Everybody*.\n",
    "\n",
    "```{image} assets/figure102.png\n",
    ":align: center\n",
    "```\n",
    "\n",
    "`a` and `b` can refer to two different **objects** that have the same value, or they refer to the same **object**.\n",
    "\n",
    "We can check this by means of the `is` operator."
   ]
  },
  {
   "cell_type": "code",
   "execution_count": null,
   "metadata": {
    "slideshow": {
     "slide_type": "fragment"
    }
   },
   "outputs": [],
   "source": [
    "a : str = 'Data'\n",
    "b : str = 'Data'\n",
    "\n",
    "print(a is b)\n",
    "\n",
    "print(a == b)"
   ]
  },
  {
   "cell_type": "markdown",
   "metadata": {
    "slideshow": {
     "slide_type": "fragment"
    }
   },
   "source": [
    "In this case Python creates one string object."
   ]
  },
  {
   "cell_type": "markdown",
   "metadata": {},
   "source": [
    "Observe what happens if you change both strings in \"Data science\". \n",
    "\n",
    "Try to explain this based on the <i>split</i> method from the previous section."
   ]
  },
  {
   "cell_type": "code",
   "execution_count": null,
   "metadata": {
    "slideshow": {
     "slide_type": "fragment"
    }
   },
   "outputs": [],
   "source": [
    "a : str = 'Data science'\n",
    "b : str = 'Data science'\n",
    "\n",
    "print(a is b)\n",
    "\n",
    "print(a == b)"
   ]
  },
  {
   "cell_type": "markdown",
   "metadata": {},
   "source": [
    "So, `list` objects are not the same."
   ]
  },
  {
   "cell_type": "code",
   "execution_count": null,
   "metadata": {
    "slideshow": {
     "slide_type": "fragment"
    }
   },
   "outputs": [],
   "source": [
    "a : list = [1, 2, 3]\n",
    "b : list = [1, 2, 3]\n",
    "a is b"
   ]
  },
  {
   "cell_type": "markdown",
   "metadata": {
    "slideshow": {
     "slide_type": "fragment"
    }
   },
   "source": [
    "If you create two lists which are exactly the same: same number of elements and in the same order, two different objects are created.\n",
    "\n",
    "The two lists are **equivalent**, they have the same elements, but they are not **identical**, they are not the same object.\n",
    "\n",
    "If two objects are identical, they are also equivalent, but if they are equivalent, they are not necessarily identical.\n",
    "\n",
    "If you want to be precise with your terminology, then you say that an object has a value.\n",
    "\n",
    "If you evaluate `[1, 2, 3]`, you get a list object whose\n",
    "value is a sequence of integers. \n",
    "\n",
    "If another list has the same elements, we say it has the\n",
    "same value, but it is not the same object."
   ]
  },
  {
   "cell_type": "markdown",
   "metadata": {
    "slideshow": {
     "slide_type": "slide"
    }
   },
   "source": [
    "## Aliasing\n",
    "\n",
    "What will be the result of the following Python fragment?"
   ]
  },
  {
   "cell_type": "code",
   "execution_count": null,
   "metadata": {
    "slideshow": {
     "slide_type": "fragment"
    }
   },
   "outputs": [],
   "source": [
    "a : list = [1, 2, 3]\n",
    "b : list = a\n",
    "b is a"
   ]
  },
  {
   "cell_type": "markdown",
   "metadata": {
    "slideshow": {
     "slide_type": "fragment"
    }
   },
   "source": [
    "\n",
    "The assocication of a variabe with an object is called a **reference**.\n",
    "\n",
    "In the previous example, both `a` and `b` refer to the same object:\n",
    "\n",
    "```{image} assets/figure104.png\n",
    ":align: center\n",
    "```\n",
    "\n",
    "If an object has more than one reference then the object is **aliased**.\n",
    "\n",
    "If the aliased object is mutable, then changes made via one variable affects the other."
   ]
  },
  {
   "cell_type": "code",
   "execution_count": null,
   "metadata": {
    "slideshow": {
     "slide_type": "fragment"
    }
   },
   "outputs": [],
   "source": [
    "a : list = [1, 2, 3]\n",
    "b : list = a\n",
    "b[1] = 42\n",
    "\n",
    "print(b)\n",
    "print(a)"
   ]
  },
  {
   "cell_type": "markdown",
   "metadata": {
    "slideshow": {
     "slide_type": "fragment"
    }
   },
   "source": [
    "In this case `a` and `b` are aliases for the same object.\n",
    "\n",
    "**aliasing** is useful, but dangerous. \n",
    "\n",
    "It hinders the understandability of programs, you have to keep all references in mind.\n",
    "\n",
    "It is safer to avoid aliasing when you are working with mutable objects."
   ]
  },
  {
   "cell_type": "markdown",
   "metadata": {
    "jupyter": {
     "source_hidden": true
    },
    "tags": []
   },
   "source": [
    "```{admonition} Do It Yourself!\n",
    ":class: seealso, dropdown\n",
    "Read about the `copy()` method. Can you modify the following code so only <i>b</i> is modified?\n",
    "```"
   ]
  },
  {
   "cell_type": "code",
   "execution_count": null,
   "metadata": {
    "jupyter": {
     "source_hidden": true
    },
    "tags": []
   },
   "outputs": [],
   "source": [
    "a = [1, 2, 3]\n",
    "b = a\n",
    "b[1] = 42\n",
    "\n",
    "print(b)\n",
    "print(a)"
   ]
  },
  {
   "cell_type": "markdown",
   "metadata": {
    "slideshow": {
     "slide_type": "slide"
    }
   },
   "source": [
    "## List as Arguments\n",
    "\n",
    "If you pass a list as an argument to a function, you have to be aware of the aliases.\n",
    "\n",
    "The function gets a reference to the lists, which is a mutable object, so every modification\n",
    "to the list has effect on the original list.\n",
    "\n"
   ]
  },
  {
   "cell_type": "code",
   "execution_count": null,
   "metadata": {
    "slideshow": {
     "slide_type": "fragment"
    }
   },
   "outputs": [],
   "source": [
    "def delete_head(lst : List[any]) -> None:\n",
    "    \"\"\" Remove the head of a list\n",
    "    \"\"\"\n",
    "    \n",
    "    del lst[0]\n",
    "    \n",
    "topics = ['Data science', 'Computer science', 'Programming']\n",
    "\n",
    "delete_head(topics)\n",
    "\n",
    "print(topics)"
   ]
  },
  {
   "cell_type": "markdown",
   "metadata": {
    "slideshow": {
     "slide_type": "fragment"
    }
   },
   "source": [
    "The parameter `lst` and the variable `topics` refer to the same object, are aliases.\n",
    "\n",
    "````{margin}\n",
    "```{admonition} EXTRA\n",
    "Such a function has a so-called **side effect**, when developing functions make sure they are side effect free\n",
    "in order to increase the understandability of your software.\n",
    "```\n",
    "````\n",
    "\n",
    "\n",
    "It is important to distinguish between operations that modify lists and operations that create\n",
    "new lists. \n",
    "\n",
    "The `append` method modifies a list, whereas the `+` operator creates a\n",
    "new list."
   ]
  },
  {
   "cell_type": "code",
   "execution_count": null,
   "metadata": {
    "slideshow": {
     "slide_type": "fragment"
    }
   },
   "outputs": [],
   "source": [
    "lst1 : list = [1, 2]\n",
    "lst2 : list = lst1.append(3)\n",
    "\n",
    "print(lst1)\n",
    "print(lst2)"
   ]
  },
  {
   "cell_type": "markdown",
   "metadata": {
    "slideshow": {
     "slide_type": "fragment"
    }
   },
   "source": [
    "The return value of the function `append` is `None`."
   ]
  },
  {
   "cell_type": "code",
   "execution_count": null,
   "metadata": {
    "slideshow": {
     "slide_type": "fragment"
    }
   },
   "outputs": [],
   "source": [
    "lst3 : list = lst1 + [4]\n",
    "\n",
    "print(lst1)\n",
    "print(lst3)"
   ]
  },
  {
   "cell_type": "markdown",
   "metadata": {
    "slideshow": {
     "slide_type": "fragment"
    }
   },
   "source": [
    "It is important to beware of aliases when you are writing functions that are supposed to modify lists.\n",
    "\n",
    "The following function does not delete the head of a list.\n"
   ]
  },
  {
   "cell_type": "markdown",
   "metadata": {},
   "source": [
    "````{margin}\n",
    "```{admonition} EXTRA\n",
    "The type hint of the `lst` argument of `bad_delete_head` is `List[any]` because this\n",
    "function operates on lists with arbitrary elements.\n",
    "```\n",
    "````"
   ]
  },
  {
   "cell_type": "code",
   "execution_count": null,
   "metadata": {
    "slideshow": {
     "slide_type": "fragment"
    }
   },
   "outputs": [],
   "source": [
    "print(lst3)\n",
    "\n",
    "def bad_delete_head(lst : List[any]) -> None:\n",
    "    \"\"\" Removes the head of a list\n",
    "    \"\"\"\n",
    "    \n",
    "    lst = lst[1:]   #WRONG!\n",
    "    print(lst)\n",
    "    \n",
    "bad_delete_head(lst3)\n",
    "print(lst3)"
   ]
  },
  {
   "cell_type": "markdown",
   "metadata": {
    "slideshow": {
     "slide_type": "fragment"
    }
   },
   "source": [
    "At the beginning of `bad_delete_head`, `lst` and `lst3` refer to the same list. \n",
    "\n",
    "At the end, `lst` refers to a new list, but `lst3` still refers to the original, unmodified list.\n",
    "\n",
    "An alternative is to write a function that creates and returns a new list. For example, `tail`\n",
    "returns all but the first element of a list."
   ]
  },
  {
   "cell_type": "code",
   "execution_count": null,
   "metadata": {
    "slideshow": {
     "slide_type": "fragment"
    }
   },
   "outputs": [],
   "source": [
    "def tail(lst : List[any]) -> List[any]:\n",
    "    \"\"\" Removes the head of a list\n",
    "    \"\"\"\n",
    "    \n",
    "    return lst[1:]\n",
    "    \n",
    "letters = ['a', 'b', 'c']\n",
    "\n",
    "rest = tail(letters)\n",
    "\n",
    "print(rest)"
   ]
  }
 ],
 "metadata": {
  "kernelspec": {
   "display_name": "Python 3",
   "language": "python",
   "name": "python3"
  },
  "language_info": {
   "codemirror_mode": {
    "name": "ipython",
    "version": 3
   },
   "file_extension": ".py",
   "mimetype": "text/x-python",
   "name": "python",
   "nbconvert_exporter": "python",
   "pygments_lexer": "ipython3",
   "version": "3.8.8"
  }
 },
 "nbformat": 4,
 "nbformat_minor": 4
}
