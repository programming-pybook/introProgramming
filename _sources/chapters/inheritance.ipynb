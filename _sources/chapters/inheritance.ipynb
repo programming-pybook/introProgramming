{
 "cells": [
  {
   "cell_type": "markdown",
   "metadata": {
    "slideshow": {
     "slide_type": "slide"
    }
   },
   "source": [
    "# Inheritance [^intro]\n",
    "\n",
    "[^intro]: This Jupyter Notebook is based on Chapter 18 of {cite}`thinkPython`."
   ]
  },
  {
   "cell_type": "markdown",
   "metadata": {
    "slideshow": {
     "slide_type": "slide"
    }
   },
   "source": [
    "**Inheritance** is another important concept in the object oriented programming paradigm.\n",
    "\n",
    "Inheritance refers to defining a new class with little or no modification to an existing class. \n",
    "\n",
    "Inheritance is the ability to define a new class that is a modified version of an existing\n",
    "class without copy-and-pasting.\n",
    "\n",
    "This Jupyter Notebook contains **much more** material than Chapter 18 of the book *Think Python*."
   ]
  },
  {
   "cell_type": "markdown",
   "metadata": {
    "slideshow": {
     "slide_type": "slide"
    }
   },
   "source": [
    "## Dish Objects\n",
    "\n",
    "Healthy food is a hype. People pay a lot of attention to what they eat. It should be low on calories but nevertheless tasty.\n",
    "\n",
    "We are going to develop a number of classes to represent dishes and meals in order to see whether our calorie intake is just right (not too much, not too little).\n",
    "\n",
    "The types of meals we distinguish are `breakfast`, `lunch`, `dinner`, and `all`.\n",
    "\n",
    "The types of food we distinguish are `vegetarian` and `non-vegetarian`.\n",
    "\n",
    "If we want to define a new object to represent a dish, it is obvious what the attributes should be: `meal_type` and `food_type`. \n",
    "\n",
    "A \"better\" way is to use integers to **encode** the `meal_type` and `food_type`. \n",
    "\n",
    "In this context, “encode” means that we are going to define a mapping between numbers and meal_types and food_types.\n",
    "\n",
    "This kind of encoding is not meant to be a secret (that would be “encryption”).\n",
    "\n",
    "For example, this table shows the meals and the corresponding integer codes:\n",
    "\n",
    "* all $\\rightarrow$ 0\n",
    "* breakfast $\\rightarrow$ 1\n",
    "* lunch $\\rightarrow$ 2\n",
    "* dinner $\\rightarrow$ 3\n",
    "\n",
    "The next table shows the type of food and the corresponding integer codes:\n",
    "\n",
    "* vegetarian $\\rightarrow$ 0\n",
    "* non-vegetarian $\\rightarrow$ 1\n",
    "\n",
    "Although the latter mapping is a kind of overkill, it allows the introduction of more specific food types, like meat, fish, etc.\n",
    "\n",
    "The $\\rightarrow$ symbol is used to make it clear that these mappings are not part of the Python program. \n",
    "\n",
    "They are part of the program design, but they do not appear explicitly in the code."
   ]
  },
  {
   "cell_type": "code",
   "execution_count": 2,
   "metadata": {
    "slideshow": {
     "slide_type": "fragment"
    }
   },
   "outputs": [],
   "source": [
    "class Dish:\n",
    "    \"\"\"Represents a dish.\"\"\"\n",
    "\n",
    "    food_type_names : list = ['vegetarian', 'non-vegetarian']\n",
    "    meal_names : list = ['all', 'breakfast', 'lunch', 'dinner']\n",
    "    \n",
    "    def __init__(self, name : str, calories : int, food_type : int = 1, meal : int = 0) -> None:\n",
    "        \"\"\" creates a new Meal object and initializes it\n",
    "        \"\"\"\n",
    "        self.name : str = name\n",
    "        self.calories : int = calories\n",
    "        self.food_type : int = food_type\n",
    "        self.meal : int = meal"
   ]
  },
  {
   "cell_type": "markdown",
   "metadata": {
    "slideshow": {
     "slide_type": "fragment"
    }
   },
   "source": [
    "As usual, the `init` method takes an optional parameter for each attribute. \n",
    "\n",
    "The default meal is `0` (`all`) and the food type is `1` (`non-vegetarian`).\n",
    "\n",
    "To create a `Dish`, you call `Dish` with the food type and meal type of the dish you want."
   ]
  },
  {
   "cell_type": "code",
   "execution_count": 5,
   "metadata": {
    "slideshow": {
     "slide_type": "fragment"
    }
   },
   "outputs": [],
   "source": [
    "fries : Dish = Dish('fries', 400, 0, 3)"
   ]
  },
  {
   "cell_type": "markdown",
   "metadata": {
    "jupyter": {
     "source_hidden": true
    },
    "tags": []
   },
   "source": [
    "```{admonition} Do It Yourself!\n",
    ":class: seealso, dropdown\n",
    "Let's improve the <i>Dog</i> type we defined in previous chapters. This time we want to have the following attributes: `name`, `breed`, `age`, and `weight`. Define the `init` function and the `breeds` class attribute.\n",
    "```"
   ]
  },
  {
   "cell_type": "code",
   "execution_count": null,
   "metadata": {
    "jupyter": {
     "source_hidden": true
    },
    "tags": []
   },
   "outputs": [],
   "source": [
    "# Remove this line and add your code here"
   ]
  },
  {
   "cell_type": "markdown",
   "metadata": {
    "slideshow": {
     "slide_type": "slide"
    }
   },
   "source": [
    "## Class Attributes\n",
    "\n",
    "In order to print `Dish` objects in a way that people can easily read, we need a mapping\n",
    "from the integer codes to the corresponding meal and food types. \n",
    "\n",
    "A natural way to do that is with lists of strings. We assign these lists to **class attribute**."
   ]
  },
  {
   "cell_type": "code",
   "execution_count": 6,
   "metadata": {
    "slideshow": {
     "slide_type": "fragment"
    }
   },
   "outputs": [],
   "source": [
    "class Dish:\n",
    "    \"\"\"Represents a dish.\"\"\"\n",
    "    \n",
    "    food_type_names : list = ['vegetarian', 'non-vegetarian']\n",
    "    meal_names : list = ['all', 'breakfast', 'lunch', 'dinner']\n",
    "\n",
    "    def __init__(self, name: str, calories : int, food_type : int = 1, meal : int = 0) -> None:\n",
    "        \"\"\" creates a new Meal object and initializes it\n",
    "        \"\"\"\n",
    "        self.name : str = name\n",
    "        self.calories : int = calories\n",
    "        self.food_type : int = food_type\n",
    "        self.meal : int = meal\n",
    "        \n",
    "    def __str__(self) -> str:\n",
    "        \"\"\" returns the string represetation of a Dish object\n",
    "        \"\"\"\n",
    "        return '{} dish {} has {:d} calories and is used {} meal'.format(Dish.food_type_names[self.food_type], self.name, self.calories, Dish.meal_names[self.meal])"
   ]
  },
  {
   "cell_type": "markdown",
   "metadata": {
    "slideshow": {
     "slide_type": "fragment"
    }
   },
   "source": [
    "Variables like `food_type_names` and `meal_names`, which are defined inside a class but outside\n",
    "of any method, are called class attributes because they are associated with the class object `Dish`.\n",
    "\n",
    "This term distinguishes them from variables like `food_type` and `meal`, which are called **instance attributes** because they are associated with a particular instance (object).\n",
    "\n",
    "Both kinds of attribute are accessed using dot notation. For example, in `__str__`, `self`\n",
    "is a `Dish` object, and `self.meal` is its meal. \n",
    "\n",
    "`Dish` is a class object, and\n",
    "`Dish.meal_names` is a list of strings associated with the class.\n",
    "\n",
    "Every dish has its own `food_type` and `meal`, but there is only one copy of `food_type_names` and\n",
    "`meal_names`.\n",
    "\n",
    "Putting it all together, the expression `Dish.meal_names[self.meal]` \n",
    "means “use the attribute `meal` from the object `self` as an index into the list `meal_names` \n",
    "from the class `Dish`, and select the appropriate string.\"\n",
    "\n",
    "With the methods we have so far, we can create and print dishes."
   ]
  },
  {
   "cell_type": "code",
   "execution_count": 7,
   "metadata": {
    "slideshow": {
     "slide_type": "fragment"
    }
   },
   "outputs": [
    {
     "name": "stdout",
     "output_type": "stream",
     "text": [
      "vegetarian dish fries has 400 calories and is used lunch meal\n"
     ]
    }
   ],
   "source": [
    "dish : Dish = Dish('fries', 400, 0, 2)\n",
    "print(dish)"
   ]
  },
  {
   "cell_type": "markdown",
   "metadata": {
    "jupyter": {
     "source_hidden": true
    },
    "tags": []
   },
   "source": [
    "```{admonition} Do It Yourself!\n",
    ":class: seealso, dropdown\n",
    "Let's add a new class attribute <i>breeds</i> with the accepted dog breeds to the <i>Dog</i> type. It must be a list with the following options: \"labrador\", \"chihuahua\", \"samoyed\", \"shar-pei\". The <i>breed</i> instance attribute should now be an integer.\n",
    "```"
   ]
  },
  {
   "cell_type": "code",
   "execution_count": null,
   "metadata": {
    "jupyter": {
     "source_hidden": true
    },
    "tags": []
   },
   "outputs": [],
   "source": [
    "# Remove this line and add your code here"
   ]
  },
  {
   "cell_type": "markdown",
   "metadata": {
    "slideshow": {
     "slide_type": "slide"
    }
   },
   "source": [
    "## Comparing Dishes\n",
    "\n",
    "For built-in types, there are relational operators (`<`, `>`, `==`, etc.) that compare \n",
    "values and determine when one is greater than, less than, or equal to another. \n",
    "\n",
    "For programmer-defined types, we can override the behavior of the built-in operators by providing a method named `__lt__`, which stands for “less than”. \n",
    "\n",
    "This is similar to the `__str__` method that overrides the `print` method.\n",
    "\n",
    "`__lt__` takes two parameters, `self` and `other`, and returns `True` if `self` is strictly less than other.\n",
    "\n",
    "The correct ordering for dishes may be not obvious. \n",
    "\n",
    "What criteria do we use, is a vegetarian dish healthier than a non-vegetarian dish? Or\n",
    "do we only look at the amount of calories? Or do we take the meal into consideration as well?\n",
    "\n",
    "For this moment we take the calories into consideration when comparing dishes."
   ]
  },
  {
   "cell_type": "code",
   "execution_count": 9,
   "metadata": {
    "slideshow": {
     "slide_type": "fragment"
    }
   },
   "outputs": [],
   "source": [
    "class Dish:\n",
    "    \"\"\"Represents a dish.\"\"\"\n",
    "    \n",
    "    food_type_names : list = ['vegetarian', 'non-vegetarian']\n",
    "    meal_names : list = ['all', 'breakfast', 'lunch', 'dinner']\n",
    "\n",
    "    def __init__(self, name: str, calories : int, food_type : int = 1, meal : int = 0) -> None:\n",
    "        \"\"\" creates a new Meal object and initializes it\n",
    "        \"\"\"\n",
    "        self.name : str = name\n",
    "        self.calories : int = calories\n",
    "        self.food_type : int = food_type\n",
    "        self.meal : int = meal\n",
    "        \n",
    "    def __str__(self) -> str:\n",
    "        \"\"\" returns the string represetation of a Dish object\n",
    "        \"\"\"\n",
    "        return '{} dish {} has {:d} calories and is used {} meal'.format(Dish.food_type_names[self.food_type], self.name, self.calories, Dish.meal_names[self.meal])\n",
    "    \n",
    "    def __lt__(self, other) -> bool:\n",
    "        \"\"\" compares 2 dishes based on calories\n",
    "        \"\"\"\n",
    "        # check the calories\n",
    "        return self.calories < other.calories"
   ]
  },
  {
   "cell_type": "markdown",
   "metadata": {
    "jupyter": {
     "source_hidden": true
    },
    "tags": []
   },
   "source": [
    "```{admonition} Do It Yourself!\n",
    ":class: seealso, dropdown\n",
    "Override the <i>__str__</i> method of the <i>Dog</i> types o it says: \"<i>name</i> is a <i>breed</i>\". Use the <i>breeds</i> class attribute to get the name of the breed.\n",
    "```"
   ]
  },
  {
   "cell_type": "code",
   "execution_count": null,
   "metadata": {
    "jupyter": {
     "source_hidden": true
    },
    "tags": []
   },
   "outputs": [],
   "source": [
    "# Remove this line and add your code here"
   ]
  },
  {
   "cell_type": "markdown",
   "metadata": {
    "slideshow": {
     "slide_type": "slide"
    }
   },
   "source": [
    "## Meals\n",
    "\n",
    "Now that we have dishes we can start composing meals."
   ]
  },
  {
   "cell_type": "code",
   "execution_count": 10,
   "metadata": {
    "slideshow": {
     "slide_type": "fragment"
    }
   },
   "outputs": [],
   "source": [
    "class Meal:\n",
    "    \"\"\"Represents a collection of dishes.\"\"\"\n",
    "    \n",
    "    def __init__(self) -> None:\n",
    "        \"\"\" creates a new Meal object and initializes it\n",
    "        \"\"\"\n",
    "        self.dishes : list = []"
   ]
  },
  {
   "cell_type": "markdown",
   "metadata": {},
   "source": [
    "The following `__init__` method is more robust."
   ]
  },
  {
   "cell_type": "code",
   "execution_count": 11,
   "metadata": {},
   "outputs": [],
   "source": [
    "class Meal:\n",
    "    \"\"\"Represents a collection of dishes.\"\"\"\n",
    "    \n",
    "    def __init__(self, dishes=[]) -> None:\n",
    "        \"\"\" creates a new Meal object and initializes it\n",
    "        \"\"\"\n",
    "        self.dishes : list = dishes"
   ]
  },
  {
   "cell_type": "markdown",
   "metadata": {
    "slideshow": {
     "slide_type": "fragment"
    }
   },
   "source": [
    "We need to be able to compose a meal given a list of dishes."
   ]
  },
  {
   "cell_type": "code",
   "execution_count": 12,
   "metadata": {
    "slideshow": {
     "slide_type": "fragment"
    }
   },
   "outputs": [],
   "source": [
    "class Meal:\n",
    "    \"\"\"Represents a collection of dishes.\"\"\"\n",
    "    \n",
    "    def __init__(self, dishes=[]) -> None:\n",
    "        \"\"\" creates a new Meal object and initializes it\n",
    "        \"\"\"\n",
    "        self.dishes : list = dishes\n",
    "        \n",
    "    def compose(self, dishes : list) -> None:\n",
    "        \"\"\" composes a meal\n",
    "        \"\"\"\n",
    "        self.dishes : list = dishes"
   ]
  },
  {
   "cell_type": "markdown",
   "metadata": {
    "jupyter": {
     "source_hidden": true
    },
    "tags": []
   },
   "source": [
    "```{admonition} Do It Yourself!\n",
    ":class: seealso, dropdown\n",
    "Now, the <i>DogOwner</i> type can have more than one dog. Remember that a dog owner has a <i>name</i>, <i>last name</i>, and <i>age</i>. Create the <i>init</i> function so it reflects this new requirement. Afterwards, create the method <i>get_dog</i>, which adds one new dog to the list of dogs of the owner.\n",
    "```"
   ]
  },
  {
   "cell_type": "code",
   "execution_count": null,
   "metadata": {
    "jupyter": {
     "source_hidden": true
    },
    "tags": []
   },
   "outputs": [],
   "source": [
    "# Remove this line and add your code here"
   ]
  },
  {
   "cell_type": "markdown",
   "metadata": {
    "slideshow": {
     "slide_type": "slide"
    }
   },
   "source": [
    "## Printing a Meal\n",
    "\n",
    "The next cell extends the class with a `__str__` method for printing a `Meal`."
   ]
  },
  {
   "cell_type": "code",
   "execution_count": 13,
   "metadata": {
    "slideshow": {
     "slide_type": "fragment"
    }
   },
   "outputs": [],
   "source": [
    "class Meal:\n",
    "    \"\"\"Represents a collection of dishes.\"\"\"\n",
    "    \n",
    "    def __init__(self, dishes=[]) -> None:\n",
    "        \"\"\" creates a new Meal object and initializes it\n",
    "        \"\"\"\n",
    "        self.dishes : list = dishes\n",
    "        \n",
    "    def __str__(self):\n",
    "        dlst : list = []\n",
    "        for dish in self.dishes:\n",
    "            dlst.append(dish.name)\n",
    "        return '\\n'.join(dlst)\n",
    "        \n",
    "    def compose(self, dishes : list) -> None:\n",
    "        \"\"\" composes a meal\n",
    "        \"\"\"\n",
    "        self.dishes : list = dishes"
   ]
  },
  {
   "cell_type": "markdown",
   "metadata": {
    "slideshow": {
     "slide_type": "fragment"
    }
   },
   "source": [
    "Since we invoke `join` on a newline character, the dishes are separated by newlines. \n",
    "\n",
    "Even though the result appears on multiple lines, it is one long string that contains newlines.\n",
    "\n",
    "Here is what the result looks like."
   ]
  },
  {
   "cell_type": "code",
   "execution_count": 14,
   "metadata": {
    "slideshow": {
     "slide_type": "fragment"
    }
   },
   "outputs": [
    {
     "name": "stdout",
     "output_type": "stream",
     "text": [
      "cereals\n",
      "eggs\n"
     ]
    }
   ],
   "source": [
    "cereals : Dish = Dish('cereals', 200, 0, 1)\n",
    "eggs : Dish = Dish('eggs', 100, 0, 1)\n",
    "meal : Meal = Meal()\n",
    "meal.compose([cereals, eggs])\n",
    "print(meal)"
   ]
  },
  {
   "cell_type": "markdown",
   "metadata": {},
   "source": [
    "The following code is better."
   ]
  },
  {
   "cell_type": "code",
   "execution_count": 15,
   "metadata": {},
   "outputs": [
    {
     "name": "stdout",
     "output_type": "stream",
     "text": [
      "cereals\n",
      "eggs\n"
     ]
    }
   ],
   "source": [
    "cereals : Dish = Dish('cereals', 200, 0, 1)\n",
    "eggs : Dish = Dish('eggs', 100, 0, 1)\n",
    "meal : Meal = Meal([cereals, eggs])\n",
    "print(meal)"
   ]
  },
  {
   "cell_type": "markdown",
   "metadata": {
    "jupyter": {
     "source_hidden": true
    },
    "tags": []
   },
   "source": [
    "```{admonition} Do It Yourself!\n",
    ":class: seealso, dropdown\n",
    "Define the <i>__str__</i> method of the <i>DogOwner</i> type. You should print the message \"<i>name</i> <i>last_name</i> is <i>age</i> years old and has the following dogs:\". Then, use the <i>join</i> method to append the result of invoking the <i>str</i> method on each dog.\n",
    "```"
   ]
  },
  {
   "cell_type": "code",
   "execution_count": null,
   "metadata": {
    "jupyter": {
     "source_hidden": true
    },
    "tags": []
   },
   "outputs": [],
   "source": [
    "# Remove this line and add your code here"
   ]
  },
  {
   "cell_type": "markdown",
   "metadata": {
    "slideshow": {
     "slide_type": "slide"
    }
   },
   "source": [
    "## Add, Remove, Unique, and Surprise Me\n",
    "\n",
    "Sometimes you want to remove a dish from a meal.\n",
    "\n",
    "The list method `remove` provides a convenient way to do that, but you need to pass the name\n",
    "of the dish."
   ]
  },
  {
   "cell_type": "code",
   "execution_count": 16,
   "metadata": {
    "slideshow": {
     "slide_type": "fragment"
    }
   },
   "outputs": [],
   "source": [
    "class Meal:\n",
    "    \"\"\"Represents a collection of dishes.\"\"\"\n",
    "    \n",
    "    def __init__(self, dishes=[]) -> None:\n",
    "        \"\"\" creates a new Meal object and initializes it\n",
    "        \"\"\"\n",
    "        self.dishes : list = dishes\n",
    "        \n",
    "    def __str__(self):\n",
    "        dlst : list = []\n",
    "        for dish in self.dishes:\n",
    "            dlst.append(dish.name)\n",
    "        return '\\n'.join(slst)\n",
    "        \n",
    "    def compose(self, dishes : list) -> None:\n",
    "        \"\"\" composes a meal\n",
    "        \"\"\"\n",
    "        self.dishes : list = dishes\n",
    "        \n",
    "    def remove_dish(self, dish_name : str) -> None:\n",
    "        \"\"\" removes a dish from a meal\n",
    "        \"\"\"\n",
    "        for i in range(len(self.dishes)):\n",
    "            if self.dishes[i].name == dish_name:\n",
    "                del self.dishes[i]\n",
    "                break"
   ]
  },
  {
   "cell_type": "markdown",
   "metadata": {
    "slideshow": {
     "slide_type": "fragment"
    }
   },
   "source": [
    "Since `remove` removes a dish from the list, if you want to remove a specific dish, you need to pass its name as argument.\n",
    "\n",
    "To add a dish, we can use the list method `append`."
   ]
  },
  {
   "cell_type": "code",
   "execution_count": null,
   "metadata": {
    "slideshow": {
     "slide_type": "fragment"
    }
   },
   "outputs": [],
   "source": [
    "class Meal:\n",
    "    \"\"\"Represents a collection of dishes.\"\"\"\n",
    "    \n",
    "    def __init__(self, dishes=[]) -> None:\n",
    "        \"\"\" creates a new Meal object and initializes it\n",
    "        \"\"\"\n",
    "        self.dishes : list = dishes\n",
    "        \n",
    "    def __str__(self):\n",
    "        dlst = []\n",
    "        for dish in self.dishes:\n",
    "            dlst.append(dish.name)\n",
    "        return '\\n'.join(dlst)\n",
    "        \n",
    "    def compose(self, dishes : list) -> None:\n",
    "        \"\"\" composes a meal\n",
    "        \"\"\"\n",
    "        self.dishes : list = dishes\n",
    "        \n",
    "    def remove_dish(self, dish_name : str) -> None:\n",
    "        \"\"\" removes a dish from a meal\n",
    "        \"\"\"\n",
    "        for i in range(len(self.dishes)):\n",
    "            if self.dishes[i].name == dish_name:\n",
    "                del self.dishes[i]\n",
    "                break\n",
    "    \n",
    "    def add_dish(self, dish : Dish) -> None:\n",
    "        \"\"\" add a dish to a meal\n",
    "        \"\"\"\n",
    "        self.dishes.append(dish)"
   ]
  },
  {
   "cell_type": "markdown",
   "metadata": {},
   "source": [
    "Maybe you do not want to have the same dish twice in your meal. \n",
    "\n",
    "For that, we introduce a method to check whether a dish is already in the meal."
   ]
  },
  {
   "cell_type": "code",
   "execution_count": 17,
   "metadata": {
    "slideshow": {
     "slide_type": "fragment"
    }
   },
   "outputs": [],
   "source": [
    "class Meal:\n",
    "    \"\"\"Represents a collection of dishes.\"\"\"\n",
    "    \n",
    "    def __init__(self, dishes=[]) -> None:\n",
    "        \"\"\" creates a new Meal object and initializes it\n",
    "        \"\"\"\n",
    "        self.dishes : list = dishes\n",
    "        \n",
    "    def __str__(self):\n",
    "        dlst = []\n",
    "        for dish in self.dishes:\n",
    "            dlst.append(dish.name)\n",
    "        return '\\n'.join(dlst)\n",
    "        \n",
    "    def compose(self, dishes : list) -> None:\n",
    "        \"\"\" composes a meal\n",
    "        \"\"\"\n",
    "        self.dishes : list = dishes\n",
    "        \n",
    "    def remove_dish(self, dish_name : str) -> None:\n",
    "        \"\"\" removes a dish from a meal\n",
    "        \"\"\"\n",
    "        for i in range(len(self.dishes)):\n",
    "            if self.dishes[i].name == dish_name:\n",
    "                del self.dishes[i]\n",
    "                break\n",
    "    \n",
    "    def add_dish(self, dish : Dish) -> None:\n",
    "        \"\"\" adds a dish to a meal\n",
    "        \"\"\"\n",
    "        self.dishes.append(dish)\n",
    "        \n",
    "    def contains_dish(self, dish : Dish) -> bool:\n",
    "        \"\"\" checks whether the dish is already in the meal\n",
    "        \"\"\"\n",
    "        return dish in self.dishes"
   ]
  },
  {
   "cell_type": "code",
   "execution_count": 18,
   "metadata": {
    "slideshow": {
     "slide_type": "fragment"
    }
   },
   "outputs": [
    {
     "name": "stdout",
     "output_type": "stream",
     "text": [
      "cereals\n",
      "eggs\n",
      "True\n",
      "False\n",
      "cereals\n",
      "bread\n"
     ]
    }
   ],
   "source": [
    "cereals : Dish = Dish('cereals', 200, 0, 1)\n",
    "eggs : Dish = Dish('eggs', 100, 0, 1)\n",
    "bread : Dish = Dish('bread', 50, 0, 0)\n",
    "meal : Meal = Meal([cereals, eggs])\n",
    "print(meal)\n",
    "meal.remove_dish('eggs')\n",
    "meal.add_dish(bread)\n",
    "print(meal.contains_dish(bread))\n",
    "print(meal.contains_dish(eggs))\n",
    "\n",
    "print(meal)"
   ]
  },
  {
   "cell_type": "markdown",
   "metadata": {
    "slideshow": {
     "slide_type": "slide"
    }
   },
   "source": [
    "There exists an extensive list of food data, see https://catalog.data.gov/dataset/mypyramid-food-raw-data-f9ed6.\n",
    "\n",
    "This list has been the basis for creating a CSV file with about 85 different types of food, including information on\n",
    "calories, portion size, (non-)vegetarian and type of meal.\n",
    "\n",
    "Suppose you want to select arbitrary of dishes from this list.\n",
    "\n",
    "Before we start implementing the function to read the CSV file, we first write a function to convert an entry of the CSV file into a dish.\n",
    "\n",
    "The information in the CSV file is:\n",
    "\n",
    "`Display_Name; Portion_Amount; Portion_Display_Name; Meats;Calories; Vegetarian; Meal`. \n",
    "\n",
    "We use this information to develop the conversion function `convert_to_dish`."
   ]
  },
  {
   "cell_type": "code",
   "execution_count": 22,
   "metadata": {
    "slideshow": {
     "slide_type": "fragment"
    }
   },
   "outputs": [],
   "source": [
    "def convert_to_dish(entry) -> Dish:\n",
    "    name : str = entry['Display_Name']\n",
    "    calories : int = entry['Calories']\n",
    "    if entry['Meal'] == 'B':\n",
    "        meal_type = 1\n",
    "    elif entry['Meal'] == 'L':\n",
    "        meal_type = 2\n",
    "    elif entry['Meal'] == 'D':\n",
    "        meal_type = 3\n",
    "    else: # entry['Meal'] == 'A'\n",
    "        meal_type = 0\n",
    "        \n",
    "    if entry['Vegetarian'] == 'yes':\n",
    "        dish : Dish = Dish(name, calories, 0, meal_type)\n",
    "    else:\n",
    "        dish : Dish = Dish(name, calories, 1, meal_type)\n",
    "    return dish"
   ]
  },
  {
   "cell_type": "markdown",
   "metadata": {
    "slideshow": {
     "slide_type": "slide"
    }
   },
   "source": [
    "For that we introduce the method `surprise_me`, it takes the number of dishes to be added to\n",
    "the meal, and it uses a random function to \"select\" the dishes."
   ]
  },
  {
   "cell_type": "markdown",
   "metadata": {
    "slideshow": {
     "slide_type": "slide"
    }
   },
   "source": [
    "Before we can implement this `surprise_me` method, we first have to define a function to\n",
    "process food data (given as a CSV file) via a function `process_food_data`.\n",
    "\n",
    "See https://docs.python.org/3/library/csv.html for more information on CSV files.\n",
    "\n",
    "We need to import the `csv` module."
   ]
  },
  {
   "cell_type": "code",
   "execution_count": 23,
   "metadata": {
    "slideshow": {
     "slide_type": "fragment"
    }
   },
   "outputs": [],
   "source": [
    "import csv\n",
    "\n",
    "def process_food_data():    \n",
    "    \"\"\" reads a CSV and converts it into a dictionary where the key is plain integer value\n",
    "        and the value is a Dish\n",
    "    \"\"\"\n",
    "    csv_file = open('datasets/FoodTable.csv')\n",
    "    food_table : dict = dict()\n",
    "    reader = csv.DictReader(csv_file, delimiter=';')\n",
    "    \n",
    "    i : int = 0\n",
    "    for entry in reader:\n",
    "        food_table[i] = convert_to_dish(entry)\n",
    "        i += 1    \n",
    "        \n",
    "    csv_file.close()\n",
    "    return food_table"
   ]
  },
  {
   "cell_type": "markdown",
   "metadata": {
    "slideshow": {
     "slide_type": "fragment"
    }
   },
   "source": [
    "The next step is writing a function that converts an entry in the food data into a dish.\n",
    "\n",
    "Note, that the function `randint` is used to generate an arbitrary ranking."
   ]
  },
  {
   "cell_type": "markdown",
   "metadata": {
    "slideshow": {
     "slide_type": "fragment"
    }
   },
   "source": [
    "The next step is to write the `surprise_me` method, that given an integer value as argument, selects that number\n",
    "of dishes (arbitrary from the list of dishes)."
   ]
  },
  {
   "cell_type": "code",
   "execution_count": 24,
   "metadata": {
    "slideshow": {
     "slide_type": "fragment"
    }
   },
   "outputs": [
    {
     "name": "stdout",
     "output_type": "stream",
     "text": [
      "Fruit yogurt, fat-free sugar-free\n",
      "Wheat cracker\n",
      "Potato chips, regular (all flavors)\n",
      "Light butter\n",
      "Meat pizza, thick crust\n"
     ]
    }
   ],
   "source": [
    "import random\n",
    "\n",
    "class Meal:\n",
    "    \"\"\"Represents a collection of dishes.\"\"\"\n",
    "    \n",
    "    def __init__(self, dishes=[]) -> None:\n",
    "        \"\"\" creates a new Meal object and initializes it\n",
    "        \"\"\"\n",
    "        self.dishes : list = dishes\n",
    "        \n",
    "    def __str__(self) -> str:\n",
    "        dlst = []\n",
    "        for dish in self.dishes:\n",
    "            dlst.append(dish.name)\n",
    "        return '\\n'.join(dlst)\n",
    "        \n",
    "    def compose(self, dishes : list) -> None:\n",
    "        \"\"\" composes a meal\n",
    "        \"\"\"\n",
    "        self.dishes  : list= dishes\n",
    "        \n",
    "    def remove_dish(self, dish_name : str) -> None:\n",
    "        \"\"\" removes a dish from a meal\n",
    "        \"\"\"\n",
    "        for i in range(len(self.dishes)):\n",
    "            if self.dishes[i].name == dish_name:\n",
    "                del self.dishes[i]\n",
    "                break\n",
    "    \n",
    "    def add_dish(self, dish : Dish) -> None:\n",
    "        \"\"\" adds a dish to a meal\n",
    "        \"\"\"\n",
    "        self.dishes.append(dish)\n",
    "        \n",
    "    def contains_dish(self, dish : Dish) -> bool:\n",
    "        \"\"\" checks whether the dish is already in the meal\n",
    "        \"\"\"\n",
    "        return dish in self.dishes\n",
    "            \n",
    "    def surprise_me(self, nr : int) -> None:\n",
    "        \"\"\" add arbitrary dishes upto 'nr_of_dishes'\n",
    "        \"\"\"\n",
    "        for i in range(nr):\n",
    "            dish : Dish = food_table[random.randint(0,len(food_table))]\n",
    "            while self.contains_dish(dish):\n",
    "                dish = food_table[random.randint(0,len(food_table))]\n",
    "            self.add_dish(dish)\n",
    "    \n",
    "food_table = process_food_data()\n",
    "meal = Meal()\n",
    "meal.surprise_me(5)\n",
    "print(meal)"
   ]
  },
  {
   "cell_type": "markdown",
   "metadata": {
    "jupyter": {
     "source_hidden": true
    },
    "tags": []
   },
   "source": [
    "```{admonition} Do It Yourself!\n",
    ":class: seealso, dropdown\n",
    "Define the <i>remove_dog</i> and <i>has_dog</i> methods on the <i>DogOwner</i> class. The former removes a dog given its name from the list of dogs. The latter verifies if a dog is part of the list of dogs given its name.\n",
    "```"
   ]
  },
  {
   "cell_type": "code",
   "execution_count": null,
   "metadata": {
    "jupyter": {
     "source_hidden": true
    },
    "tags": []
   },
   "outputs": [],
   "source": [
    "# Remove this line and add your code here"
   ]
  },
  {
   "cell_type": "markdown",
   "metadata": {
    "slideshow": {
     "slide_type": "slide"
    }
   },
   "source": [
    "## Inheritance\n",
    "\n",
    "Inheritance is the ability to define a new class that is a modified version of an existing class.\n",
    "\n",
    "As an example, suppose we want to distinguish between the general concept of a meal and a specific meal, such as\n",
    "breakfast, lunch and dinner.\n",
    "\n",
    "To define a new class that inherits from an existing class, you put the name of the existing\n",
    "class in parentheses."
   ]
  },
  {
   "cell_type": "markdown",
   "metadata": {
    "slideshow": {
     "slide_type": "slide"
    }
   },
   "source": [
    "The new class is called **derived (or child) class** and the one from which it *inherits* is called the **base (or parent) class**.\n",
    "\n",
    "A derived class inherits features from the base class where new features can be added to it. This results in re-usability of code.\n",
    "\n",
    "The syntax for inheritance:\n",
    "\n",
    "`class BaseClass:\n",
    "    Body of base class\n",
    "class DerivedClass(BaseClass):\n",
    "    Body of derived class`"
   ]
  },
  {
   "cell_type": "code",
   "execution_count": null,
   "metadata": {
    "slideshow": {
     "slide_type": "fragment"
    }
   },
   "outputs": [],
   "source": [
    "class Breakfast(Meal):\n",
    "    \"\"\" represents a breakfast as a meal \n",
    "    \"\"\""
   ]
  },
  {
   "cell_type": "markdown",
   "metadata": {
    "slideshow": {
     "slide_type": "fragment"
    }
   },
   "source": [
    "This definition indicates that `Breakfast` inherits from `Meal`; that means we can use methods like\n",
    "`add_dish` and `remove_dish` for `Breakfast` as well as `Meal`.\n",
    "\n",
    "When a new class inherits from an existing one, the existing one is called the **parent** and\n",
    "the new class is called the **child**.\n",
    "\n",
    "In this example, `Breakfast` inherits `__init__` from `Meal`, but it does not really do what we want:\n",
    "instead we want to start healthy with a glass of orange juice, the `__init__` method for `Breakfast` should initialize dishes with an orange juice. Thus, we **override** it."
   ]
  },
  {
   "cell_type": "code",
   "execution_count": 19,
   "metadata": {
    "slideshow": {
     "slide_type": "fragment"
    }
   },
   "outputs": [],
   "source": [
    "class Breakfast(Meal):\n",
    "    \"\"\" represents a breakfast as a meal\n",
    "    \"\"\"\n",
    "    \n",
    "    def __init__(self):\n",
    "        orange_juice : Dish = Dish('Orange juice (100% juice)', 105, 0, 0)\n",
    "        Meal.__init__(self,[orange_juice])"
   ]
  },
  {
   "cell_type": "markdown",
   "metadata": {
    "slideshow": {
     "slide_type": "fragment"
    }
   },
   "source": [
    "When you create a `Breakfast`, Python invokes this `__init__` method, not the one in `Meal`."
   ]
  },
  {
   "cell_type": "code",
   "execution_count": 20,
   "metadata": {
    "slideshow": {
     "slide_type": "fragment"
    }
   },
   "outputs": [
    {
     "name": "stdout",
     "output_type": "stream",
     "text": [
      "Orange juice (100% juice)\n"
     ]
    }
   ],
   "source": [
    "breakfast : Breakfast = Breakfast()\n",
    "print(breakfast)"
   ]
  },
  {
   "cell_type": "markdown",
   "metadata": {
    "slideshow": {
     "slide_type": "fragment"
    }
   },
   "source": [
    "The other methods are inherited from `Meal`, so we can use `add_dish` and `remove_dish`."
   ]
  },
  {
   "cell_type": "code",
   "execution_count": 21,
   "metadata": {
    "slideshow": {
     "slide_type": "fragment"
    }
   },
   "outputs": [
    {
     "name": "stdout",
     "output_type": "stream",
     "text": [
      "Orange juice (100% juice)\n",
      "Fruit yogurt, whole milk\n"
     ]
    }
   ],
   "source": [
    "breakfast : Breakfast = Breakfast()\n",
    "yoghurt : Dish = Dish('Fruit yogurt, whole milk', 202, 0, 0)\n",
    "breakfast.add_dish(yoghurt)\n",
    "print(breakfast)"
   ]
  },
  {
   "cell_type": "markdown",
   "metadata": {
    "slideshow": {
     "slide_type": "fragment"
    }
   },
   "source": [
    "The method `surprise_me` of the class `Meal` selects all possible types of food from the food data.\n",
    "When composing a breakfast you only want to have breakfast dishes."
   ]
  },
  {
   "cell_type": "code",
   "execution_count": 25,
   "metadata": {},
   "outputs": [],
   "source": [
    "class Breakfast(Meal):\n",
    "    \"\"\" represents a breakfast as a meal\n",
    "    \"\"\"\n",
    "    \n",
    "    def __init__(self):\n",
    "        orange_juice = Dish('Orange juice (100% juice)', 105, 0, 0)\n",
    "        Meal.__init__(self,[orange_juice])\n",
    "        \n",
    "    def surprise_me(self, nr : int) -> None:\n",
    "        \"\"\" add arbitrary dishes upto 'nr_of_dishes'\n",
    "        \"\"\"\n",
    "        for i in range(nr):\n",
    "            dish : Dish = food_table[random.randint(0,len(food_table))]\n",
    "            while dish.meal == 2 or dish.meal == 3 or self.contains_dish(dish):\n",
    "                dish = food_table[random.randint(0,len(food_table))]\n",
    "            self.add_dish(dish)"
   ]
  },
  {
   "cell_type": "code",
   "execution_count": 30,
   "metadata": {
    "slideshow": {
     "slide_type": "fragment"
    }
   },
   "outputs": [
    {
     "name": "stdout",
     "output_type": "stream",
     "text": [
      "Orange juice (100% juice)\n",
      "Plain yogurt, whole milk\n"
     ]
    }
   ],
   "source": [
    "breakfast : Breakfast = Breakfast()\n",
    "\n",
    "breakfast.surprise_me(1)\n",
    "print(breakfast)"
   ]
  },
  {
   "cell_type": "markdown",
   "metadata": {
    "slideshow": {
     "slide_type": "fragment"
    }
   },
   "source": [
    "Inheritance is a useful feature.\n",
    "\n",
    "Some programs that would be repetitive without inheritance can be written more elegantly with it.\n",
    "\n",
    "Inheritance can facilitate code reuse, since you can customize the behavior of parent classes without having to modify them.\n",
    "\n",
    "In some cases, the inheritance structure reflects the natural structure of the problem, which makes the design easier to understand.\n",
    "\n",
    "On the other hand, inheritance can make programs difficult to read.\n",
    "\n",
    "When a method is invoked, it is sometimes not clear where to find its definition.\n",
    "\n",
    "The relevant code may be spread across several modules.\n",
    "\n",
    "Also, many of the things that can be done using inheritance can be done as well or better without it."
   ]
  },
  {
   "cell_type": "markdown",
   "metadata": {
    "jupyter": {
     "source_hidden": true
    },
    "tags": []
   },
   "source": [
    "```{admonition} Do It Yourself!\n",
    ":class: seealso, dropdown\n",
    "A dog owner can now have other types of pets. Define the <i>Pet</i> class and create the <i>Dog</i> and <i>Cat</i> classes, which inherits from them. A Pet instance has the following attributes: <i>name</i>, <i>breed</i>, <i>age</i>, and <i>weight</i>. Now, we will define new <i>breeds</i> lists on the Dog and Cat classes. Possible cat breeds are \"siamese\", \"sphynx\", \"persian\", and \"angora\".\n",
    "```"
   ]
  },
  {
   "cell_type": "code",
   "execution_count": null,
   "metadata": {
    "jupyter": {
     "source_hidden": true
    },
    "tags": []
   },
   "outputs": [],
   "source": [
    "# Remove this line and add your code here"
   ]
  },
  {
   "cell_type": "markdown",
   "metadata": {},
   "source": [
    "## A Second Example of Inheritance\n",
    "\n",
    "A polygon is a closed figure with 3 or more sides. A class called `Polygon` can be defined as follows."
   ]
  },
  {
   "cell_type": "code",
   "execution_count": 31,
   "metadata": {},
   "outputs": [],
   "source": [
    "class Polygon:\n",
    "    def __init__(self, no_of_sides : int):\n",
    "        self.n : int = no_of_sides\n",
    "        sides : list = []\n",
    "        for i in range(no_of_sides):\n",
    "            sides.append(0)\n",
    "        self.sides : list = sides\n",
    "\n",
    "    def input_sides(self) -> None:\n",
    "        self.sides = [float(input(\"Enter side \" + str(i + 1) + \" : \")) for i in range(self.n)]\n",
    "\n",
    "    def display_sides(self) -> None:\n",
    "        for i in range(self.n):\n",
    "            print(\"Side\", i + 1, \"is\", self.sides[i])"
   ]
  },
  {
   "cell_type": "markdown",
   "metadata": {},
   "source": [
    "This class has data attributes to store the number of sides `n` and magnitude of each side as a list called `sides`.\n",
    "\n",
    "The `input_sides()` method takes in the magnitude of each side and `display_sides()` displays these side lengths.\n",
    "\n",
    "A triangle is a polygon with 3 sides. So, we can create a class called `Triangle` which inherits from `Polygon`. This makes all the attributes of `Polygon` class available to the `Triangle` class.\n",
    "\n",
    "We do not need to define them again (code reusability). \n",
    "\n",
    "`Triangle` can be defined as follows."
   ]
  },
  {
   "cell_type": "code",
   "execution_count": 32,
   "metadata": {},
   "outputs": [],
   "source": [
    "class Triangle(Polygon):\n",
    "    def __init__(self):\n",
    "        Polygon.__init__(self, 3)\n",
    "\n",
    "    def calculate_area(self) -> None:\n",
    "        a, b, c = self.sides\n",
    "        # calculate the semi-perimeter\n",
    "        s : int = (a + b + c) / 2\n",
    "        area : float = (s * (s - a) * (s - b) * (s - c)) ** 0.5\n",
    "        print('The area of the triangle is %0.2f' % area)"
   ]
  },
  {
   "cell_type": "markdown",
   "metadata": {},
   "source": [
    "`class Triangle` has a new method `find_area()` to find and print the area of the triangle."
   ]
  },
  {
   "cell_type": "code",
   "execution_count": 34,
   "metadata": {
    "scrolled": true
   },
   "outputs": [
    {
     "name": "stdout",
     "output_type": "stream",
     "text": [
      "Enter side 1 :  2\n",
      "Enter side 2 :  2\n",
      "Enter side 3 :  2\n"
     ]
    },
    {
     "name": "stdout",
     "output_type": "stream",
     "text": [
      "The area of the triangle is 1.73\n"
     ]
    }
   ],
   "source": [
    "t = Triangle()\n",
    "\n",
    "t.input_sides()\n",
    "\n",
    "t.calculate_area()"
   ]
  },
  {
   "cell_type": "markdown",
   "metadata": {
    "jupyter": {
     "source_hidden": true
    },
    "tags": []
   },
   "source": [
    "```{admonition} Do It Yourself!\n",
    ":class: seealso, dropdown\n",
    "Copy the <i>Pet</i> class and define the method <i>compute_human_age()</i>, which only returns the age of the pet. Now, copy the <i>Dog</i> and <i>Cat</i> classes, and redefine the new method. In the case of a dog, the human age is equal to the age of the dog times 7; and the human age of a cat is equal to its age times 5. Create one <i>Cat</i> and one <i>Dog</i> object, then test your methods.\n",
    "```"
   ]
  },
  {
   "cell_type": "code",
   "execution_count": null,
   "metadata": {
    "jupyter": {
     "source_hidden": true
    },
    "tags": []
   },
   "outputs": [],
   "source": [
    "# Remove this line and add your code here"
   ]
  },
  {
   "cell_type": "markdown",
   "metadata": {},
   "source": [
    "## A Third Example of Inheritance\n",
    "\n",
    "Below is another simple example of inheritance in Python."
   ]
  },
  {
   "cell_type": "code",
   "execution_count": 36,
   "metadata": {},
   "outputs": [
    {
     "name": "stdout",
     "output_type": "stream",
     "text": [
      "Mark False\n",
      "Lina True\n"
     ]
    }
   ],
   "source": [
    "class Person(): \n",
    "    \"\"\" Representing a person \n",
    "    \"\"\"\n",
    "    \n",
    "    # Constructor \n",
    "    def __init__(self, name : str): \n",
    "        self.name : str = name \n",
    "   \n",
    "    # To get name \n",
    "    def get_name(self) -> str: \n",
    "        return self.name \n",
    "   \n",
    "    # To check if this person is an employee \n",
    "    def is_employee(self) -> bool: \n",
    "        return False\n",
    "   \n",
    "   \n",
    "# Inherited or Subclass/Child class\n",
    "class Employee(Person): \n",
    "   \n",
    "    # Here we return true \n",
    "    def is_employee(self) -> bool: \n",
    "        return True\n",
    "\n",
    "\n",
    "emp : Person = Person(\"Mark\")  # An Object of Person \n",
    "print(emp.get_name(), emp.is_employee()) \n",
    "   \n",
    "emp : Employee = Employee(\"Lina\") # An Object of Employee \n",
    "print(emp.get_name(), emp.is_employee()) "
   ]
  },
  {
   "cell_type": "markdown",
   "metadata": {},
   "source": [
    "Let us work a bit more on this example."
   ]
  },
  {
   "cell_type": "code",
   "execution_count": 37,
   "metadata": {},
   "outputs": [
    {
     "name": "stdout",
     "output_type": "stream",
     "text": [
      "Mark\n",
      "886012\n"
     ]
    }
   ],
   "source": [
    "class Person():     \n",
    "    \"\"\" Representing a person \n",
    "    \"\"\"\n",
    "    \n",
    "    # Constructor\n",
    "    def __init__(self, name : str, idnumber : int):    \n",
    "        self.name : str = name \n",
    "        self.idnumber : int = idnumber \n",
    "        \n",
    "    # getters have to be added!\n",
    "    \n",
    "    # To get name     \n",
    "    def display(self) -> None: \n",
    "        print(self.name) \n",
    "        print(self.idnumber) \n",
    "\n",
    "# Child class\n",
    "class Employee(Person): \n",
    "    \"\"\" Representing an employee\n",
    "    \"\"\"\n",
    "    \n",
    "    def __init__(self, name : str, idnumber : int, salary : int, function : str): \n",
    "        self.salary : int = salary \n",
    "        self.function : str = function \n",
    "  \n",
    "        # invoking the __init__ of the parent class  \n",
    "        Person.__init__(self, name, idnumber)  \n",
    "  \n",
    "                  \n",
    "# creation of an object variable or an instance \n",
    "a : Employee = Employee('Mark', 886012, 100000, \"Professor\")     \n",
    "    \n",
    "# calling a function of the class Person using its instance \n",
    "a.display()"
   ]
  },
  {
   "cell_type": "markdown",
   "metadata": {},
   "source": [
    "The variables defined within `__init__()` are called as the **instance variables** or **attributes**. Hence, `name` and `idnumber` are the attributes of the class `Person`. \n",
    "\n",
    "Similarly, `salary` and `function` are the attributes of the class `Employee`. Since the class `Employee` inherits from class `Person`, `name` and `idnumber` are also the attributes of class `Employee`.\n",
    "\n",
    "If you forget to invoke the `__init__()` of the parent class then its instance variables would not be available to the child class."
   ]
  },
  {
   "cell_type": "code",
   "execution_count": null,
   "metadata": {},
   "outputs": [],
   "source": [
    "class Person():     \n",
    "    \"\"\" Representing a person \n",
    "    \"\"\"\n",
    "    \n",
    "    # Constructor\n",
    "    def __init__(self, name : str, idnumber : int):    \n",
    "        self.name : str = name \n",
    "        self.idnumber : int = idnumber \n",
    "        \n",
    "    # To get name     \n",
    "    def display(self) -> None: \n",
    "        print(self.name) \n",
    "        print(self.idnumber) \n",
    "\n",
    "# Child class\n",
    "class Employee(Person): \n",
    "    \"\"\" Representing an employee\n",
    "    \"\"\"\n",
    "    \n",
    "    def __init__(self, name : str, idnumber : int, salary : int, function : str): \n",
    "        self.salary : int = salary \n",
    "        self.function : str = function \n",
    "  \n",
    "        # invoking the __init__ of the parent class  \n",
    "        super().__init__(name, idnumber)  \n",
    "  \n",
    "                  \n",
    "# creation of an object variable or an instance \n",
    "a : Employee = Employee('Mark', 886012, 100000, \"Professor\")     \n",
    "    \n",
    "# calling a function of the class Person using its instance \n",
    "a.display()"
   ]
  },
  {
   "cell_type": "markdown",
   "metadata": {},
   "source": [
    "When calling a method or the parent class you can use `super()`, which returns a temprary object of the parent class.\n",
    "With this object you can invoke all methods defined within the super class.\n",
    "Notice that we do not pass the argument `self` anymore."
   ]
  },
  {
   "cell_type": "markdown",
   "metadata": {
    "jupyter": {
     "source_hidden": true
    },
    "tags": []
   },
   "source": [
    "```{admonition} Do It Yourself!\n",
    ":class: seealso, dropdown\n",
    "Copy the <i>Pet</i> and <i>Dog</i> classes. Now, you will add the attribute <i>bark_volume</i> to the dog, which is an integer between 1 and 10 being 1 the lowest possible value and 10 the highest. Modify the <i>Dog</i> constructor to add this new instance variable.\n",
    "```"
   ]
  },
  {
   "cell_type": "code",
   "execution_count": null,
   "metadata": {
    "jupyter": {
     "source_hidden": true
    },
    "tags": []
   },
   "outputs": [],
   "source": [
    "# Remove this line and add your code here"
   ]
  },
  {
   "cell_type": "markdown",
   "metadata": {},
   "source": [
    "## Different Forms of Inheritance\n",
    "\n",
    "* **Single inheritance**: When a child class inherits from only one parent class, it is called single inheritance. We saw an example above.\n",
    "    \n",
    "* **Multiple inheritance**: When a child class inherits from multiple parent classes, it is called multiple inheritance. Unlike Java and like C++, Python supports multiple inheritance. We specify all parent classes as a comma-separated list in the bracket. "
   ]
  },
  {
   "cell_type": "code",
   "execution_count": 38,
   "metadata": {},
   "outputs": [
    {
     "name": "stdout",
     "output_type": "stream",
     "text": [
      "Mark\n",
      "886012\n"
     ]
    }
   ],
   "source": [
    "class Person():     \n",
    "    \"\"\" Representing a person \n",
    "    \"\"\"\n",
    "    \n",
    "    # Constructor\n",
    "    def __init__(self, name : str, idnumber : int):    \n",
    "        self.pname : str = name \n",
    "        self.idnumber : int = idnumber \n",
    "        \n",
    "    # To get name     \n",
    "    def display(self): \n",
    "        print(self.pname) \n",
    "        print(self.idnumber) \n",
    "        \n",
    "class Organisation():\n",
    "    \"\"\" Representing an organisation\n",
    "    \"\"\"\n",
    "    # Constructor\n",
    "    def __init__(self, name : str, tp_of_organ : str):\n",
    "        self.orgname : str = name\n",
    "        self.orgtype : str = tp_of_organ\n",
    "\n",
    "# Child class\n",
    "class Employee(Person, Organisation): \n",
    "    \"\"\" Representing an employee\n",
    "    \"\"\"\n",
    "    # Constructor\n",
    "    def __init__(self, idname : str, idnumber : int, salary : int, function : str, orgname : str, orgtype : str): \n",
    "        self.salary : int = salary \n",
    "        self.function : str = function \n",
    "  \n",
    "        # invoking the __init__ of the parent class  \n",
    "        Person.__init__(self, idname, idnumber) \n",
    "        Organisation.__init__(self, orgname, orgtype)\n",
    "  \n",
    "                  \n",
    "# creation of an object variable or an instance \n",
    "a = Employee('Mark', 886012, 100000, 'Professor', 'TU/e', 'university')     \n",
    "  \n",
    "# calling a function of the class Person using its instance \n",
    "a.display()"
   ]
  },
  {
   "cell_type": "markdown",
   "metadata": {},
   "source": [
    "* **Multilevel inheritance**: When we have a child and grandchild relationship."
   ]
  },
  {
   "cell_type": "code",
   "execution_count": 39,
   "metadata": {},
   "outputs": [
    {
     "name": "stdout",
     "output_type": "stream",
     "text": [
      "Mark\n",
      "886012\n"
     ]
    }
   ],
   "source": [
    "class Person():     \n",
    "    \"\"\" Representing a person \n",
    "    \"\"\"\n",
    "    \n",
    "    # Constructor\n",
    "    def __init__(self, name : str, idnumber : int):    \n",
    "        self.pname : str = name \n",
    "        self.idnumber : int = idnumber \n",
    "        \n",
    "    # To get name     \n",
    "    def display(self): \n",
    "        print(self.pname) \n",
    "        print(self.idnumber) \n",
    "        \n",
    "class Organisation():\n",
    "    \"\"\" Representing an organisation\n",
    "    \"\"\"\n",
    "    # Constructor\n",
    "    def __init__(self, name : str, tp_of_organ : str):\n",
    "        self.orgname : str = name\n",
    "        self.orgtype : str = tp_of_organ\n",
    "\n",
    "# Child class\n",
    "class Employee(Person, Organisation): \n",
    "    \"\"\" Representing an employee\n",
    "    \"\"\"\n",
    "    # Constructor\n",
    "    def __init__(self, idname : str, idnumber :int, salary : int, orgname : str, orgtype : str): \n",
    "        self.salary : int = salary \n",
    "  \n",
    "        # invoking the __init__ of the parent class  \n",
    "        Person.__init__(self, idname, idnumber) \n",
    "        Organisation.__init__(self, orgname, orgtype)\n",
    "        \n",
    "class Scientific(Employee):\n",
    "    \"\"\" Representing a specific function\n",
    "    \"\"\"\n",
    "    \n",
    "    #Constructor\n",
    "    def __init__(self, idname : str, idnumber : int, salary : int, level : str, orgname : str, orgtype : str):\n",
    "        self.level = level\n",
    "        \n",
    "        # invoking the __init__ of the parent class\n",
    "        Employee.__init__(self, idname, idnumber, salary, orgname, orgtype)\n",
    "        \n",
    "# creation of an object variable or an instance \n",
    "a = Scientific('Mark', 886012, 100000, 'professor', 'TU/e', 'university')     \n",
    "  \n",
    "# calling a function of the class Person using its instance \n",
    "a.display()"
   ]
  },
  {
   "cell_type": "markdown",
   "metadata": {},
   "source": [
    "* **Hierarchical inheritance**: When more than one derived classes are created from a single base this type of inheritance is called hierarchical inheritance. In this program, we have a parent (base) class and two child (derived) classes."
   ]
  },
  {
   "cell_type": "code",
   "execution_count": 40,
   "metadata": {},
   "outputs": [
    {
     "name": "stdout",
     "output_type": "stream",
     "text": [
      "Mark\n",
      "886012\n",
      "Erik\n",
      "685010\n"
     ]
    }
   ],
   "source": [
    "class Person():     \n",
    "    \"\"\" Representing a person \n",
    "    \"\"\"\n",
    "    \n",
    "    # Constructor\n",
    "    def __init__(self, name : str, idnumber : int):    \n",
    "        self.pname : str = name \n",
    "        self.idnumber : int = idnumber \n",
    "        \n",
    "    # To get name     \n",
    "    def display(self): \n",
    "        print(self.pname) \n",
    "        print(self.idnumber) \n",
    "        \n",
    "class Organisation():\n",
    "    \"\"\" Representing an organisation\n",
    "    \"\"\"\n",
    "    # Constructor\n",
    "    def __init__(self, name : str, tp_of_organ : str):\n",
    "        self.orgname : str = name\n",
    "        self.orgtype : str = tp_of_organ\n",
    "\n",
    "# Child class\n",
    "class Employee(Person, Organisation): \n",
    "    \"\"\" Representing an employee\n",
    "    \"\"\"\n",
    "    # Constructor\n",
    "    def __init__(self, idname : str, idnumber : int, salary : int, orgname : str, orgtype : str): \n",
    "        self.salary : int = salary \n",
    "  \n",
    "        # invoking the __init__ of the parent class  \n",
    "        Person.__init__(self, idname, idnumber) \n",
    "        Organisation.__init__(self, orgname, orgtype)\n",
    "        \n",
    "class Scientific(Employee):\n",
    "    \"\"\" Representing a specific scientific function\n",
    "    \"\"\"\n",
    "    \n",
    "    #Constructor\n",
    "    def __init__(self, idname : str, idnumber : int , salary : int, level : str, orgname : str, orgtype : str):\n",
    "        self.level  : str= level\n",
    "        \n",
    "        # invoking the __init__ of the parent class\n",
    "        Employee.__init__(self, idname, idnumber, salary, orgname, orgtype)\n",
    "        \n",
    "class Support(Employee):\n",
    "    \"\"\" Representing a specific support function\n",
    "    \"\"\"\n",
    "    \n",
    "    #Constructor\n",
    "    def __init__(self, idname : str, idnumber : int, salary : int, suptype : str, orgname : str, orgtype : str):\n",
    "        self.suptype = suptype\n",
    "        \n",
    "        # invoking the __init__ of the parent class\n",
    "        Employee.__init__(self, idname, idnumber, salary, orgname, orgtype)\n",
    "        \n",
    "# creation of an object variable or an instance \n",
    "a = Scientific('Mark', 886012, 100000, 'full', 'TU/e', 'university')\n",
    "b = Support('Erik', 685010, 50000, 'programmer', 'TU/e', 'university')     \n",
    "  \n",
    "# calling a function of the class Person using its instance \n",
    "a.display()\n",
    "b.display()"
   ]
  },
  {
   "cell_type": "markdown",
   "metadata": {
    "jupyter": {
     "source_hidden": true
    },
    "tags": []
   },
   "source": [
    "```{admonition} Do It Yourself!\n",
    ":class: seealso, dropdown\n",
    "What type of inheritance do we have in the <i>Pet</i>-<i>Dog</i>-<i>Cat</i> scenario? Why?\n",
    "```"
   ]
  },
  {
   "cell_type": "markdown",
   "metadata": {},
   "source": [
    "## Method Overriding\n",
    "\n",
    "In the above example, notice that `__init__()` method was defined in both classes `Breakfast` as well `Meal`. \n",
    "\n",
    "When this happens, the method in the derived class *overrides* the one in the base class. This is to say, `__init__()` in `Breakfast` gets preference over the `__init__()` in `Meal`.\n",
    "\n",
    "Generally, when overriding a base method, we tend to extend the definition rather than replace it. \n",
    "\n",
    "The same is being done by calling the method in base class from the one in derived class (calling `Meal.__init__()` from `__init__()` in `Breakfast`)."
   ]
  },
  {
   "cell_type": "markdown",
   "metadata": {},
   "source": [
    "## Checking Inheritance\n",
    "\n",
    "Two built-in functions `isinstance()` and `issubclass()` are used to check inheritances.\n",
    "\n",
    "The function `isinstance()` returns `True` if the object is an instance of the class or other classes derived from it. \n",
    "\n",
    "Each and every class in Python inherits from the base class `object`."
   ]
  },
  {
   "cell_type": "code",
   "execution_count": 41,
   "metadata": {},
   "outputs": [
    {
     "data": {
      "text/plain": [
       "True"
      ]
     },
     "execution_count": 41,
     "metadata": {},
     "output_type": "execute_result"
    }
   ],
   "source": [
    "isinstance(breakfast,Breakfast)"
   ]
  },
  {
   "cell_type": "code",
   "execution_count": 42,
   "metadata": {},
   "outputs": [
    {
     "data": {
      "text/plain": [
       "True"
      ]
     },
     "execution_count": 42,
     "metadata": {},
     "output_type": "execute_result"
    }
   ],
   "source": [
    "isinstance(breakfast,Meal)"
   ]
  },
  {
   "cell_type": "code",
   "execution_count": 43,
   "metadata": {},
   "outputs": [
    {
     "data": {
      "text/plain": [
       "False"
      ]
     },
     "execution_count": 43,
     "metadata": {},
     "output_type": "execute_result"
    }
   ],
   "source": [
    "isinstance(breakfast,int)"
   ]
  },
  {
   "cell_type": "code",
   "execution_count": 44,
   "metadata": {},
   "outputs": [
    {
     "data": {
      "text/plain": [
       "True"
      ]
     },
     "execution_count": 44,
     "metadata": {},
     "output_type": "execute_result"
    }
   ],
   "source": [
    "isinstance(breakfast,object)"
   ]
  },
  {
   "cell_type": "markdown",
   "metadata": {},
   "source": [
    "In the same way, `issubclass()` is used to check for class inheritance."
   ]
  },
  {
   "cell_type": "code",
   "execution_count": 45,
   "metadata": {},
   "outputs": [
    {
     "data": {
      "text/plain": [
       "False"
      ]
     },
     "execution_count": 45,
     "metadata": {},
     "output_type": "execute_result"
    }
   ],
   "source": [
    "issubclass(Meal,Breakfast)"
   ]
  },
  {
   "cell_type": "code",
   "execution_count": 46,
   "metadata": {},
   "outputs": [
    {
     "data": {
      "text/plain": [
       "True"
      ]
     },
     "execution_count": 46,
     "metadata": {},
     "output_type": "execute_result"
    }
   ],
   "source": [
    "issubclass(Breakfast,Meal)"
   ]
  },
  {
   "cell_type": "code",
   "execution_count": 47,
   "metadata": {},
   "outputs": [
    {
     "data": {
      "text/plain": [
       "True"
      ]
     },
     "execution_count": 47,
     "metadata": {},
     "output_type": "execute_result"
    }
   ],
   "source": [
    "issubclass(bool,int)"
   ]
  },
  {
   "cell_type": "markdown",
   "metadata": {
    "jupyter": {
     "source_hidden": true
    },
    "tags": []
   },
   "source": [
    "```{admonition} Do It Yourself!\n",
    ":class: seealso, dropdown\n",
    "Create one <i>Dog</i> and one <i>Cat</i> object. Use the <i>isinstance()</i> and <i>issubclass()</i> functions to verify the relationship between your <i>Pet</i> objects and the <i>Pet</i>, <i>Dog</i>, and <i>Cat</i> classes.\n",
    "```"
   ]
  },
  {
   "cell_type": "code",
   "execution_count": null,
   "metadata": {
    "jupyter": {
     "source_hidden": true
    },
    "tags": []
   },
   "outputs": [],
   "source": [
    "# Remove this line and add your code here"
   ]
  },
  {
   "cell_type": "markdown",
   "metadata": {
    "slideshow": {
     "slide_type": "slide"
    }
   },
   "source": [
    "## Class Diagrams\n",
    "\n",
    "A **class diagram** is an abstract representation of the structure of a program. \n",
    "\n",
    "It shows the classes and their relations.\n",
    "\n",
    "Class diagrams are extremely popular and used, among others, in UML (Unified Modeling Language).\n",
    "\n",
    "There are several kinds of relationship between classes:\n",
    "\n",
    "* Objects in one class might contain references to objects in another class. For example,\n",
    "  each Rectangle contains a reference to a Point, and each Deck contains references to\n",
    "  many Cards. This kind of relationship is called **HAS-A**, as in, “a Rectangle has a\n",
    "  Point.”\n",
    "* One class might inherit from another. This relationship is called **IS-A**, as in, “Breakfast\n",
    "  is a kind of Meal.”\n",
    "* One class might depend on another in the sense that objects in one class take objects\n",
    "  in the second class as parameters, or use objects in the second class as part of a\n",
    "  computation. This kind of relationship is called a **dependency**.\n",
    "  \n",
    "A **class diagram** is a graphical representation of these relationships."
   ]
  },
  {
   "cell_type": "code",
   "execution_count": null,
   "metadata": {},
   "outputs": [],
   "source": [
    "print(' +--------+        *   +--------+')\n",
    "print(' |  Meal  |   ------>  |  Dish  |')\n",
    "print(' +--------+            +--------+')\n",
    "print('     /_\\                         ')\n",
    "print('      |                          ')\n",
    "print('      |                          ')\n",
    "print('      |                          ')\n",
    "print('+-----------+                    ')\n",
    "print('| Breakfast |                    ')\n",
    "print('+-----------+                    ')"
   ]
  },
  {
   "cell_type": "markdown",
   "metadata": {
    "slideshow": {
     "slide_type": "slide"
    }
   },
   "source": [
    "The arrow with a hollow triangle head represents an IS-A relationship; in this case it indicates that Hand inherits from Deck.\n",
    "\n",
    "The standard arrow head represents a HAS-A relationship; in this case a Meal object has references\n",
    "to Dish objects.\n",
    "\n",
    "The star (\\*) near the arrow head is a **multiplicity**; it indicates how many Dishes a Meal has.\n",
    "\n",
    "A multiplicity can be a simple number, like 3, a range, like 5..7 or a star, which indicates that a Meal can have any number of Dishes.\n",
    "\n",
    "There are no dependencies in this diagram. \n",
    "\n",
    "They would normally be shown with a dashed arrow. \n",
    "\n",
    "Or if there are a lot of dependencies, they are sometimes omitted.\n",
    "\n",
    "A more detailed diagram might show that a Meal actually contains a list of Dishes, but\n",
    "built-in types like list and dict are usually not included in class diagrams.\n",
    "\n",
    "See https://en.wikipedia.org/wiki/Class_diagram for more information on UML class diagrams."
   ]
  },
  {
   "cell_type": "markdown",
   "metadata": {
    "slideshow": {
     "slide_type": "fragment"
    }
   },
   "source": [
    "## Data Encapsulation\n",
    "\n",
    "The previous chapters demonstrate a development plan we might call “object-oriented\n",
    "design”. \n",
    "We identified objects we needed -- like `Point`, `Rectangle` and `Time` -- and defined\n",
    "classes to represent them. \n",
    "\n",
    "In each case there is an obvious correspondence between the\n",
    "object and some entity in the real world (or at least a mathematical world).But sometimes it is less obvious what objects you need and how they should interact. \n",
    "\n",
    "In\n",
    "that case you need a different development plan. \n",
    "\n",
    "In the same way that we discovered\n",
    "function interfaces by encapsulation and generalization, we can discover class interfaces\n",
    "by **data encapsulation**."
   ]
  },
  {
   "cell_type": "markdown",
   "metadata": {
    "slideshow": {
     "slide_type": "fragment"
    }
   },
   "source": [
    "Introducing classes, attributes and methods, starting from *regular* Python code, is another example of refactoring.\n",
    "\n",
    "This example suggests a development plan for designing objects and methods:\n",
    "\n",
    "1. Start by writing functions that read and write global variables (when necessary).\n",
    "2. Once you get the program working, look for associations between global variables and the functions that use them.\n",
    "3. Encapsulate related variables as attributes of an object.\n",
    "4. Transform the associated functions into methods of the new class."
   ]
  }
 ],
 "metadata": {
  "kernelspec": {
   "display_name": "Python 3",
   "language": "python",
   "name": "python3"
  },
  "language_info": {
   "codemirror_mode": {
    "name": "ipython",
    "version": 3
   },
   "file_extension": ".py",
   "mimetype": "text/x-python",
   "name": "python",
   "nbconvert_exporter": "python",
   "pygments_lexer": "ipython3",
   "version": "3.8.8"
  }
 },
 "nbformat": 4,
 "nbformat_minor": 4
}
