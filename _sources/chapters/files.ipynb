{
 "cells": [
  {
   "cell_type": "markdown",
   "metadata": {
    "slideshow": {
     "slide_type": "slide"
    }
   },
   "source": [
    "# Files [^intro]\n",
    "\n",
    "[^intro]: This Jupyter Notebook is based on Chapter 7 of {cite}`Beecher` and Chapter 14 of {cite}`Erwig`."
   ]
  },
  {
   "cell_type": "markdown",
   "metadata": {},
   "source": [
    "This chapter introduces how we can store data in a *persistent* way, this can be done via files and databases.\n",
    "We have already seen how we can open a file and read the content of a file, but storing data to process it later is indispensible. This functionality enables us to store data at some point in time and retrieve it at a later point in time."
   ]
  },
  {
   "cell_type": "markdown",
   "metadata": {
    "slideshow": {
     "slide_type": "slide"
    }
   },
   "source": [
    "## Persistence\n",
    "\n",
    "The programs we have seen and that you have written, process data (input values) and print the results.\n",
    "The produced data evaporates, however, in real life this is not what we want. \n",
    "Banks, webshops, etc. do not want to lose their data about customers, their shopping history, etc. Actually from a data science point of view this data is extremely important, because via this data trends, etc. can be predicted.\n",
    "\n",
    "Programs that store their data are **persistent**. "
   ]
  },
  {
   "cell_type": "markdown",
   "metadata": {
    "slideshow": {
     "slide_type": "fragment"
    }
   },
   "source": [
    "Some programs are launched and they start with reading in (stored) data and continue with this data. Before terminating the new data is stored again.\n",
    "Other programs run \"forever\" and store their data in a persistent way (on disk) in order to ensure that no data is lost."
   ]
  },
  {
   "cell_type": "markdown",
   "metadata": {
    "slideshow": {
     "slide_type": "fragment"
    }
   },
   "source": [
    "One of the simplest ways for programs to maintain their data is by reading and writing (text) **files**. \n",
    "Another way is to store data in a **database**, we will see a simple database and a module `pickle` to store data in an easy way."
   ]
  },
  {
   "cell_type": "markdown",
   "metadata": {},
   "source": [
    "## Opening Files\n",
    "\n",
    "When we aim at opening a file, what we are really doing is asking the operating system (OS) to find a file by name and verify that it exists.\n",
    "We use the built-in function `open()` in Python to achieve this task."
   ]
  },
  {
   "cell_type": "code",
   "execution_count": null,
   "metadata": {},
   "outputs": [],
   "source": [
    "file_out = open('datasets/output.txt')"
   ]
  },
  {
   "cell_type": "markdown",
   "metadata": {},
   "source": [
    "If the function `open` is successful, the operating system returns a **file handle**.\n",
    "The file handle is not the real data, but instead, it is an intermediary that we can use to read from or write to the file."
   ]
  },
  {
   "cell_type": "markdown",
   "metadata": {},
   "source": [
    "## Text Files and Lines\n",
    "\n",
    "A text file can be seen as a **sequence of lines**.\n",
    "\n",
    "Python considers a special character to break the text into lines. This special character is known as the **newline** character, which represents the end of the line.\n",
    "\n",
    "The newline character is represented as `\\n`. If you include this character in a string, the content after the newline character will be displayed in a new line."
   ]
  },
  {
   "cell_type": "code",
   "execution_count": null,
   "metadata": {},
   "outputs": [],
   "source": [
    "print('Data\\nScience')"
   ]
  },
  {
   "cell_type": "markdown",
   "metadata": {
    "jupyter": {
     "source_hidden": true
    },
    "tags": []
   },
   "source": [
    "```{admonition} Do It Yourself!\n",
    ":class: seealso, dropdown\n",
    "    Can you print the text:\n",
    "    \"I am\n",
    "    a Data Science student\"\n",
    "    while using the newline character?\n",
    "```"
   ]
  },
  {
   "cell_type": "code",
   "execution_count": null,
   "metadata": {
    "jupyter": {
     "source_hidden": true
    },
    "tags": []
   },
   "outputs": [],
   "source": [
    "# Remove this line and add your code here"
   ]
  },
  {
   "cell_type": "markdown",
   "metadata": {},
   "source": [
    "## Reading Files\n",
    "\n",
    "To read a file we rely on the `open()` function.\n",
    "This function does not read the **entire content** of the file once it is called. This happens mainly because the file might be **too large** to keep it in main memory.\n",
    "Thus, the `open()` function takes the same amount of time to execute regardless of the size of the file."
   ]
  },
  {
   "cell_type": "markdown",
   "metadata": {},
   "source": [
    "Once we call the `open()` function, we get a file handle that can be used within a `for` loop to read each line of the file.\n",
    "In this case, Python is in charge of splitting the content of the file into **separate lines**.\n",
    "With the `for` loop we can efficiently read a file of any size, because each line is read, counted, and then discarded.\n",
    "\n",
    "The following code creates a **file handle** (`file_logs`) and counts the number of lines in the file."
   ]
  },
  {
   "cell_type": "code",
   "execution_count": null,
   "metadata": {},
   "outputs": [],
   "source": [
    "file_logs = open('datasets/logs.txt')\n",
    "count : int = 0\n",
    "\n",
    "for line in file_logs:\n",
    "    count += 1\n",
    "    \n",
    "print(count)"
   ]
  },
  {
   "cell_type": "markdown",
   "metadata": {},
   "source": [
    "If you know that the size of the file is **small** with reference to the size of your main memory, you can use the `read()` method on the file handle.\n",
    "This method reads the whole content of the file as a **big string** including all line and newline characters.\n",
    "\n",
    "It is a good idea to store the output of the `read()` method in a variable, given that it **exhausts resources** (once resources are read, no more content can be obtained in a future invocation)."
   ]
  },
  {
   "cell_type": "code",
   "execution_count": null,
   "metadata": {
    "scrolled": true
   },
   "outputs": [],
   "source": [
    "file_logs = open('datasets/logs.txt')\n",
    "first_call : str = file_logs.read()\n",
    "second_call : str = file_logs.read()\n",
    "\n",
    "print('First call:\\n' + first_call)\n",
    "print('Second call:\\n' + second_call)"
   ]
  },
  {
   "cell_type": "markdown",
   "metadata": {
    "jupyter": {
     "source_hidden": true
    },
    "tags": []
   },
   "source": [
    "```{admonition} Do It Yourself!\n",
    ":class: seealso, dropdown\n",
    " Read the *logs.txt* file and print its lines one by one.\n",
    "```"
   ]
  },
  {
   "cell_type": "code",
   "execution_count": null,
   "metadata": {
    "jupyter": {
     "source_hidden": true
    },
    "tags": []
   },
   "outputs": [],
   "source": [
    "# Remove this line and add your code here"
   ]
  },
  {
   "cell_type": "markdown",
   "metadata": {},
   "source": [
    "## Searching in a File\n",
    "\n",
    "It is quite common to search for specific or interesting lines in a file, and skip the ones that do not meet a given condition. \n",
    "For instance, we can use the `startswith()` string method to print the lines that start by \"INFO\"."
   ]
  },
  {
   "cell_type": "code",
   "execution_count": null,
   "metadata": {},
   "outputs": [],
   "source": [
    "file_logs = open('datasets/logs.txt')\n",
    "\n",
    "for line in file_logs:\n",
    "    if line.startswith('INFO'):\n",
    "        print(line)"
   ]
  },
  {
   "cell_type": "markdown",
   "metadata": {},
   "source": [
    "We have filtered the information. \n",
    "But, why are we seeing the extra blank line between lines?"
   ]
  },
  {
   "cell_type": "markdown",
   "metadata": {},
   "source": [
    "This is related to the invisible newline character present in all lines. Thus, the `print()` function prints all lines with this newline character and it also adds an **additional newline character**, resulting in double spacing.\n",
    "\n",
    "To improve the asthetics of our output we can use the `rstrip()` method, which strips whitespaces from the end of a string."
   ]
  },
  {
   "cell_type": "code",
   "execution_count": null,
   "metadata": {
    "scrolled": true
   },
   "outputs": [],
   "source": [
    "file_logs = open('datasets/logs.txt')\n",
    "\n",
    "for line in file_logs:\n",
    "    if line.startswith('INFO'):\n",
    "        print(line.rstrip())"
   ]
  },
  {
   "cell_type": "markdown",
   "metadata": {},
   "source": [
    "As your programs get more complex, you would like to use the `continue` statement to filter out uninteresting lines.\n",
    "\n",
    "Please reflect on the difference between the `continue` and `break` statement."
   ]
  },
  {
   "cell_type": "code",
   "execution_count": null,
   "metadata": {
    "scrolled": true
   },
   "outputs": [],
   "source": [
    "file_logs = open('datasets/logs.txt')\n",
    "\n",
    "for line in file_logs:\n",
    "    if not line.startswith('INFO'): \n",
    "        continue\n",
    "    print(line.rstrip())"
   ]
  },
  {
   "cell_type": "markdown",
   "metadata": {},
   "source": [
    "In the previous code, we use the contracted version of the `if` statement. That is why we place the `continue` statement in the same line."
   ]
  },
  {
   "cell_type": "markdown",
   "metadata": {},
   "source": [
    "We can also use the `find()` string method to look for a string in a given line of the file. \n",
    "This method returns the **position** of the string or `-1` if the string is not found.\n",
    "\n",
    "Let us print now all lines that contain the text 'from:bob@mail.nl'."
   ]
  },
  {
   "cell_type": "code",
   "execution_count": null,
   "metadata": {},
   "outputs": [],
   "source": [
    "file_logs = open('datasets/logs.txt')\n",
    "\n",
    "for line in file_logs:\n",
    "    if line.find('from:bob@mail.nl') == -1: \n",
    "        continue\n",
    "    print(line.rstrip())"
   ]
  },
  {
   "cell_type": "markdown",
   "metadata": {
    "jupyter": {
     "source_hidden": true
    },
    "tags": []
   },
   "source": [
    "```{admonition} Do It Yourself!\n",
    ":class: seealso, dropdown\n",
    "Read the *logs.txt* file and count the ERROR lines.\n",
    "```"
   ]
  },
  {
   "cell_type": "code",
   "execution_count": null,
   "metadata": {
    "jupyter": {
     "source_hidden": true
    },
    "tags": []
   },
   "outputs": [],
   "source": [
    "# Remove this line and add your code here"
   ]
  },
  {
   "cell_type": "markdown",
   "metadata": {
    "slideshow": {
     "slide_type": "slide"
    }
   },
   "source": [
    "## File Names and Paths\n",
    "\n",
    "Files are organized into **directories** (also called “folders”). \n",
    "Every running program has a **current directory**, which is the default directory for most operations. \n",
    "For example, when you open a file for reading, Python looks for it in the current directory.\n",
    "\n",
    "The `os` module provides functions for working with files and directories (“os” stands for\n",
    "“operating system”). \n",
    "\n",
    "`os.getcwd` returns the name of the current directory"
   ]
  },
  {
   "cell_type": "code",
   "execution_count": null,
   "metadata": {
    "slideshow": {
     "slide_type": "fragment"
    }
   },
   "outputs": [],
   "source": [
    "import os\n",
    "\n",
    "cwd : str = os.getcwd()\n",
    "print(cwd)"
   ]
  },
  {
   "cell_type": "markdown",
   "metadata": {
    "slideshow": {
     "slide_type": "fragment"
    }
   },
   "source": [
    "A string like '/Users/mvdbrand/Documents/GitLab/course-material-jbi010/202122/Lectures/week3' that identifies a file or directory is called a **path**. \n",
    "\n",
    "**[EXTRA]** Every operating system may have a different way of representing paths."
   ]
  },
  {
   "cell_type": "markdown",
   "metadata": {},
   "source": [
    "A simple filename, like `words.txt` is also considered a path, \n",
    "but it is a **relative path** because it relates to the current directory. \n",
    "\n",
    "For instance, if the current directory is `/Users/mvdbrand/Documents/GitLab/course-material-jbi010/202122/lectures/week3`, the filename\n",
    "`output.txt` would refer to `/Users/mvdbrand/Documents/GitLab/course-material-jbi010/202122/lectures/week3/output.txt`.\n",
    "\n",
    "A path that begins with `/` does not depend on the current directory; it is called an **absolute\n",
    "path**. To find the absolute path to a file, you can use `os.path.abspath`."
   ]
  },
  {
   "cell_type": "code",
   "execution_count": null,
   "metadata": {
    "slideshow": {
     "slide_type": "fragment"
    }
   },
   "outputs": [],
   "source": [
    "os.path.abspath('datasets/output.txt')"
   ]
  },
  {
   "cell_type": "markdown",
   "metadata": {
    "slideshow": {
     "slide_type": "fragment"
    }
   },
   "source": [
    "`os.path` provides other functions for working with filenames and paths. \n",
    "\n",
    "`os.path.exists` checks whether a file or directory **exists**."
   ]
  },
  {
   "cell_type": "code",
   "execution_count": null,
   "metadata": {
    "slideshow": {
     "slide_type": "fragment"
    }
   },
   "outputs": [],
   "source": [
    "os.path.exists('datasets/output.txt')"
   ]
  },
  {
   "cell_type": "markdown",
   "metadata": {
    "slideshow": {
     "slide_type": "fragment"
    }
   },
   "source": [
    "If it exists, you can use `os.path.isdir` to check whether it **is a directory**.\n",
    "\n",
    "**[NOTE]** I use an absolute path in the next cells, please change accordingly if you want to run the cells."
   ]
  },
  {
   "cell_type": "code",
   "execution_count": null,
   "metadata": {
    "slideshow": {
     "slide_type": "fragment"
    }
   },
   "outputs": [],
   "source": [
    "os.path.isdir('datasets/output.txt')"
   ]
  },
  {
   "cell_type": "code",
   "execution_count": null,
   "metadata": {
    "slideshow": {
     "slide_type": "fragment"
    }
   },
   "outputs": [],
   "source": [
    "os.path.isdir('/Users/mvdbrand/Documents/GitLab/course-material-jbi010/202122/lectures/week3')"
   ]
  },
  {
   "cell_type": "markdown",
   "metadata": {
    "slideshow": {
     "slide_type": "fragment"
    }
   },
   "source": [
    "`os.listdir` returns a **list of the files** (and other directories) in the given directory."
   ]
  },
  {
   "cell_type": "code",
   "execution_count": null,
   "metadata": {
    "slideshow": {
     "slide_type": "fragment"
    }
   },
   "outputs": [],
   "source": [
    " os.listdir(cwd)"
   ]
  },
  {
   "cell_type": "markdown",
   "metadata": {
    "slideshow": {
     "slide_type": "fragment"
    }
   },
   "source": [
    "The application of these `os` functions are demonstrated in the following function, which iterates over a directory and prints all files and (sub)directories.\n",
    "\n",
    "`os.path.join` takes a directory and a file name and joins them into a **complete path**."
   ]
  },
  {
   "cell_type": "code",
   "execution_count": null,
   "metadata": {
    "slideshow": {
     "slide_type": "fragment"
    }
   },
   "outputs": [],
   "source": [
    "def content(dir_name : str) -> None:\n",
    "    \"\"\"prints all files in subdirectories starting from dir_name\"\"\"\n",
    "    current_directories : str = os.listdir(dir_name)\n",
    "    \n",
    "    for name in current_directories:\n",
    "        path : str = os.path.join(dir_name, name)\n",
    "        \n",
    "        if os.path.isfile(path):\n",
    "            print(\"File is:\", path)\n",
    "        else:\n",
    "            print(\"Path is:\", path)\n",
    "            \n",
    "content('/Users/mvdbrand/Documents/GitLab/course-material-jbi010/202021/lectures')"
   ]
  },
  {
   "cell_type": "markdown",
   "metadata": {
    "jupyter": {
     "source_hidden": true
    },
    "tags": []
   },
   "source": [
    "```{admonition} Do It Yourself!\n",
    ":class: seealso, dropdown\n",
    "Call the `content()` function in one of the folders of your file system.\n",
    "```"
   ]
  },
  {
   "cell_type": "code",
   "execution_count": null,
   "metadata": {
    "jupyter": {
     "source_hidden": true
    },
    "tags": []
   },
   "outputs": [],
   "source": [
    "# Remove this line and add your code here"
   ]
  },
  {
   "cell_type": "markdown",
   "metadata": {
    "slideshow": {
     "slide_type": "fragment"
    }
   },
   "source": [
    "The `os` module provides a function called `walk` that walks over all subdirectories.\n"
   ]
  },
  {
   "cell_type": "code",
   "execution_count": null,
   "metadata": {},
   "outputs": [],
   "source": [
    "for path in os.walk('/Users/mvdbrand/Documents/GitLab/course-material-jbi010/202122/lectures'):\n",
    "    print(path)"
   ]
  },
  {
   "cell_type": "markdown",
   "metadata": {
    "jupyter": {
     "source_hidden": true
    },
    "tags": []
   },
   "source": [
    "```{admonition} Do It Yourself!\n",
    ":class: seealso, dropdown\n",
    "Use the `walk()` method to check the content of a folder in your file system.\n",
    "```"
   ]
  },
  {
   "cell_type": "code",
   "execution_count": null,
   "metadata": {
    "jupyter": {
     "source_hidden": true
    },
    "tags": []
   },
   "outputs": [],
   "source": [
    "# Remove this line and add your code here"
   ]
  },
  {
   "cell_type": "markdown",
   "metadata": {},
   "source": [
    "## Let the User Choose the File\n",
    "\n",
    "Sometimes we would like to let the user **choose the file** he or she wants to open. In this way, we do not need to modify our code every time we require a different file.\n",
    "\n",
    "To do so, we can use the `input` function as follows."
   ]
  },
  {
   "cell_type": "code",
   "execution_count": null,
   "metadata": {},
   "outputs": [],
   "source": [
    "file = input('Enter the file name:')\n",
    "file_handle : str = open(file)\n",
    "\n",
    "print(file)"
   ]
  },
  {
   "cell_type": "markdown",
   "metadata": {},
   "source": [
    "But what can go wrong with this code?"
   ]
  },
  {
   "cell_type": "markdown",
   "metadata": {
    "slideshow": {
     "slide_type": "slide"
    }
   },
   "source": [
    "## Catching Exceptions\n",
    "\n",
    "It might happen that our users or ourselves input a wrong path to our file, which will result in an **exception**.\n",
    "\n",
    "In general, the reading and writing of files is error-prone. \n",
    "The file may not exist, it may be read or write protected, etc.\n",
    "If you try to open a file that does not exist, you get a `FileNotFoundError`."
   ]
  },
  {
   "cell_type": "code",
   "execution_count": null,
   "metadata": {
    "slideshow": {
     "slide_type": "fragment"
    }
   },
   "outputs": [],
   "source": [
    "fbad = open('bad.txt')"
   ]
  },
  {
   "cell_type": "markdown",
   "metadata": {
    "slideshow": {
     "slide_type": "fragment"
    }
   },
   "source": [
    "If you are not allowed to open a file, you get an error message as well."
   ]
  },
  {
   "cell_type": "code",
   "execution_count": null,
   "metadata": {
    "slideshow": {
     "slide_type": "fragment"
    }
   },
   "outputs": [],
   "source": [
    " file_out = open('/etc/passwd', 'w')"
   ]
  },
  {
   "cell_type": "markdown",
   "metadata": {
    "slideshow": {
     "slide_type": "fragment"
    }
   },
   "source": [
    "If you try to open a directory, you get another error message."
   ]
  },
  {
   "cell_type": "code",
   "execution_count": null,
   "metadata": {
    "slideshow": {
     "slide_type": "fragment"
    }
   },
   "outputs": [],
   "source": [
    " file_in = open('/users')"
   ]
  },
  {
   "cell_type": "markdown",
   "metadata": {
    "slideshow": {
     "slide_type": "fragment"
    }
   },
   "source": [
    "You could use functions like `os.path.exists` and `os.path.isfile` to prevent these type of errors.\n",
    "\n",
    "However, a lot of (subtle) errors may happen when doing file-io and thus a lot of code\n",
    "may be involved to make it full proof.\n",
    "\n",
    "If “`Errno 21`” is any indication, there are at least 21 things that can go wrong.\n",
    "It is better to go ahead and try—and deal with problems if they happen—which is exactly\n",
    "what the `try` statement does. "
   ]
  },
  {
   "cell_type": "code",
   "execution_count": null,
   "metadata": {
    "slideshow": {
     "slide_type": "fragment"
    }
   },
   "outputs": [],
   "source": [
    "try:\n",
    "    fbad : str = open('bad_file')\n",
    "except:\n",
    "    print('Something went wrong.')"
   ]
  },
  {
   "cell_type": "markdown",
   "metadata": {
    "slideshow": {
     "slide_type": "fragment"
    }
   },
   "source": [
    "Python starts by executing the `try` clause. \n",
    "If all goes well, it skips the `except` clause and proceeds. \n",
    "If an exception occurs, it jumps out of the `try` clause and executes the `except` clause.\n",
    "\n",
    "Remember that tangling an exception with a try statement is called **catching an exception**. \n",
    "In this example, the except clause prints an error message that is not very helpful. \n",
    "In general, catching an exception gives you a chance to fix the problem, or try again, or at least end the program gracefully."
   ]
  },
  {
   "cell_type": "markdown",
   "metadata": {
    "jupyter": {
     "source_hidden": true
    },
    "tags": []
   },
   "source": [
    "```{admonition} Do It Yourself!\n",
    ":class: seealso, dropdown\n",
    "Handle the exception in the following code.\n",
    "```"
   ]
  },
  {
   "cell_type": "code",
   "execution_count": null,
   "metadata": {
    "jupyter": {
     "source_hidden": true
    },
    "tags": []
   },
   "outputs": [],
   "source": [
    "# Modify the following code\n",
    "file = input('Enter the file name:')\n",
    "file_handle = open(file)\n",
    "\n",
    "print(file)"
   ]
  },
  {
   "cell_type": "markdown",
   "metadata": {},
   "source": [
    "## Writing Files\n",
    "\n",
    "To write a file you should open it with mode `w` (from *write*) as second parameter."
   ]
  },
  {
   "cell_type": "code",
   "execution_count": null,
   "metadata": {
    "slideshow": {
     "slide_type": "fragment"
    }
   },
   "outputs": [],
   "source": [
    "file_out = open('datasets/output.txt', 'w')"
   ]
  },
  {
   "cell_type": "markdown",
   "metadata": {
    "slideshow": {
     "slide_type": "fragment"
    }
   },
   "source": [
    "If the file already exists, opening it in write mode removes the current content from the file, *so be careful!* \n",
    "If the file does not exist, a new one is created.\n",
    "\n",
    "`open` returns a file object that provides methods (`write` and `close`) for working with the file. \n",
    "The `write` method puts data into the file."
   ]
  },
  {
   "cell_type": "code",
   "execution_count": null,
   "metadata": {
    "slideshow": {
     "slide_type": "fragment"
    }
   },
   "outputs": [],
   "source": [
    "line1 : str = \"There are bright Data Scientists\\n\"\n",
    "file_out.write(line1)"
   ]
  },
  {
   "cell_type": "markdown",
   "metadata": {
    "slideshow": {
     "slide_type": "fragment"
    }
   },
   "source": [
    "The output number indicates how many characters are written to the file.\n",
    "\n",
    "You need to explicitly add newline characters when using the `write()` method. Contrary to the `print()` function, the `write()` method does not automatically add newlines at the end of strings.\n",
    "\n",
    "The file object keeps track of the position the next data is to be written.\n",
    "If you write more data to the file, it will be **appended**."
   ]
  },
  {
   "cell_type": "code",
   "execution_count": null,
   "metadata": {
    "slideshow": {
     "slide_type": "fragment"
    }
   },
   "outputs": [],
   "source": [
    "line2 : str = \"But there are also bright Computer Scientists\\n\"\n",
    "file_out.write(line2)"
   ]
  },
  {
   "cell_type": "markdown",
   "metadata": {
    "slideshow": {
     "slide_type": "fragment"
    }
   },
   "source": [
    "When you are done writing, you must `close` the file. \n",
    "As long as you do not close the file, no information is actually written to/stored in the file.\n",
    "If you do not close the file, it is closed for you when your program is terminated.\n",
    "However, similar to type hints and comments, make it common practice to **close files explicitly**, because different Python environments may have different behaviour in this respect."
   ]
  },
  {
   "cell_type": "code",
   "execution_count": null,
   "metadata": {
    "slideshow": {
     "slide_type": "fragment"
    }
   },
   "outputs": [],
   "source": [
    "file_out.close()"
   ]
  },
  {
   "cell_type": "markdown",
   "metadata": {
    "jupyter": {
     "source_hidden": true
    },
    "tags": []
   },
   "source": [
    "```{admonition} Do It Yourself!\n",
    ":class: seealso, dropdown\n",
    "Copy the content of *logs.txt* in the *output.txt* file.\n",
    "```"
   ]
  },
  {
   "cell_type": "code",
   "execution_count": null,
   "metadata": {
    "jupyter": {
     "source_hidden": true
    },
    "tags": []
   },
   "outputs": [],
   "source": [
    "# Remove this line and add your code here"
   ]
  }
 ],
 "metadata": {
  "kernelspec": {
   "display_name": "Python 3",
   "language": "python",
   "name": "python3"
  },
  "language_info": {
   "codemirror_mode": {
    "name": "ipython",
    "version": 3
   },
   "file_extension": ".py",
   "mimetype": "text/x-python",
   "name": "python",
   "nbconvert_exporter": "python",
   "pygments_lexer": "ipython3",
   "version": "3.8.8"
  }
 },
 "nbformat": 4,
 "nbformat_minor": 4
}
