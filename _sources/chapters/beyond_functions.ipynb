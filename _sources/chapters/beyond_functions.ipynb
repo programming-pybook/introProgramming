{
 "cells": [
  {
   "cell_type": "markdown",
   "metadata": {
    "slideshow": {
     "slide_type": "slide"
    }
   },
   "source": [
    "# Beyond Functions [^intro]\n",
    "\n",
    "[^intro]: This Jupyter Notebook is based on Chapter 4 of {cite}`Severance2016` and Chapters 3 and 6 of {cite}`thinkPython`."
   ]
  },
  {
   "cell_type": "markdown",
   "metadata": {
    "slideshow": {
     "slide_type": "slide"
    }
   },
   "source": [
    "## Why Functions?\n",
    "\n",
    "It may not be clear why it is worth the trouble to divide a program into functions. There\n",
    "are several reasons:\n",
    "\n",
    "* Creating a new function gives you an opportunity to name a group of statements,\n",
    "which makes your program easier to read and debug.\n",
    "* Functions can make a program smaller by eliminating repetitive code. Later, if you\n",
    "make a change, you only have to make it in one place.\n",
    "* Dividing a long program into functions allows you to debug the parts one at a time\n",
    "and then assemble them into a working whole.\n",
    "* Well-designed functions are often useful for many programs. Once you write and\n",
    "debug one, you can reuse it."
   ]
  },
  {
   "cell_type": "markdown",
   "metadata": {
    "slideshow": {
     "slide_type": "slide"
    }
   },
   "source": [
    "## Flow of Execution\n",
    "\n",
    "Functions have to be defined before they can be executed, this is similar to a variable\n",
    "definition. You cannot use a variable in the right hand side of an assignment if it is\n",
    "not introduced in the left hand side of a preceding assignment.\n",
    "\n",
    "The execution of a Python script/progam always starts with the first statement of\n",
    "the program, this is also called the *flow of execution*.\n",
    "\n",
    "Statements are run one at a time (*sequential*), from top to bottom."
   ]
  },
  {
   "cell_type": "markdown",
   "metadata": {
    "slideshow": {
     "slide_type": "fragment"
    }
   },
   "source": [
    "Function definitions do not alter the flow of execution of the program, but remember that\n",
    "statements inside the function do not run until the function is called.\n",
    "\n",
    "You could consider a function call as a *detour* in the flow of execution of a program. \n",
    "\n",
    "Instead of going to the next statement,\n",
    "the flow jumps to the body of the function, runs the statements there, and \n",
    "continues with the execution of the statements after the function call.\n",
    "\n",
    "That sounds simple enough, until you remember that one function can call another. \n",
    "\n",
    "While in the middle of one function, the program might have to run the statements in another\n",
    "function. \n",
    "\n",
    "Then, while running that new function, the program might have to run yet another function, and so!\n",
    "\n",
    "In principle this is going to stop because there are a finite number of functions."
   ]
  },
  {
   "cell_type": "markdown",
   "metadata": {
    "slideshow": {
     "slide_type": "fragment"
    }
   },
   "source": [
    "## Encapsulation\n",
    "\n",
    "If you want to re-use statements, you have to capture them in a function."
   ]
  },
  {
   "cell_type": "code",
   "execution_count": 51,
   "metadata": {
    "slideshow": {
     "slide_type": "fragment"
    }
   },
   "outputs": [
    {
     "name": "stdout",
     "output_type": "stream",
     "text": [
      "Computer science is important\n",
      "Data science is more important\n",
      "Computer science is important\n",
      "Data science is more important\n",
      "Computer science is important\n",
      "Data science is more important\n",
      "Computer science is important\n",
      "Data science is more important\n",
      "Computer science is important\n",
      "Data science is more important\n",
      "Computer science is important\n",
      "Data science is more important\n",
      "Computer science is important\n",
      "Data science is more important\n"
     ]
    }
   ],
   "source": [
    "def print_important_message():\n",
    "    i : int = 0\n",
    "    while i < 7:\n",
    "        print('Computer science is important')\n",
    "        print('Data science is more important')\n",
    "        i += 1\n",
    "        \n",
    "print_important_message()"
   ]
  },
  {
   "cell_type": "markdown",
   "metadata": {
    "slideshow": {
     "slide_type": "fragment"
    }
   },
   "source": [
    "Wrapping a piece of code up in a function is called **encapsulation**. \n",
    "\n",
    "One of the benefits of encapsulation is that it attaches a name to the code, which:\n",
    "1. serves as a kind of documentation; and\n",
    "2. facilitates re-use.\n",
    "\n",
    "It is more concise to call a function multiple times than to **copy-and-paste** the code fragment of body multiple times!"
   ]
  },
  {
   "cell_type": "markdown",
   "metadata": {},
   "source": [
    "````{margin}\n",
    "```{admonition} EXTRA\n",
    "At this point we are going to be more strict than the books of the course.\n",
    "We are going to define explicitly the type of the arguments, in case of `important_message` the type of the argument is an `integer` value and therefor we use the type `int`. If the function returns a result, so we are dealing with *fruitful functions*, then we define the type of the result of the function by means of `-> type`. In case of `important_message` no value is returned. In this case we use `-> None`.\n",
    "```\n",
    "````"
   ]
  },
  {
   "cell_type": "markdown",
   "metadata": {
    "slideshow": {
     "slide_type": "slide"
    }
   },
   "source": [
    "## Generalization\n",
    "\n",
    "Suppose we want to re-use the function `important_message`, but with a different number of printed messages."
   ]
  },
  {
   "cell_type": "code",
   "execution_count": 53,
   "metadata": {
    "slideshow": {
     "slide_type": "fragment"
    }
   },
   "outputs": [
    {
     "name": "stdout",
     "output_type": "stream",
     "text": [
      "Computer science is important\n",
      "Data science is more important\n",
      "Computer science is important\n",
      "Data science is more important\n",
      "Computer science is important\n",
      "Data science is more important\n",
      "Computer science is important\n",
      "Data science is more important\n",
      "Computer science is important\n",
      "Data science is more important\n",
      "Computer science is important\n",
      "Data science is more important\n",
      "Computer science is important\n",
      "Data science is more important\n",
      "Computer science is important\n",
      "Data science is more important\n",
      "Computer science is important\n",
      "Data science is more important\n",
      "Computer science is important\n",
      "Data science is more important\n",
      "Computer science is important\n",
      "Data science is more important\n",
      "Computer science is important\n",
      "Data science is more important\n",
      "Computer science is important\n",
      "Data science is more important\n",
      "Computer science is important\n",
      "Data science is more important\n",
      "Computer science is important\n",
      "Data science is more important\n",
      "Computer science is important\n",
      "Data science is more important\n",
      "Computer science is important\n",
      "Data science is more important\n",
      "Computer science is important\n",
      "Data science is more important\n",
      "Computer science is important\n",
      "Data science is more important\n",
      "Computer science is important\n",
      "Data science is more important\n",
      "Computer science is important\n",
      "Data science is more important\n",
      "Computer science is important\n",
      "Data science is more important\n",
      "Computer science is important\n",
      "Data science is more important\n"
     ]
    }
   ],
   "source": [
    "def print_important_message(freq : int) -> None:\n",
    "    i : int = 0\n",
    "    while i < freq:\n",
    "        print('Computer science is important')\n",
    "        print('Data science is more important')\n",
    "        i += 1\n",
    "        \n",
    "print_important_message(6)\n",
    "print_important_message(17)"
   ]
  },
  {
   "cell_type": "markdown",
   "metadata": {
    "slideshow": {
     "slide_type": "fragment"
    }
   },
   "source": [
    "Adding a parameter to a function is called generalization because it makes the function\n",
    "more general: in the previous version, the messages are printed 7 times; in this version it\n",
    "can be any number.\n",
    "\n",
    "Another step in the generalization is to make the disciplines flexible. "
   ]
  },
  {
   "cell_type": "code",
   "execution_count": 55,
   "metadata": {},
   "outputs": [
    {
     "name": "stdout",
     "output_type": "stream",
     "text": [
      "Artificial intelligence is important\n",
      "Statistics is more important\n",
      "Artificial intelligence is important\n",
      "Statistics is more important\n",
      "Artificial intelligence is important\n",
      "Statistics is more important\n"
     ]
    }
   ],
   "source": [
    "def print_important_message(freq : int, discipline1 : str, discipline2 : str):\n",
    "    i : int = 0\n",
    "    while i <  freq:\n",
    "        print(discipline1 + ' is important')\n",
    "        print(discipline2, 'is more important')\n",
    "        i += 1\n",
    "        \n",
    "print_important_message(3, 'Artificial intelligence', 'Statistics')"
   ]
  },
  {
   "cell_type": "markdown",
   "metadata": {},
   "source": [
    "When a function has more than a few numeric arguments, it is easy to forget what they are,\n",
    "or what order they should be in. \n",
    "\n",
    "In that case it is often a good idea to include the names of\n",
    "the parameters in the argument list:\n",
    "important_message(freq=7, discipline1='Computer science', discipline2='Statistics')\n",
    "\n",
    "These are called keyword arguments because they include the parameter names as “keywords”\n",
    "(not to be confused with Python keywords like while and def).\n",
    "\n",
    "This syntax makes the program more readable. \n",
    "\n",
    "It is also a reminder about how arguments\n",
    "and parameters work: when you call a function, the arguments are assigned to the parameters."
   ]
  },
  {
   "cell_type": "code",
   "execution_count": null,
   "metadata": {
    "slideshow": {
     "slide_type": "fragment"
    }
   },
   "outputs": [],
   "source": [
    "print_important_message(freq=7, discipline1='Computer science', discipline2='Statistics')"
   ]
  },
  {
   "cell_type": "markdown",
   "metadata": {
    "slideshow": {
     "slide_type": "slide"
    }
   },
   "source": [
    "## Interface Design\n",
    "\n",
    "The **interface** of a function is a summary of how it is used: \n",
    "* What are the parameters and their types? \n",
    "* What does the function do? \n",
    "* What is the return value and its type, if any? \n",
    "\n",
    "An interface is “clean” if it allows the caller to do what they want without dealing with unnecessary details of\n",
    "the body of the function.\n",
    "\n",
    "A good interface can be defined by choosing a good name for the function and for its parameters and by providing the types of its arguments and result.\n",
    "\n",
    "A short description, via comments, of the basic functionality of the function is also useful. This description can include the restrictions (so-called **pre-conditions**) for calling the function."
   ]
  },
  {
   "cell_type": "markdown",
   "metadata": {
    "slideshow": {
     "slide_type": "slide"
    }
   },
   "source": [
    "## Refactoring\n",
    "\n",
    "After you have written a program it makes sense to study the code and see whether there are opportunities to improve the structure of the code. \n",
    "\n",
    "If you have copied and pasted instructions, it is advisable to introduced a separate function.\n",
    "\n",
    "It may also be the case that you developed a function with a complex and bulky body. Then, consider the introduction of auxilary functions.\n",
    "\n",
    "All these improvements are **refactorings**. \n",
    "\n",
    "Once you start coding, you understand the problem better. \n",
    "\n",
    "Sometimes refactoring is a sign that you have learned something."
   ]
  },
  {
   "cell_type": "markdown",
   "metadata": {
    "slideshow": {
     "slide_type": "slide"
    }
   },
   "source": [
    "## A Development Plan\n",
    "\n",
    "A development plan is a process for writing programs. \n",
    "\n",
    "The process we use is “encapsulation and generalization”. \n",
    "\n",
    "The steps of this process are:\n",
    "1. Start by writing a small program with no function definitions.\n",
    "2. Once you get the program working, identify a coherent piece of it, encapsulate the\n",
    "piece in a function and give it a name.\n",
    "3. Generalize the function by adding appropriate parameters.\n",
    "4. Repeat steps 1–3 until you have a set of working functions. Copy and paste working\n",
    "code to avoid retyping (and re-debugging).\n",
    "5. Look for opportunities to improve the program by refactoring. For example, if you\n",
    "have similar code in several places, consider factoring it into an appropriately general\n",
    "function.\n",
    "\n",
    "This process has some drawbacks—we will see alternatives later—but it can be useful if\n",
    "you do not know ahead of time how to divide the program into functions. This approach\n",
    "lets you design as you go along."
   ]
  },
  {
   "cell_type": "markdown",
   "metadata": {
    "slideshow": {
     "slide_type": "slide"
    }
   },
   "source": [
    "## Incremental Development\n",
    "\n",
    "The larger the program you need to develop the more useful it is to have a structured way of developing it.\n",
    "\n",
    "There are multiple ways of structuring the development process and in fact your computational thinking. \n",
    "\n",
    "An important development paradigm is **divide and conquer**. You can, for example, try to split the problem in subproblems and solve each subproblem in isolation. This paradigm works for large and complex problems, furthermore, it allows parallel development of a program.\n",
    "\n",
    "However, before applying any development paradigm you need to understand the problem. Critical reading is essential, making sketches to visualise the problem and the solution, explain the solution to somebody else, and finally write the code.\n",
    "\n",
    "Another paradigm, as advocated by \"Think Python\" is to use incremental development.\n",
    "\n",
    "The idea is not to try develop a complete program in one go, but to develop it step by step.\n",
    "\n",
    "Along the way you can write small tests to see whether you program behaves correctly.\n",
    "\n",
    "Developing a complete program is likely to fail and you will spend a lot of time on debugging."
   ]
  },
  {
   "cell_type": "markdown",
   "metadata": {
    "slideshow": {
     "slide_type": "fragment"
    }
   },
   "source": [
    "\n",
    "As an example, suppose you want to calculate the volume of a hollow cylinder, so a cylinder with an inner cylinder removed. \n",
    "\n",
    "So, the problem we have to solve is subtracting the volume of the inner cylinder from the volume of the outer cylinder. The volume of a cylinder is can be calculated by $volume = h*\\pi*R^2$.\n",
    "\n",
    "So, can we now mathematical formulate the problem?\n",
    "\n",
    "$volume = h (\\pi R^2 - \\pi r^2)$\n",
    "\n",
    "\n",
    "```{image} assets/hollow-cylinder.png\n",
    ":alt: Cylinder\n",
    ":align: center\n",
    "```\n",
    "\n",
    "The first step is to consider how a function to calculate the volume of a hollow cylinder should look like in Python. \n",
    "\n",
    "In other words, what are the inputs (parameters) and what is the output (return value)?\n",
    "\n",
    "A first try is to write a function with three numbers, which represent the radius of\n",
    "the two cylinders and their heights, the result is a floating-point value."
   ]
  },
  {
   "cell_type": "code",
   "execution_count": null,
   "metadata": {
    "slideshow": {
     "slide_type": "fragment"
    }
   },
   "outputs": [],
   "source": [
    "def volume(outerRadius : int, innerRadius : int, height : int) -> float:\n",
    "    \"\"\"calculates the volume of a hollow cylinder based \n",
    "    on the radius of the outer and inner cylinder\"\"\"\n",
    "    \n",
    "    return 0.0\n",
    "\n",
    "volume(3, 1, 3)"
   ]
  },
  {
   "cell_type": "markdown",
   "metadata": {
    "slideshow": {
     "slide_type": "fragment"
    }
   },
   "source": [
    "This function is obviously not correct, it does not calculate the value of a hollow cylinder, it just returns `0.0`.\n",
    "\n",
    "However, we have now a skeleton of the function.\n",
    "\n",
    "So, in the next step we can start developing the body of the function.\n",
    "\n",
    "We need first to calculate the volume of a single cylinder based on the radius and\n",
    "the height. \n",
    "\n",
    "We introduce two auxilary variables `surfaceC1` and `surfaceC2`.\n",
    "\n",
    "Furthermore we add a `print` statement to see whether the values make sense."
   ]
  },
  {
   "cell_type": "code",
   "execution_count": null,
   "metadata": {
    "slideshow": {
     "slide_type": "fragment"
    }
   },
   "outputs": [],
   "source": [
    "def volume(outerRadius : int, innerRadius : int, height : int) -> float:\n",
    "    \"\"\"calculates the volume of a hollow cylinder based \n",
    "    on the radius of the outer and inner cylinder\"\"\"\n",
    "    \n",
    "    surfaceC1 : float = math.pi * outerRadius**2\n",
    "    surfaceC2 : float = math.pi * innerRadius**2\n",
    "    print('surfaceC1 is', surfaceC1)\n",
    "    print('surfaceC2 is', surfaceC2)\n",
    "    \n",
    "    return 0.0\n",
    "\n",
    "volume(3, 1, 4)"
   ]
  },
  {
   "cell_type": "markdown",
   "metadata": {
    "slideshow": {
     "slide_type": "fragment"
    }
   },
   "source": [
    "The next step is to calculate the difference of the surfaces."
   ]
  },
  {
   "cell_type": "code",
   "execution_count": null,
   "metadata": {
    "slideshow": {
     "slide_type": "fragment"
    }
   },
   "outputs": [],
   "source": [
    "def volume(outerRadius : int, innerRadius : int, height : int) -> float:\n",
    "    \"\"\"calculates the volume of a hollow cylinder based \n",
    "    on the radius of the outer and inner cylinder\"\"\"\n",
    "    \n",
    "    surfaceC1 : float = math.pi * outerRadius**2\n",
    "    surfaceC2 : float = math.pi * innerRadius**2\n",
    "    diffSurfaces = surfaceC1 - surfaceC2\n",
    "    print('diffSurfaces is', diffSurfaces)\n",
    "    \n",
    "    return 0.0\n",
    "\n",
    "volume(3, 1, 4)"
   ]
  },
  {
   "cell_type": "markdown",
   "metadata": {
    "slideshow": {
     "slide_type": "fragment"
    }
   },
   "source": [
    "Then, we add a statement for multiplying the obtained difference with the height."
   ]
  },
  {
   "cell_type": "code",
   "execution_count": null,
   "metadata": {
    "slideshow": {
     "slide_type": "fragment"
    }
   },
   "outputs": [],
   "source": [
    "def volume(outerRadius : int, innerRadius : int, height : int) -> float:\n",
    "    \"\"\"calculates the volume of a hollow cylinder based \n",
    "    on the radius of the outer and inner cylinder\"\"\"\n",
    "    \n",
    "    surfaceC1 : float = math.pi * outerRadius**2\n",
    "    surfaceC2 : float = math.pi * innerRadius**2\n",
    "    diffSurfaces : float = surfaceC1 - surfaceC2\n",
    "    print('diffSurfaces is', diffSurfaces)\n",
    "        \n",
    "    return height * diffSurfaces\n",
    "\n",
    "volume(3, 1, 4)"
   ]
  },
  {
   "cell_type": "markdown",
   "metadata": {
    "slideshow": {
     "slide_type": "fragment"
    }
   },
   "source": [
    "The last step is to make sure that if the outer radius is smaller than the inner radius. Thus, we return `0` instead of a negative volume and print an error message."
   ]
  },
  {
   "cell_type": "code",
   "execution_count": null,
   "metadata": {
    "slideshow": {
     "slide_type": "fragment"
    }
   },
   "outputs": [],
   "source": [
    "def volume(outerRadius : int, innerRadius : int, height : int) -> float:\n",
    "    \"\"\"calculates the volume of a hollow cylinder based \n",
    "    on the radius of the outer and inner cylinder, using\n",
    "    outerRadius >= innerRadius\"\"\"\n",
    "    \n",
    "    if outerRadius >= innerRadius:\n",
    "        surfaceC1 : float = math.pi * outerRadius**2\n",
    "        surfaceC2 : float = math.pi * innerRadius**2\n",
    "        diffSurfaces : float = surfaceC1 - surfaceC2\n",
    "        \n",
    "        volumeCylinder : float = height * diffSurfaces\n",
    "    else:\n",
    "        print(\"The outer cylinder should be larger than the inner cylinder\")\n",
    "        \n",
    "        volumeCylinder : float = 0\n",
    "        \n",
    "    return volumeCylinder\n",
    "\n",
    "volume(3, 1, 4)"
   ]
  },
  {
   "cell_type": "markdown",
   "metadata": {
    "slideshow": {
     "slide_type": "fragment"
    }
   },
   "source": [
    "The final version of the function does not display anything when it runs; it only returns\n",
    "a value, or prints an error message.\n",
    "\n",
    "The `print` statements we wrote are useful for debugging, but once you get the\n",
    "function working, you should remove them. \n",
    "\n",
    "Code like that is called **scaffolding** or **refactor** because it\n",
    "is helpful for building the program but is not part of the final product.\n",
    "\n",
    "When you get more experienced, you will add more statements in one 'run' and use less debug statements.\n",
    "\n",
    "The key points of the incremental approach are:\n",
    "\n",
    "1. Start with a working program and make small incremental changes. At any point, if\n",
    "there is an error, you should have a good idea where it is.\n",
    "2. Use variables to hold intermediate values so you can display and check them.\n",
    "3. Once the program is working, you might want to remove some of the scaffolding or\n",
    "consolidate multiple statements into compound expressions, but only if it does not\n",
    "make the program difficult to read."
   ]
  }
 ],
 "metadata": {
  "anaconda-cloud": {},
  "kernelspec": {
   "display_name": "Python 3 (ipykernel)",
   "language": "python",
   "name": "python3"
  },
  "language_info": {
   "codemirror_mode": {
    "name": "ipython",
    "version": 3
   },
   "file_extension": ".py",
   "mimetype": "text/x-python",
   "name": "python",
   "nbconvert_exporter": "python",
   "pygments_lexer": "ipython3",
   "version": "3.9.5"
  },
  "vscode": {
   "interpreter": {
    "hash": "31f2aee4e71d21fbe5cf8b01ff0e069b9275f58929596ceb00d14d90e3e16cd6"
   }
  }
 },
 "nbformat": 4,
 "nbformat_minor": 4
}
